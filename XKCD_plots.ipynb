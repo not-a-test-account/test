





<!DOCTYPE html>
<html lang="en" data-color-mode="light" data-light-theme="light" data-dark-theme="dark" data-a11y-animated-images="system">
  <head>
    <meta charset="utf-8">
  <link rel="dns-prefetch" href="https://github.githubassets.com">
  <link rel="dns-prefetch" href="https://avatars.githubusercontent.com">
  <link rel="dns-prefetch" href="https://github-cloud.s3.amazonaws.com">
  <link rel="dns-prefetch" href="https://user-images.githubusercontent.com/">
  <link rel="preconnect" href="https://github.githubassets.com" crossorigin>
  <link rel="preconnect" href="https://avatars.githubusercontent.com">



  <link crossorigin="anonymous" media="all" rel="stylesheet" href="https://github.githubassets.com/assets/light-5178aee0ee76.css" /><link data-color-theme="dark" crossorigin="anonymous" media="all" rel="stylesheet" data-href="https://github.githubassets.com/assets/dark-217d4f9c8e70.css" /><link data-color-theme="dark_dimmed" crossorigin="anonymous" media="all" rel="stylesheet" data-href="https://github.githubassets.com/assets/dark_dimmed-0adfa28f0e68.css" /><link data-color-theme="dark_high_contrast" crossorigin="anonymous" media="all" rel="stylesheet" data-href="https://github.githubassets.com/assets/dark_high_contrast-1c8575b36644.css" /><link data-color-theme="dark_colorblind" crossorigin="anonymous" media="all" rel="stylesheet" data-href="https://github.githubassets.com/assets/dark_colorblind-5113d2be20b0.css" /><link data-color-theme="light_colorblind" crossorigin="anonymous" media="all" rel="stylesheet" data-href="https://github.githubassets.com/assets/light_colorblind-c96add742484.css" /><link data-color-theme="light_high_contrast" crossorigin="anonymous" media="all" rel="stylesheet" data-href="https://github.githubassets.com/assets/light_high_contrast-290f92f5e867.css" /><link data-color-theme="light_tritanopia" crossorigin="anonymous" media="all" rel="stylesheet" data-href="https://github.githubassets.com/assets/light_tritanopia-cdd88f146bf7.css" /><link data-color-theme="dark_tritanopia" crossorigin="anonymous" media="all" rel="stylesheet" data-href="https://github.githubassets.com/assets/dark_tritanopia-2171ea0f078b.css" />
  
    <link crossorigin="anonymous" media="all" rel="stylesheet" href="https://github.githubassets.com/assets/primer-2280eb26901e.css" />
    <link crossorigin="anonymous" media="all" rel="stylesheet" href="https://github.githubassets.com/assets/global-3ba07bcfee8b.css" />
    <link crossorigin="anonymous" media="all" rel="stylesheet" href="https://github.githubassets.com/assets/github-92ffe3571a94.css" />
    <link crossorigin="anonymous" media="all" rel="stylesheet" href="https://github.githubassets.com/assets/staff-d342bdca3d3a.css" />
    <link crossorigin="anonymous" media="all" rel="stylesheet" href="https://github.githubassets.com/assets/devtools-89b86658fa2e.css" />
  <link crossorigin="anonymous" media="all" rel="stylesheet" href="https://github.githubassets.com/assets/code-b39bb7b4e733.css" />



  <script crossorigin="anonymous" defer="defer" type="application/javascript" src="https://github.githubassets.com/assets/wp-runtime-e78f2e9424b4.js"></script>
<script crossorigin="anonymous" defer="defer" type="application/javascript" src="https://github.githubassets.com/assets/vendors-node_modules_manuelpuyol_turbo_dist_turbo_es2017-esm_js-7ca92c8d513d.js"></script>
<script crossorigin="anonymous" defer="defer" type="application/javascript" src="https://github.githubassets.com/assets/vendors-node_modules_stacktrace-parser_dist_stack-trace-parser_esm_js-node_modules_github_bro-d351f6-c1d63d230b29.js"></script>
<script crossorigin="anonymous" defer="defer" type="application/javascript" src="https://github.githubassets.com/assets/environment-019ad8aaeab3.js"></script>
<script crossorigin="anonymous" defer="defer" type="application/javascript" src="https://github.githubassets.com/assets/vendors-node_modules_selector-observer_dist_index_esm_js-650337916dbd.js"></script>
<script crossorigin="anonymous" defer="defer" type="application/javascript" src="https://github.githubassets.com/assets/vendors-node_modules_delegated-events_dist_index_js-node_modules_github_details-dialog-elemen-63debe-4a2f37f7419e.js"></script>
<script crossorigin="anonymous" defer="defer" type="application/javascript" src="https://github.githubassets.com/assets/vendors-node_modules_github_auto-complete-element_dist_index_js-node_modules_github_catalyst_-6afc16-accdbcccdc1b.js"></script>
<script crossorigin="anonymous" defer="defer" type="application/javascript" src="https://github.githubassets.com/assets/vendors-node_modules_fzy_js_index_js-node_modules_github_markdown-toolbar-element_dist_index_js-6f74e8e38aad.js"></script>
<script crossorigin="anonymous" defer="defer" type="application/javascript" src="https://github.githubassets.com/assets/vendors-node_modules_github_time-elements_dist_index_js-74b4ec51ce20.js"></script>
<script crossorigin="anonymous" defer="defer" type="application/javascript" src="https://github.githubassets.com/assets/vendors-node_modules_github_file-attachment-element_dist_index_js-node_modules_github_filter--6a5bff-93edd18dab1d.js"></script>
<script crossorigin="anonymous" defer="defer" type="application/javascript" src="https://github.githubassets.com/assets/github-elements-49dd186cf077.js"></script>
<script crossorigin="anonymous" defer="defer" type="application/javascript" src="https://github.githubassets.com/assets/element-registry-0910f78d8b82.js"></script>
<script crossorigin="anonymous" defer="defer" type="application/javascript" src="https://github.githubassets.com/assets/vendors-node_modules_lit-html_lit-html_js-e954e8c01c93.js"></script>
<script crossorigin="anonymous" defer="defer" type="application/javascript" src="https://github.githubassets.com/assets/vendors-node_modules_github_paste-markdown_dist_index_esm_js-node_modules_koddsson_textarea-c-586f78-aad0fa01c792.js"></script>
<script crossorigin="anonymous" defer="defer" type="application/javascript" src="https://github.githubassets.com/assets/vendors-node_modules_github_mini-throttle_dist_index_js-node_modules_github_remote-form_dist_-ece2b0-917c0dad4566.js"></script>
<script crossorigin="anonymous" defer="defer" type="application/javascript" src="https://github.githubassets.com/assets/vendors-node_modules_github_alive-client_dist_index_js-node_modules_github_memoize_dist_esm_i-fab77c-ff9d9fde6bc6.js"></script>
<script crossorigin="anonymous" defer="defer" type="application/javascript" src="https://github.githubassets.com/assets/vendors-node_modules_primer_behaviors_dist_esm_dimensions_js-node_modules_github_hydro-analyt-f69502-65a022907302.js"></script>
<script crossorigin="anonymous" defer="defer" type="application/javascript" src="https://github.githubassets.com/assets/vendors-node_modules_github_filter-input-element_dist_index_js-node_modules_github_quote-sele-7bbf9f-45d498057c64.js"></script>
<script crossorigin="anonymous" defer="defer" type="application/javascript" src="https://github.githubassets.com/assets/app_assets_modules_github_updatable-content_ts-62df1309213c.js"></script>
<script crossorigin="anonymous" defer="defer" type="application/javascript" src="https://github.githubassets.com/assets/app_assets_modules_github_sticky-scroll-into-view_ts-6483ace64969.js"></script>
<script crossorigin="anonymous" defer="defer" type="application/javascript" src="https://github.githubassets.com/assets/app_assets_modules_github_behaviors_keyboard-shortcuts-helper_ts-app_assets_modules_github_be-ac2ea2-fda9c90f5f33.js"></script>
<script crossorigin="anonymous" defer="defer" type="application/javascript" src="https://github.githubassets.com/assets/app_assets_modules_github_behaviors_commenting_edit_ts-app_assets_modules_github_behaviors_ht-83c235-02b38260d85d.js"></script>
<script crossorigin="anonymous" defer="defer" type="application/javascript" src="https://github.githubassets.com/assets/app_assets_modules_github_behaviors_batch-deferred-content_ts-app_assets_modules_github_behav-dc1370-0661d7836317.js"></script>
<script crossorigin="anonymous" defer="defer" type="application/javascript" src="https://github.githubassets.com/assets/behaviors-d582afae12bc.js"></script>
<script crossorigin="anonymous" defer="defer" type="application/javascript" src="https://github.githubassets.com/assets/vendors-node_modules_delegated-events_dist_index_js-node_modules_github_catalyst_lib_index_js-06ff533-b01316754e20.js"></script>
<script crossorigin="anonymous" defer="defer" type="application/javascript" src="https://github.githubassets.com/assets/notifications-global-e71e7f99b10d.js"></script>
<script crossorigin="anonymous" defer="defer" type="application/javascript" src="https://github.githubassets.com/assets/vendors-node_modules_github_remote-form_dist_index_js-node_modules_delegated-events_dist_inde-01bd5b-fd05dd91426d.js"></script>
<script crossorigin="anonymous" defer="defer" type="application/javascript" src="https://github.githubassets.com/assets/staff-62abe5e42691.js"></script>
<script crossorigin="anonymous" defer="defer" type="application/javascript" src="https://github.githubassets.com/assets/vendors-node_modules_virtualized-list_es_index_js-node_modules_github_template-parts_lib_index_js-17ccfc4926a4.js"></script>
<script crossorigin="anonymous" defer="defer" type="application/javascript" src="https://github.githubassets.com/assets/vendors-node_modules_github_filter-input-element_dist_index_js-node_modules_github_mini-throt-bb75aa-491d80b4726b.js"></script>
<script crossorigin="anonymous" defer="defer" type="application/javascript" src="https://github.githubassets.com/assets/vendors-node_modules_github_file-attachment-element_dist_index_js-node_modules_github_mini-th-699a01-5abf39efc269.js"></script>
<script crossorigin="anonymous" defer="defer" type="application/javascript" src="https://github.githubassets.com/assets/app_assets_modules_github_ref-selector_ts-8c0f66968207.js"></script>
<script crossorigin="anonymous" defer="defer" type="application/javascript" src="https://github.githubassets.com/assets/repositories-ef376bc963ea.js"></script>
<script crossorigin="anonymous" defer="defer" type="application/javascript" src="https://github.githubassets.com/assets/vendors-node_modules_github_clipboard-copy-element_dist_index_esm_js-node_modules_github_remo-8e6bec-4a54aa10cc28.js"></script>
<script crossorigin="anonymous" defer="defer" type="application/javascript" src="https://github.githubassets.com/assets/vendors-node_modules_github_mini-throttle_dist_decorators_js-node_modules_scroll-anchoring_di-e71893-72882579ac77.js"></script>
<script crossorigin="anonymous" defer="defer" type="application/javascript" src="https://github.githubassets.com/assets/app_assets_modules_github_diffs_blob-lines_ts-app_assets_modules_github_diffs_linkable-line-n-dca161-214c4b337bf2.js"></script>
<script crossorigin="anonymous" defer="defer" type="application/javascript" src="https://github.githubassets.com/assets/diffs-bb3792edafca.js"></script>
    <script crossorigin="anonymous" defer="defer" type="application/javascript" src="https://github.githubassets.com/assets/react-lib-e1b647594180.js"></script>
<script crossorigin="anonymous" defer="defer" type="application/javascript" src="https://github.githubassets.com/assets/vendors-node_modules_primer_react_lib-esm_ActionList_index_js-node_modules_primer_react_lib-e-ead054-8b95e22c71ec.js"></script>
<script crossorigin="anonymous" defer="defer" type="application/javascript" src="https://github.githubassets.com/assets/vendors-node_modules_primer_behaviors_dist_esm_focus-zone_js-1d1c4479f4a1.js"></script>
<script crossorigin="anonymous" defer="defer" type="application/javascript" src="https://github.githubassets.com/assets/vendors-node_modules_primer_react_lib-esm_Overlay_js-node_modules_primer_react_lib-esm_Text_j-f8ae82-f7914af773a1.js"></script>
<script crossorigin="anonymous" defer="defer" type="application/javascript" src="https://github.githubassets.com/assets/vendors-node_modules_dompurify_dist_purify_js-3bb5d1ed80e7.js"></script>
<script crossorigin="anonymous" defer="defer" type="application/javascript" src="https://github.githubassets.com/assets/vendors-node_modules_primer_react_lib-esm_ActionMenu_js-node_modules_primer_react_lib-esm_Sty-aa3149-87b3e38a4b35.js"></script>
<script crossorigin="anonymous" defer="defer" type="application/javascript" src="https://github.githubassets.com/assets/vendors-node_modules_primer_behaviors_dist_esm_scroll-into-view_js-node_modules_primer_react_-04bb1b-a36d03e175d5.js"></script>
<script crossorigin="anonymous" defer="defer" type="application/javascript" src="https://github.githubassets.com/assets/vendors-node_modules_codemirror_lib_codemirror_js-9124701c2e90.js"></script>
<script crossorigin="anonymous" defer="defer" type="application/javascript" src="https://github.githubassets.com/assets/vendors-node_modules_primer_react_lib-esm_Checkbox_js-node_modules_primer_react_lib-esm_Check-187321-500fc20dd7c0.js"></script>
<script crossorigin="anonymous" defer="defer" type="application/javascript" src="https://github.githubassets.com/assets/vendors-node_modules_primer_react_lib-esm_PageLayout_PageLayout_js-f63ccc43916b.js"></script>
<script crossorigin="anonymous" defer="defer" type="application/javascript" src="https://github.githubassets.com/assets/vendors-node_modules_primer_react_lib-esm_Dialog_ConfirmationDialog_js-node_modules_react-rou-aa97d3-cedd569c24e7.js"></script>
<script crossorigin="anonymous" defer="defer" type="application/javascript" src="https://github.githubassets.com/assets/vendors-node_modules_github_blackbird-parser_dist_blackbird_js-27f5d47ad1bf.js"></script>
<script crossorigin="anonymous" defer="defer" type="application/javascript" src="https://github.githubassets.com/assets/vendors-node_modules_github_mini-throttle_dist_index_js-node_modules_codemirror-contrib_lib_m-278f5c-b3c1432e0650.js"></script>
<script crossorigin="anonymous" defer="defer" type="application/javascript" src="https://github.githubassets.com/assets/vendors-node_modules_primer_react_lib-esm_BranchName_js-node_modules_primer_react_lib-esm_Fla-787242-f55a2c40cfb2.js"></script>
<script crossorigin="anonymous" defer="defer" type="application/javascript" src="https://github.githubassets.com/assets/vendors-node_modules_github_file-attachment-element_dist_index_js-node_modules_primer_react_l-71991c-b1da885e7803.js"></script>
<script crossorigin="anonymous" defer="defer" type="application/javascript" src="https://github.githubassets.com/assets/app_assets_modules_react-core_register-react-app_ts-4b6e9c1a1f27.js"></script>
<script crossorigin="anonymous" defer="defer" type="application/javascript" src="https://github.githubassets.com/assets/app_assets_modules_react-shared_path_ts-app_assets_modules_react-shared_Ago_tsx-app_assets_mo-d98907-a10dcd9bba97.js"></script>
<script crossorigin="anonymous" defer="defer" type="application/javascript" src="https://github.githubassets.com/assets/app_assets_modules_react-shared_RefSelector_index_ts-app_assets_modules_react-shared_Screen_tsx-c574b28eec27.js"></script>
<script crossorigin="anonymous" defer="defer" type="application/javascript" src="https://github.githubassets.com/assets/app_assets_modules_blackbird-monolith_hooks_use-navigate-to-query_ts-app_assets_modules_black-cb3032-25cd91b31a80.js"></script>
<script crossorigin="anonymous" defer="defer" type="application/javascript" src="https://github.githubassets.com/assets/app_assets_modules_github_behaviors_keyboard-shortcuts-helper_ts-app_assets_modules_github_co-366996-0a9bc23776b8.js"></script>
<script crossorigin="anonymous" defer="defer" type="application/javascript" src="https://github.githubassets.com/assets/repos-5f7f8ad2d1bd.js"></script>


  <title>renderables/XKCD_plots.ipynb at main · github/renderables</title>

    <meta name="fe-hostname" content="unicorn-5d68456779-9sh2q">
    <meta name="ruby" content="ruby 3.1.2p20 (2022-04-12 revision 4a07381221) [x86_64-linux]">
    <meta name="user-staff" content="true">


      <meta name="current-catalog-service" content="github/blob" data-turbo-transient>
  <meta name="current-catalog-service-url" content="https://catalog.githubapp.com/services/github/blob/support" data-turbo-transient>
    <meta name="memex-ring-version-link" content="" data-turbo-transient>
    <meta name="memex-ring-version" content="" data-turbo-transient>
    <meta name="memex-ring-release" content="" data-turbo-transient>


  <meta name="request-id" content="E880:0EA4:3781CCE:3A82B59:6349AAE7" data-turbo-transient="true" /><meta name="html-safe-nonce" content="cec745ade539124189cb90cd821d12e1f8d90b39fbe2a8db2061080f979c0b81" data-turbo-transient="true" /><meta name="visitor-payload" content="eyJyZWZlcnJlciI6Imh0dHBzOi8vZ2l0aHViLmNvbS9naXRodWIvcmVuZGVyYWJsZXMvYmxvYi9tYWluL2lweW5iL1hLQ0RfcGxvdHMuaXB5bmIiLCJyZXF1ZXN0X2lkIjoiRTg4MDowRUE0OjM3ODFDQ0U6M0E4MkI1OTo2MzQ5QUFFNyIsInZpc2l0b3JfaWQiOiIzMDI4OTY2MDQ3MjUzODkwOTk4IiwicmVnaW9uX2VkZ2UiOiJzZWEiLCJyZWdpb25fcmVuZGVyIjoiaWFkIn0=" data-turbo-transient="true" /><meta name="visitor-hmac" content="8a9c48f2069a01eec3f609dd5f083446ea0fb10a240ed6649f29da418e1f4f5c" data-turbo-transient="true" />

    <meta name="hovercard-subject-tag" content="repository:10774987" data-turbo-transient>


  <meta name="github-keyboard-shortcuts" content="repository,source-code,file-tree" data-turbo-transient="true" />
  <link rel="sso-modal" href="/orgs/github/sso_modal" data-turbo-transient="true" /><link rel="sso-session" href="/orgs/github/sso_status.json" data-turbo-transient="true" /><meta name="sso-expires-around" content="1665849056" data-turbo-transient="true" />

  <meta name="selected-link" value="repo_source" data-turbo-transient>

    <meta name="google-site-verification" content="c1kuD-K2HIVF635lypcsWPoD4kilo5-jA_wBFyT4uMY">
  <meta name="google-site-verification" content="KT5gs8h0wvaagLKAVWq8bbeNwnZZK1r1XQysX3xurLU">
  <meta name="google-site-verification" content="ZzhVyEFwb7w3e0-uOTltm8Jsck2F5StVihD0exw2fsA">
  <meta name="google-site-verification" content="GXs5KoUUkNCoaAZn7wPN-t01Pywp9M3sEjnt_3_ZWPc">
  <meta name="google-site-verification" content="Apib7-x98H0j5cPqHWwSMm6dNU4GmODRoqxLiDzdx9I">

<meta name="octolytics-url" content="https://collector.github.com/github/collect" /><meta name="octolytics-actor-id" content="7219923" /><meta name="octolytics-actor-login" content="therzka" /><meta name="octolytics-actor-hash" content="036c772e3af66d222698151a0ff76923d5df7ceda51fc2930be0462a0c4e7eb5" />

  <meta name="analytics-location" content="/&lt;user-name&gt;/&lt;repo-name&gt;/blob/show" data-turbo-transient="true" />

  




  

    <meta name="user-login" content="therzka">

  <link rel="sudo-modal" href="/sessions/sudo_modal">

    <meta name="viewport" content="width=device-width">
    
      <meta name="description" content="A library of various formats supported by github/render and dot-com - renderables/XKCD_plots.ipynb at main · github/renderables">
      <link rel="search" type="application/opensearchdescription+xml" href="/opensearch.xml" title="GitHub">
    <link rel="fluid-icon" href="https://github.com/fluidicon.png" title="GitHub">
    <meta property="fb:app_id" content="1401488693436528">
    <meta name="apple-itunes-app" content="app-id=1477376905" />
      <meta name="twitter:image:src" content="https://avatars.githubusercontent.com/u/9919?s=400&amp;v=4" /><meta name="twitter:site" content="@github" /><meta name="twitter:card" content="summary" /><meta name="twitter:title" content="renderables/XKCD_plots.ipynb at main · github/renderables" /><meta name="twitter:description" content="A library of various formats supported by github/render and dot-com - renderables/XKCD_plots.ipynb at main · github/renderables" />
      <meta property="og:image" content="https://avatars.githubusercontent.com/u/9919?s=400&amp;v=4" /><meta property="og:image:alt" content="A library of various formats supported by github/render and dot-com - renderables/XKCD_plots.ipynb at main · github/renderables" /><meta property="og:site_name" content="GitHub" /><meta property="og:type" content="object" /><meta property="og:title" content="renderables/XKCD_plots.ipynb at main · github/renderables" /><meta property="og:url" content="https://github.com/github/renderables" /><meta property="og:description" content="A library of various formats supported by github/render and dot-com - renderables/XKCD_plots.ipynb at main · github/renderables" />
      
    <link rel="assets" href="https://github.githubassets.com/">
      <link rel="shared-web-socket" href="wss://alive.github.com/_sockets/u/7219923/ws?session=eyJ2IjoiVjMiLCJ1Ijo3MjE5OTIzLCJzIjo4ODgxMTE5MzIsImMiOjI1MjM0NzUxMTcsInQiOjE2NjU3NzIyNzZ9--e8839b420e6293d9ee7742f57288ef6190034a80332bdaf03e855b08a3b6154a" data-refresh-url="/_alive" data-session-id="ada4b005329ce22f00f58db72040c90268db82bdf8b1c251ab353fc7e763fc08">
      <link rel="shared-web-socket-src" href="/assets-cdn/worker/socket-worker-b87581f5816c.js">


        <meta name="hostname" content="github.com">


      <meta name="keyboard-shortcuts-preference" content="all">
      <script type="application/json" id="memex_keyboard_shortcuts_preference">"all"</script>

        <meta name="expected-hostname" content="github.com">

    <meta name="enabled-features" content="ACTIONS_RUN_NAME,BLACKBIRD_MONOLITH,IMAGE_METRIC_TRACKING,GEOJSON_AZURE_MAPS,STRICT_DEFERRED_DIFF_LINES_CHECKS,TASKLIST_BLOCK">


  <meta http-equiv="x-pjax-version" content="ce921e8adf0d04c54263574b7f40d3029466b1d4ae7b5ca1a4320fc161eabada" data-turbo-track="reload">
  <meta http-equiv="x-pjax-csp-version" content="f5ed9867bb1176aa5b92365e09bc2d617a0ff80243148bd0239b32b16e4fa371" data-turbo-track="reload">
  <meta http-equiv="x-pjax-css-version" content="1ff63de7af3b4f02a42b40c3f416d9b2c178d78dfa02aff7dc160f18e1c2c09e" data-turbo-track="reload">
  <meta http-equiv="x-pjax-js-version" content="3ba33240bd1a1425e30aa077e76330335f719423507af273ae6a6e709a47780d" data-turbo-track="reload">

  <meta name="turbo-cache-control" content="no-preview" data-turbo-transient="">

      <meta name="turbo-cache-control" content="no-cache" data-turbo-transient>
    <meta data-hydrostats="publish">

  <meta name="go-import" content="github.com/github/renderables git https://github.com/github/renderables.git">

  <meta name="octolytics-dimension-user_id" content="9919" /><meta name="octolytics-dimension-user_login" content="github" /><meta name="octolytics-dimension-repository_id" content="10774987" /><meta name="octolytics-dimension-repository_nwo" content="github/renderables" /><meta name="octolytics-dimension-repository_public" content="false" /><meta name="octolytics-dimension-repository_is_fork" content="false" /><meta name="octolytics-dimension-repository_network_root_id" content="10774987" /><meta name="octolytics-dimension-repository_network_root_nwo" content="github/renderables" />



  <meta name="turbo-body-classes" content="logged-in env-production page-responsive">


  <meta name="browser-stats-url" content="https://api.github.com/_private/browser/stats">

  <meta name="browser-errors-url" content="https://api.github.com/_private/browser/errors">

  <meta name="browser-optimizely-client-errors-url" content="https://api.github.com/_private/browser/optimizely_client/errors">

  <link rel="mask-icon" href="https://github.githubassets.com/pinned-octocat.svg" color="#000000">
  <link rel="alternate icon" class="js-site-favicon" type="image/png" href="https://github.githubassets.com/favicons/favicon.png">
  <link rel="icon" class="js-site-favicon" type="image/svg+xml" href="https://github.githubassets.com/favicons/favicon.svg">

<meta name="theme-color" content="#1e2327">
<meta name="color-scheme" content="light dark" />


  <link rel="manifest" href="/manifest.json" crossOrigin="use-credentials">

  </head>

  <body class="logged-in env-production page-responsive" style="word-wrap: break-word;">
    

    <div class="position-relative js-header-wrapper stats-ui-enabled">
      <a href="#start-of-content" class="p-3 color-bg-accent-emphasis color-fg-on-emphasis show-on-focus js-skip-to-content">Skip to content</a>
      <span data-view-component="true" class="progress-pjax-loader Progress position-fixed width-full">
    <span style="width: 0%;" data-view-component="true" class="Progress-item progress-pjax-loader-bar left-0 top-0 color-bg-accent-emphasis"></span>
</span>      
      
<div id="serverstats" class="clearfix server-stats ">
  <div class="px-3 clearfix">
        <a class="float-right stafftools-rocket tooltipped tooltipped-sw js-site-admin-link" href="https://admin.github.com/stafftools" data-hotkey="A" aria-label="Site admin">
          <svg aria-hidden="true" height="16" viewBox="0 0 16 16" version="1.1" width="16" data-view-component="true" class="octicon octicon-rocket">
    <path fill-rule="evenodd" d="M14.064 0a8.75 8.75 0 00-6.187 2.563l-.459.458c-.314.314-.616.641-.904.979H3.31a1.75 1.75 0 00-1.49.833L.11 7.607a.75.75 0 00.418 1.11l3.102.954c.037.051.079.1.124.145l2.429 2.428c.046.046.094.088.145.125l.954 3.102a.75.75 0 001.11.418l2.774-1.707a1.75 1.75 0 00.833-1.49V9.485c.338-.288.665-.59.979-.904l.458-.459A8.75 8.75 0 0016 1.936V1.75A1.75 1.75 0 0014.25 0h-.186zM10.5 10.625c-.088.06-.177.118-.266.175l-2.35 1.521.548 1.783 1.949-1.2a.25.25 0 00.119-.213v-2.066zM3.678 8.116L5.2 5.766c.058-.09.117-.178.176-.266H3.309a.25.25 0 00-.213.119l-1.2 1.95 1.782.547zm5.26-4.493A7.25 7.25 0 0114.063 1.5h.186a.25.25 0 01.25.25v.186a7.25 7.25 0 01-2.123 5.127l-.459.458a15.21 15.21 0 01-2.499 2.02l-2.317 1.5-2.143-2.143 1.5-2.317a15.25 15.25 0 012.02-2.5l.458-.458h.002zM12 5a1 1 0 11-2 0 1 1 0 012 0zm-8.44 9.56a1.5 1.5 0 10-2.12-2.12c-.734.73-1.047 2.332-1.15 3.003a.23.23 0 00.265.265c.671-.103 2.273-.416 3.005-1.148z"></path>
</svg>
        </a>

        <!-- '"` --><!-- </textarea></xmp> --></option></form><form data-turbo="false" action="/site/toggle_site_admin_performance_stats" accept-charset="UTF-8" method="post"><input type="hidden" name="authenticity_token" value="QaOOYjXJ7YV7TBbi5FeFe5SamicWStyQKGRCMSHtA-pSvHqTuFKhDuc-7goIDowVMlEf3rBc7rPEOQp6d_i_IA" />
          <input type="hidden" name="enabled" value="true">
          <button type="submit" class="float-right btn-link stats-show-more-stats"
            aria-label="Show more stats" >
            <svg aria-hidden="true" height="16" viewBox="0 0 16 16" version="1.1" width="16" data-view-component="true" class="octicon octicon-ellipsis">
    <path fill-rule="evenodd" d="M0 5.75C0 4.784.784 4 1.75 4h12.5c.966 0 1.75.784 1.75 1.75v4.5A1.75 1.75 0 0114.25 12H1.75A1.75 1.75 0 010 10.25v-4.5zM4 7a1 1 0 100 2 1 1 0 000-2zm3 1a1 1 0 112 0 1 1 0 01-2 0zm5-1a1 1 0 100 2 1 1 0 000-2z"></path>
</svg>
          </button>
</form>
    <ul class="stats js-stats" style="display:none;"></ul>

      <!-- '"` --><!-- </textarea></xmp> --></option></form><form class="d-inline ml-1 canary-me " data-turbo="false" action="/site/toggle_canary?toggle=true" accept-charset="UTF-8" method="post"><input type="hidden" name="authenticity_token" value="MeRT2CHCyeQtJJ-2_cICp2wPHChVaOpfSiSfVZ6xlfs6Vwg2hcLIrqos_7xp5CPP7BV8bi-beqyHB4CKLjLcSw" />
        <button type="submit" class="btn-link" title="Enable canary unicorns">
          <img src="https://github.githubassets.com/images/modules/logos/canary-logo.png" width="16" height="16" alt="">
        </button>
</form>
    <p class="m-0 d-inline-block serverstats-branch">
        <svg aria-hidden="true" height="16" viewBox="0 0 16 16" version="1.1" width="16" data-view-component="true" class="octicon octicon-git-branch">
    <path fill-rule="evenodd" d="M11.75 2.5a.75.75 0 100 1.5.75.75 0 000-1.5zm-2.25.75a2.25 2.25 0 113 2.122V6A2.5 2.5 0 0110 8.5H6a1 1 0 00-1 1v1.128a2.251 2.251 0 11-1.5 0V5.372a2.25 2.25 0 111.5 0v1.836A2.492 2.492 0 016 7h4a1 1 0 001-1v-.628A2.25 2.25 0 019.5 3.25zM4.25 12a.75.75 0 100 1.5.75.75 0 000-1.5zM3.5 3.25a.75.75 0 111.5 0 .75.75 0 01-1.5 0z"></path>
</svg>
      <span class="current-branch css-truncate expandable">





        <span class="current-branch-name css-truncate-target">
            39c8855
        </span>
        <span class="sha">
              39c8855
        </span>
      </span>
    </p>

      <p class="mr-1 mb-0 d-inline-block serverstats-bones" >
        <a class="js-bones-link" href="https://bones.githubapp.com/services/blob" target="bones.githubapp.com">
          <g-emoji alias="bone" fallback-src="https://github.githubassets.com/images/icons/emoji/unicode/1f9b4.png" title="Bones">🦴</g-emoji>
        </a>
      </p>

      <div class="m-0 d-inline-block serverstats-service">
        <span class="js-catalog-unknown-service" hidden>
          <g-emoji alias="cat2" fallback-src="https://github.githubassets.com/images/icons/emoji/unicode/1f408.png" title="Service Catalog">🐈</g-emoji>

          <span class="current-service">
            unknown
          </span>
        </span>
        <a href="https://catalog.githubapp.com/services/github/blob/support"
           target="catalog.githubapp.com"
           class="js-catalog-known-service"
           >

        <g-emoji alias="cat2" fallback-src="https://github.githubassets.com/images/icons/emoji/unicode/1f408.png" title="Service Catalog">🐈</g-emoji>

        <span class="current-service js-catalog-service-name">
          github/blob
        </span>
        </a>
            <a class="js-memex-link" href="#" hidden>
              <span class="current-service js-memex-version">
              </span>
            </a>
      </div>

      <div class="m-0 d-inline-block">
        <details class="details-reset details-overlay details-overlay-dark js-feedback-modal">
  <summary title="Internal feedback" style="background-color: rgba(0, 0, 0, 0.75) !important; border: 0; color: rgba(255, 255, 255, 0.75); font-size: 11px; padding: 2px 6px" data-hotkey="!" data-view-component="true" class="Label js-feedback-button internal-feedback-button mx-1">
    ✨ Feedback
</summary>  <details-dialog class="anim-fade-in fast d-flex flex-column" style="width: 800px;">
    <!-- '"` --><!-- </textarea></xmp> --></option></form><form data-turbo="false" class="js-feedback-form" id="feedback-form" action="/internal_feedback_issue.json" accept-charset="UTF-8" method="post"><input type="hidden" name="authenticity_token" value="bKD-RzNmDsvzXLN3msc8PUNFNYw65BndSb-7I7bf0j7b3YLh0fttQbECC7fvftlVGhIT_f0K2FsLI5hNI3qvtA" />
      <div data-view-component="true" class="Box">
  <div data-view-component="true" class="Box-header">
  
              <button aria-label="Close feedback form" data-close-dialog="true" type="button" data-view-component="true" class="Box-btn-octicon btn-octicon btn float-right">    <svg aria-hidden="true" height="16" viewBox="0 0 16 16" version="1.1" width="16" data-view-component="true" class="octicon octicon-x color-fg-muted">
    <path fill-rule="evenodd" d="M3.72 3.72a.75.75 0 011.06 0L8 6.94l3.22-3.22a.75.75 0 111.06 1.06L9.06 8l3.22 3.22a.75.75 0 11-1.06 1.06L8 9.06l-3.22 3.22a.75.75 0 01-1.06-1.06L6.94 8 3.72 4.78a.75.75 0 010-1.06z"></path>
</svg>
</button>          <h3 class="Box-title d-flex">
            <div style="line-height: 2">Submit internal feedback to</div>
            <div style="line-height: 2" class="current-service js-catalog-service-name ml-1">github/blob</div>
            <div class="js-feedback-target-container d-flex" hidden>
              <auto-complete src="/search_interal_feedback_repos" for="repos-popup" data-view-component="true" class="mx-1">
  <label for="feedback_target" class="autocomplete-label-inline">
      github/
  </label>
  <span class="autocomplete-body">
    <input id="feedback_target" name="feedback_target" autocomplete="off" type="text" data-view-component="true" class="form-control js-feedback-target-input" />
    <ul id="repos-popup" data-view-component="true" class="autocomplete-results"></ul>
  </span>
  <div id="repos-popup-feedback" class="sr-only"></div>
</auto-complete>            </div>
              <button type="button" data-view-component="true" class="js-feedback-target-toggle f6 btn-link text-light ml-1">    change
</button>
          </h3>

</div>
  <div data-view-component="true" class="Box-body">          <div class="js-feedback-form-container">
            <div >
              <input class="form-control input-lg input-block input-contrast required title js-session-resumable js-quick-submit" required="required" autocomplete="off" placeholder="Title" aria-label="Title" id="feedback-issue-title" type="text" name="issue[title]" />
              <input type="hidden" name="sha" id="sha" value="39c8855ed450c2db5d6f6eeaed229731b2dc5a0a" autocomplete="off" class="form-control" />
              <input type="hidden" name="branch" id="branch" value="unknown" autocomplete="off" class="form-control" />
              <input type="hidden" name="rails_version" id="rails_version" value="7.1.0.alpha.3258979977" autocomplete="off" class="form-control" />
              <input type="hidden" name="logical_service" id="logical_service" value="github/blob" class="form-control js-catalog-service-name-field" autocomplete="off" />
              <input type="hidden" name="response_time_stats" id="response_time_stats" value="294ms" autocomplete="off" class="form-control" />
              <input type="hidden" name="cpu" id="cpu" value="294ms" autocomplete="off" class="form-control" />
              <input type="hidden" name="gc" id="gc" value="1ms / 0" autocomplete="off" class="form-control" />
              <input type="hidden" name="flamegraph_url" id="flamegraph_url" value="https://github.com/_speedscope/index.html#profileURL=https%3A%2F%2Fgithub.com%2Fgithub%2Frenderables%2Fblob%2Fmain%2Fipynb%2FXKCD_plots.ipynb%3Fflamegraph%3D1%26flamegraph_interval%3D500%26flamegraph_output%3Djson&amp;title=_github_renderables_blob_main_ipynb_XKCD_plots.ipynb_2022-10-14-11-31-16.stackprof.json" autocomplete="off" class="form-control" />
              <input type="hidden" name="es_loader_stats" id="es_loader_stats" value="" autocomplete="off" class="form-control" />
              <input type="hidden" name="es_stats" id="es_stats" value="0ms / 0" autocomplete="off" class="form-control" />
              <input type="hidden" name="render_time" id="render_time" value="53ms" autocomplete="off" class="form-control" />
              <input type="hidden" name="redis" id="redis" value="0ms / 0" autocomplete="off" class="form-control" />
              <input type="hidden" name="cache" id="cache" value="22ms / 55" autocomplete="off" class="form-control" />
              <input type="hidden" name="geyser" id="geyser" value="0ms / 0" autocomplete="off" class="form-control" />
              <input type="hidden" name="graphql" id="graphql" value="0ms / 0" autocomplete="off" class="form-control" />
              <input type="hidden" name="mysql" id="mysql" value="65ms / 63 / 0 / 9" autocomplete="off" class="form-control" />
              <input type="hidden" name="gitrpc" id="gitrpc" value="25ms / 4" autocomplete="off" class="form-control" />
              <input type="hidden" name="enabled_features" id="enabled_features" value="controller_feature_preloading browser_vitals_time_metric header_redesign codespaces_dev_container_wizard react_repos_code_view repo_stack_release code_navigation_survey publish_web_vitals blackbird_fe color_modes_color_blind_themes_2 actions_run_name blackbird_monolith image_metric_tracking geojson_azure_maps strict_deferred_diff_lines_checks tasklist_block" autocomplete="off" class="form-control" />
              <input type="hidden" name="disabled_features" id="disabled_features" value="authnd_experiment popup_api cap_2fa_policy_enabled breadcrumbs_logging experiment_with_subject_type ref_name_candidates_telemetry aleph_language_jupyter_notebook aleph_darkship_language_jupyter_notebook aleph_language_tex aleph_darkship_language_tex aleph_language_html aleph_darkship_language_html repositories_survey_forced repositories_survey discussions_category_forms private_repos_discussion_forms hide_dependabot_alerts_repo_banner pjax_enabled media_query_on_color_bundles design_tokens_v2 pwa strict_deferred_diff_lines_checks_reporting workflow_tied_runner_groups actions_green_trees primer_octicon_cache memex_direct_deployments" autocomplete="off" class="form-control" />
              <input type="hidden" name="captured_headers" id="captured_headers" value="{&quot;REMOTE_ADDR&quot;:&quot;127.0.0.1&quot;,&quot;HTTP_HOST&quot;:&quot;github.com&quot;,&quot;HTTP_X_NGINX_REQUEST_START&quot;:&quot;t=1665772276.591000&quot;,&quot;HTTP_CONNECTION&quot;:&quot;close&quot;,&quot;HTTP_USER_AGENT&quot;:&quot;Mozilla/5.0 (Macintosh; Intel Mac OS X 10_15_7) AppleWebKit/537.36 (KHTML, like Gecko) Chrome/105.0.0.0 Safari/537.36&quot;,&quot;HTTP_SEC_FETCH_MODE&quot;:&quot;navigate&quot;,&quot;HTTP_REFERER&quot;:&quot;https://github.com/github/renderables/blob/main/ipynb/XKCD_plots.ipynb&quot;,&quot;HTTP_ACCEPT_ENCODING&quot;:&quot;gzip, deflate, br&quot;,&quot;HTTP_ACCEPT_LANGUAGE&quot;:&quot;en-US,en;q=0.9&quot;,&quot;SERVER_SOFTWARE&quot;:&quot;Unicorn 6.0.0&quot;,&quot;SERVER_NAME&quot;:&quot;github.com&quot;}" autocomplete="off" class="form-control" />
              <tab-container class="js-previewable-comment-form previewable-comment-form write-selected" data-preview-url="/preview?markdown_unsupported=false&amp;subject_type=NilClass">
  <input type="hidden" value="hd9dftrl9DF1-A0AzWBMEiOa0LKoYo0_Y_QeS55oGQrQMwtMyw-K_04yjFsLEBk0tDOtxwhbOQYET8DMATbMcw" data-csrf="true" class="js-data-preview-url-csrf" />
  <div
    class="tabnav comment-form-head mb-2 d-flex flex-justify-between p-0 tabnav--responsive flex-column border-bottom-0 mb-0 mb-lg-2 flex-items-stretch border-lg-bottom color-border-default flex-lg-items-center flex-lg-row"
  >
      <div
        class="tabnav-tabs mx-0 mx-md-2 mt-0 mt-md-2 no-wrap d-flex flex-auto d-md-block"
        role="tablist"
      >
        <button
          type="button"
          class="btn-link tabnav-tab write-tab js-write-tab px-3 px-sm-6 px-md-3 flex-1 flex-md-auto"
          role="tab"
          aria-selected="true"
        >
          Write
        </button>
        <button
          type="button"
          class="btn-link tabnav-tab preview-tab js-preview-tab flex-1 flex-md-auto"
          role="tab"
        >
          Preview
        </button>
      </div>
      <markdown-toolbar role="toolbar" aria-label="Composition" for="feedback_issue_body" data-view-component="true" class="js-details-container Details toolbar-commenting no-wrap border-md-top border-lg-top-0 d-flex px-2 pt-2 pt-lg-0 flex-items-start flex-wrap mt-lg-2">
      <div class="d-block d-md-none flex-auto">
        <button data-md-button tabindex="-1" type="button" aria-label="Toggle text tools" aria-expanded="false" class="js-details-target btn-link toolbar-item btn-octicon no-underline py-2 mr-1">
          <svg aria-hidden="true" height="16" viewBox="0 0 16 16" version="1.1" width="16" data-view-component="true" class="octicon octicon-typography">
    <path fill-rule="evenodd" d="M6.21 8.5L4.574 3.594 2.857 8.5H6.21zm.5 1.5l.829 2.487a.75.75 0 001.423-.474L5.735 2.332a1.216 1.216 0 00-2.302-.018l-3.39 9.688a.75.75 0 001.415.496L2.332 10H6.71zm3.13-4.358C10.53 4.374 11.87 4 13 4c1.5 0 3 .939 3 2.601v5.649a.75.75 0 01-1.448.275C13.995 12.82 13.3 13 12.5 13c-.77 0-1.514-.231-2.078-.709-.577-.488-.922-1.199-.922-2.041 0-.694.265-1.411.887-1.944C11 7.78 11.88 7.5 13 7.5h1.5v-.899c0-.54-.5-1.101-1.5-1.101-.869 0-1.528.282-1.84.858a.75.75 0 11-1.32-.716zM14.5 9H13c-.881 0-1.375.22-1.637.444-.253.217-.363.5-.363.806 0 .408.155.697.39.896.249.21.63.354 1.11.354.732 0 1.26-.209 1.588-.449.35-.257.412-.495.412-.551V9z"></path>
</svg>
          <svg aria-hidden="true" height="16" viewBox="0 0 16 16" version="1.1" width="16" data-view-component="true" class="octicon octicon-chevron-up Details-content--shown">
    <path fill-rule="evenodd" d="M3.22 9.78a.75.75 0 010-1.06l4.25-4.25a.75.75 0 011.06 0l4.25 4.25a.75.75 0 01-1.06 1.06L8 6.06 4.28 9.78a.75.75 0 01-1.06 0z"></path>
</svg>
          <svg aria-hidden="true" height="16" viewBox="0 0 16 16" version="1.1" width="16" data-view-component="true" class="octicon octicon-chevron-down Details-content--hidden">
    <path fill-rule="evenodd" d="M12.78 6.22a.75.75 0 010 1.06l-4.25 4.25a.75.75 0 01-1.06 0L3.22 7.28a.75.75 0 011.06-1.06L8 9.94l3.72-3.72a.75.75 0 011.06 0z"></path>
</svg>
        </button>
      </div>

    
    <div class="flex-nowrap d-none d-md-inline-block mr-md-0 mr-3">
      <md-header aria-label="Heading" id="md-heading-feedback_issue_body-1" role="button" tabindex="-1" class="toolbar-item btn-octicon" data-ga-click="Markdown Toolbar, click, header">
        <svg aria-hidden="true" height="16" viewBox="0 0 16 16" version="1.1" width="16" data-view-component="true" class="octicon octicon-heading">
    <path fill-rule="evenodd" d="M3.75 2a.75.75 0 01.75.75V7h7V2.75a.75.75 0 011.5 0v10.5a.75.75 0 01-1.5 0V8.5h-7v4.75a.75.75 0 01-1.5 0V2.75A.75.75 0 013.75 2z"></path>
</svg>
      </md-header>
      <tool-tip for="md-heading-feedback_issue_body-1" data-direction="sw" data-type="description" data-view-component="true" class="js-modifier-label-key sr-only position-absolute">Add heading text</tool-tip>

      <md-bold aria-label="Bold"  id="md-bold-feedback_issue_body-1" role="button" tabindex="-1" class="toolbar-item btn-octicon" data-hotkey-scope="feedback_issue_body" data-hotkey="Meta+b" data-ga-click="Markdown Toolbar, click, bold">
        <svg aria-hidden="true" height="16" viewBox="0 0 16 16" version="1.1" width="16" data-view-component="true" class="octicon octicon-bold">
    <path fill-rule="evenodd" d="M4 2a1 1 0 00-1 1v10a1 1 0 001 1h5.5a3.5 3.5 0 001.852-6.47A3.5 3.5 0 008.5 2H4zm4.5 5a1.5 1.5 0 100-3H5v3h3.5zM5 9v3h4.5a1.5 1.5 0 000-3H5z"></path>
</svg>
      </md-bold>
      <tool-tip for="md-bold-feedback_issue_body-1" data-direction="sw" data-type="description" data-view-component="true" class="js-modifier-label-key sr-only position-absolute">Add bold text, &lt;Ctrl+b&gt;</tool-tip>

      <md-italic aria-label="Italic" id="md-italic-feedback_issue_body-1" role="button" tabindex="-1" class="toolbar-item btn-octicon" data-hotkey-scope="feedback_issue_body" data-hotkey="Meta+i" data-ga-click="Markdown Toolbar, click, italic">
        <svg aria-hidden="true" height="16" viewBox="0 0 16 16" version="1.1" width="16" data-view-component="true" class="octicon octicon-italic">
    <path fill-rule="evenodd" d="M6 2.75A.75.75 0 016.75 2h6.5a.75.75 0 010 1.5h-2.505l-3.858 9H9.25a.75.75 0 010 1.5h-6.5a.75.75 0 010-1.5h2.505l3.858-9H6.75A.75.75 0 016 2.75z"></path>
</svg>
      </md-italic>
      <tool-tip for="md-italic-feedback_issue_body-1" data-direction="sw" data-type="description" data-view-component="true" class="js-modifier-label-key sr-only position-absolute">Add italic text, &lt;Ctrl+i&gt;</tool-tip>
    </div>

    <div class="d-flex d-md-inline-block mr-0">
      <md-quote aria-label="Quote" id="md-quote-feedback_issue_body-1" role="button" tabindex="-1" class="toolbar-item btn-octicon p-2 p-md-1" data-hotkey-scope="feedback_issue_body" data-hotkey="Meta+Shift+." data-ga-click="Markdown Toolbar, click, quote">
        <svg aria-hidden="true" height="16" viewBox="0 0 16 16" version="1.1" width="16" data-view-component="true" class="octicon octicon-quote">
    <path fill-rule="evenodd" d="M1.75 2.5a.75.75 0 000 1.5h10.5a.75.75 0 000-1.5H1.75zm4 5a.75.75 0 000 1.5h8.5a.75.75 0 000-1.5h-8.5zm0 5a.75.75 0 000 1.5h8.5a.75.75 0 000-1.5h-8.5zM2.5 7.75a.75.75 0 00-1.5 0v6a.75.75 0 001.5 0v-6z"></path>
</svg>
      </md-quote>
      <tool-tip for="md-quote-feedback_issue_body-1" data-direction="sw" data-type="description" data-view-component="true" class="js-modifier-label-key sr-only position-absolute">Add a quote, &lt;Ctrl+Shift+.&gt;</tool-tip>

      <md-code aria-label="Code" id="md-code-feedback_issue_body-1" role="button" tabindex="-1" class="toolbar-item btn-octicon p-2 p-md-1" data-hotkey-scope="feedback_issue_body" data-hotkey="Meta+e" data-ga-click="Markdown Toolbar, click, code">
        <svg aria-hidden="true" height="16" viewBox="0 0 16 16" version="1.1" width="16" data-view-component="true" class="octicon octicon-code">
    <path fill-rule="evenodd" d="M4.72 3.22a.75.75 0 011.06 1.06L2.06 8l3.72 3.72a.75.75 0 11-1.06 1.06L.47 8.53a.75.75 0 010-1.06l4.25-4.25zm6.56 0a.75.75 0 10-1.06 1.06L13.94 8l-3.72 3.72a.75.75 0 101.06 1.06l4.25-4.25a.75.75 0 000-1.06l-4.25-4.25z"></path>
</svg>
      </md-code>
      <tool-tip for="md-code-feedback_issue_body-1" data-direction="sw" data-type="description" data-view-component="true" class="js-modifier-label-key sr-only position-absolute">Add code, &lt;Ctrl+e&gt;</tool-tip>

        <button type="button" data-md-button tabindex="-1" class="toolbar-item btn-octicon text-center p-2 d-md-none js-markdown-link-button" aria-label="Link" data-ga-click="Markdown Toolbar, click, saved reply">
          <svg aria-hidden="true" height="16" viewBox="0 0 16 16" version="1.1" width="16" data-view-component="true" class="octicon octicon-link">
    <path fill-rule="evenodd" d="M7.775 3.275a.75.75 0 001.06 1.06l1.25-1.25a2 2 0 112.83 2.83l-2.5 2.5a2 2 0 01-2.83 0 .75.75 0 00-1.06 1.06 3.5 3.5 0 004.95 0l2.5-2.5a3.5 3.5 0 00-4.95-4.95l-1.25 1.25zm-4.69 9.64a2 2 0 010-2.83l2.5-2.5a2 2 0 012.83 0 .75.75 0 001.06-1.06 3.5 3.5 0 00-4.95 0l-2.5 2.5a3.5 3.5 0 004.95 4.95l1.25-1.25a.75.75 0 00-1.06-1.06l-1.25 1.25a2 2 0 01-2.83 0z"></path>
</svg>
        </button>

        <template class="js-markdown-link-dialog">
          <div class="Box-header">
            <h1 class="Box-title" id="box-title">Insert Link</h1>
          </div>
          <div class="Box-body overflow-auto">
            <div>
              <label class="d-block mb-1" for="js-dialog-link-text">Link Text</label>
              <input type="text" class="mb-3 form-control input-block" id="js-dialog-link-text" autofocus>
            </div>
            <div>
              <label class="d-block mb-1" for="js-dialog-link-href">URL</label>
              <input type="url" class="mb-3 form-control input-block" id="js-dialog-link-href">
            </div>
            <div class="pt-3 border-top">
                <button data-close-dialog="" data-for-textarea="feedback_issue_body" type="button" data-view-component="true" class="js-markdown-link-insert btn-primary btn btn-block">    Add
</button>            </div>
          </div>
        </template>

      <md-link aria-label="Link" id="md-link-feedback_issue_body-2" role="button" tabindex="-1" class="toolbar-item btn-octicon p-2 p-md-1 d-none d-md-block" data-hotkey-scope="feedback_issue_body" data-hotkey="Meta+k" data-ga-click="Markdown Toolbar, click, link">
        <svg aria-hidden="true" height="16" viewBox="0 0 16 16" version="1.1" width="16" data-view-component="true" class="octicon octicon-link">
    <path fill-rule="evenodd" d="M7.775 3.275a.75.75 0 001.06 1.06l1.25-1.25a2 2 0 112.83 2.83l-2.5 2.5a2 2 0 01-2.83 0 .75.75 0 00-1.06 1.06 3.5 3.5 0 004.95 0l2.5-2.5a3.5 3.5 0 00-4.95-4.95l-1.25 1.25zm-4.69 9.64a2 2 0 010-2.83l2.5-2.5a2 2 0 012.83 0 .75.75 0 001.06-1.06 3.5 3.5 0 00-4.95 0l-2.5 2.5a3.5 3.5 0 004.95 4.95l1.25-1.25a.75.75 0 00-1.06-1.06l-1.25 1.25a2 2 0 01-2.83 0z"></path>
</svg>
      </md-link>
      <tool-tip for="md-link-feedback_issue_body-2" data-direction="sw" data-type="description" data-view-component="true" class="js-modifier-label-key sr-only position-absolute">Add a link, &lt;Ctrl+k&gt;</tool-tip>
    </div>

    <div class="d-none d-md-inline-block mr-md-0 mr-3">
      <md-unordered-list aria-label="Unordered list" id="md-unordered_list-feedback_issue_body-1" role="button" tabindex="-1" class="toolbar-item btn-octicon" data-hotkey-scope="feedback_issue_body" data-hotkey="Meta+Shift+8" data-ga-click="Markdown Toolbar, click, unordered list">
        <svg aria-hidden="true" height="16" viewBox="0 0 16 16" version="1.1" width="16" data-view-component="true" class="octicon octicon-list-unordered">
    <path fill-rule="evenodd" d="M2 4a1 1 0 100-2 1 1 0 000 2zm3.75-1.5a.75.75 0 000 1.5h8.5a.75.75 0 000-1.5h-8.5zm0 5a.75.75 0 000 1.5h8.5a.75.75 0 000-1.5h-8.5zm0 5a.75.75 0 000 1.5h8.5a.75.75 0 000-1.5h-8.5zM3 8a1 1 0 11-2 0 1 1 0 012 0zm-1 6a1 1 0 100-2 1 1 0 000 2z"></path>
</svg>
      </md-unordered-list>
      <tool-tip for="md-unordered_list-feedback_issue_body-1" data-direction="sw" data-type="description" data-view-component="true" class="js-modifier-label-key sr-only position-absolute">Add a bulleted list, &lt;Ctrl+Shift+8&gt;</tool-tip>

      <md-ordered-list aria-label="Numbered list" id="md-ordered_list-feedback_issue_body-1" role="button" tabindex="-1" class="toolbar-item btn-octicon" data-hotkey-scope="feedback_issue_body" data-hotkey="Meta+Shift+7" data-ga-click="Markdown Toolbar, click, ordered list">
        <svg aria-hidden="true" height="16" viewBox="0 0 16 16" version="1.1" width="16" data-view-component="true" class="octicon octicon-list-ordered">
    <path fill-rule="evenodd" d="M2.003 2.5a.5.5 0 00-.723-.447l-1.003.5a.5.5 0 00.446.895l.28-.14V6H.5a.5.5 0 000 1h2.006a.5.5 0 100-1h-.503V2.5zM5 3.25a.75.75 0 01.75-.75h8.5a.75.75 0 010 1.5h-8.5A.75.75 0 015 3.25zm0 5a.75.75 0 01.75-.75h8.5a.75.75 0 010 1.5h-8.5A.75.75 0 015 8.25zm0 5a.75.75 0 01.75-.75h8.5a.75.75 0 010 1.5h-8.5a.75.75 0 01-.75-.75zM.924 10.32l.003-.004a.851.851 0 01.144-.153A.66.66 0 011.5 10c.195 0 .306.068.374.146a.57.57 0 01.128.376c0 .453-.269.682-.8 1.078l-.035.025C.692 11.98 0 12.495 0 13.5a.5.5 0 00.5.5h2.003a.5.5 0 000-1H1.146c.132-.197.351-.372.654-.597l.047-.035c.47-.35 1.156-.858 1.156-1.845 0-.365-.118-.744-.377-1.038-.268-.303-.658-.484-1.126-.484-.48 0-.84.202-1.068.392a1.858 1.858 0 00-.348.384l-.007.011-.002.004-.001.002-.001.001a.5.5 0 00.851.525zM.5 10.055l-.427-.26.427.26z"></path>
</svg>
      </md-ordered-list>
      <tool-tip for="md-ordered_list-feedback_issue_body-1" data-direction="sw" data-type="description" data-view-component="true" class="js-modifier-label-key sr-only position-absolute">Add a numbered list, &lt;Ctrl+Shift+7&gt;</tool-tip>

      <md-task-list aria-label="Task list" id="md-task_list-feedback_issue_body-1" role="button" tabindex="-1" class="toolbar-item btn-octicon" data-hotkey-scope="feedback_issue_body" data-hotkey="Meta+Shift+l" data-ga-click="Markdown Toolbar, click, task list">
        <svg aria-hidden="true" height="16" viewBox="0 0 16 16" version="1.1" width="16" data-view-component="true" class="octicon octicon-tasklist">
    <path fill-rule="evenodd" d="M2.5 3.5v3h3v-3h-3zM2 2a1 1 0 00-1 1v4a1 1 0 001 1h4a1 1 0 001-1V3a1 1 0 00-1-1H2zm4.655 8.595a.75.75 0 010 1.06L4.03 14.28a.75.75 0 01-1.06 0l-1.5-1.5a.75.75 0 111.06-1.06l.97.97 2.095-2.095a.75.75 0 011.06 0zM9.75 2.5a.75.75 0 000 1.5h5.5a.75.75 0 000-1.5h-5.5zm0 5a.75.75 0 000 1.5h5.5a.75.75 0 000-1.5h-5.5zm0 5a.75.75 0 000 1.5h5.5a.75.75 0 000-1.5h-5.5z"></path>
</svg>
      </md-task-list>
      <tool-tip for="md-task_list-feedback_issue_body-1" data-direction="sw" data-type="description" data-view-component="true" class="js-modifier-label-key sr-only position-absolute">Add a task list, &lt;Ctrl+Shift+l&gt;</tool-tip>
    </div>

            <div  class="d-flex d-xs-inline-block">

            <md-mention aria-label="Mention" role="button" id="md-mention-feedback_issue_body" tabindex="-1" class="flex-auto text-center toolbar-item btn-octicon p-2 p-md-1 mx-1" data-ga-click="Markdown Toolbar, click, mention">
              <svg aria-hidden="true" height="16" viewBox="0 0 16 16" version="1.1" width="16" data-view-component="true" class="octicon octicon-mention">
    <path fill-rule="evenodd" d="M4.75 2.37a6.5 6.5 0 006.5 11.26.75.75 0 01.75 1.298 8 8 0 113.994-7.273.754.754 0 01.006.095v1.5a2.75 2.75 0 01-5.072 1.475A4 4 0 1112 8v1.25a1.25 1.25 0 002.5 0V7.867a6.5 6.5 0 00-9.75-5.496V2.37zM10.5 8a2.5 2.5 0 10-5 0 2.5 2.5 0 005 0z"></path>
</svg>
            </md-mention>
            <tool-tip for="md-mention-feedback_issue_body" data-direction="sw" data-type="description" data-view-component="true" class="sr-only position-absolute">Directly mention a user or team</tool-tip>

            <label for="fc-feedback_issue_body" data-md-button tabindex="-1"  class="d-block d-md-none btn-link flex-auto text-center toolbar-item btn-octicon tooltipped tooltipped-sw p-2 mx-1" aria-label="Attach an image or video">
              <svg aria-hidden="true" height="16" viewBox="0 0 16 16" version="1.1" width="16" data-view-component="true" class="octicon octicon-image">
    <path fill-rule="evenodd" d="M1.75 2.5a.25.25 0 00-.25.25v10.5c0 .138.112.25.25.25h.94a.76.76 0 01.03-.03l6.077-6.078a1.75 1.75 0 012.412-.06L14.5 10.31V2.75a.25.25 0 00-.25-.25H1.75zm12.5 11H4.81l5.048-5.047a.25.25 0 01.344-.009l4.298 3.889v.917a.25.25 0 01-.25.25zm1.75-.25V2.75A1.75 1.75 0 0014.25 1H1.75A1.75 1.75 0 000 2.75v10.5C0 14.216.784 15 1.75 15h12.5A1.75 1.75 0 0016 13.25zM5.5 6a.5.5 0 11-1 0 .5.5 0 011 0zM7 6a2 2 0 11-4 0 2 2 0 014 0z"></path>
</svg>
            </label>

            <md-ref role="button" id="md-ref-feedback_issue_body" aria-label="Issue or pull request reference" tabindex="-1" class="flex-auto text-center toolbar-item btn-octicon p-2 p-md-1 mx-1" data-ga-click="Markdown Toolbar, click, reference">
              <svg aria-hidden="true" height="16" viewBox="0 0 16 16" version="1.1" width="16" data-view-component="true" class="octicon octicon-cross-reference">
    <path fill-rule="evenodd" d="M16 1.25v4.146a.25.25 0 01-.427.177L14.03 4.03l-3.75 3.75a.75.75 0 11-1.06-1.06l3.75-3.75-1.543-1.543A.25.25 0 0111.604 1h4.146a.25.25 0 01.25.25zM2.75 3.5a.25.25 0 00-.25.25v7.5c0 .138.112.25.25.25h2a.75.75 0 01.75.75v2.19l2.72-2.72a.75.75 0 01.53-.22h4.5a.25.25 0 00.25-.25v-2.5a.75.75 0 111.5 0v2.5A1.75 1.75 0 0113.25 13H9.06l-2.573 2.573A1.457 1.457 0 014 14.543V13H2.75A1.75 1.75 0 011 11.25v-7.5C1 2.784 1.784 2 2.75 2h5.5a.75.75 0 010 1.5h-5.5z"></path>
</svg>
            </md-ref>
            <tool-tip for="md-ref-feedback_issue_body" data-direction="sw" data-type="description" data-view-component="true" class="sr-only position-absolute">Reference an issue or pull request</tool-tip>

            <details class="details-overlay details-reset js-saved-reply-container select-menu select-menu-modal-right flex-auto toolbar-item btn-octicon text-center p-2 p-md-1 mx-1 hx_rsm" tabindex="-1">
  <summary id="saved-reply-feedback_issue_body" data-md-button tabindex="-1" class="" aria-label="Reply" data-ga-click="Markdown Toolbar, click, saved reply">
    <svg aria-hidden="true" height="16" viewBox="0 0 16 16" version="1.1" width="16" data-view-component="true" class="octicon octicon-reply">
    <path fill-rule="evenodd" d="M6.78 1.97a.75.75 0 010 1.06L3.81 6h6.44A4.75 4.75 0 0115 10.75v2.5a.75.75 0 01-1.5 0v-2.5a3.25 3.25 0 00-3.25-3.25H3.81l2.97 2.97a.75.75 0 11-1.06 1.06L1.47 7.28a.75.75 0 010-1.06l4.25-4.25a.75.75 0 011.06 0z"></path>
</svg>
  </summary>

  <details-menu
    style="z-index: 99;"
    class="select-menu-modal position-absolute right-0 js-saved-reply-menu hx_rsm-modal"
    data-menu-input="feedback_issue_body_saved_reply_id"
    src="/settings/replies?context=none" preload>
    <div class="select-menu-header d-flex">
      <span class="select-menu-title flex-auto">Select a reply</span>
      <code><span class="border rounded p-1 mr-2">ctrl .</span></code>
    </div>

    <include-fragment role="menuitem" aria-label="Loading">
      <svg style="box-sizing: content-box; color: var(--color-icon-primary);" width="32" height="32" viewBox="0 0 16 16" fill="none" data-view-component="true" class="my-6 mx-auto d-block anim-rotate">
  <circle cx="8" cy="8" r="7" stroke="currentColor" stroke-opacity="0.25" stroke-width="2" vector-effect="non-scaling-stroke" />
  <path d="M15 8a7.002 7.002 0 00-7-7" stroke="currentColor" stroke-width="2" stroke-linecap="round" vector-effect="non-scaling-stroke" />
</svg>
    </include-fragment>

      <div class="select-menu-divider" role="none">Templates</div>

      <button type="button" value=""  class="select-menu-item width-full" role="menuitem">
        <div class="select-menu-item-text d-flex flex-items-center">
          <div class="flex-auto col-9">
            <span class="select-menu-item-heading css-truncate css-truncate-target">
              Looking for structured issue templates?
            </span>
            <span class="description" style="white-space: normal;">
              Try <i>Slash Commands</i> instead! To get started type a <code>/</code> in the body of the comment to see the available commands.
            </span>
          </div>
        </div>
      </button>
  </details-menu>
</details>
<tool-tip for="saved-reply-feedback_issue_body" data-direction="sw" data-type="description" data-view-component="true" class="js-modifier-label-key sr-only position-absolute">Add saved reply</tool-tip>


        </div>


      <div class="Details-content--hidden d-block d-md-none width-full">
        <md-header aria-label="Heading" id="md-heading-feedback_issue_body-2" role="button" tabindex="-1" class="toolbar-item btn-octicon py-2 pr-2 pl-1 mr-1" data-ga-click="Markdown Toolbar, click, header">
          <svg aria-hidden="true" height="16" viewBox="0 0 16 16" version="1.1" width="16" data-view-component="true" class="octicon octicon-heading">
    <path fill-rule="evenodd" d="M3.75 2a.75.75 0 01.75.75V7h7V2.75a.75.75 0 011.5 0v10.5a.75.75 0 01-1.5 0V8.5h-7v4.75a.75.75 0 01-1.5 0V2.75A.75.75 0 013.75 2z"></path>
</svg>
        </md-header>
        <tool-tip for="md-heading-feedback_issue_body-2" data-direction="sw" data-type="description" data-view-component="true" class="js-modifier-label-key sr-only position-absolute">Add heading text</tool-tip>

        <md-bold aria-label="Bold" id="md-bold-feedback_issue_body-2" role="button" tabindex="-1" class="toolbar-item btn-octicon p-2" data-hotkey-scope="feedback_issue_body" data-hotkey="Meta+b" data-ga-click="Markdown Toolbar, click, bold">
          <svg aria-hidden="true" height="16" viewBox="0 0 16 16" version="1.1" width="16" data-view-component="true" class="octicon octicon-bold">
    <path fill-rule="evenodd" d="M4 2a1 1 0 00-1 1v10a1 1 0 001 1h5.5a3.5 3.5 0 001.852-6.47A3.5 3.5 0 008.5 2H4zm4.5 5a1.5 1.5 0 100-3H5v3h3.5zM5 9v3h4.5a1.5 1.5 0 000-3H5z"></path>
</svg>
        </md-bold>
        <tool-tip for="md-bold-feedback_issue_body-2" data-direction="sw" data-type="description" data-view-component="true" class="js-modifier-label-key sr-only position-absolute">Add bold text, &lt;Ctrl+b&gt;</tool-tip>

        <md-italic aria-label="Italic" id="md-italic-feedback_issue_body-2" role="button" tabindex="-1" class="toolbar-item btn-octicon p-2" data-hotkey-scope="feedback_issue_body" data-hotkey="Meta+i" data-ga-click="Markdown Toolbar, click, italic">
          <svg aria-hidden="true" height="16" viewBox="0 0 16 16" version="1.1" width="16" data-view-component="true" class="octicon octicon-italic">
    <path fill-rule="evenodd" d="M6 2.75A.75.75 0 016.75 2h6.5a.75.75 0 010 1.5h-2.505l-3.858 9H9.25a.75.75 0 010 1.5h-6.5a.75.75 0 010-1.5h2.505l3.858-9H6.75A.75.75 0 016 2.75z"></path>
</svg>
        </md-italic>
        <tool-tip for="md-italic-feedback_issue_body-2" data-direction="sw" data-type="description" data-view-component="true" class="js-modifier-label-key sr-only position-absolute">Add italic text, &lt;Ctrl+i&gt;</tool-tip>

        <md-unordered-list aria-label="Unordered list" id="md-unordered_list-feedback_issue_body-2" role="button" tabindex="-1" class="toolbar-item btn-octicon p-2" data-hotkey-scope="feedback_issue_body" data-hotkey="Meta+Shift+8" data-ga-click="Markdown Toolbar, click, unordered list">
          <svg aria-hidden="true" height="16" viewBox="0 0 16 16" version="1.1" width="16" data-view-component="true" class="octicon octicon-list-unordered">
    <path fill-rule="evenodd" d="M2 4a1 1 0 100-2 1 1 0 000 2zm3.75-1.5a.75.75 0 000 1.5h8.5a.75.75 0 000-1.5h-8.5zm0 5a.75.75 0 000 1.5h8.5a.75.75 0 000-1.5h-8.5zm0 5a.75.75 0 000 1.5h8.5a.75.75 0 000-1.5h-8.5zM3 8a1 1 0 11-2 0 1 1 0 012 0zm-1 6a1 1 0 100-2 1 1 0 000 2z"></path>
</svg>
        </md-unordered-list>
        <tool-tip for="md-unordered_list-feedback_issue_body-2" data-direction="sw" data-type="description" data-view-component="true" class="js-modifier-label-key sr-only position-absolute">Add a bulleted list, &lt;Ctrl+Shift+8&gt;</tool-tip>

        <md-ordered-list aria-label="Numbered list" id="md-ordered_list-feedback_issue_body-2" role="button" tabindex="-1" class="toolbar-item btn-octicon p-2" data-hotkey-scope="feedback_issue_body" data-hotkey="Meta+Shift+7" data-ga-click="Markdown Toolbar, click, ordered list">
          <svg aria-hidden="true" height="16" viewBox="0 0 16 16" version="1.1" width="16" data-view-component="true" class="octicon octicon-list-ordered">
    <path fill-rule="evenodd" d="M2.003 2.5a.5.5 0 00-.723-.447l-1.003.5a.5.5 0 00.446.895l.28-.14V6H.5a.5.5 0 000 1h2.006a.5.5 0 100-1h-.503V2.5zM5 3.25a.75.75 0 01.75-.75h8.5a.75.75 0 010 1.5h-8.5A.75.75 0 015 3.25zm0 5a.75.75 0 01.75-.75h8.5a.75.75 0 010 1.5h-8.5A.75.75 0 015 8.25zm0 5a.75.75 0 01.75-.75h8.5a.75.75 0 010 1.5h-8.5a.75.75 0 01-.75-.75zM.924 10.32l.003-.004a.851.851 0 01.144-.153A.66.66 0 011.5 10c.195 0 .306.068.374.146a.57.57 0 01.128.376c0 .453-.269.682-.8 1.078l-.035.025C.692 11.98 0 12.495 0 13.5a.5.5 0 00.5.5h2.003a.5.5 0 000-1H1.146c.132-.197.351-.372.654-.597l.047-.035c.47-.35 1.156-.858 1.156-1.845 0-.365-.118-.744-.377-1.038-.268-.303-.658-.484-1.126-.484-.48 0-.84.202-1.068.392a1.858 1.858 0 00-.348.384l-.007.011-.002.004-.001.002-.001.001a.5.5 0 00.851.525zM.5 10.055l-.427-.26.427.26z"></path>
</svg>
        </md-ordered-list>
        <tool-tip for="md-ordered_list-feedback_issue_body-2" data-direction="sw" data-type="description" data-view-component="true" class="js-modifier-label-key sr-only position-absolute">Add a numbered list, &lt;Ctrl+Shift+7&gt;</tool-tip>

        <md-task-list aria-label="Task list" id="md-task_list-feedback_issue_body-2" role="button" tabindex="-1" class="toolbar-item btn-octicon p-2" data-hotkey-scope="feedback_issue_body" data-hotkey="Meta+Shift+l" data-ga-click="Markdown Toolbar, click, task list">
          <svg aria-hidden="true" height="16" viewBox="0 0 16 16" version="1.1" width="16" data-view-component="true" class="octicon octicon-tasklist">
    <path fill-rule="evenodd" d="M2.5 3.5v3h3v-3h-3zM2 2a1 1 0 00-1 1v4a1 1 0 001 1h4a1 1 0 001-1V3a1 1 0 00-1-1H2zm4.655 8.595a.75.75 0 010 1.06L4.03 14.28a.75.75 0 01-1.06 0l-1.5-1.5a.75.75 0 111.06-1.06l.97.97 2.095-2.095a.75.75 0 011.06 0zM9.75 2.5a.75.75 0 000 1.5h5.5a.75.75 0 000-1.5h-5.5zm0 5a.75.75 0 000 1.5h5.5a.75.75 0 000-1.5h-5.5zm0 5a.75.75 0 000 1.5h5.5a.75.75 0 000-1.5h-5.5z"></path>
</svg>
        </md-task-list>
        <tool-tip for="md-task_list-feedback_issue_body-2" data-direction="sw" data-type="description" data-view-component="true" class="js-modifier-label-key sr-only position-absolute">Add a task list, &lt;Ctrl+Shift+l&gt;</tool-tip>
      </div>
</markdown-toolbar>
  </div>

  <div class="comment-form-error js-comment-form-error" role="alert" hidden>
    There was an error creating your NilClass.
  </div>

  <file-attachment class="js-upload-markdown-image is-default" input="fc-feedback_issue_body" role="tabpanel" data-tab-container-no-tabstop="true" data-upload-policy-url="/upload/policies/assets"><input type="hidden" value="4AR9qSQVBrKyd4XOGYQuDzNI-6LROIGTeW6cwaRSSf0Ob0JadkqW9OtzVVMLhLKP_McjPw9vfl8ln9WW_lmsUQ" data-csrf="true" class="js-data-upload-policy-url-csrf" />
    <div class="js-write-bucket write-content tooltipped tooltipped-ne tooltipped-no-delay tooltipped-align-left-1 hide-reaction-suggestion upload-enabled mx-0 mt-2 mb-2 mx-md-2 hx_sm-hide-drag-drop js-reaction-suggestion" data-reaction-markup="Would you like to leave a reaction instead?">
        <input
          type="hidden"
          name="saved_reply_id"
          id="feedback_issue_body_saved_reply_id"
          class="js-resettable-field"
          value=""
          data-reset-value=""
        >

      <text-expander
        keys=":"
        data-emoji-url="/autocomplete/emoji"
      >
          
          <textarea name="issue[body]"
                    id="feedback_issue_body"
                    
                    placeholder="Leave a comment"
                      aria-label="Comment body"
                    
                    class="js-comment-field js-paste-markdown js-task-list-field js-quick-submit form-control input-contrast comment-form-textarea js-size-to-fit js-session-resumable js-saved-reply-shortcut-comment-field"
                    dir="auto"
                    
                    >&lt;!-- 🔍   Notice something amiss? Make GitHub ✨ . This issue will be routed to the owning team’s repo along with a set of diagnostic data gathered on your behalf. Please provide as much detail as possible -- screenshots welcome! --&gt;</textarea>

      </text-expander>
            <label class="text-normal drag-and-drop hx_drag-and-drop position-relative d-flex flex-justify-between">
    <input accept=".gif,.jpeg,.jpg,.mov,.mp4,.png,.svg,.webm,.csv,.docx,.fodg,.fodp,.fods,.fodt,.gz,.log,.md,.odf,.odg,.odp,.ods,.odt,.pdf,.pptx,.tgz,.txt,.xls,.xlsx,.zip" type="file"
      multiple
      class="manual-file-chooser manual-file-chooser-transparent top-0 right-0 bottom-0 left-0 width-full ml-0 form-control rounded-top-0"
        id="fc-feedback_issue_body"
      >
    <span class="color-bg-subtle position-absolute top-0 left-0 rounded-bottom-2 width-full height-full" style="pointer-events: none;"></span>
    <span class="position-relative pr-2" style="pointer-events: none;">
      <span class="default">
        Attach files by dragging &amp; dropping, selecting or pasting them.
      </span>
      <span class="loading">
        <svg style="box-sizing: content-box; color: var(--color-icon-primary);" width="16" height="16" viewBox="0 0 16 16" fill="none" data-view-component="true" class="v-align-text-bottom mr-1 anim-rotate">
  <circle cx="8" cy="8" r="7" stroke="currentColor" stroke-opacity="0.25" stroke-width="2" vector-effect="non-scaling-stroke" />
  <path d="M15 8a7.002 7.002 0 00-7-7" stroke="currentColor" stroke-width="2" stroke-linecap="round" vector-effect="non-scaling-stroke" />
</svg>
          <span class="js-file-upload-loading-text" data-file-upload-message="Uploading your files…">
            Uploading your files…
          </span>
      </span>
      <span class="error bad-file">
        We don’t support that file type.
        <span class="drag-and-drop-error-info">
          <span class="btn-link">Try again</span> with a
          GIF, JPEG, JPG, MOV, MP4, PNG, SVG, WEBM, CSV, DOCX, FODG, FODP, FODS, FODT, GZ, LOG, MD, ODF, ODG, ODP, ODS, ODT, PDF, PPTX, TGZ, TXT, XLS, XLSX or ZIP.
        </span>
      </span>
      <span class="error bad-permissions">
        Attaching documents requires write permission to this repository.
        <span class="drag-and-drop-error-info">
          <span class="btn-link">Try again</span> with a GIF, JPEG, JPG, MOV, MP4, PNG, SVG, WEBM, CSV, DOCX, FODG, FODP, FODS, FODT, GZ, LOG, MD, ODF, ODG, ODP, ODS, ODT, PDF, PPTX, TGZ, TXT, XLS, XLSX or ZIP.
        </span>
      </span>
      <span class="error repository-required">
        We don’t support that file type.
        <span class="drag-and-drop-error-info">
          <span class="btn-link">Try again</span> with a GIF, JPEG, JPG, MOV, MP4, PNG, SVG, WEBM, CSV, DOCX, FODG, FODP, FODS, FODT, GZ, LOG, MD, ODF, ODG, ODP, ODS, ODT, PDF, PPTX, TGZ, TXT, XLS, XLSX or ZIP.
        </span>
      </span>
      <span class="error too-big js-upload-too-big">
      </span>
      <span class="error empty">
        This file is empty.
        <span class="drag-and-drop-error-info">
          <span class="btn-link">Try again</span> with a file that’s not empty.
        </span>
      </span>
      <span class="error hidden-file">
        This file is hidden.
        <span class="drag-and-drop-error-info">
          <span class="btn-link">Try again</span> with another file.
        </span>
      </span>
      <span class="error failed-request">
        Something went really wrong, and we can’t process that file.
        <span class="drag-and-drop-error-info">
          <span class="btn-link">Try again.</span>
        </span>
      </span>
    </span>
    <a
      class="Link--muted position-relative d-inline"
      href="https://docs.github.com/github/writing-on-github/getting-started-with-writing-and-formatting-on-github/basic-writing-and-formatting-syntax"
      target="_blank"
      data-ga-click="Markdown Toolbar, click, help"
      id="dd_fc-feedback_issue_body_md_link"
      
    >
      <svg aria-hidden="true" height="16" viewBox="0 0 16 16" version="1.1" width="16" data-view-component="true" class="octicon octicon-markdown v-align-bottom">
    <path fill-rule="evenodd" d="M14.85 3H1.15C.52 3 0 3.52 0 4.15v7.69C0 12.48.52 13 1.15 13h13.69c.64 0 1.15-.52 1.15-1.15v-7.7C16 3.52 15.48 3 14.85 3zM9 11H7V8L5.5 9.92 4 8v3H2V5h2l1.5 2L7 5h2v6zm2.99.5L9.5 8H11V5h2v3h1.5l-2.51 3.5z"></path>
</svg>
    </a>
    <tool-tip for="dd_fc-feedback_issue_body_md_link" data-direction="nw" data-type="label" data-view-component="true" class="sr-only position-absolute">Styling with Markdown is supported</tool-tip>
  </label>

    </div>
</file-attachment>
  <div
    role="tabpanel"
    class="js-preview-panel overflow-auto border-bottom mx-0 my-3 mx-md-2 mb-md-2"
    hidden
  >
    <input type="hidden" name="path" value="" class="js-path">
    <input type="hidden" name="line" value="" class="js-line-number">
    <input type="hidden" name="start_line" value="" class="js-start-line-number">
    <input type="hidden" name="preview_side" value="" class="js-side">
    <input type="hidden" name="preview_start_side" value="" class="js-start-side">
    <input type="hidden" name="start_commit_oid" value="" class="js-start-commit-oid">
    <input type="hidden" name="end_commit_oid" value="" class="js-end-commit-oid">
    <input type="hidden" name="base_commit_oid" value="" class="js-base-commit-oid">
    <input type="hidden" name="comment_id" value="" class="js-comment-id">
    <div class="comment js-suggested-changes-container" data-thread-side="">
  <div class="comment-body markdown-body js-preview-body" >
    <p>Nothing to preview</p>
  </div>
</div>

  </div>


  <div class="comment-form-error mb-2 js-comment-update-error" hidden></div>
</tab-container>


                <button type="submit" data-view-component="true" class="js-feedback-submit btn-primary btn">    Submit new issue
</button>
            </div>
          </div>
          <div class="js-feedback-form-response-container">
            Thank you for reporting this. A new
            <a href='' class="js-feedback-issue-link">issue</a>
            has been created to alert the owning team.
          </div>
          <div class="js-feedback-form-error"></div>
</div>
  
</div></form>  </details-dialog>
</details>

      </div>

      <!-- '"` --><!-- </textarea></xmp> --></option></form><form class="switcher d-inline" data-turbo="false" action="/site/toggle_labs" accept-charset="UTF-8" method="post"><input type="hidden" name="authenticity_token" value="VYldojHn3dDFsJi-OEY9QxCZUO6gpXGMd8xotWfOZj6uTFY1TjrTbwvoxTcTxNXze6WhC78X-niveNMn9JIx3Q" />
        Switch  to
          <button type="submit" data-view-component="true" class="btn-link">    GitHub:lab
</button></form>
      <p class="m-0 d-inline-block rails-version">Rails 7.1.0.alpha.3258979977</p>
      <p class="m-0 d-inline-block rails-version">| Ruby 3.1.2</p>

    <ul class="stats js-more-stats" style="display:none;"></ul>
  </div>
</div><!-- /#serverstats -->



        <script crossorigin="anonymous" defer="defer" type="application/javascript" src="https://github.githubassets.com/assets/vendors-node_modules_github_mini-throttle_dist_decorators_js-node_modules_github_command-pale-51fe14-9a1b633e9244.js"></script>
<script crossorigin="anonymous" defer="defer" type="application/javascript" src="https://github.githubassets.com/assets/vendors-node_modules_github_clipboard-copy-element_dist_index_esm_js-node_modules_delegated-e-976da2-d3200ec5c9cc.js"></script>
<script crossorigin="anonymous" defer="defer" type="application/javascript" src="https://github.githubassets.com/assets/app_assets_modules_github_command-palette_items_help-item_ts-app_assets_modules_github_comman-48ad9d-86a2ffba7bd6.js"></script>
<script crossorigin="anonymous" defer="defer" type="application/javascript" src="https://github.githubassets.com/assets/command-palette-245055aadfef.js"></script>

            <div class="AppHeader">
    <div class="AppHeader-globalBar pb-2 js-global-bar">
      <div class="AppHeader-globalBar-start">
            <button aria-label="Global navigation" id="dialog-show-dialog-fiuc" data-show-dialog-id="dialog-fiuc" data-show-dialog-id="dialog-fiuc" type="button" data-view-component="true" class="AppHeader-logo btn-invisible btn color-bg-transparent p-0">    <svg aria-hidden="true" height="24" viewBox="0 0 16 16" version="1.1" width="24" data-view-component="true" class="octicon octicon-mark-github color-fg-default">
    <path fill-rule="evenodd" d="M8 0C3.58 0 0 3.58 0 8c0 3.54 2.29 6.53 5.47 7.59.4.07.55-.17.55-.38 0-.19-.01-.82-.01-1.49-2.01.37-2.53-.49-2.69-.94-.09-.23-.48-.94-.82-1.13-.28-.15-.68-.52-.01-.53.63-.01 1.08.58 1.23.82.72 1.21 1.87.87 2.33.66.07-.52.28-.87.51-1.07-1.78-.2-3.64-.89-3.64-3.95 0-.87.31-1.59.82-2.15-.08-.2-.36-1.02.08-2.12 0 0 .67-.21 2.2.82.64-.18 1.32-.27 2-.27.68 0 1.36.09 2 .27 1.53-1.04 2.2-.82 2.2-.82.44 1.1.16 1.92.08 2.12.51.56.82 1.27.82 2.15 0 3.07-1.87 3.75-3.65 3.95.29.25.54.73.54 1.48 0 1.07-.01 1.93-.01 2.2 0 .21.15.46.55.38A8.013 8.013 0 0016 8c0-4.42-3.58-8-8-8z"></path>
</svg>
</button>
<div class="Overlay--hidden Overlay-backdrop--side Overlay-backdrop--placement-left" data-modal-dialog-overlay>
  <modal-dialog role="dialog" id="dialog-fiuc" aria-modal="true" aria-describedby="dialog-fiuc-description" data-view-component="true" class="Overlay Overlay-whenNarrow Overlay--size-small-portrait Overlay--motion-scaleFade SidePanel">
    <div styles="flex-direction: row;" data-view-component="true" class="Overlay-header">
  <div class="Overlay-headerContentWrap">
    <div class="Overlay-titleWrap">
      <h1 class="Overlay-title sr-only">Global navigation</h1>
            <div data-view-component="true" class="d-flex">
      <div data-view-component="true" class="AppHeader-logo">
        <svg aria-hidden="true" height="24" viewBox="0 0 16 16" version="1.1" width="24" data-view-component="true" class="octicon octicon-mark-github color-fg-default">
    <path fill-rule="evenodd" d="M8 0C3.58 0 0 3.58 0 8c0 3.54 2.29 6.53 5.47 7.59.4.07.55-.17.55-.38 0-.19-.01-.82-.01-1.49-2.01.37-2.53-.49-2.69-.94-.09-.23-.48-.94-.82-1.13-.28-.15-.68-.52-.01-.53.63-.01 1.08.58 1.23.82.72 1.21 1.87.87 2.33.66.07-.52.28-.87.51-1.07-1.78-.2-3.64-.89-3.64-3.95 0-.87.31-1.59.82-2.15-.08-.2-.36-1.02.08-2.12 0 0 .67-.21 2.2.82.64-.18 1.32-.27 2-.27.68 0 1.36.09 2 .27 1.53-1.04 2.2-.82 2.2-.82.44 1.1.16 1.92.08 2.12.51.56.82 1.27.82 2.15 0 3.07-1.87 3.75-3.65 3.95.29.25.54.73.54 1.48 0 1.07-.01 1.93-.01 2.2 0 .21.15.46.55.38A8.013 8.013 0 0016 8c0-4.42-3.58-8-8-8z"></path>
</svg>
</div></div>
    </div>
    <div class="Overlay-actionWrap">
      <button data-close-dialog-id="dialog-fiuc" aria-label="Close" type="button" data-view-component="true" class="close-button Overlay-closeButton"><svg aria-hidden="true" height="16" viewBox="0 0 16 16" version="1.1" width="16" data-view-component="true" class="octicon octicon-x">
    <path fill-rule="evenodd" d="M3.72 3.72a.75.75 0 011.06 0L8 6.94l3.22-3.22a.75.75 0 111.06 1.06L9.06 8l3.22 3.22a.75.75 0 11-1.06 1.06L8 9.06l-3.22 3.22a.75.75 0 01-1.06-1.06L6.94 8 3.72 4.78a.75.75 0 010-1.06z"></path>
</svg></button>
    </div>
  </div>
</div>
      <div data-view-component="true" class="Overlay-body d-flex flex-column height-full px-2">      <action-list data-is-navigation-list="true" aria-label="Site navigation" data-view-component="true" class="height-full">
  <nav aria-label="Site navigation" data-view-component="true" class="NavigationList">
    <ul role="list" data-view-component="true" class="ActionList">
        <li item_id="general" data-item-id="" data-view-component="true" class="ActionList-item">
  <a href="/dashboard" data-view-component="true" class="ActionList-content ActionList-content--visual16">
      <span class="ActionList-item-visual ActionList-item-visual--leading">
        <svg aria-hidden="true" height="16" viewBox="0 0 16 16" version="1.1" width="16" data-view-component="true" class="octicon octicon-home">
    <path fill-rule="evenodd" d="M8.156 1.835a.25.25 0 00-.312 0l-5.25 4.2a.25.25 0 00-.094.196v7.019c0 .138.112.25.25.25H5.5V8.25a.75.75 0 01.75-.75h3.5a.75.75 0 01.75.75v5.25h2.75a.25.25 0 00.25-.25V6.23a.25.25 0 00-.094-.195l-5.25-4.2zM6.906.664a1.75 1.75 0 012.187 0l5.25 4.2c.415.332.657.835.657 1.367v7.019A1.75 1.75 0 0113.25 15h-3.5a.75.75 0 01-.75-.75V9H7v5.25a.75.75 0 01-.75.75h-3.5A1.75 1.75 0 011 13.25V6.23c0-.531.242-1.034.657-1.366l5.25-4.2h-.001z"></path>
</svg>
      </span>
    <span class="ActionList-item-label ">
            Home

    </span>
</a></li>
        <li item_id="general" data-item-id="" data-view-component="true" class="ActionList-item">
  <a href="/explore" data-view-component="true" class="ActionList-content ActionList-content--visual16">
      <span class="ActionList-item-visual ActionList-item-visual--leading">
        <svg aria-hidden="true" height="16" viewBox="0 0 16 16" version="1.1" width="16" data-view-component="true" class="octicon octicon-telescope">
    <path fill-rule="evenodd" d="M14.184 1.143a1.75 1.75 0 00-2.502-.57L.912 7.916a1.75 1.75 0 00-.53 2.32l.447.775a1.75 1.75 0 002.275.702l11.745-5.656a1.75 1.75 0 00.757-2.451l-1.422-2.464zm-1.657.669a.25.25 0 01.358.081l1.422 2.464a.25.25 0 01-.108.35l-2.016.97-1.505-2.605 1.85-1.26zM9.436 3.92l1.391 2.41-5.42 2.61-.942-1.63 4.97-3.39zM3.222 8.157l-1.466 1a.25.25 0 00-.075.33l.447.775a.25.25 0 00.325.1l1.598-.769-.83-1.436zm6.253 2.306a.75.75 0 00-.944-.252l-1.809.87a.75.75 0 00-.293.253L4.38 14.326a.75.75 0 101.238.848l1.881-2.75v2.826a.75.75 0 001.5 0v-2.826l1.881 2.75a.75.75 0 001.238-.848l-2.644-3.863z"></path>
</svg>
      </span>
    <span class="ActionList-item-label ">
            Explore

    </span>
</a></li>
        <li item_id="general" data-item-id="" data-view-component="true" class="ActionList-item">
  <a href="/marketplace" data-view-component="true" class="ActionList-content ActionList-content--visual16">
      <span class="ActionList-item-visual ActionList-item-visual--leading">
        <svg aria-hidden="true" height="16" viewBox="0 0 16 16" version="1.1" width="16" data-view-component="true" class="octicon octicon-gift">
    <path fill-rule="evenodd" d="M4.75 1.5a1.25 1.25 0 100 2.5h2.309c-.233-.818-.542-1.401-.878-1.793-.43-.502-.915-.707-1.431-.707zM2 2.75c0 .45.108.875.3 1.25h-.55A1.75 1.75 0 000 5.75v2c0 .698.409 1.3 1 1.582v4.918c0 .966.784 1.75 1.75 1.75h10.5A1.75 1.75 0 0015 14.25V9.332c.591-.281 1-.884 1-1.582v-2A1.75 1.75 0 0014.25 4h-.55a2.75 2.75 0 00-2.45-4c-.984 0-1.874.42-2.57 1.23A5.086 5.086 0 008 2.274a5.086 5.086 0 00-.68-1.042C6.623.42 5.733 0 4.75 0A2.75 2.75 0 002 2.75zM8.941 4h2.309a1.25 1.25 0 100-2.5c-.516 0-1 .205-1.43.707-.337.392-.646.975-.879 1.793zm-1.84 1.5H1.75a.25.25 0 00-.25.25v2c0 .138.112.25.25.25h5.5V5.5h-.149zm1.649 0V8h5.5a.25.25 0 00.25-.25v-2a.25.25 0 00-.25-.25h-5.5zm0 4h4.75v4.75a.25.25 0 01-.25.25h-4.5v-5zm-1.5 0v5h-4.5a.25.25 0 01-.25-.25V9.5h4.75z"></path>
</svg>
      </span>
    <span class="ActionList-item-label ">
              Marketplace

    </span>
</a></li>
        <li role="separator" aria-hidden="true" data-view-component="true" class="ActionList-sectionDivider"></li>
          <li data-view-component="true" class="ActionList-sectionDivider">
  <h3 id="nav-list-section-1a61d517-e2f3-4996-ad45-ff8619a55df5" data-view-component="true" class="ActionList-sectionDivider-title">
            Dashboards

</h3></li>
<li data-view-component="true" class="ActionList-item ActionList-item--hasSubItem">
  
    <ul aria-labelledby="nav-list-section-1a61d517-e2f3-4996-ad45-ff8619a55df5" data-view-component="true" class="ActionList ActionList--subGroup">
        <li item_id="personal_info" data-item-id="" data-view-component="true" class="ActionList-item">
  <a href="/issues" data-view-component="true" class="ActionList-content ActionList-content--visual16">
      <span class="ActionList-item-visual ActionList-item-visual--leading">
        <svg aria-hidden="true" height="16" viewBox="0 0 16 16" version="1.1" width="16" data-view-component="true" class="octicon octicon-issue-opened">
    <path d="M8 9.5a1.5 1.5 0 100-3 1.5 1.5 0 000 3z"></path><path fill-rule="evenodd" d="M8 0a8 8 0 100 16A8 8 0 008 0zM1.5 8a6.5 6.5 0 1113 0 6.5 6.5 0 01-13 0z"></path>
</svg>
      </span>
    <span class="ActionList-item-label ">
              Issues

    </span>
</a></li>
        <li item_id="password" data-item-id="" data-view-component="true" class="ActionList-item">
  <a href="/pulls" data-view-component="true" class="ActionList-content ActionList-content--visual16">
      <span class="ActionList-item-visual ActionList-item-visual--leading">
        <svg aria-hidden="true" height="16" viewBox="0 0 16 16" version="1.1" width="16" data-view-component="true" class="octicon octicon-git-pull-request">
    <path fill-rule="evenodd" d="M7.177 3.073L9.573.677A.25.25 0 0110 .854v4.792a.25.25 0 01-.427.177L7.177 3.427a.25.25 0 010-.354zM3.75 2.5a.75.75 0 100 1.5.75.75 0 000-1.5zm-2.25.75a2.25 2.25 0 113 2.122v5.256a2.251 2.251 0 11-1.5 0V5.372A2.25 2.25 0 011.5 3.25zM11 2.5h-1V4h1a1 1 0 011 1v5.628a2.251 2.251 0 101.5 0V5A2.5 2.5 0 0011 2.5zm1 10.25a.75.75 0 111.5 0 .75.75 0 01-1.5 0zM3.75 12a.75.75 0 100 1.5.75.75 0 000-1.5z"></path>
</svg>
      </span>
    <span class="ActionList-item-label ">
              Pull requests

    </span>
</a></li>
        <li item_id="billing" data-item-id="" data-view-component="true" class="ActionList-item">
  <a href="/discussions" data-view-component="true" class="ActionList-content ActionList-content--visual16">
      <span class="ActionList-item-visual ActionList-item-visual--leading">
        <svg aria-hidden="true" height="16" viewBox="0 0 16 16" version="1.1" width="16" data-view-component="true" class="octicon octicon-comment-discussion">
    <path fill-rule="evenodd" d="M1.5 2.75a.25.25 0 01.25-.25h8.5a.25.25 0 01.25.25v5.5a.25.25 0 01-.25.25h-3.5a.75.75 0 00-.53.22L3.5 11.44V9.25a.75.75 0 00-.75-.75h-1a.25.25 0 01-.25-.25v-5.5zM1.75 1A1.75 1.75 0 000 2.75v5.5C0 9.216.784 10 1.75 10H2v1.543a1.457 1.457 0 002.487 1.03L7.061 10h3.189A1.75 1.75 0 0012 8.25v-5.5A1.75 1.75 0 0010.25 1h-8.5zM14.5 4.75a.25.25 0 00-.25-.25h-.5a.75.75 0 110-1.5h.5c.966 0 1.75.784 1.75 1.75v5.5A1.75 1.75 0 0114.25 12H14v1.543a1.457 1.457 0 01-2.487 1.03L9.22 12.28a.75.75 0 111.06-1.06l2.22 2.22v-2.19a.75.75 0 01.75-.75h1a.25.25 0 00.25-.25v-5.5z"></path>
</svg>
      </span>
    <span class="ActionList-item-label ">
                Discussions

    </span>
</a></li>
</ul></li>

</ul></nav></action-list>
      <action-list data-is-navigation-list="true" aria-label="GitHub documentation" data-view-component="true">
  <nav aria-label="GitHub documentation" data-view-component="true" class="NavigationList">
    <ul role="list" data-view-component="true" class="ActionList">
        <li item_id="general" data-item-id="" data-view-component="true" class="ActionList-item">
  <a href="/about" data-view-component="true" class="ActionList-content ActionList-content--visual16">
      <span class="ActionList-item-visual ActionList-item-visual--leading">
        <svg aria-hidden="true" height="16" viewBox="0 0 16 16" version="1.1" width="16" data-view-component="true" class="octicon octicon-mark-github">
    <path fill-rule="evenodd" d="M8 0C3.58 0 0 3.58 0 8c0 3.54 2.29 6.53 5.47 7.59.4.07.55-.17.55-.38 0-.19-.01-.82-.01-1.49-2.01.37-2.53-.49-2.69-.94-.09-.23-.48-.94-.82-1.13-.28-.15-.68-.52-.01-.53.63-.01 1.08.58 1.23.82.72 1.21 1.87.87 2.33.66.07-.52.28-.87.51-1.07-1.78-.2-3.64-.89-3.64-3.95 0-.87.31-1.59.82-2.15-.08-.2-.36-1.02.08-2.12 0 0 .67-.21 2.2.82.64-.18 1.32-.27 2-.27.68 0 1.36.09 2 .27 1.53-1.04 2.2-.82 2.2-.82.44 1.1.16 1.92.08 2.12.51.56.82 1.27.82 2.15 0 3.07-1.87 3.75-3.65 3.95.29.25.54.73.54 1.48 0 1.07-.01 1.93-.01 2.2 0 .21.15.46.55.38A8.013 8.013 0 0016 8c0-4.42-3.58-8-8-8z"></path>
</svg>
      </span>
    <span class="ActionList-item-label ">
            About GitHub

    </span>
</a></li>
        <li item_id="general" data-item-id="" data-view-component="true" class="ActionList-item">
  <a href="https://docs.github.com" data-view-component="true" class="ActionList-content ActionList-content--visual16">
      <span class="ActionList-item-visual ActionList-item-visual--leading">
        <svg aria-hidden="true" height="16" viewBox="0 0 16 16" version="1.1" width="16" data-view-component="true" class="octicon octicon-book">
    <path fill-rule="evenodd" d="M0 1.75A.75.75 0 01.75 1h4.253c1.227 0 2.317.59 3 1.501A3.744 3.744 0 0111.006 1h4.245a.75.75 0 01.75.75v10.5a.75.75 0 01-.75.75h-4.507a2.25 2.25 0 00-1.591.659l-.622.621a.75.75 0 01-1.06 0l-.622-.621A2.25 2.25 0 005.258 13H.75a.75.75 0 01-.75-.75V1.75zm8.755 3a2.25 2.25 0 012.25-2.25H14.5v9h-3.757c-.71 0-1.4.201-1.992.572l.004-7.322zm-1.504 7.324l.004-5.073-.002-2.253A2.25 2.25 0 005.003 2.5H1.5v9h3.757a3.75 3.75 0 011.994.574z"></path>
</svg>
      </span>
    <span class="ActionList-item-label ">
            Documentation

    </span>
</a></li>
        <li item_id="general" data-item-id="" data-view-component="true" class="ActionList-item">
  <a href="https://github.blog" data-view-component="true" class="ActionList-content ActionList-content--visual16">
      <span class="ActionList-item-visual ActionList-item-visual--leading">
        <svg aria-hidden="true" height="16" viewBox="0 0 16 16" version="1.1" width="16" data-view-component="true" class="octicon octicon-rss">
    <path fill-rule="evenodd" d="M2.002 2.725a.75.75 0 01.797-.699C8.79 2.42 13.58 7.21 13.974 13.201a.75.75 0 11-1.497.098 10.502 10.502 0 00-9.776-9.776.75.75 0 01-.7-.798zM2 13a1 1 0 112 0 1 1 0 01-2 0zm.84-5.95a.75.75 0 00-.179 1.489c2.509.3 4.5 2.291 4.8 4.8a.75.75 0 101.49-.178A7.003 7.003 0 002.838 7.05z"></path>
</svg>
      </span>
    <span class="ActionList-item-label ">
            Blog

    </span>
</a></li>
</ul></nav></action-list>
    <div data-view-component="true" class="mt-auto">    <p class="px-3 color-fg-subtle text-small text-light">&copy; 2022 GitHub, Inc.</p>
    <footer data-view-component="true" class="d-flex px-3 pb-2 text-small text-light">
      <a target="_blank" href="https://docs.github.com/en/github/site-policy/github-terms-of-service" data-view-component="true" class="no-underline mr-3">Terms</a>
      <a target="_blank" href="https://docs.github.com/site-policy/privacy-policies/github-privacy-statement" data-view-component="true" class="no-underline mr-3">Privacy</a>
      <a target="_blank" href="https://docs.github.com/articles/github-security/" data-view-component="true" class="no-underline mr-3">Security</a>
      <a target="_blank" href="https://www.githubstatus.com/" data-view-component="true" class="no-underline mr-3">Status</a>
</footer></div>
</div>
      
</modal-dialog></div>

          <div class="AppHeader-context" >
  <div class="AppHeader-context-compact">
        <button aria-expanded="false" aria-haspopup="dialog" aria-label="Page context: github / renderables" id="dialog-show-context-region-dialog" data-show-dialog-id="context-region-dialog" data-show-dialog-id="context-region-dialog" type="button" data-view-component="true" class="AppHeader-context-compact-trigger btn box-shadow-none">    <span class="AppHeader-context-compact-lead">
                <span class="AppHeader-context-compact-parentItem">github</span>
                <span class="AppHeader-context-compact-separator">&nbsp;/</span>

            </span>

            <strong class="AppHeader-context-compact-mainItem d-flex flex-items-center" >
  <span class="">renderables</span>

    <svg aria-hidden="true" height="12" viewBox="0 0 16 16" version="1.1" width="12" data-view-component="true" class="octicon octicon-lock ml-1">
    <path fill-rule="evenodd" d="M4 4v2h-.25A1.75 1.75 0 002 7.75v5.5c0 .966.784 1.75 1.75 1.75h8.5A1.75 1.75 0 0014 13.25v-5.5A1.75 1.75 0 0012.25 6H12V4a4 4 0 10-8 0zm6.5 2V4a2.5 2.5 0 00-5 0v2h5zM12 7.5h.25a.25.25 0 01.25.25v5.5a.25.25 0 01-.25.25h-8.5a.25.25 0 01-.25-.25v-5.5a.25.25 0 01.25-.25H12z"></path>
</svg>
</strong>
</button>
<div class="Overlay--hidden Overlay-backdrop--center" data-modal-dialog-overlay>
  <modal-dialog role="dialog" id="context-region-dialog" aria-modal="true" aria-describedby="context-region-dialog-description" data-view-component="true" class="Overlay Overlay-whenNarrow Overlay--size-medium Overlay--motion-scaleFade">
    <div data-view-component="true" class="Overlay-header">
  <div class="Overlay-headerContentWrap">
    <div class="Overlay-titleWrap">
      <h1 class="Overlay-title ">Navigate back to</h1>
    </div>
    <div class="Overlay-actionWrap">
      <button data-close-dialog-id="context-region-dialog" aria-label="Close" type="button" data-view-component="true" class="close-button Overlay-closeButton"><svg aria-hidden="true" height="16" viewBox="0 0 16 16" version="1.1" width="16" data-view-component="true" class="octicon octicon-x">
    <path fill-rule="evenodd" d="M3.72 3.72a.75.75 0 011.06 0L8 6.94l3.22-3.22a.75.75 0 111.06 1.06L9.06 8l3.22 3.22a.75.75 0 11-1.06 1.06L8 9.06l-3.22 3.22a.75.75 0 01-1.06-1.06L6.94 8 3.72 4.78a.75.75 0 010-1.06z"></path>
</svg></button>
    </div>
  </div>
</div>
      <div data-view-component="true" class="Overlay-body">          <ul role="list" class="list-style-none" >
    <li>
      <a
        class="d-flex flex-items-center Link--primary py-1"
        href="/github"
        
        
        data-analytics-event="{&quot;category&quot;:&quot;SiteHeaderComponent&quot;,&quot;action&quot;:&quot;context_region_dialog&quot;,&quot;label&quot;:&quot;github&quot;}"
      >
        <span class="AppHeader-context-item-label ">
          github
        </span>

      </a>

    </li>
    <li>
      <a
        class="d-flex flex-items-center Link--primary py-1"
        href="/github/renderables"
        
        
        data-analytics-event="{&quot;category&quot;:&quot;SiteHeaderComponent&quot;,&quot;action&quot;:&quot;context_region_dialog&quot;,&quot;label&quot;:&quot;renderables&quot;}"
      >
        <span class="AppHeader-context-item-label ">
          renderables
        </span>

          <svg aria-hidden="true" height="12" viewBox="0 0 16 16" version="1.1" width="12" data-view-component="true" class="octicon octicon-lock ml-1">
    <path fill-rule="evenodd" d="M4 4v2h-.25A1.75 1.75 0 002 7.75v5.5c0 .966.784 1.75 1.75 1.75h8.5A1.75 1.75 0 0014 13.25v-5.5A1.75 1.75 0 0012.25 6H12V4a4 4 0 10-8 0zm6.5 2V4a2.5 2.5 0 00-5 0v2h5zM12 7.5h.25a.25.25 0 01.25.25v5.5a.25.25 0 01-.25.25h-8.5a.25.25 0 01-.25-.25v-5.5a.25.25 0 01.25-.25H12z"></path>
</svg>
      </a>

    </li>
</ul>

</div>
      
</modal-dialog></div>
  </div>

  <div class="AppHeader-context-full">
    <nav role="navigation" aria-label="Page context">
      <ul role="list" class="list-style-none" >
    <li>
      <a
        class="AppHeader-context-item"
        href="/github"
        
        
        data-analytics-event="{&quot;category&quot;:&quot;SiteHeaderComponent&quot;,&quot;action&quot;:&quot;context_region_dialog&quot;,&quot;label&quot;:&quot;github&quot;}"
      >
        <span class="AppHeader-context-item-label ">
          github
        </span>

      </a>

        <span class="AppHeader-context-item-separator">/</span>
    </li>
    <li>
      <a
        class="AppHeader-context-item"
        href="/github/renderables"
        
        
        data-analytics-event="{&quot;category&quot;:&quot;SiteHeaderComponent&quot;,&quot;action&quot;:&quot;context_region_dialog&quot;,&quot;label&quot;:&quot;renderables&quot;}"
      >
        <span class="AppHeader-context-item-label ">
          renderables
        </span>

          <svg aria-hidden="true" height="12" viewBox="0 0 16 16" version="1.1" width="12" data-view-component="true" class="octicon octicon-lock ml-1">
    <path fill-rule="evenodd" d="M4 4v2h-.25A1.75 1.75 0 002 7.75v5.5c0 .966.784 1.75 1.75 1.75h8.5A1.75 1.75 0 0014 13.25v-5.5A1.75 1.75 0 0012.25 6H12V4a4 4 0 10-8 0zm6.5 2V4a2.5 2.5 0 00-5 0v2h5zM12 7.5h.25a.25.25 0 01.25.25v5.5a.25.25 0 01-.25.25h-8.5a.25.25 0 01-.25-.25v-5.5a.25.25 0 01.25-.25H12z"></path>
</svg>
      </a>

    </li>
</ul>

    </nav>
  </div>
</div>

      </div>
      <div class="AppHeader-globalBar-end">
          <div class="AppHeader-search" >
              

<template id="search-icon">
  <svg aria-hidden="true" height="16" viewBox="0 0 16 16" version="1.1" width="16" data-view-component="true" class="octicon octicon-search">
    <path fill-rule="evenodd" d="M11.5 7a4.499 4.499 0 11-8.998 0A4.499 4.499 0 0111.5 7zm-.82 4.74a6 6 0 111.06-1.06l3.04 3.04a.75.75 0 11-1.06 1.06l-3.04-3.04z"></path>
</svg>
</template>

<template id="code-icon">
  <svg aria-hidden="true" height="16" viewBox="0 0 16 16" version="1.1" width="16" data-view-component="true" class="octicon octicon-code">
    <path fill-rule="evenodd" d="M4.72 3.22a.75.75 0 011.06 1.06L2.06 8l3.72 3.72a.75.75 0 11-1.06 1.06L.47 8.53a.75.75 0 010-1.06l4.25-4.25zm6.56 0a.75.75 0 10-1.06 1.06L13.94 8l-3.72 3.72a.75.75 0 101.06 1.06l4.25-4.25a.75.75 0 000-1.06l-4.25-4.25z"></path>
</svg>
</template>

<template id="file-code-icon">
  <svg aria-hidden="true" height="16" viewBox="0 0 16 16" version="1.1" width="16" data-view-component="true" class="octicon octicon-file-code">
    <path fill-rule="evenodd" d="M4 1.75C4 .784 4.784 0 5.75 0h5.586c.464 0 .909.184 1.237.513l2.914 2.914c.329.328.513.773.513 1.237v8.586A1.75 1.75 0 0114.25 15h-9a.75.75 0 010-1.5h9a.25.25 0 00.25-.25V6h-2.75A1.75 1.75 0 0110 4.25V1.5H5.75a.25.25 0 00-.25.25v2.5a.75.75 0 01-1.5 0v-2.5zm7.5-.188V4.25c0 .138.112.25.25.25h2.688a.252.252 0 00-.011-.013l-2.914-2.914a.272.272 0 00-.013-.011zM5.72 6.72a.75.75 0 000 1.06l1.47 1.47-1.47 1.47a.75.75 0 101.06 1.06l2-2a.75.75 0 000-1.06l-2-2a.75.75 0 00-1.06 0zM3.28 7.78a.75.75 0 00-1.06-1.06l-2 2a.75.75 0 000 1.06l2 2a.75.75 0 001.06-1.06L1.81 9.25l1.47-1.47z"></path>
</svg>
</template>

<template id="history-icon">
  <svg aria-hidden="true" height="16" viewBox="0 0 16 16" version="1.1" width="16" data-view-component="true" class="octicon octicon-history">
    <path fill-rule="evenodd" d="M1.643 3.143L.427 1.927A.25.25 0 000 2.104V5.75c0 .138.112.25.25.25h3.646a.25.25 0 00.177-.427L2.715 4.215a6.5 6.5 0 11-1.18 4.458.75.75 0 10-1.493.154 8.001 8.001 0 101.6-5.684zM7.75 4a.75.75 0 01.75.75v2.992l2.028.812a.75.75 0 01-.557 1.392l-2.5-1A.75.75 0 017 8.25v-3.5A.75.75 0 017.75 4z"></path>
</svg>
</template>

<template id="repo-icon">
  <svg aria-hidden="true" height="16" viewBox="0 0 16 16" version="1.1" width="16" data-view-component="true" class="octicon octicon-repo">
    <path fill-rule="evenodd" d="M2 2.5A2.5 2.5 0 014.5 0h8.75a.75.75 0 01.75.75v12.5a.75.75 0 01-.75.75h-2.5a.75.75 0 110-1.5h1.75v-2h-8a1 1 0 00-.714 1.7.75.75 0 01-1.072 1.05A2.495 2.495 0 012 11.5v-9zm10.5-1V9h-8c-.356 0-.694.074-1 .208V2.5a1 1 0 011-1h8zM5 12.25v3.25a.25.25 0 00.4.2l1.45-1.087a.25.25 0 01.3 0L8.6 15.7a.25.25 0 00.4-.2v-3.25a.25.25 0 00-.25-.25h-3.5a.25.25 0 00-.25.25z"></path>
</svg>
</template>

<template id="bookmark-icon">
  <svg aria-hidden="true" height="16" viewBox="0 0 16 16" version="1.1" width="16" data-view-component="true" class="octicon octicon-bookmark">
    <path fill-rule="evenodd" d="M4.75 2.5a.25.25 0 00-.25.25v9.91l3.023-2.489a.75.75 0 01.954 0l3.023 2.49V2.75a.25.25 0 00-.25-.25h-6.5zM3 2.75C3 1.784 3.784 1 4.75 1h6.5c.966 0 1.75.784 1.75 1.75v11.5a.75.75 0 01-1.227.579L8 11.722l-3.773 3.107A.75.75 0 013 14.25V2.75z"></path>
</svg>
</template>

<template id="plus-circle-icon">
  <svg aria-hidden="true" height="16" viewBox="0 0 16 16" version="1.1" width="16" data-view-component="true" class="octicon octicon-plus-circle">
    <path fill-rule="evenodd" d="M1.5 8a6.5 6.5 0 1113 0 6.5 6.5 0 01-13 0zM8 0a8 8 0 100 16A8 8 0 008 0zm.75 4.75a.75.75 0 00-1.5 0v2.5h-2.5a.75.75 0 000 1.5h2.5v2.5a.75.75 0 001.5 0v-2.5h2.5a.75.75 0 000-1.5h-2.5v-2.5z"></path>
</svg>
</template>

<template id="circle-icon">
  <svg aria-hidden="true" height="16" viewBox="0 0 16 16" version="1.1" width="16" data-view-component="true" class="octicon octicon-dot-fill">
    <path fill-rule="evenodd" d="M8 4a4 4 0 100 8 4 4 0 000-8z"></path>
</svg>
</template>

<template id="trash-icon">
  <svg aria-hidden="true" height="16" viewBox="0 0 16 16" version="1.1" width="16" data-view-component="true" class="octicon octicon-trash">
    <path fill-rule="evenodd" d="M6.5 1.75a.25.25 0 01.25-.25h2.5a.25.25 0 01.25.25V3h-3V1.75zm4.5 0V3h2.25a.75.75 0 010 1.5H2.75a.75.75 0 010-1.5H5V1.75C5 .784 5.784 0 6.75 0h2.5C10.216 0 11 .784 11 1.75zM4.496 6.675a.75.75 0 10-1.492.15l.66 6.6A1.75 1.75 0 005.405 15h5.19c.9 0 1.652-.681 1.741-1.576l.66-6.6a.75.75 0 00-1.492-.149l-.66 6.6a.25.25 0 01-.249.225h-5.19a.25.25 0 01-.249-.225l-.66-6.6z"></path>
</svg>
</template>

<template id="team-icon">
  <svg aria-hidden="true" height="16" viewBox="0 0 16 16" version="1.1" width="16" data-view-component="true" class="octicon octicon-people">
    <path fill-rule="evenodd" d="M5.5 3.5a2 2 0 100 4 2 2 0 000-4zM2 5.5a3.5 3.5 0 115.898 2.549 5.507 5.507 0 013.034 4.084.75.75 0 11-1.482.235 4.001 4.001 0 00-7.9 0 .75.75 0 01-1.482-.236A5.507 5.507 0 013.102 8.05 3.49 3.49 0 012 5.5zM11 4a.75.75 0 100 1.5 1.5 1.5 0 01.666 2.844.75.75 0 00-.416.672v.352a.75.75 0 00.574.73c1.2.289 2.162 1.2 2.522 2.372a.75.75 0 101.434-.44 5.01 5.01 0 00-2.56-3.012A3 3 0 0011 4z"></path>
</svg>
</template>

<template id="project-icon">
  <svg aria-hidden="true" height="16" viewBox="0 0 16 16" version="1.1" width="16" data-view-component="true" class="octicon octicon-project">
    <path fill-rule="evenodd" d="M1.75 0A1.75 1.75 0 000 1.75v12.5C0 15.216.784 16 1.75 16h12.5A1.75 1.75 0 0016 14.25V1.75A1.75 1.75 0 0014.25 0H1.75zM1.5 1.75a.25.25 0 01.25-.25h12.5a.25.25 0 01.25.25v12.5a.25.25 0 01-.25.25H1.75a.25.25 0 01-.25-.25V1.75zM11.75 3a.75.75 0 00-.75.75v7.5a.75.75 0 001.5 0v-7.5a.75.75 0 00-.75-.75zm-8.25.75a.75.75 0 011.5 0v5.5a.75.75 0 01-1.5 0v-5.5zM8 3a.75.75 0 00-.75.75v3.5a.75.75 0 001.5 0v-3.5A.75.75 0 008 3z"></path>
</svg>
</template>

<template id="pencil-icon">
  <svg aria-hidden="true" height="16" viewBox="0 0 16 16" version="1.1" width="16" data-view-component="true" class="octicon octicon-pencil">
    <path fill-rule="evenodd" d="M11.013 1.427a1.75 1.75 0 012.474 0l1.086 1.086a1.75 1.75 0 010 2.474l-8.61 8.61c-.21.21-.47.364-.756.445l-3.251.93a.75.75 0 01-.927-.928l.929-3.25a1.75 1.75 0 01.445-.758l8.61-8.61zm1.414 1.06a.25.25 0 00-.354 0L10.811 3.75l1.439 1.44 1.263-1.263a.25.25 0 000-.354l-1.086-1.086zM11.189 6.25L9.75 4.81l-6.286 6.287a.25.25 0 00-.064.108l-.558 1.953 1.953-.558a.249.249 0 00.108-.064l6.286-6.286z"></path>
</svg>
</template>

<search-input
  class="search-input"
  data-scope="repo:github/renderables"
  data-custom-scopes-path="/search/custom_scopes"
  data-delete-custom-scopes-csrf="nMmmM4jOYlMz4A79ShMTUR-GZZuFWzplWS7nq3PeIN2vyq9jKmZoQUsXQequxN7Oet89-res7LuF3vQlae6Nug"
  data-max-custom-scopes="10"
    data-header-redesign-enabled
>
  <div
    class="search-input-container search-with-dialog position-relative d-flex flex-row flex-items-center height-auto color-bg-transparent border-0 color-fg-subtle mx-0"
    data-action="click:search-input#searchInputContainerClicked"
  >
      
            <button type="button" data-action="click:search-input#handleExpand" class="AppHeader-button AppHeader-search-whenNarrow" aria-label="Search or jump to…" aria-expanded="false" aria-haspopup="dialog">
            <svg aria-hidden="true" height="16" viewBox="0 0 16 16" version="1.1" width="16" data-view-component="true" class="octicon octicon-search">
    <path fill-rule="evenodd" d="M11.5 7a4.499 4.499 0 11-8.998 0A4.499 4.499 0 0111.5 7zm-.82 4.74a6 6 0 111.06-1.06l3.04 3.04a.75.75 0 11-1.06 1.06l-3.04-3.04z"></path>
</svg>
          </button>


<div class="AppHeader-search-whenRegular">
  <div class="AppHeader-search-wrap AppHeader-search-wrap--hasTrailing">
    <div class="AppHeader-search-control">
      <label
        for="AppHeader-searchInput"
        aria-label="search or jump to…"
        class="AppHeader-search-visual--leading"
      >
        <svg aria-hidden="true" height="16" viewBox="0 0 16 16" version="1.1" width="16" data-view-component="true" class="octicon octicon-search">
    <path fill-rule="evenodd" d="M11.5 7a4.499 4.499 0 11-8.998 0A4.499 4.499 0 0111.5 7zm-.82 4.74a6 6 0 111.06-1.06l3.04 3.04a.75.75 0 11-1.06 1.06l-3.04-3.04z"></path>
</svg>
      </label>

                <button
            type="button"
            data-target="search-input.inputButton"
            data-action="click:search-input#handleExpand"
            class="AppHeader-searchButton form-control input-contrast text-left color-fg-subtle"
            placeholder="Search or jump to…"
            data-hotkey=s,/
          >
            <span data-target="search-input.inputButtonText">
                Type <kbd class="AppHeader-search-kbd">/</kbd> to search
            </span>
          </button>

    </div>


      <button type="button" id="AppHeader-commandPalette-button" class="AppHeader-search-action--trailing js-activate-command-palette" data-analytics-event="{&quot;category&quot;:&quot;SiteHeaderComponent&quot;,&quot;action&quot;:&quot;command_palette&quot;,&quot;label&quot;:&quot;open command palette&quot;}">
        <svg aria-hidden="true" height="16" viewBox="0 0 16 16" version="1.1" width="16" data-view-component="true" class="octicon octicon-command-palette">
    <path d="M6.354 8.04l-4.773 4.773a.75.75 0 101.061 1.06L7.945 8.57a.75.75 0 000-1.06L2.642 2.206a.75.75 0 00-1.06 1.061L6.353 8.04zM8.75 11.5a.75.75 0 000 1.5h5.5a.75.75 0 000-1.5h-5.5z"></path>
</svg>
      </button>

      <tool-tip for="AppHeader-commandPalette-button" data-direction="s" data-type="label" data-view-component="true" class="sr-only position-absolute">Command palette</tool-tip>
  </div>
</div>

    <input type="hidden" name="type" class="js-site-search-type-field">

    
<div class="Overlay--hidden " data-modal-dialog-overlay>
  <modal-dialog data-action="close:search-input#handleClose cancel:search-input#handleClose" data-target="search-input.searchSuggestionsDialog" role="dialog" id="search-suggestions-dialog" aria-modal="true" aria-labelledby="search-suggestions-dialog-header" data-view-component="true" class="Overlay Overlay--width-medium Overlay--height-auto">
      <h1 id="search-suggestions-dialog-header" class="sr-only">Search code, repositories, users, issues, pull requests...</h1>
    <div class="Overlay-body Overlay-body--paddingNone">
      
          <div data-view-component="true">      <div
        class="search-suggestions position-absolute width-full color-shadow-large border color-fg-default color-bg-default overflow-hidden d-flex flex-column"
        style="padding-top: 12px; border-radius: 12px;"
        data-action="combobox-commit:search-input#activateSuggestion"
        hidden
      >
        <div class="suggestion-search-input-wrapper pl-2 pr-1 mb-2 d-flex rounded flex-shrink-0" style="margin-right: 12px; margin-left: 12px">
          <styled-text-input
  class="styled-text-input text-input-wrapper v-align-middle"
  data-blackbird-suggestions-path="/search/suggestions"
  data-target="search-input.input"
  data-current-repository="github/renderables"
  data-current-org="github"
  data-current-owner=""
>
  <span class="text-input-icon"><svg aria-hidden="true" height="16" viewBox="0 0 16 16" version="1.1" width="16" data-view-component="true" class="octicon octicon-search">
    <path fill-rule="evenodd" d="M11.5 7a4.499 4.499 0 11-8.998 0A4.499 4.499 0 0111.5 7zm-.82 4.74a6 6 0 111.06-1.06l3.04 3.04a.75.75 0 11-1.06 1.06l-3.04-3.04z"></path>
</svg></span>
  <div class="styled-content-container position-relative d-flex flex-1 full-width overflow-x-auto overflow-y-hidden flex-self-stretch" data-target="styled-text-input.styledContentContainer">
    <div class="styled-content position-absolute full-width user-select-none flex-1 p-0" aria-hidden="true" data-target="styled-text-input.styledContent"></div>
    <div class="autosize-text-input width-full flex-self-stretch">
      <div aria-hidden="true" class="sizer position-absolute top-0 left-0 v-hidden overflow-scroll" data-target="styled-text-input.sizer"></div>
      <div aria-hidden="true" class="sizer position-absolute top-0 left-0 v-hidden overflow-scroll" data-target="styled-text-input.placeholderSizer"></div>
      <input
        class="input position-relative d-flex border-0 p-0 overflow-x-auto overflow-y-hidden"
        data-action="
          input:search-input#handleChange
          keydown:search-input#handleKeydown
        "
        data-jump-to-suggestions-path="/_graphql/GetSuggestedNavigationDestinations"
        data-target="styled-text-input.input"
        placeholder="Search or jump to..."
        spellcheck="false"
        value=""
      >
      <input type="hidden" value="NQ_Q04Fchf9jLqg2JUToiZhctxPoh7I2RY9MdyoF3Dnai65DCXqLlARSlUoxQLSNlYw20IeM3lyFdKT7OnW-Ww" data-csrf="true" class="js-data-jump-to-suggestions-path-csrf" />
    </div>
  </div>
    <button id="clear-blackbird-search" style="height: 24px;" data-action="click:search-input#clearInput" data-target="search-input.clearInputButton" type="button" data-view-component="true" class="clear-blackbird-search-button btn-sm btn px-2 py-0 d-flex flex-items-center color-fg-muted rounded-1">    Clear
</button>
  <div class="blackbird-search-button-separator mx-1" data-target="search-input.clearInputButtonSeparator"></div>
  <button id="close-blackbird-search" data-close-dialog-id="search-suggestions-dialog" data-action="click:search-input#retract" aria-label="Close" type="button" data-view-component="true" class="close-button close-blackbird-search-button rounded-1 p-1"><svg aria-hidden="true" height="16" viewBox="0 0 16 16" version="1.1" width="16" data-view-component="true" class="octicon octicon-x">
    <path fill-rule="evenodd" d="M3.72 3.72a.75.75 0 011.06 0L8 6.94l3.22-3.22a.75.75 0 111.06 1.06L9.06 8l3.22 3.22a.75.75 0 11-1.06 1.06L8 9.06l-3.22 3.22a.75.75 0 01-1.06-1.06L6.94 8 3.72 4.78a.75.75 0 010-1.06z"></path>
</svg></button>
</styled-text-input>

        </div>
        <ul class="ActionList suggestion-list pt-0 overflow-y-auto position-relative" id="search-suggestions-list" role="listbox" data-target="search-input.suggestions" aria-label="Suggestions"></ul>
        <li class="ActionList-sectionDivider mb-0 mx-0" role="separator" aria-hidden="true"></li>
        <div class="d-flex flex-row flex-justify-end color-fg-muted px-3 py-1 text-small color-bg-subtle">
          <div>
            <button data-action="click:search-input#showFeedbackDialog" type="button" data-view-component="true" class="Button--link Button--medium Button color-fg-muted">    <span class="Button-content">
      <span class="Button-label"><span data-view-component="true" class="Label Label--success">Alpha</span>&nbsp;
            Give feedback</span>
    </span>
</button>  
          </div>
        </div>
      </div>
</div>

    </div>
</modal-dialog></div>
  </div>
  <div data-action="click:search-input#retract" class="dark-backdrop position-fixed width-full" hidden data-target="search-input.darkBackdrop"></div>
  <div data-color-mode="light" data-light-theme="light">
    
<div class="Overlay--hidden Overlay-backdrop--center" data-modal-dialog-overlay>
  <modal-dialog data-target="search-input.feedbackDialog" data-action="close:search-input#handleDialogClose cancel:search-input#handleDialogClose" role="dialog" id="feedback-dialog" aria-modal="true" aria-describedby="feedback-dialog-description" data-view-component="true" class="Overlay Overlay-whenNarrow Overlay--size-medium Overlay--motion-scaleFade">
    <div data-view-component="true" class="Overlay-header">
  <div class="Overlay-headerContentWrap">
    <div class="Overlay-titleWrap">
      <h1 class="Overlay-title ">Provide feedback</h1>
    </div>
    <div class="Overlay-actionWrap">
      <button data-close-dialog-id="feedback-dialog" aria-label="Close" type="button" data-view-component="true" class="close-button Overlay-closeButton"><svg aria-hidden="true" height="16" viewBox="0 0 16 16" version="1.1" width="16" data-view-component="true" class="octicon octicon-x">
    <path fill-rule="evenodd" d="M3.72 3.72a.75.75 0 011.06 0L8 6.94l3.22-3.22a.75.75 0 111.06 1.06L9.06 8l3.22 3.22a.75.75 0 11-1.06 1.06L8 9.06l-3.22 3.22a.75.75 0 01-1.06-1.06L6.94 8 3.72 4.78a.75.75 0 010-1.06z"></path>
</svg></button>
    </div>
  </div>
</div>
      <div data-view-component="true" class="Overlay-body">        <!-- '"` --><!-- </textarea></xmp> --></option></form><form id="code-search-feedback-form" data-turbo="false" action="/search/feedback" accept-charset="UTF-8" method="post"><input type="hidden" name="authenticity_token" value="clOU-DlMMBUqfg3tS_yWnf7M-74o0V8d2YcoZGezZB603KZk3NHGaJBBt5YFB5dQC6NhdRMKiv67C_8qfAMcmw" />
          <p>We read every piece of feedback, and take your input very seriously.</p>
          <textarea name="feedback" class="form-control width-full mb-2" style="height: 120px" id="feedback"></textarea>
          <input name="include_email" id="include_email" aria-label="Include my email address so I can be contacted" class="form-control mr-2" type="checkbox">
          <label for="include_email" style="font-weight: normal">Include my email address so I can be contacted</label>
</form></div>
      <div data-view-component="true" class="Overlay-footer Overlay-footer--alignEnd">          <button data-close-dialog-id="feedback-dialog" type="button" data-view-component="true" class="btn">    Cancel
</button>
          <button form="code-search-feedback-form" data-action="click:search-input#submitFeedback" type="submit" data-view-component="true" class="btn-primary btn">    Submit feedback
</button>
</div>
</modal-dialog></div>

    
<div class="Overlay--hidden Overlay-backdrop--center" data-modal-dialog-overlay>
  <modal-dialog data-target="search-input.customScopesModalDialog" data-action="close:search-input#handleDialogClose cancel:search-input#handleDialogClose" role="dialog" id="custom-scopes-dialog" aria-modal="true" aria-describedby="custom-scopes-dialog-description" data-view-component="true" class="Overlay Overlay-whenNarrow Overlay--size-medium Overlay--motion-scaleFade">
    <div data-view-component="true" class="Overlay-header">
  <div class="Overlay-headerContentWrap">
    <div class="Overlay-titleWrap">
      <h1 class="Overlay-title ">Create saved search</h1>
    </div>
    <div class="Overlay-actionWrap">
      <button data-close-dialog-id="custom-scopes-dialog" aria-label="Close" type="button" data-view-component="true" class="close-button Overlay-closeButton"><svg aria-hidden="true" height="16" viewBox="0 0 16 16" version="1.1" width="16" data-view-component="true" class="octicon octicon-x">
    <path fill-rule="evenodd" d="M3.72 3.72a.75.75 0 011.06 0L8 6.94l3.22-3.22a.75.75 0 111.06 1.06L9.06 8l3.22 3.22a.75.75 0 11-1.06 1.06L8 9.06l-3.22 3.22a.75.75 0 01-1.06-1.06L6.94 8 3.72 4.78a.75.75 0 010-1.06z"></path>
</svg></button>
    </div>
  </div>
</div>
      <div data-view-component="true" class="Overlay-body">        <!-- '"` --><!-- </textarea></xmp> --></option></form><form id="custom-scopes-dialog-form" data-turbo="false" action="/search/custom_scopes" accept-charset="UTF-8" method="post"><input type="hidden" name="authenticity_token" value="lk2yr9GtPJZ5Ku1eHeh_CvdzEwx6iwYhWjBFmQo95iZB2HzxoBNeFuvRw8yUHBd9_vhvhznf4IwELc3BBkhJww" />
          <div data-target="search-input.customScopesModalDialogFlash"></div>

          <input type="hidden" id="custom_scope_id" name="custom_scope_id" data-target="search-input.customScopesIdField">

          <p>
            Use a saved search to filter your results. For example, to restrict your search to a few repositories:<br><code>repo:therzka/repo-1 OR repo:therzka/repo-2 OR ...</code>
          </p>

          <div class="form-group">
            <label for="custom_scope_name">Name *</label>
            <auto-check src="/search/custom_scopes/check_name" required>
              <input
                type="text"
                name="custom_scope_name"
                id="custom_scope_name"
                data-target="search-input.customScopesNameField"
                class="form-control"
                autocomplete="off"
                placeholder="github-ruby"
                required
                maxlength="50">
              <input type="hidden" value="nzwA7FSJgdWw3bDiP6gs_sQbp3-9t_ctw0pPg14sB0aS_DsPymdtNf_lyE6sfBXnWeXFMhtGUNEQpak9Wzu_5w" data-csrf="true" />
            </auto-check>
          </div>

          <div class="form-group">
            <label for="custom_scope_query">Query *</label>
            <input
              type="text"
              name="custom_scope_query"
              id="custom_scope_query"
              data-target="search-input.customScopesQueryField"
              class="form-control"
              autocomplete="off"
              placeholder="org:github language:ruby"
              required
              maxlength="500">
          </div>
</form></div>
      <div data-view-component="true" class="Overlay-footer Overlay-footer--alignEnd">          <button data-close-dialog-id="custom-scopes-dialog" type="button" data-view-component="true" class="btn">    Cancel
</button>
          <button form="custom-scopes-dialog-form" data-action="click:search-input#saveCustomScope" data-target="search-input.customScopesSubmitButton" type="submit" data-view-component="true" class="btn-primary btn">    Create saved search
</button>
</div>
</modal-dialog></div>

    
<div class="Overlay--hidden Overlay-backdrop--center" data-modal-dialog-overlay>
  <modal-dialog data-target="search-input.customScopeDeletionModalDialog" data-action="close:search-input#handleDialogClose cancel:search-input#handleDialogClose" role="dialog" id="custom-scope-deletion-dialog" aria-modal="true" aria-describedby="custom-scope-deletion-dialog-description" data-view-component="true" class="Overlay Overlay-whenNarrow Overlay--size-medium Overlay--motion-scaleFade">
    <div data-view-component="true" class="Overlay-header">
  <div class="Overlay-headerContentWrap">
    <div class="Overlay-titleWrap">
      <h1 class="Overlay-title ">Delete saved search</h1>
    </div>
    <div class="Overlay-actionWrap">
      <button data-close-dialog-id="custom-scope-deletion-dialog" aria-label="Close" type="button" data-view-component="true" class="close-button Overlay-closeButton"><svg aria-hidden="true" height="16" viewBox="0 0 16 16" version="1.1" width="16" data-view-component="true" class="octicon octicon-x">
    <path fill-rule="evenodd" d="M3.72 3.72a.75.75 0 011.06 0L8 6.94l3.22-3.22a.75.75 0 111.06 1.06L9.06 8l3.22 3.22a.75.75 0 11-1.06 1.06L8 9.06l-3.22 3.22a.75.75 0 01-1.06-1.06L6.94 8 3.72 4.78a.75.75 0 010-1.06z"></path>
</svg></button>
    </div>
  </div>
</div>
      <div data-view-component="true" class="Overlay-body">        <input type="hidden" data-target="search-input.customScopeDeletionIdField">

        <p class="pt-3">
          Are you sure you want to delete the saved search named "<span data-target="search-input.customScopeDeletionName"></span>"?
        </p>

</div>
      <div data-view-component="true" class="Overlay-footer Overlay-footer--alignEnd">          <button data-close-dialog-id="custom-scope-deletion-dialog" type="button" data-view-component="true" class="btn">    Cancel
</button>
          <button data-action="click:search-input#deleteCustomScope" type="button" data-view-component="true" class="btn-danger btn">    Delete saved search
</button>
</div>
</modal-dialog></div>
  </div>
</search-input>

          </div>

        <div class="AppHeader-actions">
          <details data-view-component="true" class="details-overlay details-reset position-relative">
    <summary data-analytics-event="{&quot;category&quot;:&quot;SiteHeaderComponent&quot;,&quot;action&quot;:&quot;add_dropdown&quot;,&quot;label&quot;:&quot;open menu&quot;}" role="button" data-view-component="true" class="AppHeader-button btn p-0 mr-0">    <svg aria-label="Create new..." aria-hidden="false" role="img" height="16" viewBox="0 0 16 16" version="1.1" width="16" data-view-component="true" class="octicon octicon-plus">
    <path fill-rule="evenodd" d="M7.75 2a.75.75 0 01.75.75V7h4.25a.75.75 0 110 1.5H8.5v4.25a.75.75 0 11-1.5 0V8.5H2.75a.75.75 0 010-1.5H7V2.75A.75.75 0 017.75 2z"></path>
</svg>
</summary>
  <details-menu data-view-component="true" class="dropdown-menu dropdown-menu-sw border-0 mr-n1">    <a role="menuitem" class="dropdown-item" href="/new" data-analytics-event="{&quot;category&quot;:&quot;SiteHeaderComponent&quot;,&quot;action&quot;:&quot;add_dropdown&quot;,&quot;label&quot;:&quot;new repository&quot;}">
      New repository
    </a>

      <a role="menuitem" class="dropdown-item" href="/new/import" data-analytics-event="{&quot;category&quot;:&quot;SiteHeaderComponent&quot;,&quot;action&quot;:&quot;add_dropdown&quot;,&quot;label&quot;:&quot;import repository&quot;}">
        Import repository
      </a>

      <a role="menuitem" class="dropdown-item" href="/codespaces/new" data-analytics-event="{&quot;category&quot;:&quot;SiteHeaderComponent&quot;,&quot;action&quot;:&quot;add_dropdown&quot;,&quot;label&quot;:&quot;new codespace&quot;}">
        New codespace
      </a>

    <a role="menuitem" class="dropdown-item" href="https://gist.github.com/" data-analytics-event="{&quot;category&quot;:&quot;SiteHeaderComponent&quot;,&quot;action&quot;:&quot;add_dropdown&quot;,&quot;label&quot;:&quot;new gist&quot;}">
      New gist
    </a>

      <a role="menuitem" class="dropdown-item" href="/organizations/new" data-analytics-event="{&quot;category&quot;:&quot;SiteHeaderComponent&quot;,&quot;action&quot;:&quot;add_dropdown&quot;,&quot;label&quot;:&quot;new organization&quot;}">
        New organization
      </a>


</details-menu>
</details>
          

<notification-indicator data-channel="eyJjIjoibm90aWZpY2F0aW9uLWNoYW5nZWQ6NzIxOTkyMyIsInQiOjE2NjU3NzIyNzZ9--d6e4cb70e9d101021ab908a01c855b5d13e987fba6a29f841615b2faa17e604e" data-indicator-mode="global" data-tooltip-global="You have unread notifications" data-tooltip-unavailable="Notifications are unavailable at the moment." data-tooltip-none="You have no unread notifications" data-header-redesign-enabled="true" data-view-component="true" class="js-socket-channel">
  <a id="AppHeader-notifications-button" href="/notifications"
    class="AppHeader-button AppHeader-button--hasIndicator"

    style="width:32px;height:32px;"

    data-hotkey="g n"
    data-target="notification-indicator.link"
    aria-label="Notifications"

      data-analytics-event="{&quot;category&quot;:&quot;SiteHeaderComponent&quot;,&quot;action&quot;:&quot;notifications&quot;,&quot;label&quot;:null}"
  >

    <span
      data-target="notification-indicator.badge"
      class="mail-status unread d-none" >
    </span>

      <svg aria-hidden="true" height="16" viewBox="0 0 16 16" version="1.1" width="16" data-view-component="true" class="octicon octicon-inbox color-fg-muted mr-0">
    <path fill-rule="evenodd" d="M2.8 2.06A1.75 1.75 0 014.41 1h7.18c.7 0 1.333.417 1.61 1.06l2.74 6.395a.75.75 0 01.06.295v4.5A1.75 1.75 0 0114.25 15H1.75A1.75 1.75 0 010 13.25v-4.5a.75.75 0 01.06-.295L2.8 2.06zm1.61.44a.25.25 0 00-.23.152L1.887 8H4.75a.75.75 0 01.6.3L6.625 10h2.75l1.275-1.7a.75.75 0 01.6-.3h2.863L11.82 2.652a.25.25 0 00-.23-.152H4.41zm10.09 7h-2.875l-1.275 1.7a.75.75 0 01-.6.3h-3.5a.75.75 0 01-.6-.3L4.375 9.5H1.5v3.75c0 .138.112.25.25.25h12.5a.25.25 0 00.25-.25V9.5z"></path>
</svg>
  </a>

    <tool-tip data-target="notification-indicator.tooltip" for="AppHeader-notifications-button" data-direction="s" data-type="description" data-view-component="true" class="sr-only position-absolute">Notifications</tool-tip>
</notification-indicator>
              <button aria-label="User Navigation" id="dialog-show-dialog-uyl4" data-show-dialog-id="dialog-uyl4" data-show-dialog-id="dialog-uyl4" type="button" data-view-component="true" class="AppHeader-logo btn-invisible btn color-bg-transparent p-0">    <img src="https://avatars.githubusercontent.com/u/7219923?v=4" alt="" size="32" height="32" width="32" data-view-component="true" class="avatar circle" />
</button>
<div class="Overlay--hidden Overlay-backdrop--side Overlay-backdrop--placement-right" data-modal-dialog-overlay>
  <modal-dialog role="dialog" id="dialog-uyl4" aria-modal="true" aria-describedby="dialog-uyl4-description" data-view-component="true" class="Overlay Overlay-whenNarrow Overlay--size-small-portrait Overlay--motion-scaleFade SidePanel">
    <div styles="flex-direction: row;" data-view-component="true" class="Overlay-header">
  <div class="Overlay-headerContentWrap">
    <div class="Overlay-titleWrap">
      <h1 class="Overlay-title sr-only">User Navigation</h1>
            <div data-view-component="true" class="d-flex">
      <div data-view-component="true" class="AppHeader-logo">
        <img src="https://avatars.githubusercontent.com/u/7219923?v=4" alt="" size="32" height="32" width="32" data-view-component="true" class="avatar circle" />
</div>        <div data-view-component="true" class="d-flex width-full">    <div data-view-component="true" class="lh-condensed d-flex flex-column flex-justify-center ml-2 f5 mr-auto">
      <span data-view-component="true" class="Truncate d-block text-bold">
    <span data-view-component="true" class="Truncate-text">
        therzka
</span>
</span>      <span data-view-component="true" class="Truncate d-block color-fg-subtle">
    <span data-view-component="true" class="Truncate-text">
        Tali Herzka
</span>
</span></div>    <details data-view-component="true" class="details-overlay details-reset position-relative mr-1 d-sm-none d-md-none d-lg-none">
    <summary data-analytics-event="{&quot;category&quot;:&quot;SiteHeaderComponent&quot;,&quot;action&quot;:&quot;add_dropdown&quot;,&quot;label&quot;:&quot;open menu&quot;}" role="button" data-view-component="true" class="AppHeader-button btn p-0 mr-0">    <svg aria-label="Create new..." aria-hidden="false" role="img" height="16" viewBox="0 0 16 16" version="1.1" width="16" data-view-component="true" class="octicon octicon-plus">
    <path fill-rule="evenodd" d="M7.75 2a.75.75 0 01.75.75V7h4.25a.75.75 0 110 1.5H8.5v4.25a.75.75 0 11-1.5 0V8.5H2.75a.75.75 0 010-1.5H7V2.75A.75.75 0 017.75 2z"></path>
</svg>
</summary>
  <details-menu data-view-component="true" class="dropdown-menu dropdown-menu-sw border-0 mr-n1">    <a role="menuitem" class="dropdown-item" href="/new" data-analytics-event="{&quot;category&quot;:&quot;SiteHeaderComponent&quot;,&quot;action&quot;:&quot;add_dropdown&quot;,&quot;label&quot;:&quot;new repository&quot;}">
      New repository
    </a>

      <a role="menuitem" class="dropdown-item" href="/new/import" data-analytics-event="{&quot;category&quot;:&quot;SiteHeaderComponent&quot;,&quot;action&quot;:&quot;add_dropdown&quot;,&quot;label&quot;:&quot;import repository&quot;}">
        Import repository
      </a>

      <a role="menuitem" class="dropdown-item" href="/codespaces/new" data-analytics-event="{&quot;category&quot;:&quot;SiteHeaderComponent&quot;,&quot;action&quot;:&quot;add_dropdown&quot;,&quot;label&quot;:&quot;new codespace&quot;}">
        New codespace
      </a>

    <a role="menuitem" class="dropdown-item" href="https://gist.github.com/" data-analytics-event="{&quot;category&quot;:&quot;SiteHeaderComponent&quot;,&quot;action&quot;:&quot;add_dropdown&quot;,&quot;label&quot;:&quot;new gist&quot;}">
      New gist
    </a>

      <a role="menuitem" class="dropdown-item" href="/organizations/new" data-analytics-event="{&quot;category&quot;:&quot;SiteHeaderComponent&quot;,&quot;action&quot;:&quot;add_dropdown&quot;,&quot;label&quot;:&quot;new organization&quot;}">
        New organization
      </a>


</details-menu>
</details>
    

<notification-indicator data-channel="eyJjIjoibm90aWZpY2F0aW9uLWNoYW5nZWQ6NzIxOTkyMyIsInQiOjE2NjU3NzIyNzZ9--d6e4cb70e9d101021ab908a01c855b5d13e987fba6a29f841615b2faa17e604e" data-indicator-mode="global" data-tooltip-global="You have unread notifications" data-tooltip-unavailable="Notifications are unavailable at the moment." data-tooltip-none="You have no unread notifications" data-header-redesign-enabled="true" data-view-component="true" class="js-socket-channel d-sm-none d-md-none d-lg-none">
  <a id="AppHeader-notifications-button" href="/notifications"
    class="AppHeader-button AppHeader-button--hasIndicator"

    style="width:32px;height:32px;"

    data-hotkey="g n"
    data-target="notification-indicator.link"
    aria-label="Notifications"

      data-analytics-event="{&quot;category&quot;:&quot;SiteHeaderComponent&quot;,&quot;action&quot;:&quot;notifications&quot;,&quot;label&quot;:null}"
  >

    <span
      data-target="notification-indicator.badge"
      class="mail-status unread d-none" >
    </span>

      <svg aria-hidden="true" height="16" viewBox="0 0 16 16" version="1.1" width="16" data-view-component="true" class="octicon octicon-inbox color-fg-muted mr-0">
    <path fill-rule="evenodd" d="M2.8 2.06A1.75 1.75 0 014.41 1h7.18c.7 0 1.333.417 1.61 1.06l2.74 6.395a.75.75 0 01.06.295v4.5A1.75 1.75 0 0114.25 15H1.75A1.75 1.75 0 010 13.25v-4.5a.75.75 0 01.06-.295L2.8 2.06zm1.61.44a.25.25 0 00-.23.152L1.887 8H4.75a.75.75 0 01.6.3L6.625 10h2.75l1.275-1.7a.75.75 0 01.6-.3h2.863L11.82 2.652a.25.25 0 00-.23-.152H4.41zm10.09 7h-2.875l-1.275 1.7a.75.75 0 01-.6.3h-3.5a.75.75 0 01-.6-.3L4.375 9.5H1.5v3.75c0 .138.112.25.25.25h12.5a.25.25 0 00.25-.25V9.5z"></path>
</svg>
  </a>

    <tool-tip data-target="notification-indicator.tooltip" for="AppHeader-notifications-button" data-direction="s" data-type="description" data-view-component="true" class="sr-only position-absolute">Notifications</tool-tip>
</notification-indicator>
</div>
</div>
    </div>
    <div class="Overlay-actionWrap">
      <button data-close-dialog-id="dialog-uyl4" aria-label="Close" type="button" data-view-component="true" class="close-button Overlay-closeButton"><svg aria-hidden="true" height="16" viewBox="0 0 16 16" version="1.1" width="16" data-view-component="true" class="octicon octicon-x">
    <path fill-rule="evenodd" d="M3.72 3.72a.75.75 0 011.06 0L8 6.94l3.22-3.22a.75.75 0 111.06 1.06L9.06 8l3.22 3.22a.75.75 0 11-1.06 1.06L8 9.06l-3.22 3.22a.75.75 0 01-1.06-1.06L6.94 8 3.72 4.78a.75.75 0 010-1.06z"></path>
</svg></button>
    </div>
  </div>
</div>
      <div data-view-component="true" class="Overlay-body d-flex flex-column height-full px-2">      <action-list data-is-navigation-list="true" aria-label="" data-view-component="true">
  <nav aria-label="" data-view-component="true" class="NavigationList">
    <ul role="list" data-view-component="true" class="ActionList">
        <li role="separator" aria-hidden="true" data-view-component="true" class="ActionList-sectionDivider"></li>
        <li data-view-component="true" class="ActionList-item ActionList-item--hasSubItem">
  
    <ul aria-label="" data-view-component="true" class="ActionList ActionList--subGroup">
        <li data-item-id="" data-view-component="true" class="ActionList-item">
  <a href="/therzka?set_status=true" data-view-component="true" class="ActionList-content ActionList-content--visual16">
      <span class="ActionList-item-visual ActionList-item-visual--leading">
        <svg aria-hidden="true" height="16" viewBox="0 0 16 16" version="1.1" width="16" data-view-component="true" class="octicon octicon-smiley">
    <path fill-rule="evenodd" d="M1.5 8a6.5 6.5 0 1113 0 6.5 6.5 0 01-13 0zM8 0a8 8 0 100 16A8 8 0 008 0zM5 8a1 1 0 100-2 1 1 0 000 2zm7-1a1 1 0 11-2 0 1 1 0 012 0zM5.32 9.636a.75.75 0 011.038.175l.007.009c.103.118.22.222.35.31.264.178.683.37 1.285.37.602 0 1.02-.192 1.285-.371.13-.088.247-.192.35-.31l.007-.008a.75.75 0 111.222.87l-.614-.431c.614.43.614.431.613.431v.001l-.001.002-.002.003-.005.007-.014.019a1.984 1.984 0 01-.184.213c-.16.166-.338.316-.53.445-.63.418-1.37.638-2.127.629-.946 0-1.652-.308-2.126-.63a3.32 3.32 0 01-.715-.657l-.014-.02-.005-.006-.002-.003v-.002h-.001l.613-.432-.614.43a.75.75 0 01.183-1.044h.001z"></path>
</svg>
      </span>
    <span class="ActionList-item-label ">
              Set status

    </span>
</a></li>
</ul></li>

          <li role="separator" aria-hidden="true" data-view-component="true" class="ActionList-sectionDivider"></li>
        <li data-view-component="true" class="ActionList-item ActionList-item--hasSubItem">
  
    <ul aria-label="" data-view-component="true" class="ActionList ActionList--subGroup">
        <li data-item-id="your_profile" data-view-component="true" class="ActionList-item">
  <a href="https://github.com/therzka" data-view-component="true" class="ActionList-content ActionList-content--visual16">
      <span class="ActionList-item-visual ActionList-item-visual--leading">
        <svg aria-hidden="true" height="16" viewBox="0 0 16 16" version="1.1" width="16" data-view-component="true" class="octicon octicon-person">
    <path fill-rule="evenodd" d="M10.5 5a2.5 2.5 0 11-5 0 2.5 2.5 0 015 0zm.061 3.073a4 4 0 10-5.123 0 6.004 6.004 0 00-3.431 5.142.75.75 0 001.498.07 4.5 4.5 0 018.99 0 .75.75 0 101.498-.07 6.005 6.005 0 00-3.432-5.142z"></path>
</svg>
      </span>
    <span class="ActionList-item-label ">
              Your profile

    </span>
</a></li>
</ul></li>

          <li role="separator" aria-hidden="true" data-view-component="true" class="ActionList-sectionDivider"></li>
        <li data-view-component="true" class="ActionList-item ActionList-item--hasSubItem">
  
    <ul aria-label="" data-view-component="true" class="ActionList ActionList--subGroup">
        <li data-item-id="" data-view-component="true" class="ActionList-item">
  <a href="/therzka?tab=repositories" data-view-component="true" class="ActionList-content ActionList-content--visual16">
      <span class="ActionList-item-visual ActionList-item-visual--leading">
        <svg aria-hidden="true" height="16" viewBox="0 0 16 16" version="1.1" width="16" data-view-component="true" class="octicon octicon-repo">
    <path fill-rule="evenodd" d="M2 2.5A2.5 2.5 0 014.5 0h8.75a.75.75 0 01.75.75v12.5a.75.75 0 01-.75.75h-2.5a.75.75 0 110-1.5h1.75v-2h-8a1 1 0 00-.714 1.7.75.75 0 01-1.072 1.05A2.495 2.495 0 012 11.5v-9zm10.5-1V9h-8c-.356 0-.694.074-1 .208V2.5a1 1 0 011-1h8zM5 12.25v3.25a.25.25 0 00.4.2l1.45-1.087a.25.25 0 01.3 0L8.6 15.7a.25.25 0 00.4-.2v-3.25a.25.25 0 00-.25-.25h-3.5a.25.25 0 00-.25.25z"></path>
</svg>
      </span>
    <span class="ActionList-item-label ">
              Your repositories

    </span>
</a></li>
        <li data-item-id="" data-view-component="true" class="ActionList-item">
  <a href="/therzka?tab=projects" data-view-component="true" class="ActionList-content ActionList-content--visual16">
      <span class="ActionList-item-visual ActionList-item-visual--leading">
        <svg aria-hidden="true" height="16" viewBox="0 0 16 16" version="1.1" width="16" data-view-component="true" class="octicon octicon-project">
    <path fill-rule="evenodd" d="M1.75 0A1.75 1.75 0 000 1.75v12.5C0 15.216.784 16 1.75 16h12.5A1.75 1.75 0 0016 14.25V1.75A1.75 1.75 0 0014.25 0H1.75zM1.5 1.75a.25.25 0 01.25-.25h12.5a.25.25 0 01.25.25v12.5a.25.25 0 01-.25.25H1.75a.25.25 0 01-.25-.25V1.75zM11.75 3a.75.75 0 00-.75.75v7.5a.75.75 0 001.5 0v-7.5a.75.75 0 00-.75-.75zm-8.25.75a.75.75 0 011.5 0v5.5a.75.75 0 01-1.5 0v-5.5zM8 3a.75.75 0 00-.75.75v3.5a.75.75 0 001.5 0v-3.5A.75.75 0 008 3z"></path>
</svg>
      </span>
    <span class="ActionList-item-label ">
              Your projects

    </span>
</a></li>
        <li data-item-id="" data-view-component="true" class="ActionList-item">
  <a href="/codespaces" data-view-component="true" class="ActionList-content ActionList-content--visual16">
      <span class="ActionList-item-visual ActionList-item-visual--leading">
        <svg aria-hidden="true" height="16" viewBox="0 0 16 16" version="1.1" width="16" data-view-component="true" class="octicon octicon-codespaces">
    <path fill-rule="evenodd" d="M2 1.75C2 .784 2.784 0 3.75 0h8.5C13.216 0 14 .784 14 1.75v5a1.75 1.75 0 01-1.75 1.75h-8.5A1.75 1.75 0 012 6.75v-5zm1.75-.25a.25.25 0 00-.25.25v5c0 .138.112.25.25.25h8.5a.25.25 0 00.25-.25v-5a.25.25 0 00-.25-.25h-8.5zM0 11.25c0-.966.784-1.75 1.75-1.75h12.5c.966 0 1.75.784 1.75 1.75v3A1.75 1.75 0 0114.25 16H1.75A1.75 1.75 0 010 14.25v-3zM1.75 11a.25.25 0 00-.25.25v3c0 .138.112.25.25.25h12.5a.25.25 0 00.25-.25v-3a.25.25 0 00-.25-.25H1.75z"></path><path fill-rule="evenodd" d="M3 12.75a.75.75 0 01.75-.75h.5a.75.75 0 010 1.5h-.5a.75.75 0 01-.75-.75zm4 0a.75.75 0 01.75-.75h4.5a.75.75 0 010 1.5h-4.5a.75.75 0 01-.75-.75z"></path>
</svg>
      </span>
    <span class="ActionList-item-label ">
                Codespaces

    </span>
</a></li>
        <li data-item-id="" data-view-component="true" class="ActionList-item">
  <a href="/settings/organizations" data-view-component="true" class="ActionList-content ActionList-content--visual16">
      <span class="ActionList-item-visual ActionList-item-visual--leading">
        <svg aria-hidden="true" height="16" viewBox="0 0 16 16" version="1.1" width="16" data-view-component="true" class="octicon octicon-organization">
    <path fill-rule="evenodd" d="M1.5 14.25c0 .138.112.25.25.25H4v-1.25a.75.75 0 01.75-.75h2.5a.75.75 0 01.75.75v1.25h2.25a.25.25 0 00.25-.25V1.75a.25.25 0 00-.25-.25h-8.5a.25.25 0 00-.25.25v12.5zM1.75 16A1.75 1.75 0 010 14.25V1.75C0 .784.784 0 1.75 0h8.5C11.216 0 12 .784 12 1.75v12.5c0 .085-.006.168-.018.25h2.268a.25.25 0 00.25-.25V8.285a.25.25 0 00-.111-.208l-1.055-.703a.75.75 0 11.832-1.248l1.055.703c.487.325.779.871.779 1.456v5.965A1.75 1.75 0 0114.25 16h-3.5a.75.75 0 01-.197-.026c-.099.017-.2.026-.303.026h-3a.75.75 0 01-.75-.75V14h-1v1.25a.75.75 0 01-.75.75h-3zM3 3.75A.75.75 0 013.75 3h.5a.75.75 0 010 1.5h-.5A.75.75 0 013 3.75zM3.75 6a.75.75 0 000 1.5h.5a.75.75 0 000-1.5h-.5zM3 9.75A.75.75 0 013.75 9h.5a.75.75 0 010 1.5h-.5A.75.75 0 013 9.75zM7.75 9a.75.75 0 000 1.5h.5a.75.75 0 000-1.5h-.5zM7 6.75A.75.75 0 017.75 6h.5a.75.75 0 010 1.5h-.5A.75.75 0 017 6.75zM7.75 3a.75.75 0 000 1.5h.5a.75.75 0 000-1.5h-.5z"></path>
</svg>
      </span>
    <span class="ActionList-item-label ">
                 Your organizations

    </span>
</a></li>
        <li data-item-id="" data-view-component="true" class="ActionList-item">
  <a href="/settings/enterprises" data-view-component="true" class="ActionList-content ActionList-content--visual16">
      <span class="ActionList-item-visual ActionList-item-visual--leading">
        <svg aria-hidden="true" height="16" viewBox="0 0 16 16" version="1.1" width="16" data-view-component="true" class="octicon octicon-organization">
    <path fill-rule="evenodd" d="M1.5 14.25c0 .138.112.25.25.25H4v-1.25a.75.75 0 01.75-.75h2.5a.75.75 0 01.75.75v1.25h2.25a.25.25 0 00.25-.25V1.75a.25.25 0 00-.25-.25h-8.5a.25.25 0 00-.25.25v12.5zM1.75 16A1.75 1.75 0 010 14.25V1.75C0 .784.784 0 1.75 0h8.5C11.216 0 12 .784 12 1.75v12.5c0 .085-.006.168-.018.25h2.268a.25.25 0 00.25-.25V8.285a.25.25 0 00-.111-.208l-1.055-.703a.75.75 0 11.832-1.248l1.055.703c.487.325.779.871.779 1.456v5.965A1.75 1.75 0 0114.25 16h-3.5a.75.75 0 01-.197-.026c-.099.017-.2.026-.303.026h-3a.75.75 0 01-.75-.75V14h-1v1.25a.75.75 0 01-.75.75h-3zM3 3.75A.75.75 0 013.75 3h.5a.75.75 0 010 1.5h-.5A.75.75 0 013 3.75zM3.75 6a.75.75 0 000 1.5h.5a.75.75 0 000-1.5h-.5zM3 9.75A.75.75 0 013.75 9h.5a.75.75 0 010 1.5h-.5A.75.75 0 013 9.75zM7.75 9a.75.75 0 000 1.5h.5a.75.75 0 000-1.5h-.5zM7 6.75A.75.75 0 017.75 6h.5a.75.75 0 010 1.5h-.5A.75.75 0 017 6.75zM7.75 3a.75.75 0 000 1.5h.5a.75.75 0 000-1.5h-.5z"></path>
</svg>
      </span>
    <span class="ActionList-item-label ">
                Your enterprises

    </span>
</a></li>
        <li data-item-id="" data-view-component="true" class="ActionList-item">
  <a href="/therzka?tab=stars" data-view-component="true" class="ActionList-content ActionList-content--visual16">
      <span class="ActionList-item-visual ActionList-item-visual--leading">
        <svg aria-hidden="true" height="16" viewBox="0 0 16 16" version="1.1" width="16" data-view-component="true" class="octicon octicon-star">
    <path fill-rule="evenodd" d="M8 .25a.75.75 0 01.673.418l1.882 3.815 4.21.612a.75.75 0 01.416 1.279l-3.046 2.97.719 4.192a.75.75 0 01-1.088.791L8 12.347l-3.766 1.98a.75.75 0 01-1.088-.79l.72-4.194L.818 6.374a.75.75 0 01.416-1.28l4.21-.611L7.327.668A.75.75 0 018 .25zm0 2.445L6.615 5.5a.75.75 0 01-.564.41l-3.097.45 2.24 2.184a.75.75 0 01.216.664l-.528 3.084 2.769-1.456a.75.75 0 01.698 0l2.77 1.456-.53-3.084a.75.75 0 01.216-.664l2.24-2.183-3.096-.45a.75.75 0 01-.564-.41L8 2.694v.001z"></path>
</svg>
      </span>
    <span class="ActionList-item-label ">
              Your stars

    </span>
</a></li>
        <li data-item-id="" data-view-component="true" class="ActionList-item">
  <a href="https://gist.github.com/mine" data-view-component="true" class="ActionList-content ActionList-content--visual16">
      <span class="ActionList-item-visual ActionList-item-visual--leading">
        <svg aria-hidden="true" height="16" viewBox="0 0 16 16" version="1.1" width="16" data-view-component="true" class="octicon octicon-code-square">
    <path fill-rule="evenodd" d="M1.75 1.5a.25.25 0 00-.25.25v12.5c0 .138.112.25.25.25h12.5a.25.25 0 00.25-.25V1.75a.25.25 0 00-.25-.25H1.75zM0 1.75C0 .784.784 0 1.75 0h12.5C15.216 0 16 .784 16 1.75v12.5A1.75 1.75 0 0114.25 16H1.75A1.75 1.75 0 010 14.25V1.75zm9.22 3.72a.75.75 0 000 1.06L10.69 8 9.22 9.47a.75.75 0 101.06 1.06l2-2a.75.75 0 000-1.06l-2-2a.75.75 0 00-1.06 0zM6.78 6.53a.75.75 0 00-1.06-1.06l-2 2a.75.75 0 000 1.06l2 2a.75.75 0 101.06-1.06L5.31 8l1.47-1.47z"></path>
</svg>
      </span>
    <span class="ActionList-item-label ">
                Your gists

    </span>
</a></li>
</ul></li>

          <li role="separator" aria-hidden="true" data-view-component="true" class="ActionList-sectionDivider"></li>
        <li data-view-component="true" class="ActionList-item ActionList-item--hasSubItem">
  
    <ul aria-label="" data-view-component="true" class="ActionList ActionList--subGroup">
        <li data-item-id="" data-view-component="true" class="ActionList-item">
  <a href="/account/choose?action=upgrade" data-view-component="true" class="ActionList-content ActionList-content--visual16">
      <span class="ActionList-item-visual ActionList-item-visual--leading">
        <svg aria-hidden="true" height="16" viewBox="0 0 16 16" version="1.1" width="16" data-view-component="true" class="octicon octicon-upload">
    <path fill-rule="evenodd" d="M8.53 1.22a.75.75 0 00-1.06 0L3.72 4.97a.75.75 0 001.06 1.06l2.47-2.47v6.69a.75.75 0 001.5 0V3.56l2.47 2.47a.75.75 0 101.06-1.06L8.53 1.22zM3.75 13a.75.75 0 000 1.5h8.5a.75.75 0 000-1.5h-8.5z"></path>
</svg>
      </span>
    <span class="ActionList-item-label ">
                Upgrade

    </span>
</a></li>
        <li data-feature-preview-trigger-url="/users/therzka/feature_previews" data-item-id="" data-view-component="true" class="ActionList-item">
  <button type="button" data-view-component="true" class="ActionList-content ActionList-content--visual16">
      <span class="ActionList-item-visual ActionList-item-visual--leading">
        <svg aria-hidden="true" height="16" viewBox="0 0 16 16" version="1.1" width="16" data-view-component="true" class="octicon octicon-beaker">
    <path fill-rule="evenodd" d="M5 5.782V2.5h-.25a.75.75 0 010-1.5h6.5a.75.75 0 010 1.5H11v3.282l3.666 5.76C15.619 13.04 14.543 15 12.767 15H3.233c-1.776 0-2.852-1.96-1.899-3.458L5 5.782zM9.5 2.5h-3V6a.75.75 0 01-.117.403L4.73 9h6.54L9.617 6.403A.75.75 0 019.5 6V2.5zm-6.9 9.847L3.775 10.5h8.45l1.175 1.847a.75.75 0 01-.633 1.153H3.233a.75.75 0 01-.633-1.153z"></path>
</svg>
      </span>
    <span class="ActionList-item-label ">
                Feature preview

    </span>
</button></li>
        <li data-item-id="" data-view-component="true" class="ActionList-item">
  <a href="/settings/profile" data-view-component="true" class="ActionList-content ActionList-content--visual16">
      <span class="ActionList-item-visual ActionList-item-visual--leading">
        <svg aria-hidden="true" height="16" viewBox="0 0 16 16" version="1.1" width="16" data-view-component="true" class="octicon octicon-gear">
    <path fill-rule="evenodd" d="M7.429 1.525a6.593 6.593 0 011.142 0c.036.003.108.036.137.146l.289 1.105c.147.56.55.967.997 1.189.174.086.341.183.501.29.417.278.97.423 1.53.27l1.102-.303c.11-.03.175.016.195.046.219.31.41.641.573.989.014.031.022.11-.059.19l-.815.806c-.411.406-.562.957-.53 1.456a4.588 4.588 0 010 .582c-.032.499.119 1.05.53 1.456l.815.806c.08.08.073.159.059.19a6.494 6.494 0 01-.573.99c-.02.029-.086.074-.195.045l-1.103-.303c-.559-.153-1.112-.008-1.529.27-.16.107-.327.204-.5.29-.449.222-.851.628-.998 1.189l-.289 1.105c-.029.11-.101.143-.137.146a6.613 6.613 0 01-1.142 0c-.036-.003-.108-.037-.137-.146l-.289-1.105c-.147-.56-.55-.967-.997-1.189a4.502 4.502 0 01-.501-.29c-.417-.278-.97-.423-1.53-.27l-1.102.303c-.11.03-.175-.016-.195-.046a6.492 6.492 0 01-.573-.989c-.014-.031-.022-.11.059-.19l.815-.806c.411-.406.562-.957.53-1.456a4.587 4.587 0 010-.582c.032-.499-.119-1.05-.53-1.456l-.815-.806c-.08-.08-.073-.159-.059-.19a6.44 6.44 0 01.573-.99c.02-.029.086-.075.195-.045l1.103.303c.559.153 1.112.008 1.529-.27.16-.107.327-.204.5-.29.449-.222.851-.628.998-1.189l.289-1.105c.029-.11.101-.143.137-.146zM8 0c-.236 0-.47.01-.701.03-.743.065-1.29.615-1.458 1.261l-.29 1.106c-.017.066-.078.158-.211.224a5.994 5.994 0 00-.668.386c-.123.082-.233.09-.3.071L3.27 2.776c-.644-.177-1.392.02-1.82.63a7.977 7.977 0 00-.704 1.217c-.315.675-.111 1.422.363 1.891l.815.806c.05.048.098.147.088.294a6.084 6.084 0 000 .772c.01.147-.038.246-.088.294l-.815.806c-.474.469-.678 1.216-.363 1.891.2.428.436.835.704 1.218.428.609 1.176.806 1.82.63l1.103-.303c.066-.019.176-.011.299.071.213.143.436.272.668.386.133.066.194.158.212.224l.289 1.106c.169.646.715 1.196 1.458 1.26a8.094 8.094 0 001.402 0c.743-.064 1.29-.614 1.458-1.26l.29-1.106c.017-.066.078-.158.211-.224a5.98 5.98 0 00.668-.386c.123-.082.233-.09.3-.071l1.102.302c.644.177 1.392-.02 1.82-.63.268-.382.505-.789.704-1.217.315-.675.111-1.422-.364-1.891l-.814-.806c-.05-.048-.098-.147-.088-.294a6.1 6.1 0 000-.772c-.01-.147.039-.246.088-.294l.814-.806c.475-.469.679-1.216.364-1.891a7.992 7.992 0 00-.704-1.218c-.428-.609-1.176-.806-1.82-.63l-1.103.303c-.066.019-.176.011-.299-.071a5.991 5.991 0 00-.668-.386c-.133-.066-.194-.158-.212-.224L10.16 1.29C9.99.645 9.444.095 8.701.031A8.094 8.094 0 008 0zm1.5 8a1.5 1.5 0 11-3 0 1.5 1.5 0 013 0zM11 8a3 3 0 11-6 0 3 3 0 016 0z"></path>
</svg>
      </span>
    <span class="ActionList-item-label ">
              Settings

    </span>
</a></li>
</ul></li>

          <li role="separator" aria-hidden="true" data-view-component="true" class="ActionList-sectionDivider"></li>
        <li data-view-component="true" class="ActionList-item ActionList-item--hasSubItem">
  
    <ul aria-label="" data-view-component="true" class="ActionList ActionList--subGroup">
        <li data-item-id="" data-view-component="true" class="ActionList-item">
  <a href="/logout" data-view-component="true" class="ActionList-content ActionList-content--visual16">
    <span class="ActionList-item-label ">
              Sign out

    </span>
</a></li>
</ul></li>

</ul></nav></action-list>
    
</div>
      
</modal-dialog></div>

        </div>
      </div>
    </div>


      <div class="AppHeader-localBar">
        <nav data-pjax="#js-repo-pjax-container" aria-label="Repository" data-view-component="true" class="js-repo-nav js-sidenav-container-pjax js-responsive-underlinenav overflow-hidden UnderlineNav">

  <ul data-view-component="true" class="UnderlineNav-body list-style-none">
      <li data-view-component="true" class="d-inline-flex">
  <a id="code-tab" href="/github/renderables" data-tab-item="i0code-tab" data-selected-links="repo_source repo_downloads repo_commits repo_releases repo_tags repo_branches repo_packages repo_deployments /github/renderables" data-pjax="#repo-content-pjax-container" data-turbo-frame="repo-content-turbo-frame" data-hotkey="g c" data-analytics-event="{&quot;category&quot;:&quot;Underline navbar&quot;,&quot;action&quot;:&quot;Click tab&quot;,&quot;label&quot;:&quot;Code&quot;,&quot;target&quot;:&quot;UNDERLINE_NAV.TAB&quot;}" data-view-component="true" class="UnderlineNav-item no-wrap js-responsive-underlinenav-item js-selected-navigation-item">
    
              <svg aria-hidden="true" height="16" viewBox="0 0 16 16" version="1.1" width="16" data-view-component="true" class="octicon octicon-code UnderlineNav-octicon d-none d-sm-inline">
    <path fill-rule="evenodd" d="M4.72 3.22a.75.75 0 011.06 1.06L2.06 8l3.72 3.72a.75.75 0 11-1.06 1.06L.47 8.53a.75.75 0 010-1.06l4.25-4.25zm6.56 0a.75.75 0 10-1.06 1.06L13.94 8l-3.72 3.72a.75.75 0 101.06 1.06l4.25-4.25a.75.75 0 000-1.06l-4.25-4.25z"></path>
</svg>
        <span data-content="Code">Code</span>
          <span id="code-repo-tab-count" data-pjax-replace="" data-turbo-replace="" title="Not available" data-view-component="true" class="Counter"></span>


    
</a></li>
      <li data-view-component="true" class="d-inline-flex">
  <a id="issues-tab" href="/github/renderables/issues" data-tab-item="i1issues-tab" data-selected-links="repo_issues repo_labels repo_milestones /github/renderables/issues" data-pjax="#repo-content-pjax-container" data-turbo-frame="repo-content-turbo-frame" data-hotkey="g i" data-analytics-event="{&quot;category&quot;:&quot;Underline navbar&quot;,&quot;action&quot;:&quot;Click tab&quot;,&quot;label&quot;:&quot;Issues&quot;,&quot;target&quot;:&quot;UNDERLINE_NAV.TAB&quot;}" data-view-component="true" class="UnderlineNav-item no-wrap js-responsive-underlinenav-item js-selected-navigation-item">
    
              <svg aria-hidden="true" height="16" viewBox="0 0 16 16" version="1.1" width="16" data-view-component="true" class="octicon octicon-issue-opened UnderlineNav-octicon d-none d-sm-inline">
    <path d="M8 9.5a1.5 1.5 0 100-3 1.5 1.5 0 000 3z"></path><path fill-rule="evenodd" d="M8 0a8 8 0 100 16A8 8 0 008 0zM1.5 8a6.5 6.5 0 1113 0 6.5 6.5 0 01-13 0z"></path>
</svg>
        <span data-content="Issues">Issues</span>
          <span id="issues-repo-tab-count" data-pjax-replace="" data-turbo-replace="" title="4" data-view-component="true" class="Counter">4</span>


    
</a></li>
      <li data-view-component="true" class="d-inline-flex">
  <a id="pull-requests-tab" href="/github/renderables/pulls" data-tab-item="i2pull-requests-tab" data-selected-links="repo_pulls checks /github/renderables/pulls" data-pjax="#repo-content-pjax-container" data-turbo-frame="repo-content-turbo-frame" data-hotkey="g p" data-analytics-event="{&quot;category&quot;:&quot;Underline navbar&quot;,&quot;action&quot;:&quot;Click tab&quot;,&quot;label&quot;:&quot;Pull requests&quot;,&quot;target&quot;:&quot;UNDERLINE_NAV.TAB&quot;}" data-view-component="true" class="UnderlineNav-item no-wrap js-responsive-underlinenav-item js-selected-navigation-item">
    
              <svg aria-hidden="true" height="16" viewBox="0 0 16 16" version="1.1" width="16" data-view-component="true" class="octicon octicon-git-pull-request UnderlineNav-octicon d-none d-sm-inline">
    <path fill-rule="evenodd" d="M7.177 3.073L9.573.677A.25.25 0 0110 .854v4.792a.25.25 0 01-.427.177L7.177 3.427a.25.25 0 010-.354zM3.75 2.5a.75.75 0 100 1.5.75.75 0 000-1.5zm-2.25.75a2.25 2.25 0 113 2.122v5.256a2.251 2.251 0 11-1.5 0V5.372A2.25 2.25 0 011.5 3.25zM11 2.5h-1V4h1a1 1 0 011 1v5.628a2.251 2.251 0 101.5 0V5A2.5 2.5 0 0011 2.5zm1 10.25a.75.75 0 111.5 0 .75.75 0 01-1.5 0zM3.75 12a.75.75 0 100 1.5.75.75 0 000-1.5z"></path>
</svg>
        <span data-content="Pull requests">Pull requests</span>
          <span id="pull-requests-repo-tab-count" data-pjax-replace="" data-turbo-replace="" title="18" data-view-component="true" class="Counter">18</span>


    
</a></li>
      <li data-view-component="true" class="d-inline-flex">
  <a id="discussions-tab" href="/github/renderables/discussions" data-tab-item="i3discussions-tab" data-selected-links="repo_discussions /github/renderables/discussions" data-pjax="#repo-content-pjax-container" data-turbo-frame="repo-content-turbo-frame" data-hotkey="g g" data-analytics-event="{&quot;category&quot;:&quot;Underline navbar&quot;,&quot;action&quot;:&quot;Click tab&quot;,&quot;label&quot;:&quot;Discussions&quot;,&quot;target&quot;:&quot;UNDERLINE_NAV.TAB&quot;}" data-view-component="true" class="UnderlineNav-item no-wrap js-responsive-underlinenav-item js-selected-navigation-item">
    
              <svg aria-hidden="true" height="16" viewBox="0 0 16 16" version="1.1" width="16" data-view-component="true" class="octicon octicon-comment-discussion UnderlineNav-octicon d-none d-sm-inline">
    <path fill-rule="evenodd" d="M1.5 2.75a.25.25 0 01.25-.25h8.5a.25.25 0 01.25.25v5.5a.25.25 0 01-.25.25h-3.5a.75.75 0 00-.53.22L3.5 11.44V9.25a.75.75 0 00-.75-.75h-1a.25.25 0 01-.25-.25v-5.5zM1.75 1A1.75 1.75 0 000 2.75v5.5C0 9.216.784 10 1.75 10H2v1.543a1.457 1.457 0 002.487 1.03L7.061 10h3.189A1.75 1.75 0 0012 8.25v-5.5A1.75 1.75 0 0010.25 1h-8.5zM14.5 4.75a.25.25 0 00-.25-.25h-.5a.75.75 0 110-1.5h.5c.966 0 1.75.784 1.75 1.75v5.5A1.75 1.75 0 0114.25 12H14v1.543a1.457 1.457 0 01-2.487 1.03L9.22 12.28a.75.75 0 111.06-1.06l2.22 2.22v-2.19a.75.75 0 01.75-.75h1a.25.25 0 00.25-.25v-5.5z"></path>
</svg>
        <span data-content="Discussions">Discussions</span>
          <span id="discussions-repo-tab-count" data-pjax-replace="" data-turbo-replace="" title="Not available" data-view-component="true" class="Counter"></span>


    
</a></li>
      <li data-view-component="true" class="d-inline-flex">
  <a id="actions-tab" href="/github/renderables/actions" data-tab-item="i4actions-tab" data-selected-links="repo_actions /github/renderables/actions" data-pjax="#repo-content-pjax-container" data-turbo-frame="repo-content-turbo-frame" data-hotkey="g a" data-analytics-event="{&quot;category&quot;:&quot;Underline navbar&quot;,&quot;action&quot;:&quot;Click tab&quot;,&quot;label&quot;:&quot;Actions&quot;,&quot;target&quot;:&quot;UNDERLINE_NAV.TAB&quot;}" data-view-component="true" class="UnderlineNav-item no-wrap js-responsive-underlinenav-item js-selected-navigation-item">
    
              <svg aria-hidden="true" height="16" viewBox="0 0 16 16" version="1.1" width="16" data-view-component="true" class="octicon octicon-play UnderlineNav-octicon d-none d-sm-inline">
    <path fill-rule="evenodd" d="M1.5 8a6.5 6.5 0 1113 0 6.5 6.5 0 01-13 0zM8 0a8 8 0 100 16A8 8 0 008 0zM6.379 5.227A.25.25 0 006 5.442v5.117a.25.25 0 00.379.214l4.264-2.559a.25.25 0 000-.428L6.379 5.227z"></path>
</svg>
        <span data-content="Actions">Actions</span>
          <span id="actions-repo-tab-count" data-pjax-replace="" data-turbo-replace="" title="Not available" data-view-component="true" class="Counter"></span>


    
</a></li>
      <li data-view-component="true" class="d-inline-flex">
  <a id="projects-tab" href="/github/renderables/projects" data-tab-item="i5projects-tab" data-selected-links="repo_projects new_repo_project repo_project /github/renderables/projects" data-pjax="#repo-content-pjax-container" data-turbo-frame="repo-content-turbo-frame" data-hotkey="g b" data-analytics-event="{&quot;category&quot;:&quot;Underline navbar&quot;,&quot;action&quot;:&quot;Click tab&quot;,&quot;label&quot;:&quot;Projects&quot;,&quot;target&quot;:&quot;UNDERLINE_NAV.TAB&quot;}" data-view-component="true" class="UnderlineNav-item no-wrap js-responsive-underlinenav-item js-selected-navigation-item">
    
              <svg aria-hidden="true" height="16" viewBox="0 0 16 16" version="1.1" width="16" data-view-component="true" class="octicon octicon-table UnderlineNav-octicon d-none d-sm-inline">
    <path fill-rule="evenodd" d="M0 1.75C0 .784.784 0 1.75 0h12.5C15.216 0 16 .784 16 1.75v12.5A1.75 1.75 0 0114.25 16H1.75A1.75 1.75 0 010 14.25V1.75zM1.5 6.5v7.75c0 .138.112.25.25.25H5v-8H1.5zM5 5H1.5V1.75a.25.25 0 01.25-.25H5V5zm1.5 1.5v8h7.75a.25.25 0 00.25-.25V6.5h-8zm8-1.5h-8V1.5h7.75a.25.25 0 01.25.25V5z"></path>
</svg>
        <span data-content="Projects">Projects</span>
          <span id="projects-repo-tab-count" data-pjax-replace="" data-turbo-replace="" title="0" hidden="hidden" data-view-component="true" class="Counter">0</span>


    
</a></li>
      <li data-view-component="true" class="d-inline-flex">
  <a id="wiki-tab" href="/github/renderables/wiki" data-tab-item="i6wiki-tab" data-selected-links="repo_wiki /github/renderables/wiki" data-pjax="#repo-content-pjax-container" data-turbo-frame="repo-content-turbo-frame" data-hotkey="g w" data-analytics-event="{&quot;category&quot;:&quot;Underline navbar&quot;,&quot;action&quot;:&quot;Click tab&quot;,&quot;label&quot;:&quot;Wiki&quot;,&quot;target&quot;:&quot;UNDERLINE_NAV.TAB&quot;}" data-view-component="true" class="UnderlineNav-item no-wrap js-responsive-underlinenav-item js-selected-navigation-item">
    
              <svg aria-hidden="true" height="16" viewBox="0 0 16 16" version="1.1" width="16" data-view-component="true" class="octicon octicon-book UnderlineNav-octicon d-none d-sm-inline">
    <path fill-rule="evenodd" d="M0 1.75A.75.75 0 01.75 1h4.253c1.227 0 2.317.59 3 1.501A3.744 3.744 0 0111.006 1h4.245a.75.75 0 01.75.75v10.5a.75.75 0 01-.75.75h-4.507a2.25 2.25 0 00-1.591.659l-.622.621a.75.75 0 01-1.06 0l-.622-.621A2.25 2.25 0 005.258 13H.75a.75.75 0 01-.75-.75V1.75zm8.755 3a2.25 2.25 0 012.25-2.25H14.5v9h-3.757c-.71 0-1.4.201-1.992.572l.004-7.322zm-1.504 7.324l.004-5.073-.002-2.253A2.25 2.25 0 005.003 2.5H1.5v9h3.757a3.75 3.75 0 011.994.574z"></path>
</svg>
        <span data-content="Wiki">Wiki</span>
          <span id="wiki-repo-tab-count" data-pjax-replace="" data-turbo-replace="" title="Not available" data-view-component="true" class="Counter"></span>


    
</a></li>
      <li data-view-component="true" class="d-inline-flex">
  <a id="security-tab" href="/github/renderables/security" data-tab-item="i7security-tab" data-selected-links="security overview alerts policy token_scanning code_scanning /github/renderables/security" data-pjax="#repo-content-pjax-container" data-turbo-frame="repo-content-turbo-frame" data-hotkey="g s" data-analytics-event="{&quot;category&quot;:&quot;Underline navbar&quot;,&quot;action&quot;:&quot;Click tab&quot;,&quot;label&quot;:&quot;Security&quot;,&quot;target&quot;:&quot;UNDERLINE_NAV.TAB&quot;}" data-view-component="true" class="UnderlineNav-item no-wrap js-responsive-underlinenav-item js-selected-navigation-item">
    
              <svg aria-hidden="true" height="16" viewBox="0 0 16 16" version="1.1" width="16" data-view-component="true" class="octicon octicon-shield UnderlineNav-octicon d-none d-sm-inline">
    <path fill-rule="evenodd" d="M7.467.133a1.75 1.75 0 011.066 0l5.25 1.68A1.75 1.75 0 0115 3.48V7c0 1.566-.32 3.182-1.303 4.682-.983 1.498-2.585 2.813-5.032 3.855a1.7 1.7 0 01-1.33 0c-2.447-1.042-4.049-2.357-5.032-3.855C1.32 10.182 1 8.566 1 7V3.48a1.75 1.75 0 011.217-1.667l5.25-1.68zm.61 1.429a.25.25 0 00-.153 0l-5.25 1.68a.25.25 0 00-.174.238V7c0 1.358.275 2.666 1.057 3.86.784 1.194 2.121 2.34 4.366 3.297a.2.2 0 00.154 0c2.245-.956 3.582-2.104 4.366-3.298C13.225 9.666 13.5 8.36 13.5 7V3.48a.25.25 0 00-.174-.237l-5.25-1.68zM9 10.5a1 1 0 11-2 0 1 1 0 012 0zm-.25-5.75a.75.75 0 10-1.5 0v3a.75.75 0 001.5 0v-3z"></path>
</svg>
        <span data-content="Security">Security</span>
          <include-fragment src="/github/renderables/security/overall-count" accept="text/fragment+html"></include-fragment>

    
</a></li>
      <li data-view-component="true" class="d-inline-flex">
  <a id="insights-tab" href="/github/renderables/pulse" data-tab-item="i8insights-tab" data-selected-links="repo_graphs repo_contributors dependency_graph dependabot_updates pulse people community /github/renderables/pulse" data-pjax="#repo-content-pjax-container" data-turbo-frame="repo-content-turbo-frame" data-analytics-event="{&quot;category&quot;:&quot;Underline navbar&quot;,&quot;action&quot;:&quot;Click tab&quot;,&quot;label&quot;:&quot;Insights&quot;,&quot;target&quot;:&quot;UNDERLINE_NAV.TAB&quot;}" data-view-component="true" class="UnderlineNav-item no-wrap js-responsive-underlinenav-item js-selected-navigation-item">
    
              <svg aria-hidden="true" height="16" viewBox="0 0 16 16" version="1.1" width="16" data-view-component="true" class="octicon octicon-graph UnderlineNav-octicon d-none d-sm-inline">
    <path fill-rule="evenodd" d="M1.5 1.75a.75.75 0 00-1.5 0v12.5c0 .414.336.75.75.75h14.5a.75.75 0 000-1.5H1.5V1.75zm14.28 2.53a.75.75 0 00-1.06-1.06L10 7.94 7.53 5.47a.75.75 0 00-1.06 0L3.22 8.72a.75.75 0 001.06 1.06L7 7.06l2.47 2.47a.75.75 0 001.06 0l5.25-5.25z"></path>
</svg>
        <span data-content="Insights">Insights</span>
          <span id="insights-repo-tab-count" data-pjax-replace="" data-turbo-replace="" title="Not available" data-view-component="true" class="Counter"></span>


    
</a></li>
      <li data-view-component="true" class="d-inline-flex">
  <a id="settings-tab" href="/github/renderables/settings" data-tab-item="i9settings-tab" data-selected-links="repo_settings repo_branch_settings collaborators hooks integration_installations repo_keys_settings issue_template_editor secrets_settings_actions secrets_settings_codespaces secrets_settings_dependabot security_analysis key_links_settings repo_actions_settings notifications repository_actions_settings_runners repository_environments interaction_limits repository_actions_settings_general repository_actions_settings_add_new_runner repo_pages_settings repo_announcements repo_protected_tags_settings /github/renderables/settings" data-pjax="#repo-content-pjax-container" data-turbo-frame="repo-content-turbo-frame" data-analytics-event="{&quot;category&quot;:&quot;Underline navbar&quot;,&quot;action&quot;:&quot;Click tab&quot;,&quot;label&quot;:&quot;Settings&quot;,&quot;target&quot;:&quot;UNDERLINE_NAV.TAB&quot;}" data-view-component="true" class="UnderlineNav-item no-wrap js-responsive-underlinenav-item js-selected-navigation-item">
    
              <svg aria-hidden="true" height="16" viewBox="0 0 16 16" version="1.1" width="16" data-view-component="true" class="octicon octicon-gear UnderlineNav-octicon d-none d-sm-inline">
    <path fill-rule="evenodd" d="M7.429 1.525a6.593 6.593 0 011.142 0c.036.003.108.036.137.146l.289 1.105c.147.56.55.967.997 1.189.174.086.341.183.501.29.417.278.97.423 1.53.27l1.102-.303c.11-.03.175.016.195.046.219.31.41.641.573.989.014.031.022.11-.059.19l-.815.806c-.411.406-.562.957-.53 1.456a4.588 4.588 0 010 .582c-.032.499.119 1.05.53 1.456l.815.806c.08.08.073.159.059.19a6.494 6.494 0 01-.573.99c-.02.029-.086.074-.195.045l-1.103-.303c-.559-.153-1.112-.008-1.529.27-.16.107-.327.204-.5.29-.449.222-.851.628-.998 1.189l-.289 1.105c-.029.11-.101.143-.137.146a6.613 6.613 0 01-1.142 0c-.036-.003-.108-.037-.137-.146l-.289-1.105c-.147-.56-.55-.967-.997-1.189a4.502 4.502 0 01-.501-.29c-.417-.278-.97-.423-1.53-.27l-1.102.303c-.11.03-.175-.016-.195-.046a6.492 6.492 0 01-.573-.989c-.014-.031-.022-.11.059-.19l.815-.806c.411-.406.562-.957.53-1.456a4.587 4.587 0 010-.582c.032-.499-.119-1.05-.53-1.456l-.815-.806c-.08-.08-.073-.159-.059-.19a6.44 6.44 0 01.573-.99c.02-.029.086-.075.195-.045l1.103.303c.559.153 1.112.008 1.529-.27.16-.107.327-.204.5-.29.449-.222.851-.628.998-1.189l.289-1.105c.029-.11.101-.143.137-.146zM8 0c-.236 0-.47.01-.701.03-.743.065-1.29.615-1.458 1.261l-.29 1.106c-.017.066-.078.158-.211.224a5.994 5.994 0 00-.668.386c-.123.082-.233.09-.3.071L3.27 2.776c-.644-.177-1.392.02-1.82.63a7.977 7.977 0 00-.704 1.217c-.315.675-.111 1.422.363 1.891l.815.806c.05.048.098.147.088.294a6.084 6.084 0 000 .772c.01.147-.038.246-.088.294l-.815.806c-.474.469-.678 1.216-.363 1.891.2.428.436.835.704 1.218.428.609 1.176.806 1.82.63l1.103-.303c.066-.019.176-.011.299.071.213.143.436.272.668.386.133.066.194.158.212.224l.289 1.106c.169.646.715 1.196 1.458 1.26a8.094 8.094 0 001.402 0c.743-.064 1.29-.614 1.458-1.26l.29-1.106c.017-.066.078-.158.211-.224a5.98 5.98 0 00.668-.386c.123-.082.233-.09.3-.071l1.102.302c.644.177 1.392-.02 1.82-.63.268-.382.505-.789.704-1.217.315-.675.111-1.422-.364-1.891l-.814-.806c-.05-.048-.098-.147-.088-.294a6.1 6.1 0 000-.772c-.01-.147.039-.246.088-.294l.814-.806c.475-.469.679-1.216.364-1.891a7.992 7.992 0 00-.704-1.218c-.428-.609-1.176-.806-1.82-.63l-1.103.303c-.066.019-.176.011-.299-.071a5.991 5.991 0 00-.668-.386c-.133-.066-.194-.158-.212-.224L10.16 1.29C9.99.645 9.444.095 8.701.031A8.094 8.094 0 008 0zm1.5 8a1.5 1.5 0 11-3 0 1.5 1.5 0 013 0zM11 8a3 3 0 11-6 0 3 3 0 016 0z"></path>
</svg>
        <span data-content="Settings">Settings</span>
          <span id="settings-repo-tab-count" data-pjax-replace="" data-turbo-replace="" title="Not available" data-view-component="true" class="Counter"></span>


    
</a></li>
</ul>
    <div style="visibility:hidden;" data-view-component="true" class="UnderlineNav-actions js-responsive-underlinenav-overflow position-absolute pr-3 pr-md-4 pr-lg-5 right-0">      <details data-view-component="true" class="details-overlay details-reset position-relative">
  <summary role="button" data-view-component="true">          <div class="UnderlineNav-item mr-0 border-0">
            <svg aria-hidden="true" height="16" viewBox="0 0 16 16" version="1.1" width="16" data-view-component="true" class="octicon octicon-kebab-horizontal">
    <path d="M8 9a1.5 1.5 0 100-3 1.5 1.5 0 000 3zM1.5 9a1.5 1.5 0 100-3 1.5 1.5 0 000 3zm13 0a1.5 1.5 0 100-3 1.5 1.5 0 000 3z"></path>
</svg>
            <span class="sr-only">More</span>
          </div>
</summary>
  <details-menu role="menu" data-view-component="true" class="dropdown-menu dropdown-menu-sw">          <ul>
              <li data-menu-item="i0code-tab" hidden>
                <a role="menuitem" class="js-selected-navigation-item dropdown-item" data-selected-links="repo_source repo_downloads repo_commits repo_releases repo_tags repo_branches repo_packages repo_deployments /github/renderables" href="/github/renderables">
                  Code
</a>              </li>
              <li data-menu-item="i1issues-tab" hidden>
                <a role="menuitem" class="js-selected-navigation-item dropdown-item" data-selected-links="repo_issues repo_labels repo_milestones /github/renderables/issues" href="/github/renderables/issues">
                  Issues
</a>              </li>
              <li data-menu-item="i2pull-requests-tab" hidden>
                <a role="menuitem" class="js-selected-navigation-item dropdown-item" data-selected-links="repo_pulls checks /github/renderables/pulls" href="/github/renderables/pulls">
                  Pull requests
</a>              </li>
              <li data-menu-item="i3discussions-tab" hidden>
                <a role="menuitem" class="js-selected-navigation-item dropdown-item" data-selected-links="repo_discussions /github/renderables/discussions" href="/github/renderables/discussions">
                  Discussions
</a>              </li>
              <li data-menu-item="i4actions-tab" hidden>
                <a role="menuitem" class="js-selected-navigation-item dropdown-item" data-selected-links="repo_actions /github/renderables/actions" href="/github/renderables/actions">
                  Actions
</a>              </li>
              <li data-menu-item="i5projects-tab" hidden>
                <a role="menuitem" class="js-selected-navigation-item dropdown-item" data-selected-links="repo_projects new_repo_project repo_project /github/renderables/projects" href="/github/renderables/projects">
                  Projects
</a>              </li>
              <li data-menu-item="i6wiki-tab" hidden>
                <a role="menuitem" class="js-selected-navigation-item dropdown-item" data-selected-links="repo_wiki /github/renderables/wiki" href="/github/renderables/wiki">
                  Wiki
</a>              </li>
              <li data-menu-item="i7security-tab" hidden>
                <a role="menuitem" class="js-selected-navigation-item dropdown-item" data-selected-links="security overview alerts policy token_scanning code_scanning /github/renderables/security" href="/github/renderables/security">
                  Security
</a>              </li>
              <li data-menu-item="i8insights-tab" hidden>
                <a role="menuitem" class="js-selected-navigation-item dropdown-item" data-selected-links="repo_graphs repo_contributors dependency_graph dependabot_updates pulse people community /github/renderables/pulse" href="/github/renderables/pulse">
                  Insights
</a>              </li>
              <li data-menu-item="i9settings-tab" hidden>
                <a role="menuitem" class="js-selected-navigation-item dropdown-item" data-selected-links="repo_settings repo_branch_settings collaborators hooks integration_installations repo_keys_settings issue_template_editor secrets_settings_actions secrets_settings_codespaces secrets_settings_dependabot security_analysis key_links_settings repo_actions_settings notifications repository_actions_settings_runners repository_environments interaction_limits repository_actions_settings_general repository_actions_settings_add_new_runner repo_pages_settings repo_announcements repo_protected_tags_settings /github/renderables/settings" href="/github/renderables/settings">
                  Settings
</a>              </li>
          </ul>
</details-menu>
</details></div>
</nav>


      </div>
</div>


            
    </div>

  <div id="start-of-content" class="show-on-focus"></div>







    <div id="js-flash-container" data-turbo-replace>




  <template class="js-flash-template">
    
<div class="flash flash-full   {{ className }}">
  <div class="px-2" >
    <button class="flash-close js-flash-close" type="button" aria-label="Dismiss this message">
      <svg aria-hidden="true" height="16" viewBox="0 0 16 16" version="1.1" width="16" data-view-component="true" class="octicon octicon-x">
    <path fill-rule="evenodd" d="M3.72 3.72a.75.75 0 011.06 0L8 6.94l3.22-3.22a.75.75 0 111.06 1.06L9.06 8l3.22 3.22a.75.75 0 11-1.06 1.06L8 9.06l-3.22 3.22a.75.75 0 01-1.06-1.06L6.94 8 3.72 4.78a.75.75 0 010-1.06z"></path>
</svg>
    </button>
    
      <div>{{ message }}</div>

  </div>
</div>
  </template>
</div>


    
  <include-fragment class="js-notification-shelf-include-fragment" data-base-src="https://github.com/notifications/beta/shelf"></include-fragment>





      <details
  class="details-reset details-overlay details-overlay-dark js-command-palette-dialog"
  id="command-palette-pjax-container"
  data-turbo-replace
>
  <summary aria-label="command palette trigger">
  </summary>
  <details-dialog class="command-palette-details-dialog d-flex flex-column flex-justify-center height-fit" aria-label="command palette">
    <command-palette
      class="command-palette color-bg-default rounded-3 border color-shadow-small"
      return-to=/github/renderables/blob/main/ipynb/XKCD_plots.ipynb
      user-id="7219923"
      activation-hotkey="Mod+k,Mod+Alt+k"
      command-mode-hotkey="Mod+Shift+k"
        commands-path="/command_palette/command"
      data-action="
        command-palette-input-ready:command-palette#inputReady
        command-palette-page-stack-updated:command-palette#updateInputScope
        itemsUpdated:command-palette#itemsUpdated
        keydown:command-palette#onKeydown
        loadingStateChanged:command-palette#loadingStateChanged
        selectedItemChanged:command-palette#selectedItemChanged
        pageFetchError:command-palette#pageFetchError
      ">

        <command-palette-mode
          data-char="#"
            data-scope-types="[&quot;&quot;]"
            data-placeholder="Search issues and pull requests"
        ></command-palette-mode>
        <command-palette-mode
          data-char="#"
            data-scope-types="[&quot;owner&quot;,&quot;repository&quot;]"
            data-placeholder="Search issues, pull requests, discussions, and projects"
        ></command-palette-mode>
        <command-palette-mode
          data-char="!"
            data-scope-types="[&quot;owner&quot;,&quot;repository&quot;]"
            data-placeholder="Search projects"
        ></command-palette-mode>
        <command-palette-mode
          data-char="@"
            data-scope-types="[&quot;&quot;]"
            data-placeholder="Search or jump to a user, organization, or repository"
        ></command-palette-mode>
        <command-palette-mode
          data-char="@"
            data-scope-types="[&quot;owner&quot;]"
            data-placeholder="Search or jump to a repository"
        ></command-palette-mode>
        <command-palette-mode
          data-char="/"
            data-scope-types="[&quot;repository&quot;]"
            data-placeholder="Search files"
        ></command-palette-mode>
        <command-palette-mode
          data-char="?"
        ></command-palette-mode>
        <command-palette-mode
          data-char="&gt;"
            data-placeholder="Run a command"
        ></command-palette-mode>
        <command-palette-mode
          data-char=""
            data-scope-types="[&quot;&quot;]"
            data-placeholder="Search or jump to..."
        ></command-palette-mode>
        <command-palette-mode
          data-char=""
            data-scope-types="[&quot;owner&quot;]"
            data-placeholder="Search or jump to..."
        ></command-palette-mode>
      <command-palette-mode
        class="js-command-palette-default-mode"
        data-char=""
        data-placeholder="Search or jump to..."
      ></command-palette-mode>

      <command-palette-input placeholder="Search or jump to..."

        data-action="
          command-palette-input:command-palette#onInput
          command-palette-select:command-palette#onSelect
          command-palette-descope:command-palette#onDescope
          command-palette-cleared:command-palette#onInputClear
        "
      >
        <div class="js-search-icon d-flex flex-items-center mr-2" style="height: 26px">
          <svg aria-hidden="true" height="16" viewBox="0 0 16 16" version="1.1" width="16" data-view-component="true" class="octicon octicon-search color-fg-muted">
    <path fill-rule="evenodd" d="M11.5 7a4.499 4.499 0 11-8.998 0A4.499 4.499 0 0111.5 7zm-.82 4.74a6 6 0 111.06-1.06l3.04 3.04a.75.75 0 11-1.06 1.06l-3.04-3.04z"></path>
</svg>
        </div>
        <div class="js-spinner d-flex flex-items-center mr-2 color-fg-muted" hidden>
          <svg aria-label="Loading" class="anim-rotate" viewBox="0 0 16 16" fill="none" width="16" height="16">
            <circle
              cx="8"
              cy="8"
              r="7"
              stroke="currentColor"
              stroke-opacity="0.25"
              stroke-width="2"
              vector-effect="non-scaling-stroke"
            ></circle>
            <path
              d="M15 8a7.002 7.002 0 00-7-7"
              stroke="currentColor"
              stroke-width="2"
              stroke-linecap="round"
              vector-effect="non-scaling-stroke"
            ></path>
          </svg>
        </div>
        <command-palette-scope >
          <div data-target="command-palette-scope.placeholder" hidden class="color-fg-subtle">/&nbsp;&nbsp;<span class="text-semibold color-fg-default">...</span>&nbsp;&nbsp;/&nbsp;&nbsp;</div>
              <command-palette-token
                data-text="github"
                data-id="MDEyOk9yZ2FuaXphdGlvbjk5MTk="
                data-type="owner"
                data-value="github"
                data-targets="command-palette-scope.tokens"
                class="color-fg-default text-semibold"
                style="white-space:nowrap;line-height:20px;"
                >github<span class="color-fg-subtle text-normal">&nbsp;&nbsp;/&nbsp;&nbsp;</span></command-palette-token>
              <command-palette-token
                data-text="renderables"
                data-id="MDEwOlJlcG9zaXRvcnkxMDc3NDk4Nw=="
                data-type="repository"
                data-value="renderables"
                data-targets="command-palette-scope.tokens"
                class="color-fg-default text-semibold"
                style="white-space:nowrap;line-height:20px;"
                >renderables<span class="color-fg-subtle text-normal">&nbsp;&nbsp;/&nbsp;&nbsp;</span></command-palette-token>
        </command-palette-scope>
        <div class="command-palette-input-group flex-1 form-control border-0 box-shadow-none" style="z-index: 0">
          <div class="command-palette-typeahead position-absolute d-flex flex-items-center Truncate">
            <span class="typeahead-segment input-mirror" data-target="command-palette-input.mirror"></span>
            <span class="Truncate-text" data-target="command-palette-input.typeaheadText"></span>
            <span class="typeahead-segment" data-target="command-palette-input.typeaheadPlaceholder"></span>
          </div>
          <input
            class="js-overlay-input typeahead-input d-none"
            disabled
            tabindex="-1"
            aria-label="Hidden input for typeahead"
          >
          <input
            type="text"
            autocomplete="off"
            autocorrect="off"
            autocapitalize="off"
            spellcheck="false"
            class="js-input typeahead-input form-control border-0 box-shadow-none input-block width-full no-focus-indicator"
            aria-label="Command palette input"
            aria-haspopup="listbox"
            aria-expanded="false"
            aria-autocomplete="list"
            aria-controls="command-palette-page-stack"
            role="combobox"
            data-action="
              input:command-palette-input#onInput
              keydown:command-palette-input#onKeydown
            "
          >
        </div>
          <div data-view-component="true" class="position-relative d-inline-block">
    <button aria-keyshortcuts="Meta+Delete" data-action="click:command-palette-input#onClear keypress:command-palette-input#onClear" data-target="command-palette-input.clearButton" id="command-palette-clear-button" hidden="hidden" type="button" data-view-component="true" class="btn-octicon command-palette-input-clear-button">      <svg aria-hidden="true" height="16" viewBox="0 0 16 16" version="1.1" width="16" data-view-component="true" class="octicon octicon-x-circle-fill">
    <path fill-rule="evenodd" d="M2.343 13.657A8 8 0 1113.657 2.343 8 8 0 012.343 13.657zM6.03 4.97a.75.75 0 00-1.06 1.06L6.94 8 4.97 9.97a.75.75 0 101.06 1.06L8 9.06l1.97 1.97a.75.75 0 101.06-1.06L9.06 8l1.97-1.97a.75.75 0 10-1.06-1.06L8 6.94 6.03 4.97z"></path>
</svg>
</button>    <tool-tip for="command-palette-clear-button" data-direction="w" data-type="label" data-view-component="true" class="sr-only position-absolute">Clear Command Palette</tool-tip>
</div>
      </command-palette-input>

      <command-palette-page-stack
        data-default-scope-id="MDEwOlJlcG9zaXRvcnkxMDc3NDk4Nw=="
        data-default-scope-type="Repository"
        data-action="command-palette-page-octicons-cached:command-palette-page-stack#cacheOcticons"
      >
          <command-palette-tip
            class="color-fg-muted f6 px-3 py-1 my-2"
              data-scope-types="[&quot;&quot;,&quot;owner&quot;,&quot;repository&quot;]"
            data-mode=""
            data-value="">
            <div class="d-flex flex-items-start flex-justify-between">
              <div>
                <span class="text-bold">Tip:</span>
                  Type <kbd class="hx_kbd">#</kbd> to search pull requests
              </div>
              <div class="ml-2 flex-shrink-0">
                Type <kbd class="hx_kbd">?</kbd> for help and tips
              </div>
            </div>
          </command-palette-tip>
          <command-palette-tip
            class="color-fg-muted f6 px-3 py-1 my-2"
              data-scope-types="[&quot;&quot;,&quot;owner&quot;,&quot;repository&quot;]"
            data-mode=""
            data-value="">
            <div class="d-flex flex-items-start flex-justify-between">
              <div>
                <span class="text-bold">Tip:</span>
                  Type <kbd class="hx_kbd">#</kbd> to search issues
              </div>
              <div class="ml-2 flex-shrink-0">
                Type <kbd class="hx_kbd">?</kbd> for help and tips
              </div>
            </div>
          </command-palette-tip>
          <command-palette-tip
            class="color-fg-muted f6 px-3 py-1 my-2"
              data-scope-types="[&quot;owner&quot;,&quot;repository&quot;]"
            data-mode=""
            data-value="">
            <div class="d-flex flex-items-start flex-justify-between">
              <div>
                <span class="text-bold">Tip:</span>
                  Type <kbd class="hx_kbd">#</kbd> to search discussions
              </div>
              <div class="ml-2 flex-shrink-0">
                Type <kbd class="hx_kbd">?</kbd> for help and tips
              </div>
            </div>
          </command-palette-tip>
          <command-palette-tip
            class="color-fg-muted f6 px-3 py-1 my-2"
              data-scope-types="[&quot;owner&quot;,&quot;repository&quot;]"
            data-mode=""
            data-value="">
            <div class="d-flex flex-items-start flex-justify-between">
              <div>
                <span class="text-bold">Tip:</span>
                  Type <kbd class="hx_kbd">!</kbd> to search projects
              </div>
              <div class="ml-2 flex-shrink-0">
                Type <kbd class="hx_kbd">?</kbd> for help and tips
              </div>
            </div>
          </command-palette-tip>
          <command-palette-tip
            class="color-fg-muted f6 px-3 py-1 my-2"
              data-scope-types="[&quot;owner&quot;]"
            data-mode=""
            data-value="">
            <div class="d-flex flex-items-start flex-justify-between">
              <div>
                <span class="text-bold">Tip:</span>
                  Type <kbd class="hx_kbd">@</kbd> to search teams
              </div>
              <div class="ml-2 flex-shrink-0">
                Type <kbd class="hx_kbd">?</kbd> for help and tips
              </div>
            </div>
          </command-palette-tip>
          <command-palette-tip
            class="color-fg-muted f6 px-3 py-1 my-2"
              data-scope-types="[&quot;&quot;]"
            data-mode=""
            data-value="">
            <div class="d-flex flex-items-start flex-justify-between">
              <div>
                <span class="text-bold">Tip:</span>
                  Type <kbd class="hx_kbd">@</kbd> to search people and organizations
              </div>
              <div class="ml-2 flex-shrink-0">
                Type <kbd class="hx_kbd">?</kbd> for help and tips
              </div>
            </div>
          </command-palette-tip>
          <command-palette-tip
            class="color-fg-muted f6 px-3 py-1 my-2"
              data-scope-types="[&quot;&quot;,&quot;owner&quot;,&quot;repository&quot;]"
            data-mode=""
            data-value="">
            <div class="d-flex flex-items-start flex-justify-between">
              <div>
                <span class="text-bold">Tip:</span>
                  Type <kbd class="hx_kbd">&gt;</kbd> to activate command mode
              </div>
              <div class="ml-2 flex-shrink-0">
                Type <kbd class="hx_kbd">?</kbd> for help and tips
              </div>
            </div>
          </command-palette-tip>
          <command-palette-tip
            class="color-fg-muted f6 px-3 py-1 my-2"
              data-scope-types="[&quot;&quot;,&quot;owner&quot;,&quot;repository&quot;]"
            data-mode=""
            data-value="">
            <div class="d-flex flex-items-start flex-justify-between">
              <div>
                <span class="text-bold">Tip:</span>
                  Go to your accessibility settings to change your keyboard shortcuts
              </div>
              <div class="ml-2 flex-shrink-0">
                Type <kbd class="hx_kbd">?</kbd> for help and tips
              </div>
            </div>
          </command-palette-tip>
          <command-palette-tip
            class="color-fg-muted f6 px-3 py-1 my-2"
              data-scope-types="[&quot;&quot;,&quot;owner&quot;,&quot;repository&quot;]"
            data-mode="#"
            data-value="">
            <div class="d-flex flex-items-start flex-justify-between">
              <div>
                <span class="text-bold">Tip:</span>
                  Type author:@me to search your content
              </div>
              <div class="ml-2 flex-shrink-0">
                Type <kbd class="hx_kbd">?</kbd> for help and tips
              </div>
            </div>
          </command-palette-tip>
          <command-palette-tip
            class="color-fg-muted f6 px-3 py-1 my-2"
              data-scope-types="[&quot;&quot;,&quot;owner&quot;,&quot;repository&quot;]"
            data-mode="#"
            data-value="">
            <div class="d-flex flex-items-start flex-justify-between">
              <div>
                <span class="text-bold">Tip:</span>
                  Type is:pr to filter to pull requests
              </div>
              <div class="ml-2 flex-shrink-0">
                Type <kbd class="hx_kbd">?</kbd> for help and tips
              </div>
            </div>
          </command-palette-tip>
          <command-palette-tip
            class="color-fg-muted f6 px-3 py-1 my-2"
              data-scope-types="[&quot;&quot;,&quot;owner&quot;,&quot;repository&quot;]"
            data-mode="#"
            data-value="">
            <div class="d-flex flex-items-start flex-justify-between">
              <div>
                <span class="text-bold">Tip:</span>
                  Type is:issue to filter to issues
              </div>
              <div class="ml-2 flex-shrink-0">
                Type <kbd class="hx_kbd">?</kbd> for help and tips
              </div>
            </div>
          </command-palette-tip>
          <command-palette-tip
            class="color-fg-muted f6 px-3 py-1 my-2"
              data-scope-types="[&quot;owner&quot;,&quot;repository&quot;]"
            data-mode="#"
            data-value="">
            <div class="d-flex flex-items-start flex-justify-between">
              <div>
                <span class="text-bold">Tip:</span>
                  Type is:project to filter to projects
              </div>
              <div class="ml-2 flex-shrink-0">
                Type <kbd class="hx_kbd">?</kbd> for help and tips
              </div>
            </div>
          </command-palette-tip>
          <command-palette-tip
            class="color-fg-muted f6 px-3 py-1 my-2"
              data-scope-types="[&quot;&quot;,&quot;owner&quot;,&quot;repository&quot;]"
            data-mode="#"
            data-value="">
            <div class="d-flex flex-items-start flex-justify-between">
              <div>
                <span class="text-bold">Tip:</span>
                  Type is:open to filter to open content
              </div>
              <div class="ml-2 flex-shrink-0">
                Type <kbd class="hx_kbd">?</kbd> for help and tips
              </div>
            </div>
          </command-palette-tip>
        <command-palette-tip class="mx-3 my-2 flash flash-error d-flex flex-items-center" data-scope-types="*" data-on-error>
          <div>
            <svg aria-hidden="true" height="16" viewBox="0 0 16 16" version="1.1" width="16" data-view-component="true" class="octicon octicon-alert">
    <path fill-rule="evenodd" d="M8.22 1.754a.25.25 0 00-.44 0L1.698 13.132a.25.25 0 00.22.368h12.164a.25.25 0 00.22-.368L8.22 1.754zm-1.763-.707c.659-1.234 2.427-1.234 3.086 0l6.082 11.378A1.75 1.75 0 0114.082 15H1.918a1.75 1.75 0 01-1.543-2.575L6.457 1.047zM9 11a1 1 0 11-2 0 1 1 0 012 0zm-.25-5.25a.75.75 0 00-1.5 0v2.5a.75.75 0 001.5 0v-2.5z"></path>
</svg>
          </div>
          <div class="px-2">
            We’ve encountered an error and some results aren't available at this time. Type a new search or try again later.
          </div>
        </command-palette-tip>
        <command-palette-tip class="h4 color-fg-default pl-3 pb-2 pt-3" data-on-empty data-scope-types="*" data-match-mode="[^?]|^$">
          No results matched your search
        </command-palette-tip>

        <div hidden>

            <div data-targets="command-palette-page-stack.localOcticons" data-octicon-id="arrow-right-color-fg-muted">
              <svg height="16" class="octicon octicon-arrow-right color-fg-muted" viewBox="0 0 16 16" version="1.1" width="16" aria-hidden="true"><path fill-rule="evenodd" d="M8.22 2.97a.75.75 0 011.06 0l4.25 4.25a.75.75 0 010 1.06l-4.25 4.25a.75.75 0 01-1.06-1.06l2.97-2.97H3.75a.75.75 0 010-1.5h7.44L8.22 4.03a.75.75 0 010-1.06z"></path></svg>
            </div>
            <div data-targets="command-palette-page-stack.localOcticons" data-octicon-id="arrow-right-color-fg-default">
              <svg height="16" class="octicon octicon-arrow-right color-fg-default" viewBox="0 0 16 16" version="1.1" width="16" aria-hidden="true"><path fill-rule="evenodd" d="M8.22 2.97a.75.75 0 011.06 0l4.25 4.25a.75.75 0 010 1.06l-4.25 4.25a.75.75 0 01-1.06-1.06l2.97-2.97H3.75a.75.75 0 010-1.5h7.44L8.22 4.03a.75.75 0 010-1.06z"></path></svg>
            </div>
            <div data-targets="command-palette-page-stack.localOcticons" data-octicon-id="codespaces-color-fg-muted">
              <svg height="16" class="octicon octicon-codespaces color-fg-muted" viewBox="0 0 16 16" version="1.1" width="16" aria-hidden="true"><path fill-rule="evenodd" d="M2 1.75C2 .784 2.784 0 3.75 0h8.5C13.216 0 14 .784 14 1.75v5a1.75 1.75 0 01-1.75 1.75h-8.5A1.75 1.75 0 012 6.75v-5zm1.75-.25a.25.25 0 00-.25.25v5c0 .138.112.25.25.25h8.5a.25.25 0 00.25-.25v-5a.25.25 0 00-.25-.25h-8.5zM0 11.25c0-.966.784-1.75 1.75-1.75h12.5c.966 0 1.75.784 1.75 1.75v3A1.75 1.75 0 0114.25 16H1.75A1.75 1.75 0 010 14.25v-3zM1.75 11a.25.25 0 00-.25.25v3c0 .138.112.25.25.25h12.5a.25.25 0 00.25-.25v-3a.25.25 0 00-.25-.25H1.75z"></path><path fill-rule="evenodd" d="M3 12.75a.75.75 0 01.75-.75h.5a.75.75 0 010 1.5h-.5a.75.75 0 01-.75-.75zm4 0a.75.75 0 01.75-.75h4.5a.75.75 0 010 1.5h-4.5a.75.75 0 01-.75-.75z"></path></svg>
            </div>
            <div data-targets="command-palette-page-stack.localOcticons" data-octicon-id="copy-color-fg-muted">
              <svg height="16" class="octicon octicon-copy color-fg-muted" viewBox="0 0 16 16" version="1.1" width="16" aria-hidden="true"><path fill-rule="evenodd" d="M0 6.75C0 5.784.784 5 1.75 5h1.5a.75.75 0 010 1.5h-1.5a.25.25 0 00-.25.25v7.5c0 .138.112.25.25.25h7.5a.25.25 0 00.25-.25v-1.5a.75.75 0 011.5 0v1.5A1.75 1.75 0 019.25 16h-7.5A1.75 1.75 0 010 14.25v-7.5z"></path><path fill-rule="evenodd" d="M5 1.75C5 .784 5.784 0 6.75 0h7.5C15.216 0 16 .784 16 1.75v7.5A1.75 1.75 0 0114.25 11h-7.5A1.75 1.75 0 015 9.25v-7.5zm1.75-.25a.25.25 0 00-.25.25v7.5c0 .138.112.25.25.25h7.5a.25.25 0 00.25-.25v-7.5a.25.25 0 00-.25-.25h-7.5z"></path></svg>
            </div>
            <div data-targets="command-palette-page-stack.localOcticons" data-octicon-id="dash-color-fg-muted">
              <svg height="16" class="octicon octicon-dash color-fg-muted" viewBox="0 0 16 16" version="1.1" width="16" aria-hidden="true"><path fill-rule="evenodd" d="M2 7.75A.75.75 0 012.75 7h10a.75.75 0 010 1.5h-10A.75.75 0 012 7.75z"></path></svg>
            </div>
            <div data-targets="command-palette-page-stack.localOcticons" data-octicon-id="file-color-fg-muted">
              <svg height="16" class="octicon octicon-file color-fg-muted" viewBox="0 0 16 16" version="1.1" width="16" aria-hidden="true"><path fill-rule="evenodd" d="M3.75 1.5a.25.25 0 00-.25.25v12.5c0 .138.112.25.25.25h9.5a.25.25 0 00.25-.25V6h-2.75A1.75 1.75 0 019 4.25V1.5H3.75zm6.75.062V4.25c0 .138.112.25.25.25h2.688a.252.252 0 00-.011-.013l-2.914-2.914a.272.272 0 00-.013-.011zM2 1.75C2 .784 2.784 0 3.75 0h6.586c.464 0 .909.184 1.237.513l2.914 2.914c.329.328.513.773.513 1.237v9.586A1.75 1.75 0 0113.25 16h-9.5A1.75 1.75 0 012 14.25V1.75z"></path></svg>
            </div>
            <div data-targets="command-palette-page-stack.localOcticons" data-octicon-id="gear-color-fg-muted">
              <svg height="16" class="octicon octicon-gear color-fg-muted" viewBox="0 0 16 16" version="1.1" width="16" aria-hidden="true"><path fill-rule="evenodd" d="M7.429 1.525a6.593 6.593 0 011.142 0c.036.003.108.036.137.146l.289 1.105c.147.56.55.967.997 1.189.174.086.341.183.501.29.417.278.97.423 1.53.27l1.102-.303c.11-.03.175.016.195.046.219.31.41.641.573.989.014.031.022.11-.059.19l-.815.806c-.411.406-.562.957-.53 1.456a4.588 4.588 0 010 .582c-.032.499.119 1.05.53 1.456l.815.806c.08.08.073.159.059.19a6.494 6.494 0 01-.573.99c-.02.029-.086.074-.195.045l-1.103-.303c-.559-.153-1.112-.008-1.529.27-.16.107-.327.204-.5.29-.449.222-.851.628-.998 1.189l-.289 1.105c-.029.11-.101.143-.137.146a6.613 6.613 0 01-1.142 0c-.036-.003-.108-.037-.137-.146l-.289-1.105c-.147-.56-.55-.967-.997-1.189a4.502 4.502 0 01-.501-.29c-.417-.278-.97-.423-1.53-.27l-1.102.303c-.11.03-.175-.016-.195-.046a6.492 6.492 0 01-.573-.989c-.014-.031-.022-.11.059-.19l.815-.806c.411-.406.562-.957.53-1.456a4.587 4.587 0 010-.582c.032-.499-.119-1.05-.53-1.456l-.815-.806c-.08-.08-.073-.159-.059-.19a6.44 6.44 0 01.573-.99c.02-.029.086-.075.195-.045l1.103.303c.559.153 1.112.008 1.529-.27.16-.107.327-.204.5-.29.449-.222.851-.628.998-1.189l.289-1.105c.029-.11.101-.143.137-.146zM8 0c-.236 0-.47.01-.701.03-.743.065-1.29.615-1.458 1.261l-.29 1.106c-.017.066-.078.158-.211.224a5.994 5.994 0 00-.668.386c-.123.082-.233.09-.3.071L3.27 2.776c-.644-.177-1.392.02-1.82.63a7.977 7.977 0 00-.704 1.217c-.315.675-.111 1.422.363 1.891l.815.806c.05.048.098.147.088.294a6.084 6.084 0 000 .772c.01.147-.038.246-.088.294l-.815.806c-.474.469-.678 1.216-.363 1.891.2.428.436.835.704 1.218.428.609 1.176.806 1.82.63l1.103-.303c.066-.019.176-.011.299.071.213.143.436.272.668.386.133.066.194.158.212.224l.289 1.106c.169.646.715 1.196 1.458 1.26a8.094 8.094 0 001.402 0c.743-.064 1.29-.614 1.458-1.26l.29-1.106c.017-.066.078-.158.211-.224a5.98 5.98 0 00.668-.386c.123-.082.233-.09.3-.071l1.102.302c.644.177 1.392-.02 1.82-.63.268-.382.505-.789.704-1.217.315-.675.111-1.422-.364-1.891l-.814-.806c-.05-.048-.098-.147-.088-.294a6.1 6.1 0 000-.772c-.01-.147.039-.246.088-.294l.814-.806c.475-.469.679-1.216.364-1.891a7.992 7.992 0 00-.704-1.218c-.428-.609-1.176-.806-1.82-.63l-1.103.303c-.066.019-.176.011-.299-.071a5.991 5.991 0 00-.668-.386c-.133-.066-.194-.158-.212-.224L10.16 1.29C9.99.645 9.444.095 8.701.031A8.094 8.094 0 008 0zm1.5 8a1.5 1.5 0 11-3 0 1.5 1.5 0 013 0zM11 8a3 3 0 11-6 0 3 3 0 016 0z"></path></svg>
            </div>
            <div data-targets="command-palette-page-stack.localOcticons" data-octicon-id="lock-color-fg-muted">
              <svg height="16" class="octicon octicon-lock color-fg-muted" viewBox="0 0 16 16" version="1.1" width="16" aria-hidden="true"><path fill-rule="evenodd" d="M4 4v2h-.25A1.75 1.75 0 002 7.75v5.5c0 .966.784 1.75 1.75 1.75h8.5A1.75 1.75 0 0014 13.25v-5.5A1.75 1.75 0 0012.25 6H12V4a4 4 0 10-8 0zm6.5 2V4a2.5 2.5 0 00-5 0v2h5zM12 7.5h.25a.25.25 0 01.25.25v5.5a.25.25 0 01-.25.25h-8.5a.25.25 0 01-.25-.25v-5.5a.25.25 0 01.25-.25H12z"></path></svg>
            </div>
            <div data-targets="command-palette-page-stack.localOcticons" data-octicon-id="moon-color-fg-muted">
              <svg height="16" class="octicon octicon-moon color-fg-muted" viewBox="0 0 16 16" version="1.1" width="16" aria-hidden="true"><path fill-rule="evenodd" d="M9.598 1.591a.75.75 0 01.785-.175 7 7 0 11-8.967 8.967.75.75 0 01.961-.96 5.5 5.5 0 007.046-7.046.75.75 0 01.175-.786zm1.616 1.945a7 7 0 01-7.678 7.678 5.5 5.5 0 107.678-7.678z"></path></svg>
            </div>
            <div data-targets="command-palette-page-stack.localOcticons" data-octicon-id="person-color-fg-muted">
              <svg height="16" class="octicon octicon-person color-fg-muted" viewBox="0 0 16 16" version="1.1" width="16" aria-hidden="true"><path fill-rule="evenodd" d="M10.5 5a2.5 2.5 0 11-5 0 2.5 2.5 0 015 0zm.061 3.073a4 4 0 10-5.123 0 6.004 6.004 0 00-3.431 5.142.75.75 0 001.498.07 4.5 4.5 0 018.99 0 .75.75 0 101.498-.07 6.005 6.005 0 00-3.432-5.142z"></path></svg>
            </div>
            <div data-targets="command-palette-page-stack.localOcticons" data-octicon-id="pencil-color-fg-muted">
              <svg height="16" class="octicon octicon-pencil color-fg-muted" viewBox="0 0 16 16" version="1.1" width="16" aria-hidden="true"><path fill-rule="evenodd" d="M11.013 1.427a1.75 1.75 0 012.474 0l1.086 1.086a1.75 1.75 0 010 2.474l-8.61 8.61c-.21.21-.47.364-.756.445l-3.251.93a.75.75 0 01-.927-.928l.929-3.25a1.75 1.75 0 01.445-.758l8.61-8.61zm1.414 1.06a.25.25 0 00-.354 0L10.811 3.75l1.439 1.44 1.263-1.263a.25.25 0 000-.354l-1.086-1.086zM11.189 6.25L9.75 4.81l-6.286 6.287a.25.25 0 00-.064.108l-.558 1.953 1.953-.558a.249.249 0 00.108-.064l6.286-6.286z"></path></svg>
            </div>
            <div data-targets="command-palette-page-stack.localOcticons" data-octicon-id="issue-opened-open">
              <svg height="16" class="octicon octicon-issue-opened open" viewBox="0 0 16 16" version="1.1" width="16" aria-hidden="true"><path d="M8 9.5a1.5 1.5 0 100-3 1.5 1.5 0 000 3z"></path><path fill-rule="evenodd" d="M8 0a8 8 0 100 16A8 8 0 008 0zM1.5 8a6.5 6.5 0 1113 0 6.5 6.5 0 01-13 0z"></path></svg>
            </div>
            <div data-targets="command-palette-page-stack.localOcticons" data-octicon-id="git-pull-request-draft-color-fg-muted">
              <svg height="16" class="octicon octicon-git-pull-request-draft color-fg-muted" viewBox="0 0 16 16" version="1.1" width="16" aria-hidden="true"><path fill-rule="evenodd" d="M2.5 3.25a.75.75 0 111.5 0 .75.75 0 01-1.5 0zM3.25 1a2.25 2.25 0 00-.75 4.372v5.256a2.251 2.251 0 101.5 0V5.372A2.25 2.25 0 003.25 1zm0 11a.75.75 0 100 1.5.75.75 0 000-1.5zm9.5 3a2.25 2.25 0 100-4.5 2.25 2.25 0 000 4.5zm0-3a.75.75 0 100 1.5.75.75 0 000-1.5z"></path><path d="M14 7.5a1.25 1.25 0 11-2.5 0 1.25 1.25 0 012.5 0zm0-4.25a1.25 1.25 0 11-2.5 0 1.25 1.25 0 012.5 0z"></path></svg>
            </div>
            <div data-targets="command-palette-page-stack.localOcticons" data-octicon-id="search-color-fg-muted">
              <svg height="16" class="octicon octicon-search color-fg-muted" viewBox="0 0 16 16" version="1.1" width="16" aria-hidden="true"><path fill-rule="evenodd" d="M11.5 7a4.499 4.499 0 11-8.998 0A4.499 4.499 0 0111.5 7zm-.82 4.74a6 6 0 111.06-1.06l3.04 3.04a.75.75 0 11-1.06 1.06l-3.04-3.04z"></path></svg>
            </div>
            <div data-targets="command-palette-page-stack.localOcticons" data-octicon-id="sun-color-fg-muted">
              <svg height="16" class="octicon octicon-sun color-fg-muted" viewBox="0 0 16 16" version="1.1" width="16" aria-hidden="true"><path fill-rule="evenodd" d="M8 10.5a2.5 2.5 0 100-5 2.5 2.5 0 000 5zM8 12a4 4 0 100-8 4 4 0 000 8zM8 0a.75.75 0 01.75.75v1.5a.75.75 0 01-1.5 0V.75A.75.75 0 018 0zm0 13a.75.75 0 01.75.75v1.5a.75.75 0 01-1.5 0v-1.5A.75.75 0 018 13zM2.343 2.343a.75.75 0 011.061 0l1.06 1.061a.75.75 0 01-1.06 1.06l-1.06-1.06a.75.75 0 010-1.06zm9.193 9.193a.75.75 0 011.06 0l1.061 1.06a.75.75 0 01-1.06 1.061l-1.061-1.06a.75.75 0 010-1.061zM16 8a.75.75 0 01-.75.75h-1.5a.75.75 0 010-1.5h1.5A.75.75 0 0116 8zM3 8a.75.75 0 01-.75.75H.75a.75.75 0 010-1.5h1.5A.75.75 0 013 8zm10.657-5.657a.75.75 0 010 1.061l-1.061 1.06a.75.75 0 11-1.06-1.06l1.06-1.06a.75.75 0 011.06 0zm-9.193 9.193a.75.75 0 010 1.06l-1.06 1.061a.75.75 0 11-1.061-1.06l1.06-1.061a.75.75 0 011.061 0z"></path></svg>
            </div>
            <div data-targets="command-palette-page-stack.localOcticons" data-octicon-id="sync-color-fg-muted">
              <svg height="16" class="octicon octicon-sync color-fg-muted" viewBox="0 0 16 16" version="1.1" width="16" aria-hidden="true"><path fill-rule="evenodd" d="M8 2.5a5.487 5.487 0 00-4.131 1.869l1.204 1.204A.25.25 0 014.896 6H1.25A.25.25 0 011 5.75V2.104a.25.25 0 01.427-.177l1.38 1.38A7.001 7.001 0 0114.95 7.16a.75.75 0 11-1.49.178A5.501 5.501 0 008 2.5zM1.705 8.005a.75.75 0 01.834.656 5.501 5.501 0 009.592 2.97l-1.204-1.204a.25.25 0 01.177-.427h3.646a.25.25 0 01.25.25v3.646a.25.25 0 01-.427.177l-1.38-1.38A7.001 7.001 0 011.05 8.84a.75.75 0 01.656-.834z"></path></svg>
            </div>
            <div data-targets="command-palette-page-stack.localOcticons" data-octicon-id="trash-color-fg-muted">
              <svg height="16" class="octicon octicon-trash color-fg-muted" viewBox="0 0 16 16" version="1.1" width="16" aria-hidden="true"><path fill-rule="evenodd" d="M6.5 1.75a.25.25 0 01.25-.25h2.5a.25.25 0 01.25.25V3h-3V1.75zm4.5 0V3h2.25a.75.75 0 010 1.5H2.75a.75.75 0 010-1.5H5V1.75C5 .784 5.784 0 6.75 0h2.5C10.216 0 11 .784 11 1.75zM4.496 6.675a.75.75 0 10-1.492.15l.66 6.6A1.75 1.75 0 005.405 15h5.19c.9 0 1.652-.681 1.741-1.576l.66-6.6a.75.75 0 00-1.492-.149l-.66 6.6a.25.25 0 01-.249.225h-5.19a.25.25 0 01-.249-.225l-.66-6.6z"></path></svg>
            </div>
            <div data-targets="command-palette-page-stack.localOcticons" data-octicon-id="key-color-fg-muted">
              <svg height="16" class="octicon octicon-key color-fg-muted" viewBox="0 0 16 16" version="1.1" width="16" aria-hidden="true"><path fill-rule="evenodd" d="M6.5 5.5a4 4 0 112.731 3.795.75.75 0 00-.768.18L7.44 10.5H6.25a.75.75 0 00-.75.75v1.19l-.06.06H4.25a.75.75 0 00-.75.75v1.19l-.06.06H1.75a.25.25 0 01-.25-.25v-1.69l5.024-5.023a.75.75 0 00.181-.768A3.995 3.995 0 016.5 5.5zm4-5.5a5.5 5.5 0 00-5.348 6.788L.22 11.72a.75.75 0 00-.22.53v2C0 15.216.784 16 1.75 16h2a.75.75 0 00.53-.22l.5-.5a.75.75 0 00.22-.53V14h.75a.75.75 0 00.53-.22l.5-.5a.75.75 0 00.22-.53V12h.75a.75.75 0 00.53-.22l.932-.932A5.5 5.5 0 1010.5 0zm.5 6a1 1 0 100-2 1 1 0 000 2z"></path></svg>
            </div>
            <div data-targets="command-palette-page-stack.localOcticons" data-octicon-id="comment-discussion-color-fg-muted">
              <svg height="16" class="octicon octicon-comment-discussion color-fg-muted" viewBox="0 0 16 16" version="1.1" width="16" aria-hidden="true"><path fill-rule="evenodd" d="M1.5 2.75a.25.25 0 01.25-.25h8.5a.25.25 0 01.25.25v5.5a.25.25 0 01-.25.25h-3.5a.75.75 0 00-.53.22L3.5 11.44V9.25a.75.75 0 00-.75-.75h-1a.25.25 0 01-.25-.25v-5.5zM1.75 1A1.75 1.75 0 000 2.75v5.5C0 9.216.784 10 1.75 10H2v1.543a1.457 1.457 0 002.487 1.03L7.061 10h3.189A1.75 1.75 0 0012 8.25v-5.5A1.75 1.75 0 0010.25 1h-8.5zM14.5 4.75a.25.25 0 00-.25-.25h-.5a.75.75 0 110-1.5h.5c.966 0 1.75.784 1.75 1.75v5.5A1.75 1.75 0 0114.25 12H14v1.543a1.457 1.457 0 01-2.487 1.03L9.22 12.28a.75.75 0 111.06-1.06l2.22 2.22v-2.19a.75.75 0 01.75-.75h1a.25.25 0 00.25-.25v-5.5z"></path></svg>
            </div>
            <div data-targets="command-palette-page-stack.localOcticons" data-octicon-id="bell-color-fg-muted">
              <svg height="16" class="octicon octicon-bell color-fg-muted" viewBox="0 0 16 16" version="1.1" width="16" aria-hidden="true"><path d="M8 16a2 2 0 001.985-1.75c.017-.137-.097-.25-.235-.25h-3.5c-.138 0-.252.113-.235.25A2 2 0 008 16z"></path><path fill-rule="evenodd" d="M8 1.5A3.5 3.5 0 004.5 5v2.947c0 .346-.102.683-.294.97l-1.703 2.556a.018.018 0 00-.003.01l.001.006c0 .002.002.004.004.006a.017.017 0 00.006.004l.007.001h10.964l.007-.001a.016.016 0 00.006-.004.016.016 0 00.004-.006l.001-.007a.017.017 0 00-.003-.01l-1.703-2.554a1.75 1.75 0 01-.294-.97V5A3.5 3.5 0 008 1.5zM3 5a5 5 0 0110 0v2.947c0 .05.015.098.042.139l1.703 2.555A1.518 1.518 0 0113.482 13H2.518a1.518 1.518 0 01-1.263-2.36l1.703-2.554A.25.25 0 003 7.947V5z"></path></svg>
            </div>
            <div data-targets="command-palette-page-stack.localOcticons" data-octicon-id="bell-slash-color-fg-muted">
              <svg height="16" class="octicon octicon-bell-slash color-fg-muted" viewBox="0 0 16 16" version="1.1" width="16" aria-hidden="true"><path fill-rule="evenodd" d="M8 1.5c-.997 0-1.895.416-2.534 1.086A.75.75 0 014.38 1.55 5 5 0 0113 5v2.373a.75.75 0 01-1.5 0V5A3.5 3.5 0 008 1.5zM4.182 4.31L1.19 2.143a.75.75 0 10-.88 1.214L3 5.305v2.642a.25.25 0 01-.042.139L1.255 10.64A1.518 1.518 0 002.518 13h11.108l1.184.857a.75.75 0 10.88-1.214l-1.375-.996a1.196 1.196 0 00-.013-.01L4.198 4.321a.733.733 0 00-.016-.011zm7.373 7.19L4.5 6.391v1.556c0 .346-.102.683-.294.97l-1.703 2.556a.018.018 0 00-.003.01.015.015 0 00.005.012.017.017 0 00.006.004l.007.001h9.037zM8 16a2 2 0 001.985-1.75c.017-.137-.097-.25-.235-.25h-3.5c-.138 0-.252.113-.235.25A2 2 0 008 16z"></path></svg>
            </div>
            <div data-targets="command-palette-page-stack.localOcticons" data-octicon-id="paintbrush-color-fg-muted">
              <svg height="16" class="octicon octicon-paintbrush color-fg-muted" viewBox="0 0 16 16" version="1.1" width="16" aria-hidden="true"><path fill-rule="evenodd" d="M11.134 1.535C9.722 2.562 8.16 4.057 6.889 5.312 5.8 6.387 5.041 7.401 4.575 8.294a3.745 3.745 0 00-3.227 1.054c-.43.431-.69 1.066-.86 1.657a11.982 11.982 0 00-.358 1.914A21.263 21.263 0 000 15.203v.054l.75-.007-.007.75h.054a14.404 14.404 0 00.654-.012 21.243 21.243 0 001.63-.118c.62-.07 1.3-.18 1.914-.357.592-.17 1.226-.43 1.657-.861a3.745 3.745 0 001.055-3.217c.908-.461 1.942-1.216 3.04-2.3 1.279-1.262 2.764-2.825 3.775-4.249.501-.706.923-1.428 1.125-2.096.2-.659.235-1.469-.368-2.07-.606-.607-1.42-.55-2.069-.34-.66.213-1.376.646-2.076 1.155zm-3.95 8.48a3.76 3.76 0 00-1.19-1.192 9.758 9.758 0 011.161-1.607l1.658 1.658a9.853 9.853 0 01-1.63 1.142zM.742 16l.007-.75-.75.008A.75.75 0 00.743 16zM12.016 2.749c-1.224.89-2.605 2.189-3.822 3.384l1.718 1.718c1.21-1.205 2.51-2.597 3.387-3.833.47-.662.78-1.227.912-1.662.134-.444.032-.551.009-.575h-.001V1.78c-.014-.014-.112-.113-.548.027-.432.14-.995.462-1.655.942zM1.62 13.089a19.56 19.56 0 00-.104 1.395 19.55 19.55 0 001.396-.104 10.528 10.528 0 001.668-.309c.526-.151.856-.325 1.011-.48a2.25 2.25 0 00-3.182-3.182c-.155.155-.329.485-.48 1.01a10.515 10.515 0 00-.309 1.67z"></path></svg>
            </div>

            <command-palette-item-group
              data-group-id="top"
              data-group-title="Top result"
              data-group-hint=""
              data-group-limits="{}"
              data-default-priority="0"
            >
            </command-palette-item-group>
            <command-palette-item-group
              data-group-id="commands"
              data-group-title="Commands"
              data-group-hint="Type &gt; to filter"
              data-group-limits="{&quot;static_items_page&quot;:50,&quot;issue&quot;:50,&quot;pull_request&quot;:50,&quot;discussion&quot;:50}"
              data-default-priority="1"
            >
            </command-palette-item-group>
            <command-palette-item-group
              data-group-id="global_commands"
              data-group-title="Global Commands"
              data-group-hint="Type &gt; to filter"
              data-group-limits="{&quot;issue&quot;:0,&quot;pull_request&quot;:0,&quot;discussion&quot;:0}"
              data-default-priority="2"
            >
            </command-palette-item-group>
            <command-palette-item-group
              data-group-id="this_page"
              data-group-title="This Page"
              data-group-hint=""
              data-group-limits="{}"
              data-default-priority="3"
            >
            </command-palette-item-group>
            <command-palette-item-group
              data-group-id="files"
              data-group-title="Files"
              data-group-hint=""
              data-group-limits="{}"
              data-default-priority="4"
            >
            </command-palette-item-group>
            <command-palette-item-group
              data-group-id="default"
              data-group-title="Default"
              data-group-hint=""
              data-group-limits="{&quot;static_items_page&quot;:50}"
              data-default-priority="5"
            >
            </command-palette-item-group>
            <command-palette-item-group
              data-group-id="pages"
              data-group-title="Pages"
              data-group-hint=""
              data-group-limits="{&quot;repository&quot;:10}"
              data-default-priority="6"
            >
            </command-palette-item-group>
            <command-palette-item-group
              data-group-id="access_policies"
              data-group-title="Access Policies"
              data-group-hint=""
              data-group-limits="{}"
              data-default-priority="7"
            >
            </command-palette-item-group>
            <command-palette-item-group
              data-group-id="organizations"
              data-group-title="Organizations"
              data-group-hint=""
              data-group-limits="{}"
              data-default-priority="8"
            >
            </command-palette-item-group>
            <command-palette-item-group
              data-group-id="repositories"
              data-group-title="Repositories"
              data-group-hint=""
              data-group-limits="{}"
              data-default-priority="9"
            >
            </command-palette-item-group>
            <command-palette-item-group
              data-group-id="references"
              data-group-title="Issues, pull requests, and discussions"
              data-group-hint="Type # to filter"
              data-group-limits="{}"
              data-default-priority="10"
            >
            </command-palette-item-group>
            <command-palette-item-group
              data-group-id="teams"
              data-group-title="Teams"
              data-group-hint=""
              data-group-limits="{}"
              data-default-priority="11"
            >
            </command-palette-item-group>
            <command-palette-item-group
              data-group-id="users"
              data-group-title="Users"
              data-group-hint=""
              data-group-limits="{}"
              data-default-priority="12"
            >
            </command-palette-item-group>
            <command-palette-item-group
              data-group-id="projects"
              data-group-title="Projects"
              data-group-hint=""
              data-group-limits="{}"
              data-default-priority="13"
            >
            </command-palette-item-group>
            <command-palette-item-group
              data-group-id="footer"
              data-group-title="Footer"
              data-group-hint=""
              data-group-limits="{}"
              data-default-priority="14"
            >
            </command-palette-item-group>
            <command-palette-item-group
              data-group-id="modes_help"
              data-group-title="Modes"
              data-group-hint=""
              data-group-limits="{}"
              data-default-priority="15"
            >
            </command-palette-item-group>
            <command-palette-item-group
              data-group-id="filters_help"
              data-group-title="Use filters in issues, pull requests, discussions, and projects"
              data-group-hint=""
              data-group-limits="{}"
              data-default-priority="16"
            >
            </command-palette-item-group>

            <command-palette-page
              data-page-title="github"
              data-scope-id="MDEyOk9yZ2FuaXphdGlvbjk5MTk="
              data-scope-type="owner"
              data-targets="command-palette-page-stack.defaultPages"
              hidden
            >
            </command-palette-page>
            <command-palette-page
              data-page-title="renderables"
              data-scope-id="MDEwOlJlcG9zaXRvcnkxMDc3NDk4Nw=="
              data-scope-type="repository"
              data-targets="command-palette-page-stack.defaultPages"
              hidden
            >
            </command-palette-page>
        </div>

        <command-palette-page data-is-root>
        </command-palette-page>
          <command-palette-page
            data-page-title="github"
            data-scope-id="MDEyOk9yZ2FuaXphdGlvbjk5MTk="
            data-scope-type="owner"
          >
          </command-palette-page>
          <command-palette-page
            data-page-title="renderables"
            data-scope-id="MDEwOlJlcG9zaXRvcnkxMDc3NDk4Nw=="
            data-scope-type="repository"
          >
          </command-palette-page>
      </command-palette-page-stack>

      <server-defined-provider data-type="search-links" data-targets="command-palette.serverDefinedProviderElements"></server-defined-provider>
      <server-defined-provider data-type="help" data-targets="command-palette.serverDefinedProviderElements">
          <command-palette-help
            data-group="modes_help"
              data-prefix="#"
              data-scope-types="[&quot;&quot;]"
          >
            <span data-target="command-palette-help.titleElement">Search for <strong>issues</strong> and <strong>pull requests</strong></span>
              <span data-target="command-palette-help.hintElement">
                <kbd class="hx_kbd">#</kbd>
              </span>
          </command-palette-help>
          <command-palette-help
            data-group="modes_help"
              data-prefix="#"
              data-scope-types="[&quot;owner&quot;,&quot;repository&quot;]"
          >
            <span data-target="command-palette-help.titleElement">Search for <strong>issues, pull requests, discussions,</strong> and <strong>projects</strong></span>
              <span data-target="command-palette-help.hintElement">
                <kbd class="hx_kbd">#</kbd>
              </span>
          </command-palette-help>
          <command-palette-help
            data-group="modes_help"
              data-prefix="@"
              data-scope-types="[&quot;&quot;]"
          >
            <span data-target="command-palette-help.titleElement">Search for <strong>organizations, repositories,</strong> and <strong>users</strong></span>
              <span data-target="command-palette-help.hintElement">
                <kbd class="hx_kbd">@</kbd>
              </span>
          </command-palette-help>
          <command-palette-help
            data-group="modes_help"
              data-prefix="!"
              data-scope-types="[&quot;owner&quot;,&quot;repository&quot;]"
          >
            <span data-target="command-palette-help.titleElement">Search for <strong>projects</strong></span>
              <span data-target="command-palette-help.hintElement">
                <kbd class="hx_kbd">!</kbd>
              </span>
          </command-palette-help>
          <command-palette-help
            data-group="modes_help"
              data-prefix="/"
              data-scope-types="[&quot;repository&quot;]"
          >
            <span data-target="command-palette-help.titleElement">Search for <strong>files</strong></span>
              <span data-target="command-palette-help.hintElement">
                <kbd class="hx_kbd">/</kbd>
              </span>
          </command-palette-help>
          <command-palette-help
            data-group="modes_help"
              data-prefix="&gt;"
          >
            <span data-target="command-palette-help.titleElement">Activate <strong>command mode</strong></span>
              <span data-target="command-palette-help.hintElement">
                <kbd class="hx_kbd">&gt;</kbd>
              </span>
          </command-palette-help>
          <command-palette-help
            data-group="filters_help"
              data-prefix="# author:@me"
          >
            <span data-target="command-palette-help.titleElement">Search your issues, pull requests, and discussions</span>
              <span data-target="command-palette-help.hintElement">
                <kbd class="hx_kbd"># author:@me</kbd>
              </span>
          </command-palette-help>
          <command-palette-help
            data-group="filters_help"
              data-prefix="# author:@me"
          >
            <span data-target="command-palette-help.titleElement">Search your issues, pull requests, and discussions</span>
              <span data-target="command-palette-help.hintElement">
                <kbd class="hx_kbd"># author:@me</kbd>
              </span>
          </command-palette-help>
          <command-palette-help
            data-group="filters_help"
              data-prefix="# is:pr"
          >
            <span data-target="command-palette-help.titleElement">Filter to pull requests</span>
              <span data-target="command-palette-help.hintElement">
                <kbd class="hx_kbd"># is:pr</kbd>
              </span>
          </command-palette-help>
          <command-palette-help
            data-group="filters_help"
              data-prefix="# is:issue"
          >
            <span data-target="command-palette-help.titleElement">Filter to issues</span>
              <span data-target="command-palette-help.hintElement">
                <kbd class="hx_kbd"># is:issue</kbd>
              </span>
          </command-palette-help>
          <command-palette-help
            data-group="filters_help"
              data-prefix="# is:discussion"
              data-scope-types="[&quot;owner&quot;,&quot;repository&quot;]"
          >
            <span data-target="command-palette-help.titleElement">Filter to discussions</span>
              <span data-target="command-palette-help.hintElement">
                <kbd class="hx_kbd"># is:discussion</kbd>
              </span>
          </command-palette-help>
          <command-palette-help
            data-group="filters_help"
              data-prefix="# is:project"
              data-scope-types="[&quot;owner&quot;,&quot;repository&quot;]"
          >
            <span data-target="command-palette-help.titleElement">Filter to projects</span>
              <span data-target="command-palette-help.hintElement">
                <kbd class="hx_kbd"># is:project</kbd>
              </span>
          </command-palette-help>
          <command-palette-help
            data-group="filters_help"
              data-prefix="# is:open"
          >
            <span data-target="command-palette-help.titleElement">Filter to open issues, pull requests, and discussions</span>
              <span data-target="command-palette-help.hintElement">
                <kbd class="hx_kbd"># is:open</kbd>
              </span>
          </command-palette-help>
      </server-defined-provider>

        <server-defined-provider
          data-type="commands"
          data-fetch-debounce="0"
            data-src="/command_palette/commands"
          data-supported-modes="[]"
            data-supports-commands
          
          data-targets="command-palette.serverDefinedProviderElements"
          ></server-defined-provider>
        <server-defined-provider
          data-type="prefetched"
          data-fetch-debounce="0"
            data-src="/command_palette/jump_to_page_navigation"
          data-supported-modes="[&quot;&quot;]"
            data-supported-scope-types="[&quot;&quot;,&quot;owner&quot;,&quot;repository&quot;]"
          
          data-targets="command-palette.serverDefinedProviderElements"
          ></server-defined-provider>
        <server-defined-provider
          data-type="remote"
          data-fetch-debounce="200"
            data-src="/command_palette/issues"
          data-supported-modes="[&quot;#&quot;,&quot;#&quot;]"
            data-supported-scope-types="[&quot;owner&quot;,&quot;repository&quot;,&quot;&quot;]"
          
          data-targets="command-palette.serverDefinedProviderElements"
          ></server-defined-provider>
        <server-defined-provider
          data-type="remote"
          data-fetch-debounce="200"
            data-src="/command_palette/jump_to"
          data-supported-modes="[&quot;@&quot;,&quot;@&quot;]"
            data-supported-scope-types="[&quot;&quot;,&quot;owner&quot;]"
          
          data-targets="command-palette.serverDefinedProviderElements"
          ></server-defined-provider>
        <server-defined-provider
          data-type="remote"
          data-fetch-debounce="200"
            data-src="/command_palette/jump_to_members_only"
          data-supported-modes="[&quot;@&quot;,&quot;@&quot;,&quot;&quot;,&quot;&quot;]"
            data-supported-scope-types="[&quot;&quot;,&quot;owner&quot;]"
          
          data-targets="command-palette.serverDefinedProviderElements"
          ></server-defined-provider>
        <server-defined-provider
          data-type="prefetched"
          data-fetch-debounce="0"
            data-src="/command_palette/jump_to_members_only_prefetched"
          data-supported-modes="[&quot;@&quot;,&quot;@&quot;,&quot;&quot;,&quot;&quot;]"
            data-supported-scope-types="[&quot;&quot;,&quot;owner&quot;]"
          
          data-targets="command-palette.serverDefinedProviderElements"
          ></server-defined-provider>
        <server-defined-provider
          data-type="files"
          data-fetch-debounce="0"
            data-src="/command_palette/files"
          data-supported-modes="[&quot;/&quot;]"
            data-supported-scope-types="[&quot;repository&quot;]"
          
          data-targets="command-palette.serverDefinedProviderElements"
          ></server-defined-provider>
        <server-defined-provider
          data-type="remote"
          data-fetch-debounce="200"
            data-src="/command_palette/discussions"
          data-supported-modes="[&quot;#&quot;]"
            data-supported-scope-types="[&quot;owner&quot;,&quot;repository&quot;]"
          
          data-targets="command-palette.serverDefinedProviderElements"
          ></server-defined-provider>
        <server-defined-provider
          data-type="remote"
          data-fetch-debounce="200"
            data-src="/command_palette/projects"
          data-supported-modes="[&quot;#&quot;,&quot;!&quot;]"
            data-supported-scope-types="[&quot;owner&quot;,&quot;repository&quot;]"
          
          data-targets="command-palette.serverDefinedProviderElements"
          ></server-defined-provider>
        <server-defined-provider
          data-type="prefetched"
          data-fetch-debounce="0"
            data-src="/command_palette/recent_issues"
          data-supported-modes="[&quot;#&quot;,&quot;#&quot;]"
            data-supported-scope-types="[&quot;owner&quot;,&quot;repository&quot;,&quot;&quot;]"
          
          data-targets="command-palette.serverDefinedProviderElements"
          ></server-defined-provider>
        <server-defined-provider
          data-type="remote"
          data-fetch-debounce="200"
            data-src="/command_palette/teams"
          data-supported-modes="[&quot;@&quot;,&quot;&quot;]"
            data-supported-scope-types="[&quot;owner&quot;]"
          
          data-targets="command-palette.serverDefinedProviderElements"
          ></server-defined-provider>
        <server-defined-provider
          data-type="remote"
          data-fetch-debounce="200"
            data-src="/command_palette/name_with_owner_repository"
          data-supported-modes="[&quot;@&quot;,&quot;@&quot;,&quot;&quot;,&quot;&quot;]"
            data-supported-scope-types="[&quot;&quot;,&quot;owner&quot;]"
          
          data-targets="command-palette.serverDefinedProviderElements"
          ></server-defined-provider>
    </command-palette>
  </details-dialog>
</details>

<div class="position-fixed bottom-0 left-0 ml-5 mb-5 js-command-palette-toasts" style="z-index: 1000">
  <div hidden class="Toast Toast--loading">
    <span class="Toast-icon">
      <svg class="Toast--spinner" viewBox="0 0 32 32" width="18" height="18" aria-hidden="true">
        <path
          fill="#959da5"
          d="M16 0 A16 16 0 0 0 16 32 A16 16 0 0 0 16 0 M16 4 A12 12 0 0 1 16 28 A12 12 0 0 1 16 4"
        />
        <path fill="#ffffff" d="M16 0 A16 16 0 0 1 32 16 L28 16 A12 12 0 0 0 16 4z"></path>
      </svg>
    </span>
    <span class="Toast-content"></span>
  </div>

  <div hidden class="anim-fade-in fast Toast Toast--error">
    <span class="Toast-icon">
      <svg aria-hidden="true" height="16" viewBox="0 0 16 16" version="1.1" width="16" data-view-component="true" class="octicon octicon-stop">
    <path fill-rule="evenodd" d="M4.47.22A.75.75 0 015 0h6a.75.75 0 01.53.22l4.25 4.25c.141.14.22.331.22.53v6a.75.75 0 01-.22.53l-4.25 4.25A.75.75 0 0111 16H5a.75.75 0 01-.53-.22L.22 11.53A.75.75 0 010 11V5a.75.75 0 01.22-.53L4.47.22zm.84 1.28L1.5 5.31v5.38l3.81 3.81h5.38l3.81-3.81V5.31L10.69 1.5H5.31zM8 4a.75.75 0 01.75.75v3.5a.75.75 0 01-1.5 0v-3.5A.75.75 0 018 4zm0 8a1 1 0 100-2 1 1 0 000 2z"></path>
</svg>
    </span>
    <span class="Toast-content"></span>
  </div>

  <div hidden class="anim-fade-in fast Toast Toast--warning">
    <span class="Toast-icon">
      <svg aria-hidden="true" height="16" viewBox="0 0 16 16" version="1.1" width="16" data-view-component="true" class="octicon octicon-alert">
    <path fill-rule="evenodd" d="M8.22 1.754a.25.25 0 00-.44 0L1.698 13.132a.25.25 0 00.22.368h12.164a.25.25 0 00.22-.368L8.22 1.754zm-1.763-.707c.659-1.234 2.427-1.234 3.086 0l6.082 11.378A1.75 1.75 0 0114.082 15H1.918a1.75 1.75 0 01-1.543-2.575L6.457 1.047zM9 11a1 1 0 11-2 0 1 1 0 012 0zm-.25-5.25a.75.75 0 00-1.5 0v2.5a.75.75 0 001.5 0v-2.5z"></path>
</svg>
    </span>
    <span class="Toast-content"></span>
  </div>


  <div hidden class="anim-fade-in fast Toast Toast--success">
    <span class="Toast-icon">
      <svg aria-hidden="true" height="16" viewBox="0 0 16 16" version="1.1" width="16" data-view-component="true" class="octicon octicon-check">
    <path fill-rule="evenodd" d="M13.78 4.22a.75.75 0 010 1.06l-7.25 7.25a.75.75 0 01-1.06 0L2.22 9.28a.75.75 0 011.06-1.06L6 10.94l6.72-6.72a.75.75 0 011.06 0z"></path>
</svg>
    </span>
    <span class="Toast-content"></span>
  </div>

  <div hidden class="anim-fade-in fast Toast">
    <span class="Toast-icon">
      <svg aria-hidden="true" height="16" viewBox="0 0 16 16" version="1.1" width="16" data-view-component="true" class="octicon octicon-info">
    <path fill-rule="evenodd" d="M8 1.5a6.5 6.5 0 100 13 6.5 6.5 0 000-13zM0 8a8 8 0 1116 0A8 8 0 010 8zm6.5-.25A.75.75 0 017.25 7h1a.75.75 0 01.75.75v2.75h.25a.75.75 0 010 1.5h-2a.75.75 0 010-1.5h.25v-2h-.25a.75.75 0 01-.75-.75zM8 6a1 1 0 100-2 1 1 0 000 2z"></path>
</svg>
    </span>
    <span class="Toast-content"></span>
  </div>
</div>


  <div
    class="application-main "
    data-commit-hovercards-enabled
    data-discussion-hovercards-enabled
    data-issue-and-pr-hovercards-enabled
  >
        <div itemscope itemtype="http://schema.org/SoftwareSourceCode" class="">
    <main id="js-repo-pjax-container" >
      
      
    







    <div id="repository-container-header" data-turbo-replace hidden></div>



  <turbo-frame id="repo-content-turbo-frame" target="_top" data-turbo-action="advance" class="">
      <div id="repo-content-pjax-container" class="repository-content " >
      <a href="https://github.dev/" class="d-none js-github-dev-shortcut" data-hotkey=".">Open in github.dev</a>
  <a href="https://github.dev/" class="d-none js-github-dev-new-tab-shortcut" data-hotkey="Shift+.,Shift+&gt;,&gt;" target="_blank">Open in a new github.dev tab</a>

      <a href="https://cs.github.com" hidden class="js-blackbird-shortcut" data-hotkey="Meta+Shift+f,Control+Shift+f,Control+Shift+F,Meta+Shift+F,Control+F,Meta+F" target="_blank">Open cs.github.com in a new tab</a>



    
      
    




<react-app
  app-name="repos"
  initial-path="/github/renderables/blob/main/ipynb/XKCD_plots.ipynb"
  style="min-height: calc(100vh - 62px)"
  data-ssr="false"
><script
    type="application/json"
    data-target="react-app.embeddedData"
  >{"payload":{"showSurveyBanner":false,"fileTree":{"ipynb":{"items":[{"name":"01","path":"ipynb/01","contentType":"directory"},{"name":"03-images.ipynb","path":"ipynb/03-images.ipynb","contentType":"file"},{"name":"BER Metrics 2.ipynb","path":"ipynb/BER Metrics 2.ipynb","contentType":"file"},{"name":"Conditional_Expectation_Gaussian.ipynb","path":"ipynb/Conditional_Expectation_Gaussian.ipynb","contentType":"file"},{"name":"IRuby-Example.ipynb","path":"ipynb/IRuby-Example.ipynb","contentType":"file"},{"name":"Warm_Start_Introduction.ipynb","path":"ipynb/Warm_Start_Introduction.ipynb","contentType":"file"},{"name":"XKCD_plots.ipynb","path":"ipynb/XKCD_plots.ipynb","contentType":"file"},{"name":"broken_initial.ipynb","path":"ipynb/broken_initial.ipynb","contentType":"file"},{"name":"gaga.ipynb","path":"ipynb/gaga.ipynb","contentType":"file"},{"name":"historical_adjustments.ipynb","path":"ipynb/historical_adjustments.ipynb","contentType":"file"},{"name":"math1.ipynb","path":"ipynb/math1.ipynb","contentType":"file"},{"name":"math2.ipynb","path":"ipynb/math2.ipynb","contentType":"file"},{"name":"ng.ipynb","path":"ipynb/ng.ipynb","contentType":"file"},{"name":"not-json.ipynb","path":"ipynb/not-json.ipynb","contentType":"file"},{"name":"really-big.ipynb","path":"ipynb/really-big.ipynb","contentType":"file"},{"name":"rich_output.ipynb","path":"ipynb/rich_output.ipynb","contentType":"file"},{"name":"svg_charts.ipynb","path":"ipynb/svg_charts.ipynb","contentType":"file"},{"name":"test.ipynb","path":"ipynb/test.ipynb","contentType":"file"},{"name":"test.pynb","path":"ipynb/test.pynb","contentType":"file"},{"name":"xss.ipynb","path":"ipynb/xss.ipynb","contentType":"file"},{"name":"مرحبا.ipynb","path":"ipynb/مرحبا.ipynb","contentType":"file"}],"path":"ipynb","totalCount":21},"":{"items":[{"name":"asciidoc","path":"asciidoc","contentType":"directory"},{"name":"csv","path":"csv","contentType":"directory"},{"name":"geojson","path":"geojson","contentType":"directory"},{"name":"git-lfs","path":"git-lfs","contentType":"directory"},{"name":"img","path":"img","contentType":"directory"},{"name":"ipynb","path":"ipynb","contentType":"directory"},{"name":"latex","path":"latex","contentType":"directory"},{"name":"markdown","path":"markdown","contentType":"directory"},{"name":"math","path":"math","contentType":"directory"},{"name":"mermaid","path":"mermaid","contentType":"directory"},{"name":"obj","path":"obj","contentType":"directory"},{"name":"pdf","path":"pdf","contentType":"directory"},{"name":"png-ref","path":"png-ref","contentType":"directory"},{"name":"psds","path":"psds","contentType":"directory"},{"name":"stl","path":"stl","contentType":"directory"},{"name":"svg","path":"svg","contentType":"directory"},{"name":"topojson","path":"topojson","contentType":"directory"},{"name":"yaml","path":"yaml","contentType":"directory"},{"name":".gitattributes","path":".gitattributes","contentType":"file"},{"name":"README.md","path":"README.md","contentType":"file"}],"path":"","totalCount":20}},"fileTreeTimedOut":false,"fileTreeProcessingTime":8.12059,"repo":{"id":10774987,"defaultBranch":"main","name":"renderables","ownerLogin":"github","currentUserCanPush":true,"isFork":false,"createdAt":"2013-06-18T18:32:55.000-04:00","ownerAvatar":"https://avatars.githubusercontent.com/u/9919?v=4"},"refInfo":{"name":"main","listCacheKey":"v0:1665702735.996417","canEdit":true,"refType":"branch","currentOid":"7398299c4869ea95c962ed86750f4d8ffb161579"},"path":"ipynb/XKCD_plots.ipynb","findFileWorkerPath":"/assets-cdn/worker/find-file-worker-8de2aa094557.js","helpUrl":"https://docs.github.com","showCodeNavSurvey":true,"userEmail":"therzka@github.com","blob":{"rawBlob":"{\n \"metadata\": {\n  \"name\": \"XKCD_plots\"\n },\n \"nbformat\": 3,\n \"nbformat_minor\": 0,\n \"worksheets\": [\n  {\n   \"cells\": [\n    {\n     \"cell_type\": \"heading\",\n     \"level\": 1,\n     \"metadata\": {},\n     \"source\": [\n      \"XKCD plots in Matplotlib\"\n     ]\n    },\n    {\n     \"cell_type\": \"markdown\",\n     \"metadata\": {},\n     \"source\": [\n      \"This notebook originally appeared as a blog post at [Pythonic Perambulations](http://jakevdp.github.com/blog/2012/10/07/xkcd-style-plots-in-matplotlib/) by Jake Vanderplas.\"\n     ]\n    },\n    {\n     \"cell_type\": \"markdown\",\n     \"metadata\": {},\n     \"source\": [\n      \"\u003c!-- PELICAN_BEGIN_SUMMARY --\u003e\\n\",\n      \"*Update: the matplotlib pull request has been merged!  See*\\n\",\n      \"[*This post*](http://jakevdp.github.io/blog/2013/07/10/XKCD-plots-in-matplotlib/)\\n\",\n      \"*for a description of the XKCD functionality now built-in to matplotlib!*\\n\",\n      \"\\n\",\n      \"One of the problems I've had with typical matplotlib figures is that everything in them is so precise, so perfect.  For an example of what I mean, take a look at this figure:\"\n     ]\n    },\n    {\n     \"cell_type\": \"code\",\n     \"collapsed\": false,\n     \"input\": [\n      \"from IPython.display import Image\\n\",\n      \"Image('http://jakevdp.github.com/figures/xkcd_version.png')\"\n     ],\n     \"language\": \"python\",\n     \"metadata\": {},\n     \"outputs\": [\n      {\n       \"output_type\": \"pyout\",\n       \"png\": \"iVBORw0KGgoAAAANSUhEUgAAAbAAAAEgCAYAAADVKCZpAAAABHNCSVQICAgIfAhkiAAAAAlwSFlz\\nAAALEgAACxIB0t1+/AAAIABJREFUeJzsnXd4FGXXxu/ZTYP0RkvoJKH3IvAivQsiINIEgUAsgPIJ\\nCq8IAgroqxRRUJpSpCO9ifQSpEgNvYYSCJDek93z/XEyuwkkIWV3Zjd5fte11yxbZu5ZsnvPc57z\\nnAMSCCyApUuXUqlSpUiSJKpfvz4dPnzY8Fy1atUoLCwsy/edPXuWiIjS0tLo008/JVtbW5Ik6aVb\\nmTJlKDEx0fA++fX29vak1Wqpe/fu9ODBAyIiWrFiBbm5udHx48fzfT6ffPIJOTo60u3bt/O9j5zY\\nvn07VaxY0XB+JUuWpBs3brzyfSdOnCAfHx+Kjo7O8zHv379PDg4O5OTkRFFRUfmRLRCYFBsIBCoz\\ne/ZsfPrppyhZsiSmTp2K5ORkrFmzBi1atAAAJCYmIiUlJcv3NmnSBMnJydi4cSNmzZoFLy8vTJky\\nBfb29ple16hRIzg4OAAAUlNT0b9/f2zcuBG1atVCUFAQjhw5giNHjqBv3764efMmoqOjsWnTJjRt\\n2hSjR4/G77//jlu3bsHb2ztX57R//34kJibi/v378PT0REJCQo6v9/DwgJ2dXa72/ejRI/Tq1Qup\\nqamYNWsWrl69it9++w0dO3bE8ePHUbJkScNrY2Nj4ezsbPi3JEl49OgRlixZgjFjxgAAYmJicqXP\\n19cX77zzDpYvX47z58/j9ddfz5VegcBsqO2ggqLNypUrSZIk8vPzo9DQ0Jeef/78Obm6umb5HBGR\\nJElERBQeHk6SJNHSpUtfeczAwECSJIm6d+9OKSkpLz0/efJkkiSJ/vrrL7py5QppNBoqX758lq/N\\njs8++4wkSaKDBw9Sv379SJIk0mg0ZG9vn+UI8fvvv8/1vtu2bUtubm40d+5cw2ObNm0iOzs7atGi\\nheGxzZs3k1arpdOnT2d6f5MmTahcuXKG8+nbt2+u9cmfzaFDh3KtVyAwF8LABKrx6NEjcnNzI3d3\\nd3r8+HGWrzlw4ABVq1aN9Hp9ls/LBpaYmEiSJNHYsWMpLCzMcHsxVLZjxw6SJIlatGhBaWlpWe5T\\n/pGeMWMG1alTh3x8fOjWrVt5Ojd/f/9MP/SnTp2iq1ev0v3790mSJOrRowft2bOH9uzZQydOnMj1\\nfo8dO0aSJNG2bdteek6+GDh//jwREU2ZMiXL1x46dIgkSaL58+cbHsutvh9++IE0Go0hdCsQqIkw\\nMIFqTJ8+nSRJom+//Tbb1xw4cCDTqCI2NpbCwsLozp07NGbMGJIkiR48eEDR0dEkSRLZ29uTg4MD\\nSZJEtra21Llz50zm16FDB9JoNPTPP/9ke0zZwOTb4MGD83xu5cuXz/aHXpIkWrZsWZ73SUTUvn17\\nGjhwYJbP6fV6qly5Mk2ePJmIiJo2bUqurq4UHx+f6XUpKSnk5eVFNjY2dPfu3TzpS0lJoa1bt+ZL\\nu0BgasQcmEA1kpOTodFoMHjw4Bxfd+7cOVy+fBlubm5o06YNrl+/bnhOkiT4+Phg5cqVAIC///4b\\ntWrVwsmTJ1GzZk2ULl36pWNWrVoVjRs3zrXOVatWoWzZspg2bVoezg4oW7Ys6tatm6f35MSDBw+w\\nf/9+XLlyJcvnJUmCk5MTQkJCEB0djQsXLqBXr14oXrx4ptfZ2tqiTZs2WL9+PaKjo/OkwdbWFt26\\ndcv3OQgEpkSjtgBB0aVChQrQ6/XYu3dvjq+Li4tDzZo14evri+vXr6Nt27bYvXs3Bg4caHhNWloa\\nAOA///kPXF1d0b59+5fMSz7mtWvXcO/evVfqGz9+PHbs2AF7e3t88803GDduXK7OKyUlBbGxsdBo\\nTPv1WrduHd544w34+fll+fyWLVtw5coVjBo1CpGRkUhISIBWq83ytRcvXkSJEiVQuXJlk2oUCJRE\\nGJhANfr374/y5ctj1KhRePLkSabnTp06halTp0KSJGi1Wnz88cfYvXs3du/ejRUrVqBDhw5o3bo1\\niAgAcOPGDQBAREQEEhMT8fjxY8MtJibGsN/x48eDiDBw4EDodLpMx1y6dCk2bdqEevXqAeDRWufO\\nnbF79244Ozvjhx9+wKZNm155XpcvX0ZkZGSBPpus2LFjB9zd3V96PCkpCd9//z369OmDb7755pXZ\\ngRcuXMC1a9cwd+5cODo65kkDEeH69esvfXYCgRoIAxOohp2dHdavXw+NRoMGDRpgxowZCAkJwcyZ\\nM9G8eXNDWnmzZs0we/ZsdOjQAR06dECpUqUAcMhMJiQkBABQpUoVlC1bFmXKlDHc3n//fcPrqlat\\nil9//RXHjx9H48aNsWjRIly9ehWDBw9GYGAgSpcuje7du2PkyJEoX748AKB58+ZYtGgRAGDjxo2v\\nPK/jx48D4HCbKfH398fmzZsxbtw4LF68GIsXL8b06dNRqVIlzJw5E7Nnz8bYsWMBwDDy0uv1L+0n\\nKCgI9erVwzvvvJNnDXPmzEHVqlXh7++PO3fuFOyEBIICIubABKrSsGFDnDp1CtOnT8eXX36JL774\\nAra2thg5ciQ+++wzHD58ONtQXKNGjVCnTh0AgJ+fHypUqIBWrVoB4B/wLl26wNnZ+aURSWBgIKpW\\nrYovv/wSQUFBAAAvLy8sWrQIr732GgDgxx9/zPSePn36IDk5GQEBAa88p/DwcAC8Ru1F7t+//8r3\\nZ8fMmTPh7e2NX3/9FU+fPoWtrS2CgoIwf/589OjRI9Nry5Yti5o1a2Lbtm1ITExEsWLFALABnTp1\\nCpcuXcryGK/S5+7uDkmSYGdnBycnp3yfi0BgElROIilSJCcnZ5sOLsiaI0eO0Mcff6y2jDwhZzEO\\nHTr0peeOHTtGTk5OdOfOHbPrWL58OUmSREFBQbRo0SKaNGkS2djY0PLly7N9j5L6BIKCIhGlTyII\\nzMr9+/fRsGFDhIeHY968eRg5cqTakgRmYubMmZg5cyZ27tyJZs2aqarlrbfewpYtWwBwKHb69Omi\\ngoag0CAMzMzo9XosWLAA48ePR1xcHAAOw5w+fRqVKlVSWZ1AIBBYLyKJw0Q8ffoUqampmR67fPky\\nWrRogZEjRyIuLg5ubm4AgMjISHTq1AnPnj1TQ6pAIBAUCoSBmYCIiAh8/PHHOHfuHABeBzR16lTU\\nq1cPx48fR+nSpbFx40aULVsWABAQEIAbN26ge/fuSExMVFO6QCAQWC3CwEzA/v37sWbNGsTGxiIt\\nLQ1NmjTB5MmTkZKSguHDh+Py5cvo2bOnoaL6okWLUK5cOQQHB6N///5ZpjoLBAKBIGeEgb2ClJSU\\nTAthdToddDodiOtIAuBFt9WqVUPNmjVhY2ODbt26wc/PDwcOHMDChQsNoUPZwHx9fbFr1y54eHig\\nVatWJq/YIBAIBEUBkcTxClavXo2tW7fivffeQ9u2bWFjY1w6p9frodFo0Lp1azx//hybNm1C5cqV\\nkZycDL1eb1h7I+Pr64uHDx/i/v378PX1RWRkZJaVFQQCgUDwasSlfw7o9Xrcvn0ba9euxVtvvYXX\\nX38ds2fPxvHjxxEdHW0YOV27dg16vd5gRvb29i+ZF2CsHCGX4RHmJRAIBPlHVOLIAY1Gg+HDh+Pu\\n3bv4448/cOLECZw4cQIAULNmTQQGBuKff/4x1Nzz8PDIcX9y5YL4+HizaxcIBILCjggh5pLIyEic\\nPXsW27Ztw/79+3H16lUQkaEKepcuXbB9+3bodLpsK4A3bNgQZ86cwcmTJ9GoUSMl5QsEAkGhQ4zA\\nskGe31qzZg2aN2+OsmXLok2bNmjTpg0ePXqEQ4cOYdOmTXjy5AkaNmyIYcOGAUCOCRnyCCw2NlaR\\ncxAIBILCjDCwbJCNqH///pg/fz6CgoKg1+uh1WpRpkwZ9OvXz7AYuUqVKob5rYwV0l9E7k/16NEj\\n85+AQCAQFHKEgeVAWFgYAMDT09PQlwrgnkiSJMHd3T1PiRjyQuaCVCQXCAQCASOyELNAnhY8evQo\\nihcvbugLdfbsWaxZs8YwygoJCclTm3lhYAKBQGA6hIFlgWxg+/fvR5UqVVCiRAkAwMKFC7FmzRrD\\n67Zv346lS5cit3kwsoGFhoaaWLFAIBAUPYSB5cDx48dRq1YtQ5jw1KlTKFmypMGw/vnnH1SuXBnR\\n0dG52p8YgQkEAoHpEAaWBXICx9WrV2FrawsXFxcAwN27d9G1a1dDCPHff/81tL3PDcLABAKBwHSI\\nJI5siIiIgK+vL37//Xc4OTkhOjoaKSkpaNeuHQBOs9fpdChevHiuW6t7eXnBxsYGkZGRSEpKgoOD\\ngzlPQSAQCAo1YgSWDW5ubhgzZgy8vLxw4MAB/PXXX0hJSUFgYCD++usv/P7774iIiECjRo0y1UfM\\nCY1Gg1KlSgEAHj9+bE75AoFAUOgRI7Bs0Gg0GDlypKEZ5ZUrV7BlyxasXLkS69atA8CjsOTkZADG\\n1PpXUapUKTx48ABhYWGoUKGCOU9BIBAICjViBJYFcpLGhQsXMGPGDKSlpaFRo0b4+uuvcffuXZw7\\ndw6ff/453njjDTRo0CBP+/b29gYAPH/+3OS6BQKBoCghRmDZsG7dOowaNQpPnz5Fq1at0LRpU9y+\\nfRvR0dGoW7cuvvrqK8TExBh6feVm9AXAkPSRmppqNu0CgUBQFBAGlgVnzpxBYGAgunbtioCAACxc\\nuBAxMTGYMGEC7t69Cy8vL+zevRuVKlXK875tbW0BGJtbCgQCgSB/iBBiBvR6PQBgx44d8Pb2xs8/\\n/4y33noLmzdvxldffYXmzZvj9u3baN26NYKCggAg14uYZWQDEyMwgUAgKBjCwLJg3759aNiwIezt\\n7VGnTh1UrFgRvr6++N///gc3Nzf4+flh37592LVrV65DhzKJiYkAIFLoBQKBoIAIA8uAvIC5ePHi\\nuHLlisFsEhISUL16dYNZyYkYcgWOvIzCIiMjAYhuzAKBQFBQhIFlwYgRI2BrawsvLy8QEVasWIHB\\ngwcb1nvJC5ebNm0KIPcJHIDRwF7VvVkgEAgEOSOSODIgN7GsUqUK/P39ER0dDVdX15e6J1+9ejVT\\nlfq8IEZgAoFAYBqEgWVAHkmFhYUhODgYHh4esLW1hZ+fH1q2bIlu3bohICAAly5dQq1atQAAOp3O\\n0CcsN4gRmEAgEJgGifKaRlcECA8PR1JSEsqVK4cHDx5g9+7dOHDgAE6cOIFHjx4hOTkZn3zyCWbN\\nmmUYteWG1NRU2NnZQavVIjU1Nc8JIAKBQCAwIgwsAxnLQSUlJUGSJNjb27/0utDQUJQsWTLL53Ii\\nPDwcJUuWhKenJ549e2YSzQKBQFBUESHEDEiShAMHDuDo0aO4du0aQkNDkZqaiqpVq8Le3h4pKSlw\\nc3NDjRo1ULZsWbRt2zZP4cO4uDgAgLOzs7lOQSAQCIoMwsDSOXDgACZMmIDr168jKioK5cuXR8WK\\nFSFJEpYtWwZnZ2fY29sjOjoaNWvWxLBhw9ChQ4c8HSMtLQ2AcTGzQCAQCPKPMLB01q1bh5MnT2LU\\nqFEYNGgQ/Pz84OLigpEjR+LBgwdYunQp6tati+TkZMTFxeW6B1hG5OobwsAEAoGg4AgDS0euKu/v\\n75+pwny7du1w5MgRlCpVCq6urgCAEiVK5OsY8ggst/3DBAKBQJA9YiFzOoGBgXj//fcxfvx4fPbZ\\nZzh79iwAoEePHrh48aKhAaVer89z/UMZMQITCAQC0yGGAhmYOHEibG1tsWLFCnz//fdo3bo17O3t\\n4eDggPv37xtS5vV6fb5S4IWBCQQCgekQBpaBMmXKYO7cuRgwYAB+++03rF+/HhEREQCAmTNnQqfT\\nYcCAAfkOAYoQokAgEJgOEULMgBwabNy4MRYsWIBr165h+/btGDduHJycnPDhhx/Czs4O3377bb72\\nL0ZgAoFAYDrEUCADclhQDhF6enqiS5cu6NKlCwAgJiYGixcvRv369fO1f5FGLxAIBKZDGFgWyKWh\\niAg6nQ4Az4/17NkTH3/8ca5LR72IPAITIUSBQCAoOCKEmE5WmYWSJMHGxgaXLl3Cd999h5s3b0Kr\\n1ea7hqEIIQoEAoHpKPJDAb1eD8A46pLDh5IkGWojnj59Gt7e3mjWrFmBjiWSOF6BXg8cPgxs3Aic\\nPg08fMiPV6gANG4M9O0LNGgAiCLIAoEAYgSG4OBgTJgwAYcOHQLARiaPsOTw4YkTJ6DVag2tUPKL\\nGIFlAxGwaRNQqxbQujXw00/AiRPA/ft8O3IE+OEHoFEjoGVLNjeBQFDkKfIGdvToUcyZMwcDBw7E\\nwIEDsWXLFjxMv/KXR0oXL16Eg4MD3NzcCnSslJQUAMLAMhERAfTsybfLlwFfX+C//wX+/hu4cwe4\\ndQvYtQv4+GPA3Z3N7LXXgGnT2PgEAkGRpcjHsoYOHYozZ85gw4YNWLVqFVatWgVbW1s0adIEo0aN\\nws2bN3H58mXEx8cX2MDi4+MBAI6OjqaQbv1cuQJ07w7cvAk4OwPTpwMjRgB2dplfV6kS0KkTMGUK\\n3+bMASZNYnNbtAgQFwQCQZGkyBuYt7c3Vq9ejYkTJ+LQoUPYu3cvgoODcfToUVy4cAExMTEAgPLl\\ny8Pd3b1AxxIGloFjx4AuXYCYGKBuXWDzZqB8+Zzf4+oKzJoFtGsHvP02sGwZ8OwZ8OefL5ueQCAo\\n9BT5ECIAaLVa1K5dG6NGjcLWrVtx6NAh/Pzzz6hXrx4CAgLQvn17/PzzzwCMSR/5QRhYOidPAp07\\ns3n17AkcPfpq88pIly7A/v2ApyewYwcQGCjCiQJBEaTIj8Bk9Ho99Ho9bGxsUL16dfj7+6NDhw54\\n+vQpqlataggf5ncNGABDF+aCjuSsmqtXgY4dgdhYzipcuRLIQ1NQA02aAHv2cFLHihUcZvzqK5PL\\nFQgElosYgaWj0Wgypbfb2NigcuXKeO211wo89yUjJ4f4+PiYZH9WR0QE0K0bEBXFc1/Ll+fPvGQa\\nNADWrQM0Gp4b273bdFoFAoHFIwwsB4go361TsuLRo0cAiqiB6fVA//6csFG3LrBqlWmSL7p0AaZO\\n5fvvvgukf8YCgaDwIwwsB+QFzaZCHoGVKVPGZPu0GmbP5pCfpyewZQtgynnACROA9u05oeP998V8\\nmEBQRJDIlEMMQbbodDrY29tDp9MhOTkZdkUpa+7sWZ6zSk1l8+re3fTHePgQqF6dE0PWrgX69DH9\\nMQQCgUUhRmAoWJfl3PLkyRPodDp4e3sXLfNKSuLQYWoq8MEH5jEvAPDxAb77ju+PGgU8f26e4wgE\\nAotBGBiM5aMKkiL/KuT5ryIXPvzmG848rFoV+P578x5r+HDg9deB8HDgiy/MeyyBQKA6RdrA4uLi\\nMGfOHPzwww+Ij48vUIr8qyiSGYiXLgEzZ/L9RYuA4sXNezyNBvjlF85sXLQICAkx7/EEAoGqFGkD\\nc3R0RPHixfH1119j+PDhCA0NBWDMPjRHBmKRGYHp9VwWKi0NCAoC/vMfZY5brRofT68Hxo5V5pgC\\ngUAVirSBAcCIESPwv//9D0ePHsXEiRPx+PFjQ/ahKTMQw8PDAQClSpUy2T4tml9/BYKDgVKljKMw\\npfjqK8DFhdeF7d2r7LEFAoFiFFkDk3t9AUBgYCCWLl2KlStXomHDhli4cCFCQkLw+PFjJCQkmOR4\\nsoGVKFHCJPuzaJ4944ryAPDjj4CJFoLnGm9vYPx4vj9likirFwgKKUXWwCRJMvTnunDhgsFgwsLC\\n8MEHH6Bjx44YMmQIJk2aZCjoWxCKlIFNmsTVNtq1A3r3VkfDyJHcfuXYMSC915tAIChcFMlaiBER\\nEdi1axfWrl2LkJAQxMTEoGTJkmjbti26dOmCcuXK4dixY9ixYwdOnDgBHx8fjBkzpkDHjI6OBgCT\\nlaWyWC5c4PChVsttT9TqnuzsDHzyCTB5MvcOa9VKHR0CgcBsFEkDO3HiBKZNmwZJktC2bVvUqFED\\nLVq0QP369Q2v6d69O4YMGYLk5GQEBAQU+JjJyckAAHt7+wLvy2Ih4saTej2vxapRQ109o0dz6v7+\\n/cD580CdOurqEQgEJqVIGljLli0RHBwMFxcX6PV6Q4dknU4HbXpxWVtbW9SqVctkxywSBvbnn8DB\\ng1wuasoUtdXw3NvgwcBPP/GocP58tRUJBAITUiTnwBwdHeHu7g6tVmswLwAG8wJMX8hXnm/LWPG+\\nUJGSAowbx/enTeP5J0sgKIi3K1ZwCxeBQFBoKJIGlhtMnUYvN7GUm1oWOhYvBu7c4XqEw4errcZI\\nzZq8Bi0ujmskCgSCQoMwMIWQkzciIyNVVmIGEhKAr7/m+1OnApY2ynzvPd6uW6eqDIFAYFqEgSmE\\n3IW5UBrY/PlAWBhQrx7Qs6faal6mRw821f37eY2aQCAoFAgDUwjZwKKiolRWYmJiY42VNr7+Wr20\\n+Zzw9ATatgV0OmDzZrXVCAQCEyEMTCEK7Qhs8WJuXdK0KdC5s9pqskdeUL1li7o6BAKByRAGphCF\\n0sDS0oC5c/n+559b5uhLpmtX3v79N8/ZCQQCq0cYmEIUyiSOTZuAe/eAKlWAN95QW03OlC4NNGzI\\nDTb371dbjUAgMAEWli5WeCmUI7BZs3g7ZgyXjrJ0unUDTp8Gtm+3fMMt5EREALt2ccOCe/d4KtXF\\nBahY0RiNdnVVW6XA0hEGphCFLokjOBg4cYIXLA8erLaa3PHGG1wbcft2LntlySHPQsrFi9yke9Mm\\nXvueFT/+CNjZ8bTlZ5+JCmCC7BEGphCFbgT2ww+8ff99IH2RtsVTrx5Qpgzw8CFw7hz/W6AIkZE8\\nTbpoEf9bo+HE0LZtuQepiws3MLhyhacpDx0CVq0CVq/mvqjTpwMeHuqeg8DykMiU9ZIE2fLw4UP4\\n+vqiZMmSePz4sdpyCsbdu0Dlyhw2vHuXTcFaCAoCFi7kWo2TJqmtpkhw+jSPpu7dA2xt+Zpn3Dig\\nbNns33PvHkeo58/nXCFPT0547dFDOd0Cy0ckcShEoRqB/fQTV5x/5x3rMi+A58EADiMKzM6iRUDz\\n5mxIjRpxU4Aff8zZvACgfHlOcD1/njvhPH8OvPUWMHYskF5WVCAQIzClICLY2tpCp9MhKSnJeqvS\\nx8YCvr5ATAxfWjdooLaivJGQwJfzSUnAo0ecnSgwCzNmGBtzf/ghj6jy82dPxGY2bhyPxtq04cYH\\nIslDIEZgCiFJElxcXAAAsdZcFf3339m8/vMf6zMvAChenDtFA8DOnepqKcRMmsTmJUncyebnn/Nn\\nXgDv45NPeF6sVCleBfH66zyVKSjaCANTEGdnZwBWbGA6nXHhcgE7VKuKnEK/bZu6OgopP/7IHXW0\\nWu5iM2KEafbbrBlw/Djg78+Nv1u2FCZW1BEGpiBWb2AbNwK3bgEVKgBvvqm2mvwjV+X46y9usyIw\\nGZs28WgJAJYuBQYMMO3+K1ZkE6tfn/8UW7fmSLCgaCIMTEGs2sD0er6sBoDx461j4XJ2+Pry5Xxi\\nIrB1q9pqCg3XrgGDBvGc1ddf831z4OkJ7N0L1K0L3LjBc2LWntgryB/CwBTEqg1syxbg0iX+8Zf7\\na1kz/fvzdtUqdXUUEhITgbff5gHtO+8YkzfMhYcHrxerXZuNs2tX0XC7KCIMTEHs7OwAAKnWlgdM\\nZBx9ff55/mfjLYm33+ZR5J49okeYCZg0iats+Ptz6rwSRU48PdnEqlQB/v0X6NNHpNgXNYSBKYg2\\nPeym0+lUVpJHduwAzp7llPPAQLXVmIYSJYD27Tkve8MGtdVYNf/+yynyGg2wciWQHmhQBG9vrqno\\n5QXs3g188AFfbwmKBsLAFESj4Y9br9errCQPEAFTp/L9zz4DHBzU1WNK5DDi6tXq6rBi0tL4mkav\\nB0aP5sXKSlOlCieUFisGLFkCzJunvAaBOggDUxCrHIH99Rdw6hSPWEyVD20p9OjBhnz4MHD/vtpq\\nrJIFC3hwXr68McqsBq+9xksUAeDTT/m/VFD4EQamIJYwAiPiYhSRkbys65V88w1vP/2UFwEXJpyd\\nge7d+f6aNepqsUJiYoyD89mzAScndfX06cOlptLSeIpTrBEr/AgDU5DExEQAQLFixRQ7JhEPoP77\\nX84cd3Xl4vEeHtyywt+fu6Fs3gwkJ7/w5iNH+ObuzpMLhZF+/XgrshHzzA8/cP5Ls2aWU2R3xgxO\\nqw8PB3r1yuJvWlCoEAamIAnpreyLKzCSSUjgousNGgCNG/MXOziYU43t7bl9hV7P62iWL+dCqQ0a\\nvJDFNX06b0ePVnZmXknkzonnzgGXL6utxmoIDzd21PnuO8tprWZjw4PpcuWAf/7hEZmg8CIMTEHi\\n4+MBAI5m7J+l0/FEtr8/dw45e5bTjUeP5myt8HCuYxsdzVenZ84AM2cCNWvyYMTWNn1H//7LaV2O\\njsCoUWbTqzr29tzrAxDJHHnghx+A+HiuytW8udpqMuPtzYmldnbcOGHtWrUVCcwGCRSjZs2aBIDO\\nnz9vlv2fOEFUqxYRBw6J6tYlWrmSKDHx1e/V64lSUjI80KsX72TsWLNotSj27eNzrVSJPwhBjjx9\\nSuToyB/ZqVNqq8men35ijU5ORFevqq1GYA7ECExBzBVCTEriVhPNmvFi0goVgD/+4NHVgAG5y3yX\\npAyjrytXuF+FnR3wf/9nUq0WScuWvMbt9m3g5Em11Vg8s2fz6KtLF6BhQ7XVZM+HHwJ9+3J1kN69\\nOawuKFwIA1MQc4QQb94EmjYFvv+e/z1uHE/l9O/PC0vzxcyZPIgbOtTQLyspyTR6LRKtln/pAJHM\\n8QoiIozrrL78Ul0tr0KSeB44IICroH34oVjkXNgQBqYgsoGZagT255+ceHHuHFC5MidpfPcdL+jM\\nN3fv8vBNq+WFy+l88QWwfn2BJVsu8qLmtWs5D1uQJXPnciJQ+/a89srScXbm+bBixYBly7hCvqDw\\nIAxMIYjIZCFEvZ5LEvbqxWtxevbkcGHjxiYQ+t13nAnSvz/3rgCHYH75hYu0/vGHCY5hiTRoAPj5\\nAU+eAAdPcYCBAAAgAElEQVQOqK3GIomKMraDmzRJXS15oWZN/vsFgI8+4gs+QeFAGJhCpKSkQK/X\\nw9bWFraGyaa8k5DAizS/+45ThmfP5itMk7RXDwvjS1RJAiZMMDzs6MgdVIh4zdj27SY4lqUhSaJC\\n/SuYN4+zV1u14obc1sSgQVzyKjmZ58Oio9VWJDAJameRFBUiIiIIALm5ueV7H48fEzVuzJlVrq6c\\nPGdSxo7lnffsmeXT48fz0w4OnPFY6Lh6lU/Q2ZkoIUFtNRZFbCyRhwd/PPv3q60mfyQkcGau/Ccu\\nEk6tHzECU4iCzn9dvsxzDidPcpbh8eNcccBkRERwYTsg22ZO06cDw4dzQkfPnjxgK1QEBHAoMTYW\\n2LlTbTUWxW+/8Z/Ia6/xCMwaKVaM53FdXHj+WA6HCqwXYWAKUZD5r2PHeLHo3bs8z3XiBFC9uokF\\nzpvHudEdO/KPeBZIEvDzz8Drr3Mb9969C2G+gxxGFLURDeh0HKoGOMvVUqpu5IcqVdiMAT6X4GB1\\n9QgKhjAwhcivge3YAbRrxxPoPXpwfkHJkiYWFxtrvBx9RStdW1u+ivXx4VGgXG2q0CBX5di5kw1d\\ngE2bgDt3ONP1zTfVVlNwevYExozhi68+fUQ/U2tGGJhCyBXo5ZYquWHFCv7BSEriCegNG8xUEP7X\\nX7k8ffPmQIsWr3x5iRJcPxHgauSnTplBk1qUKwc0acLZMrt3q63GIpBrHn7yCa+uKAx8+y2vn3zw\\nABg4kDN7BdaHMDCFyGsrldmzOXNKp+OEwIULzfTjkZRk/IX64otcx4fatOGrWJ2OC9VbU4uzVyKP\\nwkSnZpw5wyFrd3dgyBC11ZgOW1te8ufpCezZY+waJLAuhIEpRG4NjIijeHIFp1mzOExntnmHpUuB\\nx4+BevWATp3y9NapUwFfX/6RW7jQTPrUoFcv3m7fDqS3wCmqyAt/Bw3i5RSFibJleV2jJAGTJwN/\\n/622IkFeEQamEFK6A1EOtWzS0rjp8YwZPNpatoxHOWYjKck4iZWH0ZeMkxMwZw7f/+9/gadPTaxP\\nLSpW5ESWuDi+PC+iJCYaF64PHaquFnPRsSMwcSJfOPbvL5pgWhvCwBTiVSOw1FT+Ai1ezMV3N2/m\\nq16zsmgRf2Pr1OGGYPmgZ0+gQwdOMilUCR1vv83bIhxG3LyZF/w2bAjUrq22GvMxeTLQti1fgL3z\\nDpCSorYiQW4RBqYQORmYXB1AXqOydy/3WTIrCQlGx5kyJd+VfyWJq4IAwPz5QGioifSpjRxG3Lq1\\nyLb1lb373XfV1WFutFouvlKmDC9ZCQwURX+tBWFgCiEbWMX0+oIyiYmcabh1K0+U79unUJmeX37h\\nua8GDYDu3Qu0qzp1uJh7SgowbZqJ9KlNlSpA3bq8xGDvXrXVKE5iojEJM5+Dc6uiRAlg2zbO8l2x\\nohD9HRdyhIEphEajQZ06dbBy5UrDY3FxQNeuPM3i7c1rvBTpr/TsGfD113x/yhSTZIhMncpXsr/9\\nBly/XuDdWQZyNmKhLsOfNX/9xYP0hg052aEoUL8+m9jAgWxkha7STCFEGJhCFCtWDAcOHICHhwcA\\nnlvo1IlNq3Rp4OBBHskowoQJvO6rfXvuSmgC/Px4ol+nA776yiS7VB95HmzLliI3MfLnn7zt2VNd\\nHUrTpg2PwMaONbTCE1gwEuWUFicwGXq93hBGjIhg8zp1iq9u9+1jA1CEf/7hFZw2Nty+OSDAZLsO\\nDeXIm07HtRtNuGv1qF2bP6edO4HOndVWowipqVztJTKSm3NXraq2IguAiMPJAA/PbGzU1SMAIEZg\\niiGb19OnfJV36hRnax8+rKB56XTcEImIF5qZ2GHKlePFrnp9IcpILIKLmg8fZvOqWrUImldcHE9I\\nT5nCw8+AAF7tbGPDPYtcXXkVtK0tT5w1aQL068ftqbdtK0RrSawDMQJTkLAwrmt4+TLg788jL19f\\nBQX8+ivw/vt80CtXeCGXibl7lw2ZCLh6lUdkVs3ly0CNGoCHBye9FKCXm7UwciQXbf7vf4tIhYq0\\nNI6ZrlkD7NrF6yOzwtGR54sTEnKuPeXnx6H5bt248nUR+JtRC2FgChEaymtNbt7k38O//wZKlVJQ\\nwPPn7JoREcC6dcb5HTMwbBhXcBg6FFiyxGyHUY4aNdjI9uzhRW+FGL2ew9qPHnGUQJGkIrXQ6Th/\\nfto04MYN4+NNm3Jd0Lp1OYRcurRx5AXw1VlqKo+27tzhW0gIh+dPnmSDk3Fz4wWew4ZxtRtrLuVv\\niajYi6zIcPMmUbly3EivXj2ip09VEDFiBAto29bsnfxu3iTSaolsbIhu3zbroZRh0iT+7IYPV1uJ\\n2Tlxgk+1bNlC3vDx8mWiRo34ZAGiKlWI5swhevCgYPtNTSU6fpxowgSiGjWM+weI6tQhmjuXKCrK\\nNOcgIGFgZubyZaLSpfnv97XXiCIjVRBx8iSRJLGjXL6syCEHDeJzHjFCkcOZl7Nn+WRKly7kv+pE\\nn3/OpzpqlNpKzIReT/Tjj0T29kan/v13Np5XEBfHnal1ujwc7/x5oo8/Nrazljt+jx1LFBqa//MQ\\nEJEwMLNy+jSRtzf/zbZsSRQTo4IInc54pfnZZ4od9upVIo2GyNaW6N49xQ5rHvR6Ih8f/gzPnFFb\\njdnQ64n8/Pg0DxxQW40ZSEnhUbRsJMOGEUVH5/rthw4ZfW/GjDweOymJaN06/iGQj29jQzRwIF8g\\nCfKFMDAzsWsXkaMj/5127EgUH6+SkIULWYSPD18+Kkj//nzoDz9U9LDmQQ7BTp2qthKzcekSn6Kn\\nZ64GJNZFQgJRhw58gg4ORGvW5Gs3GzZwMAMgWrIkn1pOnSLq25fj7LKZtW9PtG9foR/hmxphYGbg\\nt9+Mf5sDBxIlJxufe1DQGHteePbMGLrI5xe2IISE8Jfdzo4oLEzxw5uWLVv4c2zcWG0lZmPaND7F\\nIUPUVmJiEhKI2rXjkytRguiffwq0u59/5l1ptUTbtxdgR3fvEo0ZQ+TkZDSyxo2J/vwzj3HKoosw\\nMBOi1xt/BACi8eMzX1Ddvn2bateurZygoCAW0qaNald2PXuyhC++UOXwpiMujuNHkkT05InaasxC\\nvXr8f7Vtm9pKTEhCAo9uZPMy0RzwF1/wLosV48SXAhERQfT118b5BoAoIIBo6dLMV7+ClxAGZiIS\\nEowhM0kimjcv8/NpaWlUpkwZcnZ2VkbQqVPGxI2QEGWOmQXHjvFn4u7OHmDVdOrEJ/P772orMTl3\\n7vCpOTkRJSaqrcZEpKURdetmNC8Tfg/0eqKhQ40h16tXTbDT+Hiin34iKl/eaGS+vkSzZike/rcW\\nhIGZgNBQovr1jT8Amza9/JrY2FgCQI6OjuYXpNNxKALgbCeVee01lvLTT2orKSDz5vGJ9O6tthKT\\nM3s2n9rbb6utxISMHs0n5eHBE3wmJiWFqEsXPkT58kQPH5pwxytWZE7D9/AgmjxZpTU4loswsALy\\n9998cQcQVapEdPFi1q+Lj48nAFSsWDHzi1q0iAWVKaNS6mNmNmwwfj5paWqrKQC3b/OJuLgUutDO\\n66/zqa1apbYSEzF3Lp+QnR3R4cNmO0xcnPFasU4dEy/x0uk4ntusmdHIihfntHyrT+01DcLA8klq\\nKtHEicaMpLZtOWciOxITEwkA2dvbm1fY8+cc0wCIVq8277FySVoaUcWKLKlAk96WQPXqfCL79qmt\\nxGQ8eWJMtslDVrnlsnu38Yu5cqXZD/f0KZG/v3G6OSnJDAc5fNg43JNT8N97T7F1nZaKKOabD0JD\\nuSDv119zZZivvuIqQ56e2b9HSi8hQ+au3PXf/3LZqNatuT+6BaDVcglGgPtoWjVdu/J21y51dZiQ\\nrVv5V7FtW+4IbtXcvw8MGMAnNHky3zczXl7c/LNUKWD/fmDw4JxLJeaLFi2AHTuAc+e4NJVeD/z+\\nO1C9OnfEPXy4aLaRVttBrQm9nuiXX3ghvVyYIbcLPlNSUggA2djYmE/ggQMszNbWLDH/ghAezrI0\\nGiuPfvz9N3/GSmaTmpmOHfmUFi5UW0kBSU42Trh27qx4KvrZs8bfhv79zRxlvnWL6IMPjCurAZ7I\\nLGIIA8slt29zeED+W+nZk3+Uc0taWhoBII1GYx6B8fFElSuzuK++Ms8xCki/fizvyy/VVlIAkpI4\\ndxogevRIbTUF5skTY93KnELgVsH//Z+xPJRKJ3PwoHFZV6dOCmTePn7MX6jSpYnu3zfzwSwPYWCv\\nID6ek3/k3ywvL6K1a/O+rEqv1xMAMtug95NPWGCtWhabYHDwoHHkatWVHjp35hNZtkxtJQXmp5/4\\nVLp2VVtJATl0yDg3VOCFWQXj1Cn+nZDrnyqyiN+qv1D5R8yBZQMRsHo1N/SbMgVITAT69uWuGn36\\n5L0rgpThDWTqWPWWLcCcOTzZtGQJYGdn2v2biNdf51ZJYWHcTsZq6diRt3v2qKvDBKxaxdv+/dXV\\nUSDi47mTKsBzwE2aqCqnYUPg2DFu8HriBNCgARAcbOaDFtUO0Wo76Itcu3aNBgwYQI9UCs/o9Vw1\\nqGFDY7iwXj2+wCsoGo2GAFCqKa+Wbt0icnVlod9/b7r9mompU41zBFbL5ct8Et7eVl3yR168XLy4\\nla+THTXKmMduQdGHsDCiFi2M09ILFohSh6bGYgzswYMHNGLECNJqtQSARo4cqejx09K4WHTt2kbj\\nKlGCaPFi06xdyhhC1JnqRy8hgahBAxb75ptW8e2Ql1IVK2YRS9Tyh17P8ywA0b//qq0m38yYwafQ\\nt6/aSgrA2bPGijMWWNU9JYWXbeV37twSiI2NpfsWOr+m+rgzIiICM2fOxLx585CUlASNRoPAwEB8\\n9tlnihz/6VPuHvzrr9xYFQDKlAE++wwYPhwoXtz4Wr1ej7t37+Lu3bvQaDSwtbWFjY0NbG1tUbx4\\ncTg7O8PFxQWOjo7QaDJHZ/XpebWSJL30XL7Q6ThF+MwZoEIF4LffrKLba8WKwH/+Axw9yl3cBw9W\\nW1E+kCTuzLxkCbBvH3faBZCWloakpCTo9XoQkWGb8X5+n0tNTc10S0lJMdxPS0uDVquFnZ0dbG1t\\nM20dHBxQvHhxFCtWzPA3KoezrT58SAR8/DFvR43iDsoWhq0tR/cbNQI++ID/5o8eBRYu5Ox3a2Dr\\n1q0YMGAA6tWrh27duqFbt26oX7++aX7HCohEpM7igbi4OMydOxf/+9//EB0dDQDo2bMnJk2aBH9/\\n/0xf4he/zNn9OyUlBQkJCUhMTERCQgISEhKQnJyMzp07wyZDjDgxkZfx/PEHsH07kJLCj1eowMY1\\nZAjg4JBZ77Zt2/Dpp5/iRsbW49kgSRKcnJwMhiab2oEDBwwG7ejoCCcnJzg6Ohpu9vb20Gq1Wd5q\\n1aoFHx8f40HGjOFvhqsrB9xr1AAA6HQ6pKSkwMHBIdO8myWxcCEQFMTrjtScC0tNTUVUVBQiIyMz\\n3eTHoqOjERMTg+joaERHR6Nz584YOXIkv/n33/kPpVcvYMMGAMD+/fvRtm1b9U7oFfTt2xerV68G\\nAFy6BNSqBbi7A48fG6dNhwwZgpiYGIPhZTS/rB6T79vZ2UGSJMMFmnxfvmX1vc3KqOX7kiTBwcHh\\npZubmxu0Wi2LXbeO1zp6ewPXrwNubip9srnj7l3+kzl4kP89YADw/fe8fiw/xMXF4dGjRwgLC8Oj\\nR4/w+PFjREdHIz4+HnFxcYiPj0diYiIAZPq/sLGxgb29PRwcHLLdZry/c+dOrFy5EklJSYZjlyhR\\nAu3atUOnTp3Qvn17lChRQhVDU8XALl68iNq1ayt2vPXr16N3794A+G9+6FCe9wX4YrpLF7466tSJ\\n8yAycuHCBcyfPx+XLl2Ck5MTNBrNS1fDqampSExMRExMDGJjYxEXF2dS/b/88guCgoKMD8ydC3zy\\nCV/e7dnDi5YBJCcno0WLFjh16hQ0Go3BRJ2cnF66n91NNlYnJyfY2dlBq9XCxsbmpZtWq830owTg\\npQuOjI/b29ujXLlyAIDISKB0ab5wePCAR7wAcOvWLcTFxeW4vxcvUvK6TUhIQExMDCIjI/P8/9Ss\\nWTMcO3aM/3H1KlCtGuDjwycB/kEpXbo0AGT6EZfvv7jN7XOSJMHW1tZwk0dY8n0bGxukpaVlGpml\\npKQgJSUFSUlJhvP/7bff0KVLFwDAF18A06dzlGHhQj6l4OBgNGvWLE+fiZK0bNkSB+Vf/9RUzrC6\\nfZvDJyNGAOC/oZ49e4KIoNVqodPpoNPpkJaWluVWp9NlebEs3yRJQrFixV66ZYy4ZLd1dXVFzZo1\\nUaJECcM56PXAvHnA+PFAUhIvHJ8yBfjoI/46ZyQqKgohISE4c+YMQkNDM5lVWFgYYmNjFfrkX835\\n8+cV/U2XUSWEmJ1Ty19aGxubl67iXvVv+Uvu6Oj40lXiw4cPDceoVo3Nq1Ejzibs149/g7Kjdu3a\\n+CWP5SN0Oh3i4uIQGxtrMLXHjx+jR48esLe3x5w5cwxXSBlvycnJhi+V/MUKDAxE9+7djTtfvJjN\\nC+DYZ7p5AcD//d//4fbt27C3t0dycjJiYmIQExOTJ+3m5Pr16/Dz84O7O18sbNkCbNrEX14A2Llz\\nJ0aPHq2YHo1GAzc3N7i7u2e6yY+5uroabi4uLnB3dzf8qMHfn6/4Hz5kA/P1hZOTk0X9qGSHnGEL\\nZA4fenl5YceOHZnM/lX35W1KSkq2kRH5M8uNUcv39Xo9kpOTkZSUZLhNnz7dKHbZMjavgABg2DDD\\nwyNHjsSFCxdM+nnFy1e7+aR3795YsGABvLy8oNFw1PONN3i7YwcHU+bNA6ZO5Uxn+SLazc0NzZs3\\nR+3atbFp0ybcvXsX58+fR2RkJADAwcEBpUuXRpkyZVCmTBmUKlUK7u7umaI7xYoVA5D5YjAtLc3w\\n2eZn++zZMzx8+BA6nQ4Af4/s7e0L9BnlF1VGYEQEnU6H4OBgbNu2Ddu2bcPVq1cNz2u1WkybNg0T\\nJkwww7G52kz6YEAxIiMj4eHhAVdXV0RFReVvJ8uWcQyCCJg1i//ysyE1NRVxcXGGmzwyjI2NRWxs\\nrME0M75GNlX5vjy/It/kK1f59uIFBICXHsv4+JgxY/Dhhx8CAFauBN59F2jVCjhwgDWHh4ejffv2\\nhtdntT87O7tsw1mv2sr3XVxc4ObmBmdn54KFPTp14hHwunXA22/nfz8Kc+IE0LQpX7jdu/dy1MHi\\nSUnh9RihoezEffsCABISEvDgwQPDaFSn0xkiCFlt5VtWF8PyTa/XIykpCYmJiZluCQkJhu+SfKGY\\n1X15a29vj5kzZxpGwDLbtgHjxgHXrvG/q1UDPv2Uw4svTmMA/Nsp5wrIYVulOHXqFCZMmIB9+/YB\\nAEqVKoVJkyZh2LBhsFNr6U5BMkBMyY0bN2jWrFnUunVrsrGxoXXr1qktyaQ8ffqUAJCHh0f+drBq\\nFddhAohmzjStOBWIijKWlnr8WG01+WTiRP7/mDBBbSV5Qs46/7//U1tJPlmwgE+gRg2ra2+Qlpb2\\nUhZyair3rixXLnMG9IQJllGr98qVK9SrVy9DFrWrqyvNmDGD4iygwZ/FGFhGIiMjKbHQdNVjwsLC\\nCACVKFEi729euNBYXXvqVNOLU4muXfmUfvlFbSX5ZM0aPoHu3dVWkmtSU43tf06fVltNPkhM5CaP\\nANH69WqrMSnJydwGrG5do5EB3GtwyhSi4GDzFNzQ6/Wk0+leMtbo6GgaP348DRw4kACQg4MDff75\\n5/T8+XPTi8gnFmlghZHQ0FACQD4+Prl/k15vXKxTyMyLiOi33/i02rVTW0k+uXiRT6ByZbWV5Jq/\\n/mLJ/v5WsWzwZWbNMi5atuJF5Dmh13P3lMBAY40C+ebqStS6NdGYMTxq27ePu0HnZSG6Xq+ntGxG\\nrjqdjmLSF2jOnj2bJEmi0aNH0wcffEAPTdax03QIA1OIW7duEQCqUKFC7t6g03E3ZYBHX/Pnm1eg\\nCjx/zutPtVorbTSbnMwnIElcNNMKeO89/pOaPFltJfkgJsZYZHDHDrXVKEJiItHmzUQffkhUpUpm\\nM3vx9vPPL79fp9ORPocrlevXr9OSJUtowIAB5OfnR5Ik0S/pIZFx48aRJEn0VXpxcJNWEDIRqi9k\\nLiqkpqYCAGxfzJXNirg4znDYvJlrnK1YYZioLkx4ePBasD17OCMxQzKZdWBnx8kEV67wrUEDtRXl\\nSFISL6QFOPvW6pg9G3j2DGjeHOjcWW01iuDgwAue5UXPDx4A589zW7DLl/nfciJsyZIvvz+rJKVn\\nz55h8uTJWLRoEdLS0uDq6oqAgAC0bNkSkydPRq9evQBwkgbASxOy25faCANTiFwb2PXrQO/ewMWL\\nnKa9bh2QnplXGOnd25jIZ3UGBvAC8itXgJAQizewnTuBmBiWGRCgtpo88uwZr/oFgBkzrKLqjDnw\\n9eWb3FdVhghIS9NDr2ejSUlJQXBwMPbt24eIiAgMGDAATZs2BcBFGRYsWICAgADMnj0b3t7eKFmy\\nJNzc3ODo6GjIbKxSpQoAGFLkLdHALE+RudHpuG1quqEoRVpaGgBe25ElRLyuq149Nq+AAOCffwq1\\neQFAjx6cxr1vHzeStjrSK6AgJERdHbkgvWCIpTTqzhszZwKxsbx0oUULtdWoAqWveHr48CEOHjyI\\nx48fA0B65RLA1lYDjUaD06dPo1KlSmjbti02bNiAvXv34u2338aoUaOQnJwMR0dHAMDnn3+OTp06\\noUGDBvBNX8eYMS1froYSGhqKiIiITBosBrVjmIpz7JhxNvSdd4j++IMoIsLsh719+zZt2bKFkrOq\\nln3jhjElD+DOj1FRZtdkKXTowKe9eLHaSvLB+vVk6ABswSQmGhst3r6ttpo8cv++sfPwmTNqq1EF\\nOUPwxo0bZG9vT5Ik0bvvvpvp+X///ZfWr19P1atXpxo1atC2bdsoOjqaIiMjqV27dqTVaunIkSNE\\nROTh4UFBQUH077//0ooVK2jQoEHUsWNHunbtmmGfu3fvJh8fH6pfvz7dvHmTiHgZQE5zakpT9Axs\\n925eP5Jx9lOrJWrVijOc0v+jFOHJE6Lx44ns7FiHiwvR8uVWmh6WfxYv5tPv0EFtJfng+nUWn5fs\\nUhXYutWYkm11jBjB4t9+W20lqtOnTx9ycXGhLl26kCRJ9NFHHxmSKz799FNq06YN7d27N9N7li9f\\nTj169KD9+/cbHnvjjTdIkiRyc3OjUqVKUevWrWnNmjWUnJxsyFA8fPgwOTs7U8eOHenZCx2uIyMj\\nKSQkRHUzK3oGJnPrFtGcOURt2rCBZTQ0Pz/+0qxebfpVtno9X0UGBRE5OBiPOXiwQq1bLY9nz6w4\\nGzEtjRtqAaq1sc8NgwezxG++UVtJHrlxg/8wNBrOFy+k3Lhxg4YNG2YY6WTFtWvXyNHR0ZAlOGLE\\nCJIkiZYvX05ERMePH6dWrVrRsWPHiIgzDL/88kuSJIlGjBhBqampBsPp27cv1a1blxITEykhIYFi\\ns8jDv3TpEjk7O5OzszMFBQXRhg0b6L333qPq1auTJEnk7OxMoaGhpv4o8kTRNbCMRERwpYu+fV9e\\neAEQVa1KNGgQ0dy5REeOcEOfvFx5PHzIubCffkpUsWLmfXfvrnoLdEugUyf+OBYuVFtJPmjShMVn\\nuMK1JFJTidzdWaLVeUC/fix86FC1lZiVQYMGGVLYXxzVyP/eu3cveXt70x9//EFERCEhIdSoUSOq\\nX78+XU4v2TFy5EiaPn06ERF988035O7uTm+++Sa1bduW6tatSxcvXiSdTkdDhw4lPz+/l3To9Xp6\\nmn4VmZSURE2aNCFJkgw3T09PevPNN2n16tX0559/UpTKUx0iCxHgnhL9+vEtNZV7bB04wLejR7ny\\n+NWrwPLlxve4ugKVKgElSgCenrwPSeJy06mpQHg48OgRF15Mn2w1UKoUt+EYOZIragvQpw+wezdn\\nIw4frraaPFKnDifcnD+fqbiypXD6NHcA8POzsuzD8+e51qGdHTB5stpq8gSl13vVarU51iuUXyMX\\n6PX09IQkSYbH5X1JkoT4+HhERkYiLCwMAFC9enVMmzYN77//Pg4ePIhq1aqhYsWKOHfuHADgww8/\\nxLvvvgs3Nzc8efIE3377LaZMmYL169ejSpUqWL58OaKjo3Hv3j3s2LEDBw4cwJkzZ9C4cWOsW7cO\\nzs7OWLFiBcaNG4fDhw+jfv36GDt2LBo0aAAvLy+LaNckDOxFbG2B117j24QJXDj07Fk2tdOngQsX\\ngBs3gOhofjw3uLgADRtyCfyuXYFmzaywgqp56dGDe4Tt389NRr291VaUB+Q2Eiaugm4q/vqLtx06\\nqKsjz0ycyNsPP1S++nYBkftuvQqtVovU1FSULVsWAHLsNyhnMLu4uAAAjhw5gokTJyI8PByHDx/G\\nBx98gGrVqmH79u2G18vvcXZ2RunSpZGUlGQoCAwA5cuXN7SDatWqFcaOHYv33nsPzs7OSEtLg5+f\\nH1atWoXiGTv7WhDCwF6FnR3QpAnfZIh4hHX3Lud+P38OyBXmNRq+lSjBTa/KlOEvnwWuobAk3N2B\\ndu240eiff7KZWQ116vD2/Hl1dWSDVRrYsWPcbdbRkS8krYyoqCisXbsWOp0OgYGBOVZr12q1qJoe\\nicnYokRGvm9nZwedTodNmzbB19cXEyZMQEBAgOFYM2fOROXKlSFJEu7du4fy5csjNjYWFy9exC+/\\n/IKVK1di48aNkCQJpUqVgouLC/z9/fHGG2+gTJkyaN26NcqVKweNRgMigo2NDYjIYF46nc5Qud9i\\nUDWAKRBkQK6N2Lq12krySFQUC7e3N0+11QIQFcU5EDY2RNHRaqvJJXo90euv82f65Zdqq3klGZMj\\n5H9/9dVXhkSHyMjIHN+v1+tp3rx5htT4F4vqyvu+dOkS+fj4kCRJVLx4cerWrRtFR0fT2rVrqVix\\nYt33RU8AACAASURBVPTll1/SvXv3qHfv3jRu3DhasmQJjRgxgsqVK0eSJNHYsWMN+wwPD6fz589T\\nvJWUQMsOYWAKkZiYSAsWLKBx48apLcViiYw0tlh58kRtNXmkfHn+wbWE/hcZ2LSJZbVoobaSPLB3\\nL4t2d7f49ZCRkZE0depUWrZsGRHxOqnjx48bkh6CgoJyrCEom9Py5cupePHi1LNnT4PhvWhkz549\\noxYtWlDNmjUNmYZERPfv36fWrVtT48aN6fbt2/T++++TJElkb29P1apVo2HDhtHGjRuzzDR8UYe1\\nIQxMIR48eEAAqHTp0mpLsWi6dOHfrgUL1FaSR7p3Z+Fr1qitJBMffMCypk1TW0ku0euJmjdn0TNm\\nqK3mlYSHhxvMavPmzURE1LRpU5IkiVq3bk23bt3K8f2ySS1fvtyQ7p7RaJKSkuj8+fMUHBxMaWlp\\nNGTIEGrSpAkRsVnKa7b+/PNP8vLyosuXL9OdO3fo3Llz5jhdi0NMzCiEHEdOSEhQWYll06cPb9ev\\nV1dHnrHQRA6rm//at4/nvzw9gY8+UlvNK/H29kZQUBC0Wi3ee+89tG7dGmfPnoWtrS2++OILVKpU\\nKcf3U3ppJg8PD0iShPXr12P8+PGYOXMmWrRogTJlyqBu3br46KOPEBMTg8qVK2d6v5yp2KVLF4wY\\nMQKOjo6oUKEC6qTPy+r1euj1essrAWUiRBKHQsj1x+Lj41VWYtm8+SYngh48yHkyJUqorSiXWKCB\\n3brFN3d3i68zbGTqVN6OHQs4O6urJZf89NNPKF68OGbPno1Dhw4BAPr27Yu2bdtCr9fnWARXfq5W\\nrVqoXr06QkJCMH/+fABA7dq1MWjQILz11lvQaDRwdHREVFQUwsPDkZSUBAcHB8N+7O3t8c0332S7\\n/0KL2kPAooJeryetVksAKCUlRW05Fo1cFtKqwohXr7LocuXUVmJgwQIrq8B06hQLdnPj3l9WxJMn\\nT2j06NGGcGLVqlUpODiYiCjb5pEvcvv2berYsSPVqlWLPv74Y7p06RIlJCS89JrHpq4OZMUUcnu2\\nHCRJEqOwXPL227y1qjBilSrcvCk01LikQmWsLnw4dy5vAwOtZvQl4+rqisTERMO/r127hoEDB+KP\\nP/4whPlygohQsWJF7Ny5ExcuXMCcOXNQo0YNFCtW7KXXlMyq8VcRRRiYgjg5OQEA4uLiVFZi2bwY\\nRrQKtFqgZk2+bwFhxLQ0nk4CrKQjT1gYsHYtr5e0grmvF9m/fz8WL14MHx8fnD9/Ht26dcPt27fx\\n7rvv4vvvv0dMTAyA7NuRSJIEIjKswdLr9Vm+RpAZYWAK4unpCYA7ogqyx82NRw16vbGDsFVgQfNg\\nJ09y80p/f6B8ebXV5IKVK7kEW/fuQIUKaqvJMxPTq4ZMnDgRtWrVwpYtWzA5vfzVrFmzcqywISMb\\nlCRJhX/uykSIJA4F8fLyAgA8ffpUZSWWT+/ewI4dwNatwPvvq60ml8gVOdJr0amJ1YUP167l7aBB\\n6urIB4mJiahevTpq1KiBgQMHGh7/4osvUL9+fSQlJaFatWoAxCjK1AgDUxDv9AJ/wsBeTefOvD1w\\nAEhIACy0FFtm6tfn7Zkz6uqAlRnYzZv8mTk5Gf/jrYhixYphyZIl0Ov1cHBwMBTftbGxQbdu3dSW\\nV6gR41QFEQaWe0qW5PrHSUk8F2YV1K3LHQkuXWLhKhEVxcXxbWyAVq1Uk5F75GydN9/kRBgrxM7O\\nzpDWLkZZyiEMTEGEgeWNLl14u3OnujpyjZMTUK0aZ1CoOA+2fz/PHzZrZiXJfHL48J131NUhsDqE\\ngSmIMLC8kdHArKaQgLxi+PRp1SQcOMDbdu1Uk5B7rl3jKv6urlYS7xRYEsLAFEQkceSNhg25otCd\\nO8D162qrySWvvcbbw4dVkyAfumVL1STkHnn09dZbgL29uloEVocwMAUpkV4XSRhY7tBqgU6d+P6O\\nHepqyTVt2/J23z6O4ylMRARw8SK3sWvcWPHD551163grF8EUCPKAMDAFkQ0s3GpW56qPHEZMbzJr\\n+fj7A2XLAs+eqdLg8tgxDrc2aWIF+RAhIXzz8LCSeKfA0hAGpiDCwPJO5848Ejt8GIiMVFtNLpAk\\nY+mLXbsUP/yRI7x9/XXFD5135PBhz55cekUgyCPCwBTEw8MDWq0WUVFRSElJUVuOVeDuzj/GOh2w\\ne7faanLJm2/ydsMGxQ8tL0GTp+IsFiJg1Sq+L7IPBflEGJiCaDQaQyaiKCeVe+S1oFu3qqsj13To\\nALi4AGfP8iJdhSAyFgGpW1exw+aPQ4e414uvL9C6tdpqBFaKMDCFEWHEvNO9O2937eJyeRaPg4Nx\\nFCYnKSjAgwecxOHlBfj4KHbY/LF4MW+HDOEYsUCQD4SBKYwwsLxTuTJQvToQHa1qdnrekMNiK1Yo\\ntojt7FneygVBLJaoKGDjRr4/ZIi6WgRWjTAwhXF3dwcARFlIzyhroUcP3q5Zo66OXNOxI1C6NHD1\\nKnD8uCKHtJrw4apVXGqrXTugYkW11QisGGFgCiP3BIuNjVVZiXUxYABvN2wAkpPV1ZIrbGyAwYP5\\n/pIlihxSHoHVq6fI4fKPHD4cNkxdHQKrRxiYwjinF6cTTS3zRvXqPLKIirKi2ohDh/J23TpAgQuW\\njCFEi+Xff1moh4dxWC0Q5BNhYAojRmD5Rx6F/fGHujpyjZ8frwGIjzeueTITz58D9+5x25mAALMe\\nqmDIo9GBA61gpbXA0hEGpjDCwPJPv36cnLB9Oyd0WAVymMzMYUR5/Vfduhac1JeYaLz6EOFDgQkQ\\nBqYwNjbcQ1SvQp08a8fHh/tbJScbk9gsnt69uafJiRPAlStmO4xsYHIxfIvkzz/5yqNRI6B2bbXV\\nCAoBwsAEVoXcsX3lSnV15JrixY0p9cuWme0wcveWhg3NdoiCI5I3BCZGGJjAqujVi6dODh4E7t9X\\nW00ukdc6rVjBNbFMDBEQHMz3LdbAbt7k/7RixYC+fdVWIygkCAMTWBWurlyZI2MpPYunaVNO6Hj0\\nCPjrL5Pv/soVICwMKFmSG0JbJEuX8rZPH/5PFAhMgDAwhZHnviSLLpVg2chhRAWLXBQMSQLee4/v\\n//67yXf/99+8bdfOQitwpKUZz1uEDwUmRBiYwkSm9wRxc3NTWYn10qkTd2oOCTFWn7B4ZNfdvh1I\\nSDDprvfs4a3cxcXi2L2bh4j+/sB//qO2GkEhQhiYwshV6L28vFRWYr3Y2hqnUawmmaNcOW6RnJBg\\ndBwT8Pw5sHcvoNEYu1dbHBmTNyxyiCiwVoSBKYxsYHJbFUH+ePdd3q5axREqq6BXL96asE/Y+vVc\\nob99e54DszgeP+ZRp1YLDBqkthpBIUMYmMKIEZhpaNyY8yIePwb27VNbTS6RDWz7dpMVdJRHoHKV\\nEotj+XLOvHzjDaBUKbXVCAoZwsAURhiYaZAk44/2+vXqask1lSsDdeoAMTEmcd07d4Bjx3ip2Vtv\\nmUCfqSEyViAJDFRXi6BQIgxMYYSBmY6ePXm7ZYtZlleZB9lpTNBeWl5G8OabQHqFMsvi6FHg+nVu\\nK2OxE3QCa0YYmILodDpERERAkiRDXzBB/qlZE6hSBXj2jH8rrYJu3Xi7fXuB1gAQGcOHcoKjxZGx\\n63J6CTWBwJQIA1OQyMhIEBHc3d0NNREF+UeSjAOaTZvU1ZJr6tXjoo4PHxr7n+SDs2e5V6aXl4Wm\\nz0dHG2O7clsZgcDECANTEBE+ND0ZDcxqFjXLo7AChBHlou7vvMPLCiyONWu4+nyrVjz3JxCYAWFg\\nCiIMzPQ0acJTLKGh3CvRKpANbNu2fL1dpwNWr+b7Fh8+FMkbAjMiDExBhIGZHo3G2Nh382Z1teSa\\nNm04dfDff4EHD/L89sOHubBFpUps4BbH+fNcHt/V1ZhpIxCYAWFgCiIMzDxY3TyYgwPQoQPf3749\\nz2+Xp5b69LHQwhZy6vyAAVx9XiAwE8LAFOTp06cAhIGZmpYt+WI/JAS4cUNtNbkkn2FEnY77QgLA\\n22+bWJMpSEzkKsuACB8KzI4wMAURIzDzYGfHhR4AKxqFde3Kw6d9+4D4+Fy/7ehR4MkTDh/Wq2dG\\nffll40YgKoobk1mkQEFhQhiYgggDMx9yGNFq5sFKluQJrORkrsabS+Qyir17W2j4cNEi3g4frq4O\\nQZFAGJiCCAMzH5068dRScDAnOFgF+Qgj7tjBW4vMjbh6lTNMHB2Bfv3UViMoAggDUxBRid58ODoa\\nF/Ru2aKullyTsSpHeqPTnLh1i+sfurtzhM7ikFPn+/UDnJ3V1SIoEggDUxAxAjMvVhdGrFkTqFAB\\nCA8HTp585cvlzstt2nB3EosiORlYtozvi/ChQCGEgSmIMDDz0q0brwvbv58rGVk8eazKIU+VWWTp\\nqC1buChl7dpAo0ZqqxEUEYSBKURKSgpiYmKg1Wrh6uqqtpxCiZcX8Prr3ODRBMXelSGX82A6HRsz\\nYKEGtnAhb0eMsNDsEkFhRBiYQkRERAAAPDw8IIkvuNno04e3a9eqqyPXtGzJ80WXLvEEVzacOQNE\\nRnL6fKVKCurLDbdu8XKAYsUsuLOmoDAiDEwhnj9/DgDw9PRUWUnhplcvDiPu2QOkXzNYNnZ2xl5Z\\nOYzC5Pmvdu0U0JRXfvyRt337Am5u6mr5//bOPS7Kauvjv/0MV+UqIDZeEgVN8M4RMAWviaNg2pt5\\nT+3NUsvrqY9ancC3TLDQMLWL4iW1g2bmDdTykimK+cpLmsqBBPWAiiIEKDdh1vvHdh4YAUGF5xkO\\n+/v5zGce5tmz99qjzI+199prCRoVQsAUoqIHJqg/mjfnQQ6lpQ3oUHMtlhENBZwHDVLAnschNxdY\\nv55fz5mjri2CRocQMIUwCJjwwOqfsWP5c4NZRhw2jLuNx45VGX1SWAjExfHrgQMVtq0moqKAu3e5\\nYd26qW2NoJEhBEwhDEuIwgOrf0aN4gWADx/mEeomj5MT0KcPjz45eLDS7ZMneZR69+48UMVkKC0t\\nXz6cN09dWwSNEiFgCiGWEJWjWTOe7F2v56n5GgSPWEY07H+Z3PLhtm3A1auAhwf3IgUChRECphD5\\n+fkAAFuRoUARDMuI0dHq2lFrRozgzzEx3LOpgOH8l0kJWGkpsHgxv160iC+BCgQKI/7XKURJSQkA\\nwNLSUmVLGgcvvghYWgLHjwPXr6ttTS3o2JF7Mjk5fM3wAXfu8BD6Jk14xL3JsHUrr13Tvj0waZLa\\n1ggaKULAFEIImLLY2QE6HUBUXgDS5KliGTEnhz8PG8ZFzCS4fx/4n//h1yEhfMNRIFABIWAKYRAw\\nCwsLlS1pPDTYZcQKaURatuSepElln9+0CUhN5V7j+PFqWyNoxAgBUwiDgJmbm6tsSeMhKIh7LfHx\\nwJUraltTC/r04anmk5OBf/0LAE9u8cILJhQjUVICfPQRvw4NNcGswoLGhBAwhZAebHLra1E2Q1A3\\nNG1aXql5+3Z1bakVZmZ83RMwWkacMwcwmfSZ69YB164Bnp7A6NFqWyNo5AgBU4gmDzYwCgoKVLak\\ncdHgDjUblhErCJi/v0q2PExBQbn39dFHwvsSqI4QMIUwCFhhYaHKljQudDqeKzchgQfNmTxDh3JP\\n7MQJIDMTAN8DMwlWrwZu3gS8vcuLrwkEKiIETCGsra0BCA9MaayseEg90EAONdvbcxHT603LbczL\\nA8LC+PWSJaJkisAkEAKmEMIDUw/DqtyBA+raUWsmTuTPW7aoa0dFVqzg6f39/XmaE4HABBACphDC\\nA1OPwYN5ooi4OO5ImDwjRvCDbGfOAJcuqW0NP00dEcGvhfclMCGEgCmECOJQD0dHwM+PZz8yVDU2\\naayty6NP1qxR1xYACA8H8vOBwEATiigRCISAKYbBAxNLiOpgqBnZYJYR336bP2/cWGWJFcXIzARW\\nreLXH3+snh0CQRUIAVMI4YGpS0UBI1LXluq4fZs7OgCALl2AAQN4ra0NG9QzKjycFyR78UXgb39T\\nzw6BoAqEgCmEIQdicXGxypY0Try9eS2tq1d5ogtTZNUq7nDJGCocf/opFxGluXED+PJLfh0aqvz4\\nAkENCAFTCCFg6iJJ5cFzpriMWFICfP11+WodAJ7ct3t3nk7fICRKEhYGFBXxM1/duys/vkBQA0LA\\nFEIImPqY8j7YDz/w7SYLiwpLnJJUvu+0dClfTlSKjAyuqIDwvgQmixAwhRACpj4GD+yXX9RZkXsU\\nq1fz57feeihKfdgwHkKZlcVFTClCQ4HiYuDll4GuXZUbVyB4DISAKYQQMPVxdQV69uSrYocPq21N\\nOb//zs+o2dmVn2GWYQxYvpxff/qpMufCzp4FoqJ4SisReSgwYYSAKYQQMNPgv/6LP2/erK4dFTF4\\nX5MnAzY2VTTo3RuYNo0Xkpwxo37DKIl48IjhuWPH+htLIHhKGJGpBhX/Z3Hjxg1otVq4urri5s2b\\napvTaPn3v4FnnwXMzXleWkdHde3JyeFFKwsLuXP13HPVNMzO5mKSlQWsXQu8/nr9GLRhA/Daa0Dz\\n5jxc02TquAgElREemEIID8w0aN2aF4gsKQG++05ta3jYfGEhT3dVrXgBQLNmwOef8+s5c+SCl3XK\\n1avlofsREUK8BCaPEDCFMAiYoTKzQD1ee40/r1mj7qFmvb48U9Rbb9XiDePH80dBAU81VZeH4u/f\\nByZN4iepR40CJkyou74FgnpCLCEqRGlpKczNzaHRaFBaWqq2OY2a+/eBtm358aqffuIemRocPMhD\\n+1u3BlJTecxEjeTm8kiU1FReETk6mofbPy1z5gArVwLPPAMkJvIlRIHAxBEemEJoNBowxlBWVoay\\nsjK1zWnUmJuXezyGVTk1MBxanjGjluIF8GW9vXt5yOL33wMLFz69G/nll1y8zM35gTQhXoIGgvDA\\nFMTKygrFxcUoLCyElZWV2uY0arKyuOdTVAQkJSkfbJeWBrRvzzUjPR1wcXnMDvbv55k6ysqA+fOB\\nzz57sjInmzYBU6bw6/oMDhEI6gHhgSmIhYUFABHIYQo4O/MtH4DXalSar77ijtMrrzyBeAGATsc9\\nMHNzfk7sv/+bq3FtIeIHo6dO5T9/+mmjEC+9Xo/x48dDkiS8Xov5ZmZm4oUXXkBKSooC1tUNCQkJ\\nWLx4MTaomQRaKUigGM7OzgSAbt26pbYpAiK6dImIMSILC6L0dOXGLSggcnIiAoji45+ys337iKys\\neGedOxOdOFHze27dInrpJf4egCgs7CmNUJedO3eSk5MTMcbkR9euXenPP/+s1HbmzJnEGCN7e3ti\\njNGRI0fke9u3b6d33nlH/lmv11Pfvn2JMUaffPIJERF5eHgYjWN4TJgwgdLS0oiIKDk5mZ5//vkq\\n2zHGaO7cuURElJGRQf7+/kb3LC0tacuWLU/0ORQVFdG4ceNIkiTS6XSUmJhIREQJCQkkSRKFhYXR\\n/fv3ydzcnN57771K7w8JCSHGGH377bdERLR+/Xpq3rx5lXPQaDSUkJDwRHbWJULAFESr1RIA+ve/\\n/622KYIHjB7Nv8MffKcowvr1fExvbyK9vg46/L//I3J3LxekgQOJNm4kysgoH6C4mOjMGaJ33yWy\\nt+ft7OyI9uypAwPU48yZM2RpaUmtWrWi2bNnU1RUFC1atIjs7e3Jzs6OLl26JLeNj48nxhhFRkbS\\n7du3yc3NjTw9PUn/4DOaM2cOMcZowYIFRET0xRdfkIWFBWk0GvL29iYiIsYYSZJEY8eOpaioKIqK\\niqJp06YRY4z8/PyIiEin0xFjjIYOHSq3MTw2bNhA9+7do9LSUvL19SUzMzMaMWIErV27llavXk1d\\nunQhxhgtWbLksT6HwsJC8vLyIltbW1q7dq08JyKi5cuXE2OMpk6dSkVFRcQYoyZNmtCJh/7YMQjY\\nsWPH6ObNm8QYIzMzMwoNDa00j4MHDz7+P1Y9IARMQdq2bUsA6PLly2qbInhAYiL/Lre2JsrMrP/x\\n9Hqibt34mBs21GHHBQVEH3xAZGtbLmQAUdOmRI6ORGZmxq8HBhIlJ9ehAepw8eJFsrS0pMWLFxu9\\nnp2dTS4uLhQUFCS/tmLFCrK0tKScnBwi4gLFGKPY2FgiKhcwV1dXSkhIIK1WS8uXL6ewsDBijBER\\nFzCdTlfJDk9PT3J1dSUiomXLlpG5uTkVFxc/0vaAgAByc3Mzek2v19O0adPIwcGhSg+yKoqKikin\\n05GFhQWlpqZWun/x4sVKAsYYo86dOxu1MwjYb7/9RkREnTt3pldffbVWNqiF2ANTEMNZsKLH2asQ\\n1CvduvFYiMJCZfbCfv2V5z5s3hwYN64OO7a2Bj76CLh2jeemGjKEH36+d4+n+ygt5ZEq06YBp07x\\nlPweHnVoAIeI5wDOyOBJk7dtA37+uf6KSnfq1AmzZs0CPRSL5ujoiE2bNiEmJga5DwaPiYmBjY0N\\nHBwcAABBQUFwdHTE3r17AQBt2rQBANy6dQve3t5o0aIFpk+fjhYtWoBVCJAJDg42Gmv//v24dOkS\\n/v73vwMAbG1tUVZWhsTERNy8eVN+PHx8Zs2aNZXsZoxh1apVsLW1le2qidWrV+PAgQOYP38+3Nzc\\nKt3ftWuXfF3RhgsXLhjtk5WWlqJly5bo1asXAKBp06ZIS0vD9evX5TlkZWXVyibFUFtBGxPdu3cn\\nAHT27Fm1TRFUID6eOyU2NkR37tTvWCNH8rFCQup3HJmcHKKsLKLCwnobIi/P2Lmr6mFmRjRoEN+y\\nq2tCQ0MpNDS0ynstWrSg6OhoKigoIK1WS6+88op8Lzs7m4KDg6l///5ERHT06FF5j8rKykr2RFJS\\nUow8sI4dO1J8fDxdv36dIiMjycrKivz9/eV+IyMjiTFGtra2JEmSfL3hIZc7LS2N2rZtW6XdCxcu\\npMDAwFrN//Tp09S6dWtijNGwYcMo+SHP2uBZzZkzh/75z38SY4zi4+Np6NCh1KJFC8rIyCAiok6d\\nOhl5hD169CCNRkM2Njay19axY0e5vSkgPDAFMYTOF5paLY9Gjq8vP8x89y6wbFn9jZOaCuzezWt+\\nTZ9ef+MY4eAAODkBCh7bMDPjHmbv3rwaS+/eXMYOHwbu3Kn78fR6fbX3fH190aZNG2RmZuLGjRtI\\nSkpCRkYGli1bBhcXF+zbt6+SVzFv3jzExcXJnoj00EHx5ORk9O7dGy1btsTcuXPh4+OD2NhY+f6e\\nPXvg7u6OvLw8nDt3DocOHcJff/2FKYbjCg+gR5xg8vHxkT3CmvDx8cG1a9dw+PBh3LlzB15eXthc\\nRbbqkSNHyqs/vr6++OKLL1BQUIDAwED88ccfuHPnjuxppqenIzExEaGhocjLy8OhQ4dw/vx5JCUl\\nQavV1souJajt8UlBHWBtbQ1ACJgpsmQJX+qKjOSHnFu3rvsxwsL4F/m4cUCLFnXfv1rY2tZ8lvrO\\nHeDQIWDAgLof/6effoJOp6v0ekFBAfbv34/NmzfjzgPlPH/+PFq3bg0bGxts374dK1asQFxcHG7d\\numX03p49e8rXx48fN7onSRLeeustDB8+HJIkwd/fX94eAPhSXN++fQEAXl5e8PLyqtbu6tixYwf8\\n/PxqmLkxAwYMwMmTJ7Fu3TrMnDkTXl5e6Nmzpzz3h4XY3d0de/fuhU6nQ9cHNd9GjBghzwEAAgIC\\nwBjDwIEDH8sWpRAemIIYBEzsgZkevXrxM1lFRfVTgPjKFZ7oXZKARYvqvn9Tx8kJGDOmfpJ8NK+m\\n0127dsHX1xe2trbya6+++iqOHDmC3NxcvPTSS3jzzTcBACdPnqy2/4c9pcDAQERGRmLIkCEYPHiw\\nkXiVlZUhNTUVOTk5ICJkZ2cb7YPdv39fbutSzQHAkpIS7Nu3r0pRrglJkjBx4kSYm5vjm2++AVBZ\\ngCsSEBCAhQsXAuD7b6NHjwYA+dxbVlYWysrKjOZw+/btx7arvhAemIIID8y0+fhjYOdOLjQzZgB/\\n+1vd9b10KY+jmDhRlNiqa3r27FlJZAoLCxEREYGlD1WxnjJlCvr37y//3KFDBwDAtWvXqgyAMFDR\\nexk1alS17fLz85Geno709HR4eHggNTVVvscYQ2xsLAIDA2W7q2L58uUYPnw43N3dqx3HQEZGBvbv\\n34/AwEAcP34cd+/exZo1a5CXl4fg4GBkZ2cjKSkJjDGYm5tX2cf777+P9PR0ODk5YciDsuUXLlwA\\nAIwZMwatW7fGlStX5PbPPvssUlJSYFbr/Gf1h/oWNCKEgJk2Hh48p21EBN+jOn0a0Gievt+LF3mB\\nY0kCPvjg6fsTGENERlGC+fn5eOONN+Dg4CB/IScnJ8PKygq9e/c2eq+Pj4/swXXr1g3u7u7y76kB\\nPz8/oz0lQ0adqmjSpAm0Wi08PT3RqlUrBAQE4JlnnkG/fv3g7OxcrWgBPEPPgQMHEBYWhri4uFrN\\n/ejRo3jjjTcgSZK8F+jn54djx46hT58+uHLlCkpKSsAYg6+vL/5VRRkeSZLw9ddfG73Wvn172NjY\\nYNSoUdA8+CV4/vnn0aZNG3Tr1s0kxAsQAqYoQsBMn9BQHvp99ixPL7hgwdP1RwTMns1TFs6YIbyv\\nuqaoqAh79uyBq6sr1q1bh5iYGOzevRu9evXCkSNH5HaXL1+GtbW10XKfgenTp8sBE8nJyZXuP/fc\\nc3juQbG2KVOmwNfXt1p7LCwskJ6eXivbt23bhpycHKxbtw6pqan46quvUFxcjNjY2Gr3zR6mb9++\\nsLS0RElJCXQ6HWJiYqptK0mSkdA/iuDgYOTl5dWqraqoGgPZyJg1axYBoBUrVqhtiuARxMaWh36f\\nPv10fUVF8b6aNePR7IK6JTEx0SjFkY2NDYWGhlJeXp7aptVI9+7dZbsN6Z/OnTtXp2NkZGSQJEk0\\nf/58IiJKTU2lnj171ukYaiI8MAURHljDQKfjS4mRkTwM/ORJoFWrx+/nzz+59wXwsi1OTnVrSCc+\\nOgAADbxJREFUpwBwc3PD4sWLERAQgH79+qltzmMxf/585Obm4u233663MbRarVH5Jjc3N5w9e7be\\nxlMaIWAKYthEFQUtTZ/wcODMGS5eQ4cCx48Djo61f//t28Dw4TwRxpgxPHhDUPfY2dnhH//4h9pm\\nPBGTDOUQBE+MCKNXEMP6M4kSbCaPpSWvG9mpE3DhAtCvH8/SVBtycoBhw4DkZJ6q6uuvn6xUl0Ag\\neDRCwBRECFjDolkz4OBBHnhx/jzQvTsPsX9UQe3TpwE/P+B//xdo146nHLS3V85mgaAxIQRMQQxn\\nSYSANRxatwbi4vhyYE4O8NprQIcOPFrx5595iHxCArBxI08K3Ls397y6dgWOHv3PyrghEJgaYg9M\\nQQwe2KNytwlMDycnvpz43Xf8HFdqKrB4cdVtLSyAuXOBkBCgSRNl7RQIGhtCwBRELCE2XBgDJkzg\\nARmHDwN79vCyKFlZXLQ6dAD69OHBGtVkCBIIBHWMWEJUECFgDR8zMyAwkJfcOnECSEoCzp0DduwA\\n5s0T4mXq6PV6jB8/HpIk4fXXX6+xfWZmJl544QU5N2Bj5ejRowgNDcWPP/6otilGCAFTELEHJhDU\\nPT/++COcnZ0hSZL86NatGy5fvlyp7axZsxAdHQ07OzusX78eR48ele99//33ePfdd+WfiQgvv/wy\\nDh8+jB07dgDguRMrjmN4TJw4Uc4XmJKSgj59+lTZTpIkzJs3DwBw/fp1BAQEGN2zsrLC1q1bn+hz\\n2LdvH9q3bw9JkvDcc89h586dldro9Xq88847sLCwkMccPXp0td9JOTk5GDJkCAYNGoSUlBR0794d\\nALB7925IkoTo6GikpaVBo9HIyYMrMmXKFEiSJCcUDg8Ph52dXZWfi42NDa5fv/54k1bvDHXjY8mS\\nJQSAFi5cqLYpAsF/BGfOnCFLS0tq1aoVzZ49m6KiomjRokVkb29PdnZ2dOnSJbltfHw8McYoMjKS\\nbt++TW5ubuTp6Ul6vZ6IiObMmUOMMVqwYAEREX3xxRdkYWFBGo2GvL29iYjkrBljx46lqKgoioqK\\nomnTphFjjPz8/IiISKfTEWOMhg4dKrcxPDZs2ED37t2j0tJS8vX1JTMzMxoxYgStXbuWVq9eTV26\\ndCHGGC1ZsuSxPoft27eTmZkZOTg40MKFCyk8PJxGjhxZqV1ERAQxxqhr1670zTffkI+PDzHGaObM\\nmZXaXr9+nVq1akUuLi60e/duo3uzZ88mxhgtXryYkpKSiDFGLi4ulJSUZNRu8uTJxBijq1ev0unT\\np4kxRk2bNqWIiIhKn01cXNxjzZmISAiYgnzyyScEQP4FEQgET8fFixfJ0tKSFi9ebPR6dnY2ubi4\\nUFBQkPzaihUryNLSknJycoiICxRjjGJjY4moXMBcXV0pISGBtFotLV++nMLCwowqMut0ukp2eHp6\\nkqurKxERLVu2jMzNzam4uPiRtgcEBBhVQCYi0uv1NG3aNHJwcKA///yzVp/BsWPHSKPRkKurK/3+\\n++/VtktNTSUzMzPq0qUL/fHHH0REVFZWRmPHjiXGGEVFRclts7Ozydvbm5ycnCg3N7dSX7GxsZUE\\nzFARuiKTJ08mjUZDmZmZVFJSQg4ODvThhx/Wal61QQRxKIjYAxP8R1JczOvFADx7sV7Po14YA/Lz\\ngYICwNmZh3MOHgx06VJnQ3fq1AmzZs2q9Dvl6OiITZs2Yfjw4cjNzYW9vT1iYmJgY2MDBwcHAEBQ\\nUBBCQkLkoo6GhL63bt2Ct7c3evTogenTp2P79u1GSXCDg4ONxtq/fz8uXbqE8PBwAICtrS3KysqQ\\nmJhoVFXZ2dnZKIv7mjVrEBQUZNQXYwyrVq3CgQMHsHfvXsydO/eR8y8uLsakSZPAGMORI0fg6elZ\\nbdulS5eiefPmOHv2rJwVSJIkbN26FTk5OVi1ahVee+01AEBISAgSEhLw5Zdfws7OrlJfu3btkq8r\\n1jg7cOAADh8+jEGDBgHgWYeef/55OeO/lZUVkpOTcfPmTfk9lpaWcHycNDcVqTMpFNRIeHg4AaB3\\n331XbVMEgrojL49nLK7N45tv6nz40NBQCg0NrfJeixYtKDo6mgoKCkir1dIrr7wi38vOzqbg4GDq\\n378/EREdPXqUGGM0d+5csrKyot9++42IiFJSUow8sI4dO1J8fDxdv36dIiMjycrKivz9/eV+IyMj\\niTFGtra2JEmSfL1hwwYj29LS0qht27ZV2r1w4UIKDAysce7fffcdMcZoxowZj2yXlpZGFhYWdOjQ\\noSrvG7y4y5cvExHR3r17ycnJiTQaDU2cOJEyMjKM2huWBlesWEFLly4lOzs7OnfuHPXo0YO8vLwo\\nPz+fiIisra1pwIABRMS9y2bNmpG5uTk1adKEGGOk0WioV69edPfu3RrnWhXCA6tniAh//fUXHB0d\\nH3kOLDc3F3Z2drUudyAQmAwWFvzgmwFJKvfEbG35gbjMTCA3t069LwN6vd6o4GRFfH190aZNG2Rm\\nZuLGjRtISkpCRkYGtm7divfeew96vb5S6ZJ58+Zh0qRJcu2uh/tOTk42qivm7+9vVMZkz549cHd3\\nR3JyMi5cuIDMzEz079+/Uj/0iJUYHx8f3Llzp8a5FxcXAwCmTp36yHZbtmyBr6+v7Bk9jJ2dHfR6\\nPS5duoR27dohKCgIWVlZ2LlzJ95//305KGTw4MFG7xs5ciQ2btyIZs2aoUuXLli5ciUGDhyIF198\\nEStXrkRRUZH8nRYXF4ecnBx8++23GD16NI4fP4527dqhXbt2Nc6zWp5I9gS1orS0lGbMmEEeHh50\\n+/Zt+vTTTwmAXNqAiP9VsnXrVnJ2dqZt27apaK1A0DDx8/OrtAdGRHTv3j2ysLCgvLw8SktLMyq7\\nYmtrSz/88AP17duXGGOUmZkpe2BXr1416mfjxo1GHphGo6HZs2fTwYMH6eeff6aioiKj9v369aOp\\nU6fWaPdXX31VrQc2fvx4WrlyZY19GGz+6KOPHtmua9eu9OOPP1Z5r7S0lMaNG0cdOnSg0tLSSvdL\\nSkrogw8+IK1WS2lpaUREFBQURJIk0ZUrVygkJMRoHtHR0aTRaOTP+uOPPzay9eHP92kQYfT1SGFh\\nIU6dOoWUlBQEBwfLa8X04C+vq1evYvjw4ZgwYQKysrJM7oyFQNAQMOyvPMyuXbvg6+sLW1tb+bVX\\nX30VR44cQW5uLl566SW8+eabAICTJ09W2z895CkFBgYiMjISQ4YMweDBg42KZJaVlSE1NRU5OTkg\\nImRnZ+PmzZvyo+J+kUs1hwZLSkqwb98+6HS6Gufev39/+Pn5ITQ0FBcvXjS6d+XKFcyaNQvp6ek4\\nf/58lftMKSkpGDVqFI4cOYJdu3bJ1ZcrYm5ujrfeegs3btxAdHQ0AMhh8VUxZswYTJ48GQDf03v5\\n5ZflsQAgKysLJSUlRp9LdnZ2jXOtCrGEWI/Y2NggJiYGvXv3Rnx8PO7evQuA/ydfuXIl3nvvPdy7\\ndw8ODg5Yvnw5pkyZoq7BAkEDpGfPnpVEprCwEBEREVhqCC55wJQpU9C/f3/55w4dOgAArl27Bjc3\\nt2rHqLj8N2rUqGrb5efnIz09Henp6fDw8EBqaqp8jzGG2NhYBAYGynZXxfLlyzF8+HC4u7tXO05F\\ntmzZgkGDBsHf3x8zZ87EqFGjkJCQgLlz52LixIlwcHCAi4sL5s+fj/Hjx8P+QXbpU6dO4dtvv0WP\\nHj1w6NAhdOrUCQCQlJSEkydPYtiwYThw4AAKCwsRHh4OKysrBAYG4uLFi8jLywNjTA4GeZhVq1Yh\\nLy8PAQEB6PigDPmFCxcA8CVXR0dHozNffn5+j/wjojqEgNUzWq0W+/fvR58+ffDHH38AALZv3y5H\\n4YwePRorV65EC5H1VSB4IojIaO84Pz8fb7zxBhwcHDBkyBAAfN/KysrKaO8K4HtNBg+uW7ducHd3\\nlwvPGvDz88PmzZvlny0sLKq1pUmTJtBqtfD09ESrVq0QEBCAZ555Bv369YOzs3O1ogXw/awDBw4g\\nLCwMcXFxtZ5/u3btcOrUKUREROCzzz7DkiVLwBjD+PHjERERgaZNmyImJgbLli3DggULoNfr0aFD\\nB4wePRrJycmVhHvHjh348MMPIUmSvF8/dOhQxMTEwMvLC7/88gsAoGXLltBqtVXaZG1tje+//97o\\nNQ8PD7i4uGD48OEAuKAPGjQILi4u8PX1rfV8jaizxUjBI/n1119Jo9EQAAJAWq2Wdu3apbZZAkGD\\nprCwkHr06EFDhw6ltWvX0siRI4kxRj4+PkaRbWvWrKFmzZpV2UdISEi1+0MPM3Xq1EqHdZ+UsLAw\\nsre3p7Vr19KiRYvI0dGRmjRpQr/88kud9P+knDhxgjQaDUmSVGV0o2Evq127dkTEo0Cr28urb4SA\\nKcjUqVMJAHXu3Jn++usvtc0RCBo8iYmJRsEZNjY2FBoaSnl5eWqbViPdu3eX7ZYkiXQ6HZ07d05t\\ns2rk5MmTpNFo6PPPPyciotOnT9cq5L8+YETiVK1S0ENLHQKB4OnIy8tDZGQkAgIC0K9fP7XNeSw2\\nb96M3NxcvP3222qb0mARAiYQCASCBokIoxcIBAJBg0QImEAgEAgaJELABAKBQNAgEQImEAgEggaJ\\nEDCBQCAQNEiEgAkEAoGgQSIETCAQCAQNEiFgAoFAIGiQCAETCAQCQYPk/wEPvRJNIO9OCwAAAABJ\\nRU5ErkJggg==\\n\",\n       \"prompt_number\": 1,\n       \"text\": [\n        \"\u003cIPython.core.display.Image at 0x2fef710\u003e\"\n       ]\n      }\n     ],\n     \"prompt_number\": 1\n    },\n    {\n     \"cell_type\": \"markdown\",\n     \"metadata\": {},\n     \"source\": [\n      \"Sometimes when showing schematic plots, this is the type of figure I want to display.  But drawing it by hand is a pain: I'd rather just use matplotlib.  The problem is, matplotlib is a bit too precise.  Attempting to duplicate this figure in matplotlib leads to something like this:\\n\",\n      \"\u003c!-- PELICAN_END_SUMMARY --\u003e\"\n     ]\n    },\n    {\n     \"cell_type\": \"code\",\n     \"collapsed\": false,\n     \"input\": [\n      \"Image('http://jakevdp.github.com/figures/mpl_version.png')\"\n     ],\n     \"language\": \"python\",\n     \"metadata\": {},\n     \"outputs\": [\n      {\n       \"output_type\": \"pyout\",\n       \"png\": \"iVBORw0KGgoAAAANSUhEUgAAAbAAAAEgCAYAAADVKCZpAAAABHNCSVQICAgIfAhkiAAAAAlwSFlz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\\nSUVORK5CYII=\\n\",\n       \"prompt_number\": 2,\n       \"text\": [\n        \"\u003cIPython.core.display.Image at 0x2fef0d0\u003e\"\n       ]\n      }\n     ],\n     \"prompt_number\": 2\n    },\n    {\n     \"cell_type\": \"markdown\",\n     \"metadata\": {},\n     \"source\": [\n      \"It just doesn't have the same effect.  Matplotlib is great for scientific plots, but sometimes you don't want to be so precise.\\n\",\n      \"\\n\",\n      \"This subject has recently come up on the matplotlib mailing list, and started some interesting discussions.\\n\",\n      \"As near as I can tell, this started with a thread on a\\n\",\n      \"[mathematica list](http://mathematica.stackexchange.com/questions/11350/xkcd-style-graphs)\\n\",\n      \"which prompted a thread on the [matplotlib list](http://matplotlib.1069221.n5.nabble.com/XKCD-style-graphs-td39226.html)\\n\",\n      \"wondering if the same could be done in matplotlib.\\n\",\n      \"\\n\",\n      \"Damon McDougall offered a quick\\n\",\n      \"[solution](http://www.mail-archive.com/matplotlib-users@lists.sourceforge.net/msg25499.html)\\n\",\n      \"which was improved by Fernando Perez in [this notebook](http://nbviewer.ipython.org/3835181/), and\\n\",\n      \"within a few days there was a [matplotlib pull request](https://github.com/matplotlib/matplotlib/pull/1329) offering a very general\\n\",\n      \"way to create sketch-style plots in matplotlib.  Only a few days from a cool idea to a\\n\",\n      \"working implementation: this is one of the most incredible aspects of package development on github.\\n\",\n      \"\\n\",\n      \"The pull request looks really nice, but will likely not be included in a released version of\\n\",\n      \"matplotlib until at least version 1.3.  In the mean-time, I wanted a way to play around with\\n\",\n      \"these types of plots in a way that is compatible with the current release of matplotlib.  To do that,\\n\",\n      \"I created the following code:\"\n     ]\n    },\n    {\n     \"cell_type\": \"heading\",\n     \"level\": 2,\n     \"metadata\": {},\n     \"source\": [\n      \"The Code: XKCDify\"\n     ]\n    },\n    {\n     \"cell_type\": \"markdown\",\n     \"metadata\": {},\n     \"source\": [\n      \"XKCDify will take a matplotlib ``Axes`` instance, and modify the plot elements in-place to make\\n\",\n      \"them look hand-drawn.\\n\",\n      \"First off, we'll need to make sure we have the Humor Sans font.\\n\",\n      \"It can be downloaded using the command below.\\n\",\n      \"\\n\",\n      \"Next we'll create a function ``xkcd_line`` to add jitter to lines.  We want this to be very general, so\\n\",\n      \"we'll normalize the size of the lines, and use a low-pass filter to add correlated noise, perpendicular\\n\",\n      \"to the direction of the line.  There are a few parameters for this filter that can be tweaked to\\n\",\n      \"customize the appearance of the jitter.\\n\",\n      \"\\n\",\n      \"Finally, we'll create a function which accepts a matplotlib axis, and calls ``xkcd_line`` on\\n\",\n      \"all lines in the axis.  Additionally, we'll switch the font of all text in the axes, and add\\n\",\n      \"some background lines for a nice effect where lines cross.  We'll also draw axes, and move the\\n\",\n      \"axes labels and titles to the appropriate location.\"\n     ]\n    },\n    {\n     \"cell_type\": \"code\",\n     \"collapsed\": false,\n     \"input\": [\n      \"\\\"\\\"\\\"\\n\",\n      \"XKCD plot generator\\n\",\n      \"-------------------\\n\",\n      \"Author: Jake Vanderplas\\n\",\n      \"\\n\",\n      \"This is a script that will take any matplotlib line diagram, and convert it\\n\",\n      \"to an XKCD-style plot.  It will work for plots with line \u0026 text elements,\\n\",\n      \"including axes labels and titles (but not axes tick labels).\\n\",\n      \"\\n\",\n      \"The idea for this comes from work by Damon McDougall\\n\",\n      \"  http://www.mail-archive.com/matplotlib-users@lists.sourceforge.net/msg25499.html\\n\",\n      \"\\\"\\\"\\\"\\n\",\n      \"import numpy as np\\n\",\n      \"import pylab as pl\\n\",\n      \"from scipy import interpolate, signal\\n\",\n      \"import matplotlib.font_manager as fm\\n\",\n      \"\\n\",\n      \"\\n\",\n      \"# We need a special font for the code below.  It can be downloaded this way:\\n\",\n      \"import os\\n\",\n      \"import urllib2\\n\",\n      \"if not os.path.exists('Humor-Sans.ttf'):\\n\",\n      \"    fhandle = urllib2.urlopen('http://antiyawn.com/uploads/Humor-Sans-1.0.ttf')\\n\",\n      \"    open('Humor-Sans.ttf', 'wb').write(fhandle.read())\\n\",\n      \"\\n\",\n      \"    \\n\",\n      \"def xkcd_line(x, y, xlim=None, ylim=None,\\n\",\n      \"              mag=1.0, f1=30, f2=0.05, f3=15):\\n\",\n      \"    \\\"\\\"\\\"\\n\",\n      \"    Mimic a hand-drawn line from (x, y) data\\n\",\n      \"\\n\",\n      \"    Parameters\\n\",\n      \"    ----------\\n\",\n      \"    x, y : array_like\\n\",\n      \"        arrays to be modified\\n\",\n      \"    xlim, ylim : data range\\n\",\n      \"        the assumed plot range for the modification.  If not specified,\\n\",\n      \"        they will be guessed from the  data\\n\",\n      \"    mag : float\\n\",\n      \"        magnitude of distortions\\n\",\n      \"    f1, f2, f3 : int, float, int\\n\",\n      \"        filtering parameters.  f1 gives the size of the window, f2 gives\\n\",\n      \"        the high-frequency cutoff, f3 gives the size of the filter\\n\",\n      \"    \\n\",\n      \"    Returns\\n\",\n      \"    -------\\n\",\n      \"    x, y : ndarrays\\n\",\n      \"        The modified lines\\n\",\n      \"    \\\"\\\"\\\"\\n\",\n      \"    x = np.asarray(x)\\n\",\n      \"    y = np.asarray(y)\\n\",\n      \"    \\n\",\n      \"    # get limits for rescaling\\n\",\n      \"    if xlim is None:\\n\",\n      \"        xlim = (x.min(), x.max())\\n\",\n      \"    if ylim is None:\\n\",\n      \"        ylim = (y.min(), y.max())\\n\",\n      \"\\n\",\n      \"    if xlim[1] == xlim[0]:\\n\",\n      \"        xlim = ylim\\n\",\n      \"        \\n\",\n      \"    if ylim[1] == ylim[0]:\\n\",\n      \"        ylim = xlim\\n\",\n      \"\\n\",\n      \"    # scale the data\\n\",\n      \"    x_scaled = (x - xlim[0]) * 1. / (xlim[1] - xlim[0])\\n\",\n      \"    y_scaled = (y - ylim[0]) * 1. / (ylim[1] - ylim[0])\\n\",\n      \"\\n\",\n      \"    # compute the total distance along the path\\n\",\n      \"    dx = x_scaled[1:] - x_scaled[:-1]\\n\",\n      \"    dy = y_scaled[1:] - y_scaled[:-1]\\n\",\n      \"    dist_tot = np.sum(np.sqrt(dx * dx + dy * dy))\\n\",\n      \"\\n\",\n      \"    # number of interpolated points is proportional to the distance\\n\",\n      \"    Nu = int(200 * dist_tot)\\n\",\n      \"    u = np.arange(-1, Nu + 1) * 1. / (Nu - 1)\\n\",\n      \"\\n\",\n      \"    # interpolate curve at sampled points\\n\",\n      \"    k = min(3, len(x) - 1)\\n\",\n      \"    res = interpolate.splprep([x_scaled, y_scaled], s=0, k=k)\\n\",\n      \"    x_int, y_int = interpolate.splev(u, res[0]) \\n\",\n      \"\\n\",\n      \"    # we'll perturb perpendicular to the drawn line\\n\",\n      \"    dx = x_int[2:] - x_int[:-2]\\n\",\n      \"    dy = y_int[2:] - y_int[:-2]\\n\",\n      \"    dist = np.sqrt(dx * dx + dy * dy)\\n\",\n      \"\\n\",\n      \"    # create a filtered perturbation\\n\",\n      \"    coeffs = mag * np.random.normal(0, 0.01, len(x_int) - 2)\\n\",\n      \"    b = signal.firwin(f1, f2 * dist_tot, window=('kaiser', f3))\\n\",\n      \"    response = signal.lfilter(b, 1, coeffs)\\n\",\n      \"\\n\",\n      \"    x_int[1:-1] += response * dy / dist\\n\",\n      \"    y_int[1:-1] += response * dx / dist\\n\",\n      \"\\n\",\n      \"    # un-scale data\\n\",\n      \"    x_int = x_int[1:-1] * (xlim[1] - xlim[0]) + xlim[0]\\n\",\n      \"    y_int = y_int[1:-1] * (ylim[1] - ylim[0]) + ylim[0]\\n\",\n      \"    \\n\",\n      \"    return x_int, y_int\\n\",\n      \"\\n\",\n      \"\\n\",\n      \"def XKCDify(ax, mag=1.0,\\n\",\n      \"            f1=50, f2=0.01, f3=15,\\n\",\n      \"            bgcolor='w',\\n\",\n      \"            xaxis_loc=None,\\n\",\n      \"            yaxis_loc=None,\\n\",\n      \"            xaxis_arrow='+',\\n\",\n      \"            yaxis_arrow='+',\\n\",\n      \"            ax_extend=0.1,\\n\",\n      \"            expand_axes=False):\\n\",\n      \"    \\\"\\\"\\\"Make axis look hand-drawn\\n\",\n      \"\\n\",\n      \"    This adjusts all lines, text, legends, and axes in the figure to look\\n\",\n      \"    like xkcd plots.  Other plot elements are not modified.\\n\",\n      \"    \\n\",\n      \"    Parameters\\n\",\n      \"    ----------\\n\",\n      \"    ax : Axes instance\\n\",\n      \"        the axes to be modified.\\n\",\n      \"    mag : float\\n\",\n      \"        the magnitude of the distortion\\n\",\n      \"    f1, f2, f3 : int, float, int\\n\",\n      \"        filtering parameters.  f1 gives the size of the window, f2 gives\\n\",\n      \"        the high-frequency cutoff, f3 gives the size of the filter\\n\",\n      \"    xaxis_loc, yaxis_log : float\\n\",\n      \"        The locations to draw the x and y axes.  If not specified, they\\n\",\n      \"        will be drawn from the bottom left of the plot\\n\",\n      \"    xaxis_arrow, yaxis_arrow : str\\n\",\n      \"        where to draw arrows on the x/y axes.  Options are '+', '-', '+-', or ''\\n\",\n      \"    ax_extend : float\\n\",\n      \"        How far (fractionally) to extend the drawn axes beyond the original\\n\",\n      \"        axes limits\\n\",\n      \"    expand_axes : bool\\n\",\n      \"        if True, then expand axes to fill the figure (useful if there is only\\n\",\n      \"        a single axes in the figure)\\n\",\n      \"    \\\"\\\"\\\"\\n\",\n      \"    # Get axes aspect\\n\",\n      \"    ext = ax.get_window_extent().extents\\n\",\n      \"    aspect = (ext[3] - ext[1]) / (ext[2] - ext[0])\\n\",\n      \"\\n\",\n      \"    xlim = ax.get_xlim()\\n\",\n      \"    ylim = ax.get_ylim()\\n\",\n      \"\\n\",\n      \"    xspan = xlim[1] - xlim[0]\\n\",\n      \"    yspan = ylim[1] - xlim[0]\\n\",\n      \"\\n\",\n      \"    xax_lim = (xlim[0] - ax_extend * xspan,\\n\",\n      \"               xlim[1] + ax_extend * xspan)\\n\",\n      \"    yax_lim = (ylim[0] - ax_extend * yspan,\\n\",\n      \"               ylim[1] + ax_extend * yspan)\\n\",\n      \"\\n\",\n      \"    if xaxis_loc is None:\\n\",\n      \"        xaxis_loc = ylim[0]\\n\",\n      \"\\n\",\n      \"    if yaxis_loc is None:\\n\",\n      \"        yaxis_loc = xlim[0]\\n\",\n      \"\\n\",\n      \"    # Draw axes\\n\",\n      \"    xaxis = pl.Line2D([xax_lim[0], xax_lim[1]], [xaxis_loc, xaxis_loc],\\n\",\n      \"                      linestyle='-', color='k')\\n\",\n      \"    yaxis = pl.Line2D([yaxis_loc, yaxis_loc], [yax_lim[0], yax_lim[1]],\\n\",\n      \"                      linestyle='-', color='k')\\n\",\n      \"\\n\",\n      \"    # Label axes3, 0.5, 'hello', fontsize=14)\\n\",\n      \"    ax.text(xax_lim[1], xaxis_loc - 0.02 * yspan, ax.get_xlabel(),\\n\",\n      \"            fontsize=14, ha='right', va='top', rotation=12)\\n\",\n      \"    ax.text(yaxis_loc - 0.02 * xspan, yax_lim[1], ax.get_ylabel(),\\n\",\n      \"            fontsize=14, ha='right', va='top', rotation=78)\\n\",\n      \"    ax.set_xlabel('')\\n\",\n      \"    ax.set_ylabel('')\\n\",\n      \"\\n\",\n      \"    # Add title\\n\",\n      \"    ax.text(0.5 * (xax_lim[1] + xax_lim[0]), yax_lim[1],\\n\",\n      \"            ax.get_title(),\\n\",\n      \"            ha='center', va='bottom', fontsize=16)\\n\",\n      \"    ax.set_title('')\\n\",\n      \"\\n\",\n      \"    Nlines = len(ax.lines)\\n\",\n      \"    lines = [xaxis, yaxis] + [ax.lines.pop(0) for i in range(Nlines)]\\n\",\n      \"\\n\",\n      \"    for line in lines:\\n\",\n      \"        x, y = line.get_data()\\n\",\n      \"\\n\",\n      \"        x_int, y_int = xkcd_line(x, y, xlim, ylim,\\n\",\n      \"                                 mag, f1, f2, f3)\\n\",\n      \"\\n\",\n      \"        # create foreground and background line\\n\",\n      \"        lw = line.get_linewidth()\\n\",\n      \"        line.set_linewidth(2 * lw)\\n\",\n      \"        line.set_data(x_int, y_int)\\n\",\n      \"\\n\",\n      \"        # don't add background line for axes\\n\",\n      \"        if (line is not xaxis) and (line is not yaxis):\\n\",\n      \"            line_bg = pl.Line2D(x_int, y_int, color=bgcolor,\\n\",\n      \"                                linewidth=8 * lw)\\n\",\n      \"\\n\",\n      \"            ax.add_line(line_bg)\\n\",\n      \"        ax.add_line(line)\\n\",\n      \"\\n\",\n      \"    # Draw arrow-heads at the end of axes lines\\n\",\n      \"    arr1 = 0.03 * np.array([-1, 0, -1])\\n\",\n      \"    arr2 = 0.02 * np.array([-1, 0, 1])\\n\",\n      \"\\n\",\n      \"    arr1[::2] += np.random.normal(0, 0.005, 2)\\n\",\n      \"    arr2[::2] += np.random.normal(0, 0.005, 2)\\n\",\n      \"\\n\",\n      \"    x, y = xaxis.get_data()\\n\",\n      \"    if '+' in str(xaxis_arrow):\\n\",\n      \"        ax.plot(x[-1] + arr1 * xspan * aspect,\\n\",\n      \"                y[-1] + arr2 * yspan,\\n\",\n      \"                color='k', lw=2)\\n\",\n      \"    if '-' in str(xaxis_arrow):\\n\",\n      \"        ax.plot(x[0] - arr1 * xspan * aspect,\\n\",\n      \"                y[0] - arr2 * yspan,\\n\",\n      \"                color='k', lw=2)\\n\",\n      \"\\n\",\n      \"    x, y = yaxis.get_data()\\n\",\n      \"    if '+' in str(yaxis_arrow):\\n\",\n      \"        ax.plot(x[-1] + arr2 * xspan * aspect,\\n\",\n      \"                y[-1] + arr1 * yspan,\\n\",\n      \"                color='k', lw=2)\\n\",\n      \"    if '-' in str(yaxis_arrow):\\n\",\n      \"        ax.plot(x[0] - arr2 * xspan * aspect,\\n\",\n      \"                y[0] - arr1 * yspan,\\n\",\n      \"                color='k', lw=2)\\n\",\n      \"\\n\",\n      \"    # Change all the fonts to humor-sans.\\n\",\n      \"    prop = fm.FontProperties(fname='Humor-Sans.ttf', size=16)\\n\",\n      \"    for text in ax.texts:\\n\",\n      \"        text.set_fontproperties(prop)\\n\",\n      \"    \\n\",\n      \"    # modify legend\\n\",\n      \"    leg = ax.get_legend()\\n\",\n      \"    if leg is not None:\\n\",\n      \"        leg.set_frame_on(False)\\n\",\n      \"        \\n\",\n      \"        for child in leg.get_children():\\n\",\n      \"            if isinstance(child, pl.Line2D):\\n\",\n      \"                x, y = child.get_data()\\n\",\n      \"                child.set_data(xkcd_line(x, y, mag=10, f1=100, f2=0.001))\\n\",\n      \"                child.set_linewidth(2 * child.get_linewidth())\\n\",\n      \"            if isinstance(child, pl.Text):\\n\",\n      \"                child.set_fontproperties(prop)\\n\",\n      \"    \\n\",\n      \"    # Set the axis limits\\n\",\n      \"    ax.set_xlim(xax_lim[0] - 0.1 * xspan,\\n\",\n      \"                xax_lim[1] + 0.1 * xspan)\\n\",\n      \"    ax.set_ylim(yax_lim[0] - 0.1 * yspan,\\n\",\n      \"                yax_lim[1] + 0.1 * yspan)\\n\",\n      \"\\n\",\n      \"    # adjust the axes\\n\",\n      \"    ax.set_xticks([])\\n\",\n      \"    ax.set_yticks([])      \\n\",\n      \"\\n\",\n      \"    if expand_axes:\\n\",\n      \"        ax.figure.set_facecolor(bgcolor)\\n\",\n      \"        ax.set_axis_off()\\n\",\n      \"        ax.set_position([0, 0, 1, 1])\\n\",\n      \"    \\n\",\n      \"    return ax\"\n     ],\n     \"language\": \"python\",\n     \"metadata\": {},\n     \"outputs\": [],\n     \"prompt_number\": 3\n    },\n    {\n     \"cell_type\": \"heading\",\n     \"level\": 2,\n     \"metadata\": {},\n     \"source\": [\n      \"Testing it Out\"\n     ]\n    },\n    {\n     \"cell_type\": \"markdown\",\n     \"metadata\": {},\n     \"source\": [\n      \"Let's test this out with a simple plot.  We'll plot two curves, add some labels,\\n\",\n      \"and then call ``XKCDify`` on the axis.  I think the results are pretty nice!\"\n     ]\n    },\n    {\n     \"cell_type\": \"code\",\n     \"collapsed\": false,\n     \"input\": [\n      \"%pylab inline\"\n     ],\n     \"language\": \"python\",\n     \"metadata\": {},\n     \"outputs\": [\n      {\n       \"output_type\": \"stream\",\n       \"stream\": \"stdout\",\n       \"text\": [\n        \"\\n\",\n        \"Welcome to pylab, a matplotlib-based Python environment [backend: module://IPython.zmq.pylab.backend_inline].\\n\",\n        \"For more information, type 'help(pylab)'.\\n\"\n       ]\n      }\n     ],\n     \"prompt_number\": 4\n    },\n    {\n     \"cell_type\": \"code\",\n     \"collapsed\": false,\n     \"input\": [\n      \"np.random.seed(0)\\n\",\n      \"\\n\",\n      \"ax = pylab.axes()\\n\",\n      \"\\n\",\n      \"x = np.linspace(0, 10, 100)\\n\",\n      \"ax.plot(x, np.sin(x) * np.exp(-0.1 * (x - 5) ** 2), 'b', lw=1, label='damped sine')\\n\",\n      \"ax.plot(x, -np.cos(x) * np.exp(-0.1 * (x - 5) ** 2), 'r', lw=1, label='damped cosine')\\n\",\n      \"\\n\",\n      \"ax.set_title('check it out!')\\n\",\n      \"ax.set_xlabel('x label')\\n\",\n      \"ax.set_ylabel('y label')\\n\",\n      \"\\n\",\n      \"ax.legend(loc='lower right')\\n\",\n      \"\\n\",\n      \"ax.set_xlim(0, 10)\\n\",\n      \"ax.set_ylim(-1.0, 1.0)\\n\",\n      \"\\n\",\n      \"#XKCDify the axes -- this operates in-place\\n\",\n      \"XKCDify(ax, xaxis_loc=0.0, yaxis_loc=1.0,\\n\",\n      \"        xaxis_arrow='+-', yaxis_arrow='+-',\\n\",\n      \"        expand_axes=True)\\n\"\n     ],\n     \"language\": \"python\",\n     \"metadata\": {},\n     \"outputs\": [\n      {\n       \"output_type\": \"pyout\",\n       \"prompt_number\": 5,\n       \"text\": [\n        \"\u003cmatplotlib.axes.AxesSubplot at 0x2fecbd0\u003e\"\n       ]\n      },\n      {\n       \"output_type\": \"display_data\",\n       \"png\": \"iVBORw0KGgoAAAANSUhEUgAAAb4AAAEvCAYAAAA6t6QPAAAABHNCSVQICAgIfAhkiAAAAAlwSFlz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\\nYII=\\n\",\n       \"text\": [\n        \"\u003cmatplotlib.figure.Figure at 0x43dbc50\u003e\"\n       ]\n      }\n     ],\n     \"prompt_number\": 5\n    },\n    {\n     \"cell_type\": \"heading\",\n     \"level\": 2,\n     \"metadata\": {},\n     \"source\": [\n      \"Duplicating an XKCD Comic\"\n     ]\n    },\n    {\n     \"cell_type\": \"markdown\",\n     \"metadata\": {},\n     \"source\": [\n      \"Now let's see if we can use this to replicated an XKCD comic in matplotlib.\\n\",\n      \"This is a good one:\"\n     ]\n    },\n    {\n     \"cell_type\": \"code\",\n     \"collapsed\": false,\n     \"input\": [\n      \"Image('http://imgs.xkcd.com/comics/front_door.png')\"\n     ],\n     \"language\": \"python\",\n     \"metadata\": {},\n     \"outputs\": [\n      {\n       \"output_type\": \"pyout\",\n       \"png\": \"iVBORw0KGgoAAAANSUhEUgAAAcoAAAEzCAIAAAA+Y9RaAAAACXBIWXMAAAsTAAALEwEAmpwYAAAK\\nT2lDQ1BQaG90b3Nob3AgSUNDIHByb2ZpbGUAAHjanVNnVFPpFj333vRCS4iAlEtvUhUIIFJCi4AU\\nkSYqIQkQSoghodkVUcERRUUEG8igiAOOjoCMFVEsDIoK2AfkIaKOg6OIisr74Xuja9a89+bN/rXX\\nPues852zzwfACAyWSDNRNYAMqUIeEeCDx8TG4eQuQIEKJHAAEAizZCFz/SMBAPh+PDwrIsAHvgAB\\neNMLCADATZvAMByH/w/qQplcAYCEAcB0kThLCIAUAEB6jkKmAEBGAYCdmCZTAKAEAGDLY2LjAFAt\\nAGAnf+bTAICd+Jl7AQBblCEVAaCRACATZYhEAGg7AKzPVopFAFgwABRmS8Q5ANgtADBJV2ZIALC3\\nAMDOEAuyAAgMADBRiIUpAAR7AGDIIyN4AISZABRG8lc88SuuEOcqAAB4mbI8uSQ5RYFbCC1xB1dX\\nLh4ozkkXKxQ2YQJhmkAuwnmZGTKBNA/g88wAAKCRFRHgg/P9eM4Ors7ONo62Dl8t6r8G/yJiYuP+\\n5c+rcEAAAOF0ftH+LC+zGoA7BoBt/qIl7gRoXgugdfeLZrIPQLUAoOnaV/Nw+H48PEWhkLnZ2eXk\\n5NhKxEJbYcpXff5nwl/AV/1s+X48/Pf14L7iJIEyXYFHBPjgwsz0TKUcz5IJhGLc5o9H/LcL//wd\\n0yLESWK5WCoU41EScY5EmozzMqUiiUKSKcUl0v9k4t8s+wM+3zUAsGo+AXuRLahdYwP2SycQWHTA\\n4vcAAPK7b8HUKAgDgGiD4c93/+8//UegJQCAZkmScQAAXkQkLlTKsz/HCAAARKCBKrBBG/TBGCzA\\nBhzBBdzBC/xgNoRCJMTCQhBCCmSAHHJgKayCQiiGzbAdKmAv1EAdNMBRaIaTcA4uwlW4Dj1wD/ph\\nCJ7BKLyBCQRByAgTYSHaiAFiilgjjggXmYX4IcFIBBKLJCDJiBRRIkuRNUgxUopUIFVIHfI9cgI5\\nh1xGupE7yAAygvyGvEcxlIGyUT3UDLVDuag3GoRGogvQZHQxmo8WoJvQcrQaPYw2oefQq2gP2o8+\\nQ8cwwOgYBzPEbDAuxsNCsTgsCZNjy7EirAyrxhqwVqwDu4n1Y8+xdwQSgUXACTYEd0IgYR5BSFhM\\nWE7YSKggHCQ0EdoJNwkDhFHCJyKTqEu0JroR+cQYYjIxh1hILCPWEo8TLxB7iEPENyQSiUMyJ7mQ\\nAkmxpFTSEtJG0m5SI+ksqZs0SBojk8naZGuyBzmULCAryIXkneTD5DPkG+Qh8lsKnWJAcaT4U+Io\\nUspqShnlEOU05QZlmDJBVaOaUt2ooVQRNY9aQq2htlKvUYeoEzR1mjnNgxZJS6WtopXTGmgXaPdp\\nr+h0uhHdlR5Ol9BX0svpR+iX6AP0dwwNhhWDx4hnKBmbGAcYZxl3GK+YTKYZ04sZx1QwNzHrmOeZ\\nD5lvVVgqtip8FZHKCpVKlSaVGyovVKmqpqreqgtV81XLVI+pXlN9rkZVM1PjqQnUlqtVqp1Q61Mb\\nU2epO6iHqmeob1Q/pH5Z/YkGWcNMw09DpFGgsV/jvMYgC2MZs3gsIWsNq4Z1gTXEJrHN2Xx2KruY\\n/R27iz2qqaE5QzNKM1ezUvOUZj8H45hx+Jx0TgnnKKeX836K3hTvKeIpG6Y0TLkxZVxrqpaXllir\\nSKtRq0frvTau7aedpr1Fu1n7gQ5Bx0onXCdHZ4/OBZ3nU9lT3acKpxZNPTr1ri6qa6UbobtEd79u\\np+6Ynr5egJ5Mb6feeb3n+hx9L/1U/W36p/VHDFgGswwkBtsMzhg8xTVxbzwdL8fb8VFDXcNAQ6Vh\\nlWGX4YSRudE8o9VGjUYPjGnGXOMk423GbcajJgYmISZLTepN7ppSTbmmKaY7TDtMx83MzaLN1pk1\\nmz0x1zLnm+eb15vft2BaeFostqi2uGVJsuRaplnutrxuhVo5WaVYVVpds0atna0l1rutu6cRp7lO\\nk06rntZnw7Dxtsm2qbcZsOXYBtuutm22fWFnYhdnt8Wuw+6TvZN9un2N/T0HDYfZDqsdWh1+c7Ry\\nFDpWOt6azpzuP33F9JbpL2dYzxDP2DPjthPLKcRpnVOb00dnF2e5c4PziIuJS4LLLpc+Lpsbxt3I\\nveRKdPVxXeF60vWdm7Obwu2o26/uNu5p7ofcn8w0nymeWTNz0MPIQ+BR5dE/C5+VMGvfrH5PQ0+B\\nZ7XnIy9jL5FXrdewt6V3qvdh7xc+9j5yn+M+4zw33jLeWV/MN8C3yLfLT8Nvnl+F30N/I/9k/3r/\\n0QCngCUBZwOJgUGBWwL7+Hp8Ib+OPzrbZfay2e1BjKC5QRVBj4KtguXBrSFoyOyQrSH355jOkc5p\\nDoVQfujW0Adh5mGLw34MJ4WHhVeGP45wiFga0TGXNXfR3ENz30T6RJZE3ptnMU85ry1KNSo+qi5q\\nPNo3ujS6P8YuZlnM1VidWElsSxw5LiquNm5svt/87fOH4p3iC+N7F5gvyF1weaHOwvSFpxapLhIs\\nOpZATIhOOJTwQRAqqBaMJfITdyWOCnnCHcJnIi/RNtGI2ENcKh5O8kgqTXqS7JG8NXkkxTOlLOW5\\nhCepkLxMDUzdmzqeFpp2IG0yPTq9MYOSkZBxQqohTZO2Z+pn5mZ2y6xlhbL+xW6Lty8elQfJa7OQ\\nrAVZLQq2QqboVFoo1yoHsmdlV2a/zYnKOZarnivN7cyzytuQN5zvn//tEsIS4ZK2pYZLVy0dWOa9\\nrGo5sjxxedsK4xUFK4ZWBqw8uIq2Km3VT6vtV5eufr0mek1rgV7ByoLBtQFr6wtVCuWFfevc1+1d\\nT1gvWd+1YfqGnRs+FYmKrhTbF5cVf9go3HjlG4dvyr+Z3JS0qavEuWTPZtJm6ebeLZ5bDpaql+aX\\nDm4N2dq0Dd9WtO319kXbL5fNKNu7g7ZDuaO/PLi8ZafJzs07P1SkVPRU+lQ27tLdtWHX+G7R7ht7\\nvPY07NXbW7z3/T7JvttVAVVN1WbVZftJ+7P3P66Jqun4lvttXa1ObXHtxwPSA/0HIw6217nU1R3S\\nPVRSj9Yr60cOxx++/p3vdy0NNg1VjZzG4iNwRHnk6fcJ3/ceDTradox7rOEH0x92HWcdL2pCmvKa\\nRptTmvtbYlu6T8w+0dbq3nr8R9sfD5w0PFl5SvNUyWna6YLTk2fyz4ydlZ19fi753GDborZ752PO\\n32oPb++6EHTh0kX/i+c7vDvOXPK4dPKy2+UTV7hXmq86X23qdOo8/pPTT8e7nLuarrlca7nuer21\\ne2b36RueN87d9L158Rb/1tWeOT3dvfN6b/fF9/XfFt1+cif9zsu72Xcn7q28T7xf9EDtQdlD3YfV\\nP1v+3Njv3H9qwHeg89HcR/cGhYPP/pH1jw9DBY+Zj8uGDYbrnjg+OTniP3L96fynQ89kzyaeF/6i\\n/suuFxYvfvjV69fO0ZjRoZfyl5O/bXyl/erA6xmv28bCxh6+yXgzMV70VvvtwXfcdx3vo98PT+R8\\nIH8o/2j5sfVT0Kf7kxmTk/8EA5jz/GMzLdsAAAAgY0hSTQAAeiUAAICDAAD5/wAAgOkAAHUwAADq\\nYAAAOpgAABdvkl/FRgAAm1xJREFUeNrsXQVYFdn7/tvdK3Ynit2Fgf1TFBVjsbuwW7FjjV0XRcUi\\nREUFEQzA7lYMLKS7u/v/cr/L2dl7AbnABS573ofnPsPMnJkzZ8685/1OfN//aWhoNObg4ODgyFOo\\nq6v/H1CpUqV2HBwcHBx5hKpVq/4f4X//+18qBwcHB0ce4ffff+f0ysHBwcHplYODg4PTKwcHBwen\\nV06vHBwcHJxeOTg4ODi9cnBwcHB65fTKwcHBwemVg4ODg9MrBwcHB6dXTq8cHBwcnF45ODg4OL1y\\ncHBwcHrl4ODg4OD0ysHBwcHplYODg4PTKwcHBwcHp1cODg4OTq8cHBwcnF45ODg4ODi9cnBwcHB6\\n5eDg4OD0KgMuXbr06dMnXpQcHBwceUmvb9++Rdpq1apFR0fz0uTg4ODIM3r99u0bJbexseGlycHB\\nwZFn9Ori4kLJL1y4wEuTg4ODI8/o1dLSkqtXDg4Ojryn10OHDlFyZ2dnXpocHEUDKXExKQnxSSGB\\nyVER+EsKC0kKDkwM8uclk6/0umjRIqQtUaJEXFwcL00ODoVDckxUrP27sKtGQacPBp3Y6z51kIt6\\nZ8d+DTP8c53Qy3f70rBr52LsXoCCeenJl16RCmlr1arFi5KDQ6EEanL0y4ee80dnxqS//HMZ1cFv\\nz6qop3dwKV6ccqHX7t27I227du14UXJwKAqint911xqYIWk6DW7lPmOoz4bZPhvn+O9f57t5PjjU\\nb4e2/741vtsWu2p0y4Bnx3QJOrk/+vWjlKQkXrZ5Rq9xcXFly5ZFWg0NDXlnNCkpycXF5du3b56e\\nnlFRUdlJEh0dHRYWFhQU5Ozs/Pz582fPnj19+tRahIcPH+L3y5cvYVLw8fF58+bNTRFsbGyMjIy2\\nbt06adKk//0bo0aNwu+YMWPwO2HCBPyOGzeO7c/wZHV19bFjx6LEp02bht/Fixdv2LBh586dBw8e\\nPJ6OEyKcPHnywoUL5ubm9+/fv5mOBw8ePBUAT0Qb7969YztfiIANPAJ+X7165e7u7ufnh0JzF8DJ\\nyYlK4+XLl5Tq/fv37CKWlpZnz549dOjQvn379u7du27dOk1NzYkTJyLPw4YN6yvC8OHDFyxYsHTp\\n0tWrVy9ZsgRPYWJigjyjVHFNLy+vmJg0yzExMRFFGh4eTv9yFDgiH97yXjPdUbURI0evZRODDf6K\\nsDWPc/wa7/wjJTEh6yskBvpFPrIOPLbbdUIvKWpu6b1SK8zCGPSd6O/NSztX9Orv709pN23aJF87\\nJiVlwIAB/ydAyZIl8Vu6dGn6t1ixYrRRokQJ+rd48eL/x1FwwCtQUlJi/w4cOJB/bAWLuJ9fIEj/\\nYcP+jSFI45y+5eaaCT4eAX9vdVJrkYEQVm3kMWt4wMGN0a8fc3rNCb26urpS2u3bt8s1l4GBgbgL\\nGLNhw4ZVqlSR6TsH4dasWbNDhw7tROjUqZOqqir0V8eOHatXry6kZjoZO1u0aNFfBJwGvbZw4UI9\\nPT2os0uXLl0QwNTU9ELmuHjxIm2YmZnhTPYvk6jQhjo6OsuWLZs3b97vImhpac2YMQMbsAbwOtTU\\n1PoKgAy3EwAPwh6KDnXp0gW/tLN9+/Zdu3YFwVURoFq1ang6bOBXWVmZzmdJevTo0bNnT2z06tUL\\n4hQ5WbRokba29po1a3R1dSGloaBv374NnWtvbw9dT49z+fJlAwODAwcO4HGgyiljpNmnTJmCZ8HF\\nqZAhmTnHFRQSvNycR7Zj3Oc+Ywhs+TyzLCNCY+xeQAJ7LZ/sOKCJNNV6LhwbcedaanIyp9ecqNct\\nW7bINZewbXEX8ALrKIDJGRERES5CbGws9QNgG79RUVG0zdfpFgagkqB5K1euXBLvmCsgxLs7uWn2\\nJqbzmDMy7rscPYQkhQRG3r8eeuWMz4bZziNUhCTrMX901LM7nF6zi9DQUEq7atUquebS3d1dSK8c\\nioUhQ4bg9X379o0XRf4jKTTYdUJPIji/XctTU1Ly797JSXEO9j4b5zr2byJUsgke/5U58nlDrytW\\nrJBrLn19fXEXmLT8a1FErFu3Dq/v0qVLvCjyGSmJCV7amsRr3mtnpCTEF4x8dv7uu2XBP0p2QBO/\\nHdrxrj85vWbZOCUnU9pFixbJNZfPnz/HXVq2bMk/GEXEjh078PrOnj3LiyKfEWykK54eoK2ZHB1Z\\nsJmJ+fTae/W0f6YZDGoWcGhTUpFeCZbbea8VK1ZE2pkzZ8o1l3Z2drhL165di0ahR0dHGxgYrF27\\ndvz48QsXLgwMDGSH3r59O2XKlE2bNkVG5vZjwBXCw8PTtEN8fLLsowqPHj1q0qTJyJEjMzzqLUI2\\nL3XixAm8vj/++IPzXX4i7sdnUBjN/08KDigkuYp6esd96iBGss5DlUNM9JJjiuYwSa7oNSwsjNLO\\nnTtXrrl88eJFFosXevbsqa+vn1na79+/r1q1iuZdJiUlffv2jTEXtr98+SI8OSEhAQRH2xEREUj4\\n9evXVJFjMENDQ2y8e/cOOx0dHYWp3N3dvby8aNve3l5NTa1bt27Xrl3LMD9mZmY0e0xJSalp06bF\\nihWrW7cujarfuHGDTTUbOnQoUeTevXsHDBgwbty4M2fOpIqcl0PLYyMgIKBVq1a7d++WuP78+fMb\\nN26Ma9J1ypQpU7x48f79+9MT6erqPn36VCKJj4/PqFGjNm/ezFgYD1i+fHmaACf9CImJich57969\\ns/n6LCwscKnly5dzyss3JPp6uU3uRxQWYWNeuLoskhLDb10WTpt1HdcjzNwwJb6oLazPFb16eHhQ\\n2pUrV8o1l+Ad3IU4QhpgEyKjDKGpqQkKc3V1dXZ2btSoEangoKCgVNGK3mHDhglPvn37Nk54/fo1\\ntpcuXYrt06dPY/vw4cM0sDZ9+nTsbN26NSiGkoBwK1euPHbsWGwfOXIEdFaqVKnq1avjpnfv3pXO\\nz8WLF3GFx48f00i6ubk5KIwagAYNGtSuXRukT54cnj17NnDgQGz06dMHWUXrEhcX17Bhw2XLliHh\\ntGnTcOj8+fPSZTVhwoQRI0bgqKqq6tSpU/Hv8ePH1dXVy5Urh53InrGxsTDJ33//Te9x586drNDw\\nL4oLLUHbtm3RJEgb++zkXwKEjvOpiDjyhcBSPBeNLZjhrOznMSE+2EjXeZjyP6u/1DsH/LUlwdeT\\n02saIP0o7datW+WaS0i2LHLYr18/iLUMD4HCQIu9evWCLuvUqRN0HLiGyW2oQglF/OPHDxwFS2ID\\nQhI0Cj2L/TDksR/sRvQKXL9+nZKA7IguT506hQ0Y1CBcsHnZsmVh+0tnycDAAKfhBKYEoRNnz55N\\nEo/YnGJAwDCXtqlx8qZNm2C5g75Hjx6dWYnBche+F+QEj7NixQrcvVatWhLFBYpn034h9n/+/ImC\\n6tu3L/RpxYoVsS3slkHJ4NZoCUJCQrL5+j58+ICLo7Q57+UPIqyvpK/ImvTLVVgFi6TwkEC9XU6D\\nmv/TJzuwqd/uFdGvHv7X6fXy5cuUFt+nXHNJN8osh5MmTcLRsLAw6UPUaQtx/fDhQ2zA/sVOsAa4\\nLzQ0dPLkyc2bN5fW4+vXrx8yZAhIBGKWWdwVKlTABhiKHpnJXjAX/vXy8oKGBen4+4u76u/cucP6\\nGaS57MGDB/Hx8fb29nTBgwcPbt++ndFudHQ0W5PGLkgAA4LiW7VqBZ51d3fPrMRg77PVdKB7odhc\\nuHAh/gWHspO/fv2KPZ07d8YvKgTJdltbW6hdlNWMGTOYu3Q0V1DE+Dezro8MgcLh9JqfcJ+a5k/A\\naUireOfvCpHhpJDAYOMjLmO7CufJeq/SCrO6kBwb8x+lV0NDQ0oL7SbXXF69ejWLHII4iA6kD/31\\n11/EBaQxiVNOnjxJOnHWrFngxH81+xEROFSzZk2JybxgHDAyu1f37t2h6RwcHKiHATxI9rKent4v\\nn4WU6YEDB6AiqfRUVFRiY2NBZLiOvr7+4cOHoVhZJ6zEqBTEOC0I3rVrVxZ3IXrdsGEDtvEgyDzr\\ncd64cSMOCamfGhWURrdu3fBcpUqVQpYcHR2xU1tbG+1Qo0aNQLUoPR0dHTpTtq9dNG2Z02v+IM7x\\nK9FTwKFNipXzlMTEcGszt8mqEv5iQs3OQuT+5+h13759lBbasAA7B16/fo2ja9asyazj1dPTs0aN\\nGhCqL168ePbs2ZUrV3D+nDlz8PBgMeH54eHh9ES1a9cOCPhnsBUn4zrYAPFRjyfrYRg4cCDIixwz\\nUpduSkoKuCwwMDBDH7gkFUHTsP3btm1L83nxCLRCVxqw1oV9HTQsRh2jxO8ZgvSvlpYWttXU1Nq0\\nacMOLVmyROKyiYmJ2KOurv7y5Uu6PqQ3lSpkNU64d+8edQiA2Xv27Cmrb1+atszdDuQP/PevI2KK\\ntX+nkA+Qkhz54Ib3yt8d+zcWTDBoDXmrcGNfuaJX2J6UlvUkyglkUGeWQ+g7WO69evWif58/fw5l\\nR0NPSkpKLVq0oJ4BCcC6p4eHYhVeCnvIDdhvv/127tw52r9161bsAU2QegWN9uvXD4LOzc0Nogzc\\njX+ZED579izdYvLkydK5BScyXQncvHmzTJkyysrKtDoDzAXhCWpu2rQpXUSoyklcQ0pDgIMHmzRp\\nkpnzMFwHLQcMedLXKASJvhThbDAAUpqKF4aCrq4uNmxsbHDa0aNH6YS9e/fiX+RTImF2QF0006ZN\\n49wnd2pKSiLfAp7z1QvniJYMPQbBAWn+Yoa0+meCgWbvyEfWCvRcuaJXljjDfs88xIULF3CXMWPG\\nZHYCDkFehYSEgB/JhwgEF9mkELAUsWb37t2XL1+GVY6NunXrQsxSj4GLi4vwUlWrVoVAs7a2Bnnh\\nmrhOqmjmAM708/MjyxrPi/3YgBIEveJqyAD+TRG9eEjg69evd+rUqWPHjtJZdXZ2lphrMWjQICpG\\nAwMDtrNv377S7nLIiv/zzz8Z31FvcoaAvAUbporWpNarV4/th5JFqyNxcuPGjSUqgKmpqXCp1c+f\\nP/Hv6tWrc/D6aObA7NmzOf3JGwkezsREYeaGReOJksJCQi4cdx76zwQDz8XjYr9+KPr0SqMxwIcP\\n8n1ami+V2cQsQE9PDyccP3787t27bK4YtCc2Tp06Be6DQoyNjWXnw1CFnbtlyxac8OjRv1wHtWrV\\nCsoxVeQPDKnATYzLwG7gF2yQNAYLQyHS3FXaL5zANGLEiGbNmklnlUKXM54CI/fu3ZvyDCXLThs7\\ndiz2VKtWDcKT9DUMdnLxR+oSeaCJXJktGcCDgGGxoa2tjVQ0W/br16+QvRCwEifjUlOmTBHuQWEi\\n1a1bt4R9GjlzjUb0umDBAk5/8kbkw1vEQXEO9kXpuZJCgwIO6wjdcXnMHRXz4VVRplewCaWFRSnX\\nXJKhCkGX2QnkUmv8+PHDhw8vVapUxYoVYe1CLhH1V6pUSU1NTXg+MQ6dwBiEAMlZp04d2lZXVweB\\nwhxev349iVZSr3T05cuX5MwQ54CLixcvDrVIbrrAfZC04F/prO7atQtJJk6cCIWrr6/ftWtX6oiQ\\ncHpCp1EOQdMaGho0a1UY85ye4uLFixmWSXMRSPOiQPBQq1atAuGizaCJvUKULVtWwnin/mU0TvTv\\nmzdvqAHL8etbu3Ytpz95I8REj2bpF8mni/32wWvZJOHAF/5N8HYvmvT68eNHSrtv3758UK9Z0CsA\\nYxy6jGaDEhviX1AtGdQSs0epCxV6Db/btm2zsLCALluxYgXs7s6dO0MS0mk0FxWsRBdkPMuuA/6l\\nvlrWPwtKBTFNnjwZ2zo6OtL5XLNmjbALGKSMVgEKGttCff3+/Xs8SGho6IEDB2DOV61atWXLlpRt\\nNl0MBjuYvU+fPhkWCJJ0796dtiHqaaJClSpVrly5InEmTZJlTErw9/dH3nr06BEfn+YH5NmzZzhH\\nYj1CNmFiYsL6NDjkh4jbFkQ6PmumF+HHjH792Hv1VBZwwXlYmxDjoylxsUWNXmG0knyTt91H9Ep2\\nemaAEqQHefLkiZ2dHUUrGDhwIPV10tpWBlo6hVaBzX9igOKbOnWq2CRJSgK/QJNeu3atbdu2UVFR\\nf//9NyibXefdu3cogSZNmtDJy5YtYyP7Q4cOzTACCoStoaHh5cuXQTcnT56kUUHslF6rmoE2CQlB\\nM0CeBAguLi5sPa4E9u7de+TIEeF9ob5plYSkRRkZuWfPHulD1EgQmyPthAkTfHx8cvD6aCZcFguX\\nOfIEzDlW6JWi7z0n1v6d5wL1f+Zvje4UfutyYQv2lVuXLjVq1EDaESNGFGznQKpoQGnUqFFs8jyN\\nNdHIjISLgFRRjyeYkX7BQfj+X716BaoCL6f8e1wSxr6Qzr58+SKxdh5EaWVlJeymOH36NLResuL7\\nZo+Li3v9+nVKrgdqadFtzjoWOLLbOxnkL45EME3tvxJSMCU51PSky5gu/0RhmD44wvZq4Ylcm1t6\\n7dixI9K2atVKrrkE98nqkDAgIIAG/TkKHNDpeH0nTpzgRSE/QLESxYScO/qfevDk6MjAozuE8b7c\\npqiG3zAtKOe2eUmvlJ46H+UHPz8/3KVcuXL8K1JceuXqVa7wmD1CtGC/WaK/z3/w8RN9PX13aAtH\\nvZxHqASd2JtYoP5kc0uvNHhNU+7ll0vm+ZB/RYqI/fv3C1cocOQ54l1/Eqf46iz8L5dDgqcLSkAY\\nZtxpQFOfTfOint5JjopQPHol13nyXlkQFxeXBb3GxsZC3v7XIuUlJibmYAFVBrZVcrKsi1xlxYED\\nB/DuTp48yXlQTgi5qE9sEvXkNi+N5Jio4LN/umr2EopZp8EtfbctjrhrmZ8Ba3NLr8yDVIaj5HlW\\ne0JCMqPX8PDwqlWrUgeFiopKx44d1dXVN2/eDIOUuWSVFSkpKfr6+hKrubIAaG7fvn2jR4+eMGHC\\nhg0bnj17JnG1mzdvPn/+XHpoHoXm6OjIGgYHB4dRo0ZVrlwZj9OiRQvhiJl0i9KrV68SJUrg/cXH\\nxxsZGQ0ZMgTPjhKgKOLr1q0zNja+cOGCxKIJGBnCYgkODm7atCmtPmBAfpDq/v37aLRoj7W1tXBF\\nWapopQDRpZ2dnZmZ2dWrVy9fvrxx48ZDhw5J55ZcNWbfPyyHrPBa+bsovErzFEX2L5XXLJsUcc/K\\nc8EYiajgbpP6+u1aHvnwVlJoUGGnV7AJJWefojxAQ1sZhjIEtdHYGvile/fuYAqaawXqOX78ePv2\\n7cFWzZo1g2VKLObj47N27drFixcfOXJE6G1ACLAJeWxZunQpmHr69OnTpk3T0tKaN2/e8uXL+/bt\\ni1s8efKEnU9OBgYOHNizZ0+aEIaTwVzErbNmzaIiKlWqFFiYsZutrS25calRowbNCW3btm2HDh22\\nb9++Y8eOhg0bFitWLLP4VKBO8i1L62KRVbCqqqpqmTJlatWqRRF62E1ZyweKxzUHDx7MJgPQBDVt\\nbW3wKcoEe4KCgsDOlLZcuXJz5syJjIzEIbRhwrkQaMOQbRSsxLS2Hj0ymNB++vTpX7r44sg5jURF\\nwgSmgFq8NDKwfZ2+Qd2n8axg0Ze4f3ZIa49Zw3x1FoaY6MU52Of5aFie9b1KuCXNWxB/ZTjvNSoq\\nitZrCZXdt2/fIOjALOAaEAE5GNyyZYuXl1fdunVBMZUqVaKlU8SwYCuhViW3WDo6OuT6TwK4LJhU\\n6C+V/A9YWlqmiiaijhs3jhgfUtHc3By3AzcNHz6cFmhBn4Ldvn79ChLEmSNGjEAbQNNC69Sps2fP\\nHromyrNx48agS4lwNQRQZPny5T09PVu2bAlCZ6uw6tevj8YA13/79i3kJNgT6pKlunXrFj0C6wYl\\npzxovcDpKBMQKHl3hdK8c+eOhoYGzbrD+RKLymrXro12q1+/fuSiEK0CagKun6HFQI4ruXqVEyJs\\nxasJQi+d4qWRVX+an1fgsd0SXmX/xbZDW3uvnRGouz3MwjhPwn/lll5peikQGhoqb3rN0M0ovmfw\\nnYQ7gpCQkCpVqsBYJk0N/QUTuGzZspCf5DnF2dmZJF7nzp2hIrEBtcj8+9HCKjBgXFwc1Jy7uzu0\\nsKamppOTExIKp8ESQKk4f//+/WzPiRMnkAT2O67PHPHhauSp+vr16+BHGPLk7wrtgbKyMpRv8+bN\\nhU62KD6u9FMnJCSAW2muMfkQYLFw0HjgypkVIxQ3ayHITQT17Xz+/FlXV5fcouOQcAEx9i9btuzm\\nzZvCpc/kYJBi0gDQ8lmvK6EVH5xe5QTvVVpp7KDaCPTBSyNbetbBPthIF6LVa8kE13HdpVUtRQv3\\nXqkVcuFEbvoQckuvFAxK3hOzjh07loVHuwoVKkisa4AmBXsKw4Pj+6fHZE6dQcEzZ87EHtJrtF6L\\nxCz5Z4GmY8mh1CSicgkREBDAQgMwUNgYSFehURwdHQ3eJx8uFPeFAKqCUoaMFTrZIi8qeEMStyNP\\nrEzngg0pDliqyMsMNG9m+aSgLDiHRb5at24dttFsWFlZkRGQoQcJe3t7KijI/CNHjtBSYFqFRS4c\\n2To31nUA8c4ceFPrmGG3LEeuuwaSXf7XPs3FyfzRvDByqGoDfMOtzQL1dnrMGSnNs7lxm5tbeoVu\\nQloYv3J9flrOz+SSBCC4qlWrNmjQIDwC6P7NmzfY2aVLF+EqLzYER+6mhPzVrl07/LZp04ZRJLkf\\nFMY7odhTmWUvJiZGIrpBqiA+oMQaf/LeAsUnnGtBNAcN27p1a1dX16dPn4KSqNNAenEEdWUuXrz4\\n5MmTOI38GVJX75QpUxjVZkav27Zto97VS5cuIc9k9VO/AdUGU1NTlgSZRDtEPTASsLCwYJ0zkPbC\\nG4Fb8VLYA1J4sZx52+LIGvj4iQUC9XjXdh4gJTExwcstzNLEa/lkJ7UW/vvWpOZiSlJu6XXUqFHk\\n8Emuz0wDaMwFtQRwCOqyZcuWoMimTZvSGvmuXbsqKSlBwMIeh5CkLldpExU7u3fvTj2zLVq0ACk8\\nevSIpJxQXaL96NChQ6a2hmjemISBfObMGSpYCY9W0NrS69yo/VBRUaFMMqBVkL7d8uXLpckOApNJ\\n5szW45IvRB0dHTA4lRh1Vnz8+JGYV0tLi/VygHwpq8D9+/exDeq3tLQ0MzOjyDfUbCQkJEhHgf35\\n86cw2Ay562VymyMvO17vXRdH2759jZdGHhsGsTG5dN2dW3odPXp0vqnXzOgVnCjt9IA0KUO5cuWO\\nHTtWvnx52K3C0ypVqjR8+PBatWrBvLWzs4OobNiwIYX2Eq4yql+/fhZGd1JSEs6fOXOmcCdsdmn1\\nSiGwAIhr4cnkPGXAgAH4RX6gLvFQoFpSiBLAldFyPHz40NbWFtY6UaqJiQkOrVy5UjoSgYSNTw0M\\nOTwkAn3w4AGFyIWwxa+GhgZ1nhgaGtLYF+x62AcU+yA1PS462QGkXseNG5fF6yOXLnzmgDwQ+Pc2\\notd4lx+8NAobckuvRCKgJ7nmkrysrl+/PrO+V+nxnDp16gwdOnTv3r2gS8ohqA2kVrNmTeb3z9/f\\nn5QXpC7RLvELxVI9cOAAuxrEbxbqFRcUxo4lvQZyJLNdeB1y4A2mBlux+VLR0dGgyyZNmowZM4bF\\n/oKchJkPjUnxu4To2bOnsIuWyI4mAxw8eFDaPRgDBU7HM6aKZoxRJyxw+fJlitcCxoQFIOxeoCiz\\nJ06cQAEy94YQv8JOYWn1iuZw5MiRbKiQAh9kGAxNMfrmklOuOIZPsfUadcNjko3XIbvgHyHxhSQg\\nice80WkzXtVaFB4/Jhx5Rq8UJApSUa653Lx5M+4iHKoSomTJkmzoXGjOz5kzJ1U0tYCiKuwVARsQ\\nZXQOjaTjswfR0OP7+fkVL168TJky2P/3338Lbf+s3SGCFiHkcS8Y2ijTEiVKwPwPCAgAk6JwiNBf\\nv36N02BiUyxF5l+VbG3cDhSPu7O5TTSfaffu3RL3AtcL1Tr1IFPbQ5FxMwtxSCP+zDmvkZERvXrQ\\nHxUFaJT0LxvdIncBly5dQsaEhdy2bdvq1atDusbHx0urV2rSWK8IdewqqDvtoNikkdc9Gho6Svy1\\nu+h80C7IPyZbS1cSEhKEznzzEK4TeqZ5ipo5lHNZEaRXKJ3MJpPnuXrNcGiLhpWkZy9BD1Kc1FTR\\nxCywAyzu0NBQZBiURzMEFi9ejLTPnj2D2ctmzlKkP4BN6Sdv0/Pnz8+67xU0OnHiREo7atQomhNG\\nPv9RPvr6+rgvJK2NjQ0+NtATlCmYDjkHm7ds2RI7p02bhpPJfTU9GjRj2bJlhVFdAXD30qVL2b/k\\n74bC1pK/bXf3jP23U0wHRq/BwcG0Qgxa29LSknoYoOihrKFhIYqR5/Lly9erV+/Tp08Scb1oLgda\\nJooyy4qa8Mcff6Bs2So16ohQRJcuruEJ3S67Ep82P+fUy8y1xTknIcm2OZ9GskkpGTdmDx8+hGUA\\nw+JvEVBoJ0+eRON69+7db9++UWCLXMlqX0+xq4FtSziXFUF6Je/R0pOH8hYUOzrDsH3k7UXCBysJ\\nKGGuVFRUaNEXDehju1u3biA7/MJMhq3NTFcSgxSMWrhHyGgSIAuaAAUqMdZ/+PBhmmMLqsIHxrpB\\naa4CeL9Lly40EITHhBIXLi+GzQ7WfvnyJdvj5OSEVLgm24P8Dxs2jDoHwI99+/bNzIcAaFoiKgGN\\nGZqbm/v4+MybN8/DwyM1PbAYAXf/8uULsifhNAC3QJHiaHJyMh5EYtaEBGgeMQuyoChwCI3va+5G\\nNKpxy9M9Iq21CI9PNv4etuG5v8oFZ0ayq576JST/Q7FozmEQ/P0r6OnpwaDJjcMHNq4VZmHMuayo\\n0SvztCIxqpPnIMcx1GkoAVTlDA8hidDB6MKFC0FkpBfAQaAGmNgjR46kxWaQje/fv2cnw9RFs+Hm\\n5kb/hoSEDB8+3NraOlMRkZgISYJPJTNn/tCJL168kFh5AVp0dHQUehrz8vKigINZl/n69euRpRwU\\nI3Tx7t27hRPCkIc3b95Ie8P5+PHj1atX0cCQAsVpkLdsHitr2KT7hTMEWQkoAQX6MB57RUOZEnvO\\nf+ATKyVQwbMnv4R2vuRC5wyxdH/iLVajAQEBR44cIQ5Fs2dmZmZlZYXCxAbqyZkzZyRIlqYS5gAB\\nf24WBy50/s65rKjRK/iC0uYsPnP2QRH9pHshCa9evfqlQxmwWPa9a4PCIBJ55cjb1ydcU1vI8dY/\\ntrWJmFu3vAxIznwYyzk8ocNFMcM2MnS84RLJDAUwKdrLDKPv4MOBQaCvr89I9vHjxznIJ63vdJvQ\\ni9exIkivzI6WdyhDml2Ldp6/MEUETR378UMxZg7ZB8Ux3XrILvjXHBeesOSRb6P0joKVT/xS0i2D\\nrBOCeaFbWc8sLAZZs+o0qBno1XvdTF7HiiC90jR14K+//pJrLseOHctXVSouhg0bVqxYsZyFQcxn\\nJKWkjLASzxPY9iog+wmvOUcwhj3yMTj7CT08PIhh8Sur2znnke3S6HWVFq9jRZBeKcZ1FmZ73uaS\\n02uGgAXq6uoK8nJ3d3cV4dOnT0+fPn0owvXr1w8ePLhdgNWrVw8fPrxFixaNGzdu3rx5s2bNGoug\\npKRUsmRJiWVj5F+xbNmyVdNRu3btjh079uzZc4AII0aMWLJkyYp06Ojo7Nmz5/z583Z2dpQrmoqQ\\nxaKMQoWrThFEkbPv+cg6s/XA+yBK29jI8WOgDANWHz58IAF76tQpmfwmOw9pDXr15N4GiiS90vTy\\nLCb85xXI7WFmY/dxcXEuLi63b9++IIKxsfGBAwc2bdq0YcOGjRs3bt68GYSyYMGC30WAoQotrKam\\n1rdvX3V19VGjRo0ZMwbPrqWltW7dOpyPtK9evQoJCQkICIA8h0lrb2//WQRs4xf/Ojs7fxbg9evX\\nIJSdO3duEAH8sm/fPlxq0aJFoB7sWbNmzbx583B3ZGORCORDFnfEUTo0depUbOAQfidMmKChoYFc\\njR8//n/p6N27t7KychUB2KLVwgyaRKwQDgciEpK7iIaqWpxzonkCMgF0vPaZPzFs+4vOLuEyXMHK\\nyooY9u7du9lMkhwdSeNafntWciIrgvTK+l6FflLkAZrc3qpVK9AW2FNfX//48ePHjh0DEzVt2jRD\\nr6z/HVSsWLFhw4ZQo/iFFIUgRUH16dOnrwhoP+bMmbNBgC1btqAAHz16RG0Dazy+f//u6+sbHR0d\\nlo5IEbCBnbBb3UXA+c+ePbO2tr4pwokTJ/alA+0Krr927VqoWshV5KdOnToNGjRo164d+T8s5Nj4\\nIoDI8eB72XzQBQUF0cyTpJSUwdfc6SKrn8rgATkhIcHQ0BD0ik/J29s7O0kSA3yIXgMObeREVgTp\\nlWab58OMcfIJkgXKly9PC1vHigCRiO9caBH/9ddfBgYGRiJcuXLFxsYGaheSAb/XRABN4DRQz8iR\\nI6EKYSOXKFEC7NBYCthJLgjA7E2aNMEGqA2EsnjxYroCbOSVK1du27bt8OHDuC92gncOHTqEWx9O\\nx5kzZ9BOUGCCkydPQvzi6zp9+jQOHT169OzZs9cEAJfh19bWFrIaDAjKC01HjgPe5BtSUlIU4ktw\\nDU+gJQNtLziHxMnmJOn+/ftgRi8vL2H3QkdTlyRZHh22EQlY1JPsBI5L8HYT+8o6wl2RFUV6BTdR\\nWrbMVE5ITk5++vQpGnaY8MinpqYmjGts6+joXL9+Xa6BEjj+I5h334do8dLPcJkSxsTEwJACLdLM\\nv9iklN9tvehSr/xki3xlaWlJDJudWRZxP+2JXoPP/sVfXxGkV3I8ylx/cnAoKNwiEhoZpRHimJue\\nyTKqbZgUEjOrnnhHE73ueStbJ0N4eDjNIjAxMfml6o9+8zh9ydY5/gaLIL1SCCbg4cOHvCg5FBfb\\nXgUSIV53iZQ1La3CgoBlKwgSklPIU0GXSy6yXu3u3btE1sJgbhnT66uHRK/h1y/yN1gE6ZXijEo7\\n5OfgUCyoicajwIaJMmpXPz+/DEf8N78Uj5L5RsvWOR4QEEAX/KWLhsh0hwNRj235GyyC9IoqRWnP\\nnePmCYei4kdIPFHhiicyB5OH3UZsKIw0DOh+DKZrfgyU2Q+hgYEBLnjixImsxy0j71oRvUY+vMVf\\nYhGkV4qhBGR/sh4HR2HDX3ZiKnzoGSVrWppNdfr0aYmu0puukXTNZY9lpuynT58SZdNUhMwQ9cha\\nrF6f3OYvsQjSK4X8432vHAoNrdve4MFmxk4xibL1DAQGBma2FiApJeV/IifcjY0coxJkiyPg6OhI\\nl83afVqEzVWi1+g3T/hLLIL0euDAAUr7Szd6HByFFgOupjl17WPmKmvCz58/Ew8y35VC7H4jHi77\\nFCibR9ekpCQ9PT1c1szMLIvTQs7piSNFf//EX2IRpFeKcwfk2GElB0fBAnq1pUnaaoKJNl6ypn38\\n+DHRa4bud5+mT8/a9CJA1itbWFiQkxcWukIaQSf2cWevRZleyZEVUPjXDnFwZAiHUPG41s7XgbKm\\nvX79OkjwyJEjGdb/5JTUARZpulj5vHOojMvA3r17R8Qt9LYu2TVxZDvRa6KvJ3+PRZBex4wZg4TF\\nihXLTUALDo4CxON0jXnma6isaWlci0VslMbf6fMHZPJtmCryRUf0+urVK06v/1F6HTduHKVNTuZB\\ngDkUEpbOYhcBV50iZEoYExNDK6ysrKwyO8c/JpHWF7Q85xQQI4OAjY2N1dXVxcUhkDM7x2fzvDR6\\n7d84JTaGv8ciSK9qampIWKFCBV6OHAoKg6+hRK/PfWSL2/rixQsSmMJAk9IIjUtqLerbveggmyuD\\n8+fP4+IGBgaZneC5cAzo1WVsV/4Siya99u/fHwkrVarEy5FDQbE53Qnh95B4mRIaGRllMa4lxDAr\\nd/LPLdP1b9++TdfPLF63++8DQK+uE3ryl1g06XXw4MFIWKVKFV6OHAqKsbc8wX3NjZ3iZPEemJiY\\nSLFgzc3Nf3ny/ndBNK82NE6GPrS3b98SvVJ09AzoVWtgWhxDrYH8JRZNem3bti0SKisr83LkUETE\\nJKaA9cB9mjLOyvL29ibuy0508Xf+sSSQjb+HZf8Wbm5udAvwbFbqdVIf/h6LJr1Wr14dCQcMGMDL\\nkUMR8dI3hojvj3eyeQ788uULcZ+9vf0vT4Ys7iqKMbPooW/2bxEXF0e3yMzbp5tmb9Cr+8xh/D0W\\nTXpVUlJCQjU1NV6OHIoIi/TIAjZusnkbYJ5cshnbda7IV7fyeWeZHHJdvnwZt8gsFIj7tMFpnQO/\\nc3FTpNVrDhJycBQGHP0UQvTqECrbuBYN64P4sjkl8aS9eH7CC18ZJlHduXMni9Etr+WTQa/Ow9um\\nKki4HU6vMiAlJaVSpUpIOGHCBF6OHIqIDenTBvxjZFtVRTNeoS6zef7P9LVhB2QJkvj69essXGcF\\nHd9DywoSPF35qyxq9IpXTgnnzZvHy5FDIWu/yFdWSxMnmVKFh4cT6z148CCbSZJTUluJZr/K5FKW\\nuc5ycHCQPhpmbij29/rgJn+VRY1e7e3tKeHu3bt5OXIoIvqYpfkEGGrpLlMqHx+frMf0M8RAi7TZ\\nr6pX3bLf/Zr10thEf2+iV789K/mrLGr0GhAQQAlxCV6OHAqH8PjkJqLwhXPvyzbhn4nKr1+/Zj/V\\n3rdB6eFhstsRwWRyxv6UU1KcBjQFvfps5uZjkaNXoFq1akjYr18/Xo4cCof7HlHEd39/CJYpoZ2d\\nXYYBYLKGmaN4lsLLbI9uxcfHZ7F4ISk4gNSr//51/G0WQXpVVlZGwhYtWvBy5FA4rH3mT3xnHySb\\nvzcWeTubs7IIX4Pj6HZG32RYXEB+tTMMFZocHUn06rNhFv7dunWrqqrqokWLbt26ZW9vz70sKTy9\\n9ujRAwlr1KjBy5FD4aAqClLQ0VTmWNm2trZErzL54WQrxLRlib5FN7p5M4PBqwQvN6LXwCPb8a+N\\njc327du7detWrFgxfJXVq1fv37+/lpaWrq5ucHAwf92KR69169ZFwiZNmvBy5FAsRCQkNxZ1vM68\\n6y1rWprtf+zYMVkTjhRF3xpw1S1P6DXmw0ui17CrRsL9iYmJDg4Op06dWr9+/dSpU3/77bdSpUpB\\n2Orr63O/zIpEryVLlkTCYcP4sjwOBcMd96gcTEQlGBsbg/LwK2vCTaJptqB1n6jsRvcgeoUylT4U\\nee+6OFLss6ziNCckJEBuz58/v2rVqi1btnz69Cl/+wpAr7GxscWLF0fC8ePH83LkUCxsTF9Q8C1Y\\nZkF39uxZUJ6pqanMvQru4ujchtnrfo2Kispigm2YhbE41tZP++xcLTg4GF97iRIlrl69yiuAAqjX\\nsmXL8kWxHIqIIZZps1DbX3RJlnFBaXx8PFGepaWlrDeNTEimxQWjbnhk53wW6DvDea9BJ/eLI8Xa\\nv8tmBlJSUpYsWVK+fPnsL4jgKDB6LVOmDBJOmjSJlyOHAsE7KrGRqONVplEmwi/mov4Kix76koCN\\nSfw1rzN6zTAgAou1leDtJlMetLW1K1SokGGHA0ch6hyghNOnT+flyKFAYH4I9e1DZE3r6+tLlPf6\\n9esc3FomJzJ+fn5Z0Kvv9iVEr8mR4bJmY/bs2WDYZ8+e8cpQSOk1OjqaEmppafFy5FAgXPoZThxn\\n7RYpa9ofP34Q5X379i0Ht77vKR5Su+Hy61uzRbEZ0qv3uhlErylJSbJmIyEhAZ9tlSpV3r9/z+tD\\nYaTX+Ph4Sjh48GBejhwKBKNvYcRxj7yiZU377t27HCzZYgiISaJbb37x69DcLFri9+/fpY96LZ8E\\nbnUa3DJnhZCcnKyurl6rVi1vb29eJQodvbq5uVHCgQN5tB8ORcKpL2Lvqz9ldPMKPHjwgCgvLCws\\nZ3cfbpU2+7V/Nma/WllZZeHv1WPOyLRIsRrdclwOuKyysjIfmi6M9Pr582dKOHPmTF6OHAoEii2I\\nP6ewBFnTmpubg+/09fVTcurEeuebQNy6kaGje8Qv7p51sFiPWcNzHyn21atXJUuWzMESCQ750itz\\nSDhjxgxejhwKhD/S6dU729P7/1G+p06B786fP5/ju9umr2iwdI7MZueAu7uUy8SkJKfBLUGvXks1\\nc9vY7N9fqlQpPsxVuOgV7R4lHDRoEC9HDgXC9teBsvoGZNDV1c3ZpFcG1v2KbGR9poODA9Hrhw8f\\nJA7F/fhM41oBf27OfYFoaGi0b98+MTGR143CQq8RERGUsGfPnrwcORQIa9J9ZQXHykyvxHfW1ta5\\nyYDKBWfcfby1Z9anubq6Zkav0W+fEr2GXDie+wLx8vIqW7bs6dOned0oLPQKUMI2bdoo1jMnJyd/\\n/foVltePHz8SEhJ4JfivYdVTMb2GxcvstY/47saNG7nJwFRREJoW55wissyAi4sL3c7Ozk5S3KQ7\\nHAi/fjFPymTy5Mn9+/fndaMQ0Wvjxo2RsFu3bgr0wB4eHg0bNvw/AerVq9eiRQs8S61atapWrbpp\\n06Yskru7u+MKwj0+Pj5Hjx6dOXOmurr66tWrL1++HBAQwCtWYcb8Bz45CLFFIP/WVlZWucnA8c8h\\n6TPDsgoA7u/vT/QKKSBxKMzSRBxo65F1npSJhYUFvoWczTbjkAu9DhkyBAnr1q2rQA98//595Ll5\\n8+bgxBUrVgwbNgzNQ+fOnTt06NC3b98yZco0bdoUR7HRrFkzkOaBAwfevROv6V6/fj15sUFZkQ9N\\nfX19CpeL/XXq1KGSBEfb2tryulVoMe1OmnhsYuQoa8LExMQsXFhlH899xMvGTH5kNbsrMjKSbnf3\\nrqRPrFBzA7G7rJd54z0AZly1atV0dHR49Sgs9Dp27FgkrFixogI98OvXr5HnBg0aSB9as2YNDoFY\\nlZWVBw4cqKSkRCWjpqaGo0ZGRtiuWbNmx44dydNCSkoK6BXbU6dOxZeQKpqsRhcB50LV8upVODFV\\nRK+NZafX0NBQ4rt79+7lJgMhseLRrT1vs3KHmJSURGJZ2sdVuLUZ0WvEPau8KpZt27bBgOPdZYWF\\nXlliBXpgcpVQsmRJadfCEyZMwCHmTAiV+9u3b3fu3AkJCUlOTm7ZsiWO3rx5MzAwELUQ2/jGsF2s\\nWLFGjRoJY2+oqqoKr8NR6OhV1PXZ1FjmzoGAgACi18ePH+dKKiaLIxcsffQLnzI0D0za+WHkYxtx\\n36uNeV4Vi6enJypzLvs9OPKMXmE7Kxy9ArVr10aeQZoS+8eNG4f9169fl05ibGws7GVesWIF/sUv\\ntnv16oVt1jsGSUshyO7fv8+rV+FEP/O0MDA9rrjKmpCF4Gb9RTlGh4suoiC1vlmfdvHiRdxOekw/\\n7No5cefA60d5WDKdOnWaO3curyGFiF5LlCihQA8MmVm2bFnkeffu3To6OsePH79w4QLN+NPW1sbj\\n7NixA5r0+/fvwqUyI0aMwCETExP69+7du2xG2rx587CNi6DZX716tYqKCgXI4UZW4URSSmojkWGu\\naeMla1rmY+Xjx4+5zIbatTSHs6Ou/8Lxq42NDW539OhRyW6KK2eIXmPs3+Vh4axZs6ZVq1a8khQu\\n9RoTE6MoDwwmBbcKZw7AIKKA9YcPHxbuZ74UwLPlypWjTliU17Rp04iIlZSUoFVpu3v37ixh//79\\nP336xOtW4URInLjf85eGuTS8vLyIXnP/fhc+SHP8qnLBOevTYANlGDbRf98aoleH53mpXs3NzYsX\\nLx4aGsrrScHTK3VWgp4U6IFBiOXLl0cdwqeCj+TevXvsUzl06BAep3fv3suWLYPhz+LHwRLE/ipV\\nqqBhr1ChgpCCfX19d+7ciQ2Q7NKlS6tVq0ahczMMTM9RGOAVlUj0uuWFzPPnmHqVnogqK3a9Ea8c\\nC4zJamnDy5cv6Y5BQf8aBPNYoA5udf5f+6DAwDwsHDwXKrCDgwOvJwVPr3369EHC+vXrK9YzV6xY\\nEfQqbbyfPn0ajzN79myJ/X/++Sf2b94sXn0YEBCASt+tWzfsvHv37pEjR7ABqypVNLIMaqYy4UsM\\nCyecwxOI1/a+lTmIIZvnnzNnr0JYOkdQNu55ZDX1la2LldDLLqM7gV49F47N28LB7VB7Hz16xOtJ\\nwdMr1BwStm/fXrGeuXr16si2hBwALl26lKEDsDlz5mD/7du3hTsXL16MnQYGBsuXL8eGrq4uO9Sk\\nSRPsyVmwEA65dw6kT4ra/kpm3Wdvb58bZ69CfAqMo2zsf5cVy4eFhdEdhSOlCd7u1DPgu2le3hYO\\nNEHVqlU3bNjA60nB02u9evWQsHXr1gpHr1Cv0g7lzp8/j8dZtGgR/evm5gaK/PLli7q6OvZLRDAm\\n0aqtrT1+/HhsCGcmrl69Gnt27tzJq1chhH1QXPqcU5npFbYzkZ2Xl1cus5GYnNL1kiuyMcE6q0uh\\nlp44cQJ3NDQ0/KeFOHc0b1fECjFu3LjevXvzelLA9MpibY0cOVKxnrlhw4blypWT3o96jMepXLky\\nzdwilCpVqmnTpviV8LkJtsXRPn369O/fHxtv375lh2hhWOPGjT09PXkNK2y44yH2B2j8XWZ/2B8+\\nfCB6zZM3u/iRL61u8I3Oqh/p+vXruCOac9ad5bt1URq9qjZKCs775ddbtmypVKlSjr3ZcuQNvcbE\\nxFBChZsoN3r0aDTRGTYYmzZtGjhwYL9+/aBYZ86cqaOjs2zZsgEDBtDCLYnHX7x4sZ6e3uPHj/fs\\n2SMc2EXVpEE/XIfXsMKGU/biUAXPfXIeCcbR0TH3OWGOXw2/ZUX0bHSLSWa3KaqgV7cp/eVRPtRF\\nJu2jiyNf6dXHx4cSrl27tmiXUVRUFK15zT6Sk5OtrKzy5CPkyFvseSv2pe0aLvPE5Bs3bhDThYeH\\n5z4ncUkpyufTPBMOs8pq9itzS0iTbZPCQqhnwG/bYnmUj5+fHw0q8KpSkPTKIsVCxPFy5FAULH/i\\nR7FYwG6yptXX1wfNsdUluceyx+LM+Gc+PQt2EtEr9f5HPb9H9Bp27ZyciqhWrVo0E4ajwOgVIGdR\\nQ4cO5eXIoSiYc8+HGE3WhNATRHMSc0hyA5Mf4pi1t92zmp5F971z5w62Qy+eJHqN+y6vpSv9+/cf\\nMWIEryoFTK+dO3dGwk6dOhVU7p8/f+7g4PDly5egoCAPD499+/apqqoiPzJVDn9//8ePH3/48CEq\\nKuMqnpCQsHbtWiiXVJG/1zxxNrh3794lS5bw+pf/WPTQlxhNVvUaHh5ONPfq1au8ysyPkHjKzOEP\\nwVmcRpMHaDpqwF+biV6ToyPlVESXLl06fPgwryoFTK/kRKpdu3YFkvWfP3/+nxTKlCkDej148CCd\\nc+HChffv39O2s7MzDfjiOzl69CjYrU+fPsJVWCNHjgTVbt68efHixQsWLMDv1KlTsZP8Y82aNStV\\ntMSgbdu2cXFxFy9exMV3794N5tXS0tLU1JwxY0ZISMjVq1d37txpamrKwscjA+DuFy9evHv3jqIk\\n4FCDBg0mTZp06tSpfv36LV26lPfS5hvmPxDTa0KybPTKVsS+efMmrzKDPDQ2SsvMggdZ+XY5e/Ys\\nc6rtvfJ3cKv7NDX+Kos4vYJokLBFixYFlXsQFthw27ZtXbt2VVFRefLkicRaqY4dO86blzb1GsRK\\nrga6d+9ubm7evHlzJSWlihUrVqpUSUdH58CBA1u3bv306RNorm/fvu3bt69atSpNrsKV1dXVQabk\\ncnD58uXVq1en5bPFixcHO+MclEDr1q1xzXr16uGCSFKyZMlixYr16NHDxMRk4MCBEm0AuLVUqVLk\\noAsb5BbHycmJV8d8gLaouxN/MrJrWuzOvFpTIMRAizT3XaNvZDW6de7cOdzX3t4+NSXZeWQ70Kv/\\ngfWZnWxnZ3f79m0082ZmZuTP0NfXN58LGQomPj4+myfHxsaSc3pOr6kS5FWA6lUIyEwKWIvMgArZ\\n/jp16uAJU0V+M8mFIDgRfEdciX/Bgxm6toJSoNms1tbWOIf1G8yePbtKlSphYWE4KozGDD2LxmbA\\ngAFUUSBjoTiofAYPHly6dGloZ3yfqPevX7/GUZApqBnyH3oZO0Hxsk5O4MglvcraOUAcd+zYsaSk\\npDzMz4y74rhbWeTn5s2bsLdAWIn+3uIIhueOZnimjY2NtEm3atUqCAgJCwl1G1IDn0BERATq5J49\\ne9DeDx8+fMuWLS9fvpR4xnv37h0/fpwZZKjMsNumT58O227ChAmgcvqgwKqbNm1q1KgRblq2bFnY\\nc6jelATVe9++fbiIcEXGjRs3evfuXa5cOZws/Gz9/PyQH5iP1JIFBgY+fPhQOBV3+/btSAKz0tLS\\nEvsvXbo0fvx4ZF5bWxtfuvSiXnyMOJm5zYUIQ8ZgSmIP+GH+/PmFkV5pUSxIpDDQK2UDEnLhwoW0\\nE+VepkwZMuph7EN1YgNVDXkmB5rkTMDV1VX6gnijOITaQEu52JJEVCbQK7QwdlJvLAHVq3LlyuQB\\nVmz3JSTs3bsXp1Epff/+XXh9WnqADHC+y2esfCKOY+gfIwNLgoNIujJHP3mFs1/F83Bf+Gbqdg4N\\nMFgjrRV3EMffjrC9muGZu3btQr2CKYbG4MyZM1euXLlz5w6aBOwEi7EgC48fP4ZowM7y5cuDTLEB\\n9pk4cSIMNVRv+qiZ3yxdXV2iCFhmIOJUkcfkGjVq4BwKm4RDSAjOwn2xDaNtzZo1tNymZs2aVPPJ\\nbydl49atW6migRNYeMhGnz59qP8NFBkTE/P06VN8SnQy9Ac4nUgK7E8L2a9du0YxqPA7bdo0ZFu6\\nRZk8eTLzZw8xBCmDe0FXqampIc/07AzyixaYK3qlN1EYAnFraWmhzUwztQYO7NSpk6GhIUgWO5mz\\nFVQFKFlsk68AVA7sRP3DdoYjFagraB4nTZpEPoSGDRu2bNkyNNeoB3g3xLkkV3v16kUeuPG+0RTj\\n/eHkoUOHUvdCmzZt1q5dS0uHsUdTU5Ouj3ePnaNHj0aNxJWPHDmSJ1MpOX5dVW6LI8HI1PcKpUP0\\nSr4r8xCv/cRxt07Yh2R2DuQYBREItzEneo39nrHDWXAW6hWkn3DnkydP6BuvVq0ayT0YeaT+SHOg\\ncoKn6GRoZDMzsxIlSixfvpz21K9fHxbYhw8fQFKo4UjepEkTJmJg2BF1gsTRCGEDlZkO6enp4d+l\\nS5dCfCgpKYFwbW1tcVN8fRCPixYtYssdwaFTpkyhaCD9+vWDtWdsbAzxAU4EG1JfHAALFSoYegWc\\nTqvS8QFSNCYI6tjY2Pfv36NFoUN4WArIBAOU2BnZpjCmeCLkf/369WiE8vyF5g29snmvZH0XsMWn\\nrU1+EVHQEu3YypUrUe7UxUmgtgtFT5GyJJwJMKCJ7tu3L62eQHK0w8rKyhUrVkTzi/pHnc4Qs3h8\\n8t6Coyw8F14k6iteHior7DLycwiz69mzZ4y+qWYwoM2Xjk/Dkefofjltpf+ga+5sT3Z6CfGKiV7z\\nvJeQuZjZnLmDxBcvXlDNCdTbBW51GtgsOSJjl6ww6lFX0cALd7q7u6OCqaiooPZiY8yYMfiFRQwC\\nQg3HCZCNQs8hd+/ehVDFaami8HFslQER4pcvX+bOnYuvAJ8Vk/Zs7BefIePlzZs3E9d7eHhQH0Wq\\nyKUstqGyR40aBRoV1nkHBwewCphdVVWVdcjMnDmT9DVFEaWRjCVLluDTw72g66WtQDCmcEo+Gamk\\n3HE7XD/fKCsPVm0VhkWxKG6UfqrI3TqKD/SHz8DJyQnZQzNF4QvRprm6ugYEBMyePZvolWwZ6SjH\\nrN+WrAY02l26dKGdnTt3hmb/8eMHEqJRFZ6Pc6CRd+/ejQygkWQ+68g0Q5Ykrp+QkAANi88G+SSh\\nvW/fPk5/ckVgOpcteSTbaI+FhQW4FWZy9kdsso+W59Libk22zdS3S0hICCgyrVNy53LQq8ecrOYd\\nQhuSQYkmnLpQIRVRu2BEg3doPABARcUvFByNKIB5r169Ctaj4Eao5GTCX7hwAf9Srytx2cmTJ8ns\\ng1JmPbOMXiFOYdVt27aNHMzjQwgNDSV+JI4GKZcvXx7Z2LRpEzEgAAbER4rc4qPA5wOdCxZGA4Bi\\nh1gmqgFVNWvWjMaB3dzcIHfwxdEoCHMWytpL4mKc+enTJ3KTT7OGAShfGqcp1PRKLRI1gwX+2aB+\\nkJmzYMECWD2s7xXtG9pnipTFBnxhkkPAwmDZsGFDFsurcR1yHVSvXj3mdJHolYhbgg2HDx+OykS2\\nGCor7C/6FM+ePYuThT33wPfv34U+4VFlcQ6fbChvfAyMJXrV/SibCDU1NQW9Ugdo3o8ciPorWps4\\nJf3KkYrX0glpfgg3ZiVoKogA0woKFAqRJG3lypVpcAJ1EhyKz4R6MFE5sZOolgGshApJQ0mQIJDD\\nO3bsAFOQ67hJkyYRXULzwvzHpwfCwtdH8cco0ByLA2JpaZmaHqpOR0cHimTjxo04B4dA39S7yABG\\nDg8Phxkn3Akjj9QMOBRfDUTPvHnzaPBjxowZvr6+NB0TjUqnTp2Yl1FcH3ocD4KdZGviiSRkU6Gm\\nV2oSC8miWG1tbRQx6xxg07PwqtBU0hATc3mloaEBeoVFs337dmEjLARELlWgVNFwGYx9xqFoGCnW\\nFiqlRB6wE80ptimEgZGREbaPHj2KbYn4BbDLSDiQHYBXjnxKR1fkyFuYOoQTvd5ylW2eBl5l3i6H\\nFeL45xDK1eegX/QOOQ1pleZtYNfyLM5B3QYhKikpQcMy1wH9+vUTToBJTXe/CR2aKhqIx/b+/fux\\nQZPZmWyikQOiMAhGXATilEiNAWIibdJY+hcHAQvWHjNmDL4UsB6q98qVK6VHny5fvgwytba2dnZ2\\nxtdBXpBAwTgfrQLM0Ddv3hA9ITmIEk2CsDMa+/Fdk2MpCCAo2T59+rAvqGrVquBlui/16lLXRKpo\\nxCjfVkLlnF5Jlmfo3r8AOweoe4h16EyfPp3aPWHEGjTIeFt4E+fOncPRDCUJPR0eDa09iI91DlA7\\nv3DhQvx2EAGVCTq3QYMGdC8y4qBMURcbNWqE5hQiF/t/++23eiJgA5UYQgCXReOP+lSuXDlkTzjN\\ni0NOWPlEPCvLJ0q2WBKnT58GvV65ckUeubILEGtqg69ZBblKCg2ica1go78zOweERQJTWn9gvzCG\\nDRoM7Ll06RK29+zZg22iSIjWp0+fQkiiTtra2mpqamKb8TI4C98OOSOFSQeJQAtzqKOWtAjEqZDB\\nly1bpqamBro/fvw4LoiLo84z4cxAnrzZh8Z21q9fn+YVCOn18ePHZD5STqT7Ups1awaJiqNNmzal\\nsZaJEyfSIbQ9aAMKO72miqKqCEP+FSCQB3qp+ABAc2w/2BCvH7YM2jFhpycazDRT8eNHNrVAAqhk\\naMzRftIGW2aOdhuSFq+cxh+HDRsGUwV1d/Xq1VDB+ALZhEFUXLxX6Fy0z9AO69atQz1DE7pp0ybU\\n8s+fP5PHBqBz5848tEH+oI9Z2rhW98uusiaECYKXS6ZuniMuKaWJaO3W/CzXbkW9eCAOvv0y0xjv\\nHz58QI1CHZPYjzos7H9kBjs16tQNChucHaX4citWrABP0cIcwqxZsyiIfd26dcFc9EVQpwExdeXK\\nlYUUCf0BAdu4cWOhPU63lqBXfBEgdFxKIufVq1en/mLhJ0zzeUDTyEmGEUaQvbFjx7JuN0ZTkDs0\\nY0cB6BVlR73XBf7Z4FWRJS6B5OTkwMxjvfn7++M15GAmI9RxZg4KhMg6FjdqBj4GYZ3mkCuCY5Mo\\nBPf65/4yJWSTXmm0Ry7foaj7tamxk390prNxQ4yPEL3Gu2YaapCGca5duyaxf+PGjdgPCmN7aLYW\\nUScNQgirIvWnHTt2rHbt2lu2bGH7KRLHp0+foFJZyG5XV1dYYNWqVcMGjlKHr9B8LFOmjIaGBttp\\nZWVFfWvIFVssMHLkSOx89uzZuHHjmJqhXlewIU02YFeALIW1CslMK+NxHYnPE0dpAkN0dDQFZyLn\\ny3T+0qVLFYBeaZARsp9/uhyFH899xDNMj32SrY8bAo3olSbVywPmjuJOYYNvmfYP+Gyal0av/Run\\nxMVmds60adPwSZ47d27Hjh0gLNhMFy9ehK02d+5ciRU0UB5QhRCMsNmXLFlC66x27tx548YNsA/2\\nt2zZMjw8vEqVKmxQKDU9ogeEKlQqPn+239DQkGiuRIkSwvAlNDcLEMbvsre3p/nyNMUKuVq/fj3z\\nvQebmFYTxMTEDB48GDk5ePAgjuLWwicFuYP6qRN2xIgRkydP7tu3b6dOnWD4U4hVNvJMKzbJzRPN\\nURMu/ym89Nq6detCsmqLEBoaihdva2srHaU1ayGZKnJKQP3ikLQQKQYGBhYWFjY2NtevX89sLg75\\nzGbNLzbYTECCk5PT48eP2VH8C/mQHdnLIQ9cdRIHZ7V2k+0VsACxEuFa8xBJKSktTdKmZ423zjTM\\njItGt7QgBUsmZHEdNvOaBu5po3Tp0jDkW7RoQUtXhXUe6hUMRfRKXZxsFnZAQNo8XEg/VodT05ct\\n6Onp4WQhvSYlJYGzaEmuUKjCGKdgdDjEduKDKlmy5KBBg0ixEkAm5HGJFgVUqlSJFuasWrUKUrp8\\n+fISnhNorQE57SPUq1evsQjIs5aWFnUA0u3Wrl1L814jIyMbNGiAV6kA9FqzZk25LimT1YJjk0K6\\ndu3KHGURtdWtW1dNTQ3tIf799u2brq6ukIJRw9B04xy02+T5RQh1dfWpU6fOnDlz/vz5Y8eOhVlE\\nZtTly5dx9OvXr/Xr1zcxMUHTjaYe1ge77JQpU2Ck4KZgfGqKmKGU2VoGDvlB92Mw0eurzJefZgh8\\nqESvcu3JmSVyRNvM2CkqIVn6aKKvp3hcyyCr2Xuwo8GYEHqo0qjhb9++NTIyMjU1RV3NQno/ePBg\\n8eLFON/S0tLY2Bj/MiJ2cHAQygt8SqA/Pz8/FAVzQSAEbi3sgiC9Ij1sC3K0trbG1SCuJ02atHv3\\nbqE0wU6wCqTo/v37kRMQq/TaKuRKW1v79OnT27Ztg1ovnLNuckWvv/32GxJKDPYVFGgGCSwdGAXk\\nLYX248WQGUKjh5CxW7ZsodFGeqOsd4ZWhrRv3/7Fixd2dna0HABsSyN4NWrUQIuKRnvIkCG0dAcW\\nDRphGgRAraKlgcJe9n79+pUqVQqCGpcFfYOjly9fjkpDSoHzXT5j55tAolcXGcPAgC+IXuXq1ezv\\nD2L2dwrLIHvhNy4RvcZ8eMVfpaIgV/RKA+iFwedAqmg6Gws4iNYVrS7ZLKDONm3aXLt2Da0cLT1e\\nuXIl2U1oNnECTbgDYOwsWLBg+PDhzPZ3d3cPDw+/c+cOTWgFgwv712fMmFG9enUyiPA7atQoWnHL\\nPkJwKN29XLlybBEXMb5QXHPkD5Y8Ent6DY9PlikhlJo8XBFKwNI5Ij1yQQZzcj3nq6ePa6WZR9xD\\nRdGnV1pfUadOnQJ/jNDQUORk586dkt1tV69iP/OdQwq3Zs2alStXpsl3KioqbCEzDBbIW+nwrhYW\\nFjSu2rFjx9WrV7P9gwYNgkamLgL89unTh9y89u7dm6ZnYbtdu3Y4SnNEOAoWE6y9QF5NjJ1k9fTK\\nOgfk6v7jnX9MFoFjXTW6k7eB1OS0qpWHAWk4Cim9ku6D+VzgUdEDAwPBZRoaGmBYKNDBgwfDSIeB\\nP23atIYNG7KOpLi4OLYOD/J2w4YNyDxOpoXVHz9+xBOBIpWVlbt168a8Q9IUFlRokOmQIUNOnz59\\n/PjxixcvNm7cGOxJac3MzGj0gNyjHTt2LFXUN03DBWzSNUcBorOpC8hruJW7rAnd3Nzyoe81NimF\\n6HXVU6l5YykpTgOagl59RMthg4KC0JzzF1rE6RUURmkLQ7/yiBEjKDNly5aFPY5fSNT69euDMYWn\\nQYGS9yxyQRQcHAylSVM38PFoamrWrVt30qRJ48aNYz5eyQGPubk5+QkWomfPnhQXHlzcoUMHsC2I\\nXklJqXr16n5+fu3btwebly5dunv37nSpW7duqaurjxw5UnpmIodcEZdOXksf+cma9s2bN0SvGboG\\nzssG4JJLhpELErzdqWcg/FbasrFHjx7xNX5Fn15pPhpQGBYdhYeH29rauri4kGFOS1HJtbBABKRN\\nISCfj8w3YKporRf1n4JY2WRpBuhc8rcC9Qphi9OuXr36119/FS9efOjQoZCxNNMQHNq2bVucTy4k\\ncCnqje3atWuFChVo+FVFRQW8j3/Lly//y7liHHmIn6HioIH73gXJmhZtIdGrvCNK0OQBaV+00W+e\\niKPD/kgblEdbDpuJv9MiTq+0Zl/aHVRhwOjRo2k1tHBFx6tXr4j4JOiVVpvs2rVry5YtIE0WwYLg\\n6OiIowcOHIDyFU6TKFmyJKQoOJ28HU6ZMoW8dAO0TJB4nGYU6OnppYpcGURERJAjRIlJshxyxV2P\\nKKLX459ltrTk6i5LiEN24skDftH/mrgdeul0Wsfr0NYQCMnJyahL5IqFoyjT69OnTynt9u3bC/Yx\\nbt68uXbtWvYvzHxysVOzZs3+/fuz/RoaGqVKlcLJyLO1tbVQ1cKKnz59OjiXrYYGyeK7WrZsGSx6\\n8gszaNCgqlWrslStRSDKBmOSex5ag+vr6wuVSoXz5MkTpALXY4MSUqhEXvnyE2xZ1E0ZfWUFBASQ\\ndM2H/hwrl0jK5H3Pfy188N2yAPTqOr57qiAeOLni5yiy9AoSoRlOWlpaBfsYDx8+RDbAsG5ubvfv\\n32/QoAHo0t3dfdWqVVCjL168gCVO3QXY8+bNG2yQe0oGsHCzZs3Iy2KbNm3InQJNtCIvWaBXWnHI\\n3HHhqcmrEHYuWrSIJn6xSG0rVqygK/z8+fPu3bugVzD73r17379/jyzloLQ5coPd6ZNeHUJl84d9\\n7949ojPyhSZXuIYnUCbXPvuX/eQ6Lm3agItG2vqdqKgoyg9fmVLE6RUoV65cIZl4tHHjRrYKEPRK\\nEbSCg4OJaps2bUrOJkCOMPYnTZokEXkFArxMmTI41LhxY/Bsjx491q9fD+pEbSbfr6DL48ePQ3Uy\\nv7EULwvECgoeOnSotrY27sU8ZiFVFRFoqdjXr1/Z4gUJ30Uc+QCNW54UkFWmEFuJiYknT54El+Xb\\nUJLqVTfR9IZ/RreSgvyo49V/r3hSoIGBAXVWSCxy5ShS9IrKR2kLXL0S7O3tL1++DCNOGAgAO8F9\\nPXv2NDQ0zGICGeSth0fGseZhjtWuXTvDwQRzc3Oo4ClTphw8eBA0Krxvqsg9D3MznCpy84OvYu7c\\nudKBYTjkjR5X0lwRDrOUTYFCsZJUZNNI5I2Zd9NGtzqa/rN+IfrdM6LX0CtiD35sqI37Xy/K9Eru\\nwqQjU3JwFDa0veAM2tK08ZS10yl/pmQxbHoRgHw2MnSMTPc8EHHvujj49j0r2vP06VPKFYwt/maL\\nLL3SgiXmSbdgAWP/xo0bZ8+ehUo1NTWVEJI5BjQp607lUFyQv+p592WLYGhsbAwWO3PmTL6Z4ae+\\nhFL368/0PuKQ88fE3gbsxaMFnp6e8naQyFHw9Eou0Gm9U8E+Bsxw6l0tIQI2ypcvv2vXrpSUFLTw\\nGzZs6CuClpbW9u3b8bWAiFnaAwcOTJs2zcPD4+jRo6kiDy9ChwDr1q1j/sJ9fX3t7OxYuLTsABnQ\\n1tbu1q0b7Dh8q8uXL+/du7eKikqfPn1GjBgxduzYvPVPGB4ejocdNGiQsrKyhoYGHvbKlSv37t0T\\nzkJj8Pb2NjMzQ2nY2NjkbBLu169f586d26FDh/79+1tZibUVKsOWLVsWLVq0d+9ecjFXGECcteCB\\nDPSKFlreXrSlcTE9Ghhz6+WlrSly89okOUo85yE+Pp4ydvXqVU5hRZZeWYDJfDOdMoOJiQlY1d7e\\nHnQWFhYGm45mnuI7L1u2bM2aNQcOHDhs2DA2uFShQgU27XTp0qX169e3tbXFFUAH5I+dLTocPHgw\\nyBHcQd4J2NDZ/PnzJRyy3b9/v169ehItDQWJoyT4rVy5cvfu3Xv06NGiRYvffvutTZs2FPowr0AN\\nXpkyZYR+PwngUOGS+fPnz5MnMEK7du0+f/48b948CadQsAlUVVWPHDmSKuryQ/NAF0E5o00qVqxY\\n8eLFUTLVqlUrWbLkzZs3KQoZAxq5wrA+LSI+OT3+tgxLtvAq88HVgATupc/PPf8jrWKkxEQ7DW4J\\nevVaPll42oULF5AxPT09PrpVZOmVmAj4/v17wT4G7HdkgzzmEsCepUuXhoKrWrXqwYMH2f6AgICW\\nLVt++fKF7aEJWxR36+LFi+SnBlKXjnbq1GnAgAGdO3eGJDQyMrK2tj59+vTIkSNBKyBHodNYWiwA\\npmZTvrCBPFAR4aYzZsyQdzlQzA+yGcH+oNRTp07p6+t36dKF3C0yz/PgVpAjuA+ZhMwEOYIKya+N\\n8ILkDwwvmtyGUXAK6HcKdtS+fXuargTroVatWuXKlatTpw7aMGp40MjRTubYuMCqR1QicdbmFwEy\\nMF36lKz8dE/lkj43a9urtAnUiQE+jqqN0sa1Lp4Unvbo0SPKm0y2FIci0euCBQsoLTk2L0CA5qBS\\nd+zYgQ0QARiQCAWyCzwipNekpCRQiXCeja6uLjkcwO+2bdugVWmCF80rbNu27ahRo7p27XrgwAHh\\nHfEvzvnw4QPbc/36dSoNcAo0ILmRxTbN9IJ8FnpxlxMgZ5ABiYh75FGhbt26JKKpK5niLbMe6jVr\\n1lDmW7VqJZxfsW7dOlrhhmYG5UYx76BbUc5gUlyTnYyiqFGjBo6iPWNdDebm5tjTp08fNl+tQOCQ\\nviJ215vA7KdCJcmfxVoS6C2Kt3jbPa3XKPTCibSeAdXGCZ7/MhA/ffpE9FrgyoZD7vRaGLxPQmCO\\nHj0azMIs04kTJ8J0gigbM2bM7t27QZ00BbV69eqbN28GQYBSv337dvToUVplAHaAbYtUoB6IUFwQ\\nNAF6VVdXnzRpkqampvB2FDNO6Jid9O/06dNB9MrKysREIPoSJUpoa2sjb9KuDvMcJDaPHz8u3IlH\\nqFy5sq+v7+zZs9Fy1KtXz8HBgSJompqaHjt2bOXKlWgGkE9yzCiM20ErKWh5Hk2/g5aHCoZcJe+O\\n1LsaGBiIto0FehB2uVJ3ga2tbQHWjY+B4kjXR7MdZQtPRPwlXN2XP1j80LfNeWdqtTzmjEzrGZAK\\nABMSEgJZwLtfizK90uJ9QN6uLrKDyZMnQy2CQJcsWQIFWqpUKXztFhYWEFmQXZUqVWrRogV1dKqo\\nqEBhsUWrrGsSJ0yYMAGGcIUKFQwMDMhRQO/evVVVVRctWgT5xu4F1m7Tpk2jRo2EPV9fvnxBEtT4\\n27dvk7uDhg0bvn//nlbZgrWRDVjWUNPSYejzChT/He0H2gbcfcSIERQaEyxJJ1y6dAkMi3dNwZAZ\\n0LQYGhq6ublhe86cOVDf1GQSvVILhCQREREk0tFWkUMfVKC+ffuSEzLodOohEcpnWmeM8wuwbli7\\nihebnrTP7nySJ0+eEL1mNhtafjj7NXSjqBMj3t2Z5gyEXc9gzrWZmRmyh1fDfQMVTXqdP38+pZXw\\ngVIggJQWOvZGlqDIwLNNmzaVCAwJFVm7dm2YvWBPCD1yq3ju3DkQKJhi//79ICAkhwKF8durV68e\\nPXqAXkGm7ApGRkZI8scffwgvGxUVxSJigoNwEdiV9+/fx04rKyvQKzgXzIUSl58HHIhx6v/t2LEj\\nNDiscmI3oVMIyM/SpUszdzzQpEjFjHc8ZpkyZaiLA4UwatQotAqsk53i4lEIOeaTjO545syZuLg4\\nyHlqY9jt0NgUuFeKra/EK2I/B8VlMwnKB08hDJKab0Amb7ik6ZVgg78oNGxScAbfl52dHXc+UJTp\\nlYJWFYahLWDu3LlgQ+GeefPmgeOgUkGOwv0w9tu3b8/+/fDhA9Hr8OHDQanEO46Ojqi45HOga9eu\\ny5YtY/QKBoEClR70p44IECizLlPTnRkeOHBg9OjR5K5QrqAhPlA523Pv3j3sQZvB9mhra2MPdaoS\\noHNv3rxJR2fNmsX2//XXXzAImjVrhhaoePHiAwcOHDNmDAgX56OpoBjL2IlChnqFrZqa3rWN4mK3\\n09DQkPBPlv/oL1pp2tHUJZsLYpkbF1Ys+YmE5JTw+OSUpETXCb1Ar56ZhIZlTr6FAwAcRYdeyYJm\\no0AFC01NzUqVKgn3gBRKlCiBj1/ok5D2w3xm/1LUdRMTE+i4evXqkbdW0CvYk0IBQwkyP7Aw9qF8\\nq1WrRrG8JEBnCvekpKT89ttvIPTu3btD8cm7EHA7UL+wk/fFixfka5HtodkFq1atIt5HG1mlShUU\\nFFn0pqam2I9nBEvikbE9fvz4kSNHwvBnV0BzRc4WiDdxi+bNm+N8ipKLsmV1iXyNDxs2rAArhlOY\\neFxr+ZPszsq6c+cOMZcw7m8+I+K2hdiF9vWMbZ34+PijR48ik4VhUQ9H3tPr6dOnKW1h6F8fMmRI\\n06ZNhVqyQYMGYDTIrvXr1wtNeBCxkF4/ffpEw0Hz58+H/NTT04N1TLFgYf7jEBQcLq6iogINWK5c\\nuRo1akiEGmZQU1MDE0ns7NWrF3gKJDtlyhSoSwsLC1Db1q1bweN5tbRMCOp4Zf+6u7vjEZB/Vizt\\n2rVDmejr65Nmpy4FPBcRaFBQEKRohw4dWAT5P//8E62O8LlQnlRh2CQw6vPFc6WK4geD3xMTE0+d\\nOlW6dGk0RdBZBVgxrjqJQwRec47IzvmgrWPHjoG2UL0LMMqRz/pZRK8ScwaEsLGxoWYgw5jYHIpN\\nr8zfK007L1ioqqpWrlx5+fLl+DZg1YJQyLwlh16whUEQFNoWehaMKfycwKooiPPnzw8aNAiylM2E\\nT0hImD59OqxgFgamZ8+eWSgayDTpya1gVZAXGI3NgWWYPXt2npeDkpKSsrKycA/IDo+Monj+/DnM\\ndtx38eLFFGQBXE/n0CgldfJs27YNzEgRHKBqqfNEqH8PHTpEop4t2AMNtW3bFpoXV6hbt26FChVq\\n1qxJUSOFIXILBLSKP/uuCNFgEGcVZIdGSrLbpL6iKVmNUuIydbvu5OREWZXwrslRFOgVb5fSCuVh\\nQWHnzp3t27enIWyafbl9+3ZoKFqpRZQKrgTP6urqSixzBLlAsWYRfXPatGkwxFjE2czg4uIiPQV4\\n06ZNgwcPhsBfsmQJRCvuEiwCNvz8/PK8HFqJINwDBoSiFMYHi4mJoS7mu3fv0jk0QZUtbCVA4SLb\\nELwLFiwQLg1AA4aT1dXVUdqMPWkiME3tAimjtNEsFQaXToMs3MGtnUyzFUObeSDEM9I0vgJBUmgw\\nSVffrYuyOA21KN9cfXPkN71SDBU2XF4YEBcXB/n548cPtp4qOjqaOlKzSOXh4dGmTZsCGSbOc6xY\\nsWLevHnS3yEsDLQ3pqam5OgWew4fPiyc04O2IZu2MKwWEKjEhFAYAWZmZvjds2ePcCStYBEUm0TS\\ndc69bA2vv3r1igjr5cuXBZjtsGsmEk4IMwOMDOQWLzciIiKVoyjRKz5R2LxIC3XDi7LQws3N7eDB\\ng9ra2mvWrGFBJ0Gsp06dgiofPXo0Wkdp6xJNjo2NzZ9//gnFLe3tlPqmoe+gaj9//vz9+/fCOT3I\\n1k084/VENkJsRUZGHj9+HGwF2S7hbT2f4bdnRVpwrQFNE/1+0akK64Hag+fPn/OqXqToFQ0mpc2H\\n5Z4cOQP4lJwJMEDDghZVVVUlOoLHjx8fGhq6evXqli1b/vbbbyz0A/W03L17d+/evRMnTuzSpUur\\nVq3wu3jxYpohy1CnTh0aKys82PFaPOP1jd+vLX1bW1uiKjs7uwLMc3J0pPPIdqBX79XTstObQU2C\\nsbExr+1Fil6Tk5PJ6xJzgMLBtOGwYcMKg7uNbt26wcIwNDSEzHn06BGNR/Xs2ZO8EECEhoWFXbt2\\njRyM9evXDztr167dq1cvsC1s/KtXr965c0dI0HjjDRs2pJGrAQMGgHN37twJUp4yZUq1atVoHbBQ\\nD4KF89bpokygGa/tLjrH/2rKq6urK3ErWogCnDAAhFtfEU/JupmtGVewLSjnBT6KyJGX9Ar06dOH\\npi7xopQATeQq2DxQCHFhqB4YHEOHDh09ejSN7wtPXrp0KdUEcKvEdUC+pUuXfvPmja+v2F8qzfcS\\n+spJFS1qgOxVUlKiJRUEkG+HDh0KZGZ0QIy443Xxw1+4eUUzo6+vD4bS1dUt8F4O//3r0noG1Fok\\nBvi6hie4hP9iwkNISAhNgEXDJnThxqHw9Dp27Fha2sTfqwTArbCyC9YdJ82c+/PPP6UPgfVwSDge\\nYmFhwfwPSJxMKxGEKynwXKVKlRIuDyPQdFoDAwPhTiMjI+hfFxeXfH78B55i36mHPwRnbWrQEljg\\n7du3BVttUuLjXEZ1EPUMTMW/a5/5/2kXnH0ByxfIFil6XblyJSUXelDlSBWFNkCxfPr0qQDzAIO3\\nWLFi3bt3NzU1hTjFK4YJf+nSJbSF5JCFdTJ+/PixW7du5GqgRIkSHTt2hOSEXS9BmmAfZunXrl1b\\nYgZYqmghPAUtl64nuD5zYZ4/WPPMn+j1nX+m901JSUG7QtwkjGFRUIh8Yks9AwF/bo5JTGlm7DTu\\n1q8jPtAabkDo7YxD4en1xIkTlJzNoORgaN++/b59+wo2D8xpJLnTpg01NTV6cc2bN2/Xrh1NDQar\\n6ujojB49mly0NGzYkPnZunXrFrvIhAniJfCgyzJlykjIc1rHIR1VNzo6um3btvlcGsOs0ma8tr+Y\\nlasBpvsuXryYz+yfIYJO7Sd6jX796LVfDPLf2MjRN/oXpiHeAoUFy2fn3xzypVdaVA6Ym5vz0pTA\\njh07evfuXeDZePXqFYxfipTj6elJPgYHDBiA37JlyyopKUGEampqPnnyJFXkugH7wYbCK5BfmP79\\n+4MfmeAFz0o7S+vZsydbUizdEoPN882vtmu62/9Zmc94ZbNcT548mbdReXIMzyXjwa3OI1RSEhNM\\nfoTRI1i7/drhJwtdw1dwFR16pdU+5NKUl6YEYEqXKlWqsAWjp9Wu/fr1w6+hoWGGFUKiJ52cCh4+\\nfFi4c+rUqdgpDKNLvsylO2QJUVFRYHOwfP485rb0KVnmThFZ85Genl4h6bJMCg+h0C++OmkTyS2d\\nxd4S1jz7tcPPmJgYPAhN2uUDIUWEXimSCvDLBaP/QUAt1qpVizz1FQji4uKk3ano6OjQdAKKLSZx\\nlJwPSEyqp84BiqTLsHz5cgqiQ//6+vrWrVu3YsWKWThwUVNT27lzZ/48+xDLtJ6BNuedM+wZAMvT\\naDt+CzwUGEPw6YPUMxBhm+YjKSklpd0FZ3qKpGxMFXvx4gU1GAXrQ4cjz+iVDW3l/7iwQmDMmDEF\\n6I7PwMCgXLlyjo6ObE98fHzr1q0rVKhAwbWkl/oMHz4c+2kFgYqKSp06dQYMGEABaEm9Qq7a2toe\\nOXKEhsJ27Njxxx9/bN++vX379hKTXqWBM0eNGpUPD/7eXxz9ZezNDMaFvn///nc6CjZKzb+1a5Lb\\nxD5pU7IGt0yOFPefTr3jnX1/NN7e3vRQfCCkiNDrkiVLCk88mEKIs2fPVqlSpaDCdTg4OJQoUUJV\\nVZX1eJIP7FWrVpHrLGmvtTS0xYLCtm3btmTJkhQGEUwtsUxLCNxI6FUrQ4DLqlevng+T9jene8n6\\nFhwnYU+gRaEoVYCJiUkh6XJN6zx5eoekq/++Nf90y7hHpXe//nppBp4ODSq5IChAfzQceUav8+bN\\n4/SaBfz9/VE4bKV//mPx4sXIQJs2bRYuXEiGf+/evaFhp0+fnmEMSohWkKmRkRHz5gU7+uvXr5Dh\\nELYg35kzZx48ePD27dv37t2DGjUzM7tz586bN2+EnbCZwcPDAzeVd/Sqn6HxzYydQEkTrP+VJTws\\nxaciWFpaFqooVZ4Lx/5/e1cC1tSxtm//2+X29na393a5rVutXWzrVmtba13qWm1dqtZerXWvW+tW\\ntXWr1lqrVnGpuCIoCAIiCLLJJoKCICgqKCQBErJAQgghZCEJ/i/58DQNiEG2ROd98uQ5OTkzZ2bO\\nzPu935xZaAVC/fU/u6e1xspXDlflZU2yXXvccqsp3mpJYgZnolfa6uOBBx5o2SUwHBnQgDbbJTQn\\ndDrd1KlTuX0bBwwYQO/6wYm1pspoNDbdoywvL4f+PXHiRNPl12CqHBtWQIrvQpHOWsjv27ePqAfi\\nDvagZWe+2kB/PYOkq3jhBJu/hgULkZcBgfn2JBcqh/qUIcxZ03N6eu3Vqxct+cGKsg6B37dv35ZN\\nA0j29OnTjsApPXv2bNJdY3dfLiFunRFTNRHWbDZDx3l5eXGi1cPDwxHWgrDV9VOGVA93TbGdPbzy\\nXHVHR0qhXf5+UFAQ5dR6ajKDU9IrLQUCSeJQWsChsG3bNqh7Rxiy7ggYP378vHnzmihytcE8MFBI\\nZJRuka7Z2dkuVvD393fAXixtagJxq+THaTX/TbJMLsBn7xW7tg4SCASUWZs14xmcj15HjRrlOHtx\\nOyZoL262GxJh4cKF/fv3b6LIl9ycBTszpnoNl5CQEFoEKz4+3gFFK2BSyvmD36BeVwOvliWv9KZK\\n6kq2c0XwG5ZFHmjDBTaDy7nplbYLtRlezmANertVr8UH1Gq1RCJBkV67di0lJSUmJiYxMREHFy5c\\nQDxZWVnXLMA1Ttfl7ebmBi1vMyvszgCHSaVSca/ILxTpWrtXceurh3m5pVXvrIxGY0REhIMPAi38\\nbWn1IgMuq27ZSiOqepNfOcRT6u2a85aRkcHW2L4b6LVbt260Bigryjrw8MMPcwP4QQrwT0GgoF2B\\nBWlpaXFxcadOnfL19d2zZw+tjGcntm/f7unpGRYWBtpFhM025fSOgfyiwtzZVisoOqVSmZube/78\\n+aCgoJ07dx47dox6pcyVN74Ir36j5XlN5SwVQ8/L5PVrD27Nn9Cv0nBLS+mfU0pZ+zVVYWdB7d+/\\nnwSso00aZPRaD9Ca9jVXCL3HgfoNApXL5WATKLUuXbqsXbsW8vPw4cMgRJcmAxgnMDAwMzMTjrDD\\n9oa/8MILdq5NhTJMTU0NDQ09fvw4HF7aH9vatHDc4ZFVPT1/UJCwwuw0rwEK5o651RstayBHvfzz\\nLMKcrzPZlTuUGxOwTk+v999/P8I+8sgjjq+bGoha53FDh8KFhy929uzZM2fOnDx50svLa9++fdYc\\nmp+fP3r06ClTply/fr0OZty1a9ehQ4cCAgIgYxHV1atX+Xw+Iudexej1+uLiYlC2TCaTSqV0X1zs\\n7+9vwzsc1SIxISEhkIpZWVm4HmTUsuvPEuruGQClXr58OTw8nDoQb1VWPj4+3NqsqYW6Doeqeidb\\nu+ckSZ1mOL2Bl1W9wsDyGbe9+GBmtf1wz7RLm+NBkxuEYmQ056z0Sut62CwCYjAYoqOj0fJBOjEx\\nMWgqcOK8rAAR5+bmhsd/4MABeM3QMpGRkRApUVFRSUlJoCGQiE2EpaWloBWhUIh/YZkRLW4BGkq0\\n4PTp0ziGzwhWwr+IBLfGeTAL4sSVuAAHOIO/cCVuRwOVKAhw8eLFSxYkWYCAuAbJRu3cu3cvtWpX\\nV1ecAZ3B8wKH0o7Nt8WVK1fmzZvXt29fKEoERzbj4+NBDSAR+LmQtxKJpIHj21FWKBnkBWnjpiTV\\nChCxn58fzACKArkWiUQoVSQABS4Wi0HfGo0GPN7ULKzVarOzsxMSElAgqAm0FglIEyVcM807duxA\\nPUGy8QTxXHg8HuoDF9UZiZYG3uPz2wWFE7W9oo3LqqVrUtztuxFMlWRCRofa+5IjIiKCChBPmTGd\\nU9Irza0ErE9CJVGDabirSz6gi5MABOHr63vixAlYFHA0nHQQKMTali1bmm2/HFBPXl4e6DswMBBy\\nuFZha0+XLuyHp6cnjB+yA0sJkwBGjo2NBccFW4D4QXkgdFgvGDPkFwfIOLgbJ1EOQUFBuAzfuPLo\\n0aOgSBgkkCl1C94WuHVcXBzMTx3rP0Xka17z5BO3+mQ701tyo6yA17eq1zVvfG87g8yOldLyr9l2\\nrD9QRd9FRY6zTDij1zuhV1p4qVWrVrbGVq+H64rGhkeLb7RPNMsYC3AcFhaG8/iGgUU7hEKEkgUR\\n1K28bBQNgYLgmyarWIP+wnnQNGQRKKNeXINQUNmQV0gqEg+1S9kBXyDlIBEcgHTS09Oh/nQ6nclk\\nupXoA0/9/e9/b6kpmBD+SOG1a9eSk5NDQkLgPUCP21/UTQekAZx7/PhxVAPUCnzDY4BvAX1qz+hU\\n8Gkby1CB1gdzNtmxY4pDQbb2W5KuSi9XO4MkSasHwH57WmZnEFRgKuqmnojM0CT0SuEbcdYW3Eb4\\nMnCcyYuHLAKF4RtuO3VHwoeFA1uTyOhtEnhEpVLV3REMNYQL4AhD5SksAAHhJw4QA/4FD5otaKxM\\nwQtGKUHJOlRXslQqpaELNNILpIYShrW4cOECrCAMCYgvICAAtoG2euY4ESIUBO1mAdkt7l+cx79g\\ncMhV/Ovh4YFjmE8fHx9oWMhb6pRAycvl8oYsO8K9y3r5EO9WK7o6LFRBnsStguFdzLp6jFEbESJC\\nltu688Qau1Z0LSgooOcSGhrKyM756HX06NG06D0ryjoANkEpQf86bxZgbOCR1CrADQYDiLLZdtuu\\nMFduSFW0tnBrW/ecYIGTrSVkyOfxh3Qiei05uq9eYYME1Qts77xk73ArekMIH65RxhozNCu9Dhky\\nBGHbtGnDirIuRqiouP/++yEDWVE0nFu/iZESxbzuyT8rdbJl98w6bf7E/sStwilDKisM9QquM1VS\\nX3O/4/l2BuGmGMCFYvXHyeiVFlFm9HpboIg2btzIyqEhKNaZPrN4x/h09xFcUjjfIm1Fvy8nbs0d\\n0b1CeCcr0K9Oql7h5YzYLtNiNBppiMvOnTvZIi9ORq+0yWi3bt1YUdaNnj17cvtaM9wBPK+VcoME\\n3vfLzVNXOF0WKkQCGi2Q07t1eeodakmeqqKt5YXepFP2LkGQnp5OAjYoKIhVJGei19atWyPsu+++\\ny4qybkyYMGHw4MGsHO4A5Ubzjzd3H6ha2SRaUmowO2NGZOvmk3QtmDumIfFQ90jrgzmZSrv0u9ls\\n5uZoONT7VUavt8HTTz9NizSzoqwby5Yt69q1KyuH+kKiMQ4Kql5jsMMhnhOtJ2ADQ252Tu82RK+l\\nwd4Nieq0uJwKZPm5IjuDZGVl0ajEAwcOsJXvnYZen3vuOYT94IMPWFHWjR07djz22GNsh+R6IUZU\\nznUIvOeXe7rAid99F236ofqN1tcDbzRsOQgEHmwxObA3RVp7J6OnpaWRgA0ICGBVy5k6B3r16sWK\\nsm7ExsbWunUgw60YZHNaMc0awGdKlKSswuy82dFeSibpyuvbXnfpfMMj5EZorUqyV8BWVlb6+/sT\\nw16+fJnVMSegVzi8CPv888+zoqwbUqkUBcXGZtmDUoN5cpSE6KOdB2/35RKzM2+FUWk0Cqd+Qm+0\\n1KcCGyVOFEifgHyaVXGl2F5nX6PR0KoObBSBc9Brz549Efall15iRXlbPPvss8uXL2flUDdAFu/7\\n5RK3dvEWnBE7/WD4oi0rqFtAunJWI0Z7SqihuRWfh9ZjJfucnBwSsO7u7qyrytHptUuXLgj7+OOP\\ns6K8LUaMGNF0+6DcBagwV65Jlre92SEw9IRQVFbh7JkqDfKqHug68h1zWSMvOjMtulrje9XnjV9M\\nTAwxbEhICKt1Dk2vXHi2Vd9tsXbt2oceeogVVK0oKDMODxZyo69+OFtkNDv95pjai0k5H7Wt7nLN\\nON/o8eepK2iVwr4B9djwxmAweHh4EMMmJyezuue49Pr5559T8Gabcu68uHTp0n333dfA/Tu1xkph\\nWUV6kS5apDmaXep5TeWeWfWJKyjPLNZLNEan4yR1hXlXhvKtIwKuQyA8/26oS+byMuH0YdUjsUJ9\\nm+gutHtjv4D8ej13uVxO47S2bdt29epV1jYdlF7Hjx+PsA8++KAjLIPv+BgwYMBtt6GGJDkn1Qbw\\n1NsvKhedKfxfhLhvQP5rnvyXD/G4N+l1fHDl+365I0JEX0WKp0ZLvj4l+T6h8JcUxfaLxeBfvcmB\\n6FdWbtxzuaSnby6X+EmnxBLN3dAhaFIpRTM/I26VrV/UdDdCbaGiixLWzybl5+dzS53Va59Nhuaj\\n1+HDhyPsAw88wIrSrsaQlxceHv6nwKm8Acrbc6VkWWLhuLCCd47mkq/XdJ/2HrxOXvyBgfmrk4rO\\ny3QtxbUJkvJZsdKXrTL7nl/uMZ668u54zGazeP54bpRrpb5pu4NGnazaw3FsWL23ar5y5Qq3kiRj\\nWEek13HjxlHwwsJCVpr2oERvOivVumYoZ8dK4QjXzYZt3XPeOsKHvvsyQjw+vGB6tGRBvOynZPnu\\ny8rD11SheWXQudEizcncMvzcdrEYND0mrODj4/ldfQSQsd19BG948VvfOn6wOaQxFO7KpKJ9V0q8\\nrpdG5GsgiExNsw1ijsoAuQorYp0GZPCXFLlTD2u1gdLLtfp11uc9jYombxchuWVUkncw7SIjI4Nb\\nWD05Odlht7+8R+l11qxZFFwgELDSrBWVFlrZe6Xky/CCbj6COpz6kSdFk6Mky88WHbhaAsbMVOrl\\n2kbYIFJvqrxSrEeEa5Lln4WI3j4iuK3Ibe2e86F/Hlz1RWdkh7JUl+T6Ao1Rc6cMWGGuhCX4KlJs\\n3bkBHQ2DEcBTm+6uJl1+LianD/c6K6U5OiIqb3xo2Ud2Roz0DoJfu3aNWy49ODiYvXp1IHqdM2cO\\nBYfby0rTBtdLDLsylN19cmulMHDNoEDhLymKKKFGVt6s78mLdaYLhTr3TNWqpKJBQcLbimhOSkNH\\nwwDsvlwSnFuWVqQTltW16bVSb0qSaRedKbSJv5d/3oZUhVx3F24trL+WwevfoalfZ9XEYssLrlcP\\n80v0d2ICJRIJt0+Sm5sbj8djjdch6HXSpEkUXCaTsdIkFJQZXdKL3/OzZVU46VAZ352WQcmelWob\\nRZk2FnSWAQmphboj10vBfXPjpJ+cEHLz/evuzAVdjgsrQAufFSsdG1aAY8jS12sLizgD+WrzXeqA\\nVojzc0e+Q9xatKVZ54+cvbkNl/27GNhALpcfOXKE64oNCQlhMrbl6fXjjz+mV1tsBojOVHlaXA5i\\naufBs1GpEyPF8PeLtE6m18CDKoOZpzLEiMoj8jXe2aWrk+SgyPYe9Xv/BqOy45KSr6q4i5++gZcp\\n+Kz7n+sNmpr1WcNg0QCMPgF5d2y9TCZTbGwsN5xgz549bGmCFqbXzp0738trDvBLK45mly5LLPws\\nRPTyX0kHHvGCeJlPdmnxXecF602V6XLd1vTiVUlF8+NlMB5jQgv6BeS/czSX5lxBuU+JkqxNlu+7\\nUgJFbL7b35eUJ8Xyh75ZPVRg2idmdQusmggDRhUvWtSgUcNSqdTLy4uTsb6+vuytdYvR66OPPoqw\\nr7zyyj1SXgZTZYZCfyhL9V287H2/2jtVBwcJ/XJKDWb2EvaeQInvAXqXVTXEdc08U2lJiySjUGsk\\n2zY7VtrAqCBjz58/b71rfXh4eGlpKXvWzU2vFHbEiBF3cRmBJi8U6TZeUMAv7ni4dr8Y0nV6tASC\\nLkdlYLXq3kHx/s1ErPgo9m260aKjIGgJgjbuOYWN0Q2lVCr9/Pw4hgXbgnNr3SqYoanolXYruPu2\\nOTFVVibLtHC45sRJO3nV/obnXd/cH88WBQnK8tUVRqZV7z0oPXcRsQo+7ao5H9/i6eFecG2/qGys\\nOLOzs93c3DiS3bNnz+nTp9lihs1Ery+//DLCduzY8e4oDhDlMZ76+4TCHkdrcfzf9OL/L0K87rzc\\nn6fOUjLv/56GJj4ip3dry9yB94zSAgdJVb+AqgGw3XwEqsbbjsxoNF68eHH37t0cyW7bts3b2zsl\\nJUWlcsq9eQwGQ2VlZVlZmcoCtVpdXFxcWlqq1WpNjfpOsqH0OmjQIArupAV9wzLoPUqogUrt6Ztb\\n6wSnXv55K5OKkmRaxqcM1e0zL0fwyVtVcwf6vazPcqDppH9kVL/g2pCqaNyYdTpdYmKiNckSz3p5\\neaWnpzvgik5gT1iF2NjYY8eOeXp67tu3z9XVdefOndwstVth+/btyCauvHLlSgvT6+TJkyl4VlaW\\nEzUPabkRlAodOiVK8nJtw4w+9M9bfq4oQaJV3I2j3xnuHGZzaYgPf+hbN/tbNzsW75sqe1lmcPUJ\\naJJpPhB3169fP378ODd+i+PZI0eOREVFgWrz8vIgtpp/fi1UtkAgiImJ8fPzA5m6NBhhYWEtTK97\\n9uyh4D4+Po6vUhMk5b+kyAcG5tfal9ovIH9enCyAp767R2gy3HkVkghFcz6vfpfVu7Vi1y83Kh1u\\nqYTNacVUnyOacl1H+NGXLl0Cz+7YsaNWboJUDAoKgniEBoTr3XQpgVOfnJwMiQq9WWtKcP7AgQMg\\nKKQWSQoNDY2IiMB3SEhIQkJCXFwcGDk+Pj4yMvLUqVOgVLCzt7c3DpTKhnZhN5RekVAKDjntmE2i\\nWGfyzi5dEC/rXlt3ajsP3qchItfLyjw1o1SGuqDyd+MmvOIAGtYx0ynRGGlth9GhomYQkDqd7urV\\nq2A32sXrVoCcBLVB24rF4pKSkrpnIUH5Qv9CiopEIplMBgI1GAxmsxmhNBoNTuKOYMaTJ09azzSz\\nHuTg7u4O9szMzCwrK2vBZ9FQegXTU3BfX1/HqWFKvSksr2zluSJa6sLm08VbMCNG6pqhTCvSGUys\\nP5XhNtDnXC2YN4YbgCVe/FWFON+RE0xrbOOTJNU2203BieDNvLw8qFroQQhAmw4EG0D27t+/Hzzo\\naQEEJlzhvXv31k3TdcTm7+9/9uxZiUTiOOt+NZReobcpOA5atsvpvEx7KEv1W6risxBRrW+oBgbm\\nb7ygiBeXs1f+DPZShrFC6fkHr1/76gFYw7uUxZ50/GQXlBlpZvaXEeIWrOsQmyDcjIyM2NhYLy+v\\n275TugPAaYYoxi0cc0BuQ+l1165dFDwyMrLpUqk2mHWmSrHGCBf+jKT88DUViHJxQuG0aMmnwaKu\\nPoK27rWP9u/pm7vwTCFoV1jGfH+GetpsflbeFx9yolWy5GtjkcRZEj83TkpNwHF21oFfD38f2jYp\\nKQnyFoLMywIPCyBj4QpDgR49ejQ8PBw6NM2ClJSUuLg40EtwcHBERER0dDRO8ni8oqIix1/npKH0\\nCv1Pwc+cOdPw1GiN5gtFumBBmXd26d4rJQviZf0C8l+3Y90mm4WpRp0U7biktH//dwaGm3rVrMtI\\nKQ32Fi/+ioa1VonWT95SRx53rnxklxioBxYtiHlrzkqvv/76KwW/gy0nCzRGMKnLxeLvEwrHhxcM\\nChK2q+dSTGDSzt6CAYH5K84VHcxUxYjK04t0agPb9YuhHqiQitSRgSU+e2W/LBAM78zJVRoeIFu3\\nwFSicMZ8cT2w8N7YU3ZKet26dSsFj4qKsud6GNIMhf6nZPl7t1gPpdZR/dOiJbNjpSuTiramFx+4\\nWrWW89VifYW5Us9eTDHUH2aNuiw6WLH7V+nKb4RTh+b0bvMXSr35Ec0epb3kxPtUizVGWrEX+oM1\\nFKek1/Xr11PwhISEuq+UlRs3pxX3P177mNOOh3ndfATjwgq2pBcH8tVheWXx4vIcleFu2oKJoSWd\\nfr2uPClWsXej9Ke5gmFv18qntDtW4a+LNfHhRvndsDz86iQ5ta8TgjJWB5yPXtetW1d336vRXJmp\\n1H93WmazBnOfgKqZpr45pRflunIj41CGxudTzdlopZer7OfvhNOH8QZ0rJVPBZ92FS/8X8nR/dq0\\ns1XDrSrvqqpYpDW9alnjDc4iUyrOR6/79++n4AEBATZ/wXOHGrXZWfqdo7mLEwpzStiqfQyND/21\\njJKj+6TLZ+R92Yd7MVXzkz+hH2jXkM+7cQ9sjOpysXoS17rzbJkrZ6PXI0eO3GpSrKjM2Pqv+ywd\\n46kr2FtMhsZVqQZ9WexJSFTBsM634lP+4DcK5n5efOB3bfo5XH9PlQ+aHM1XhPvIFiN2Mnp1cXGh\\n4LGxsTX/jRZp/HJK8V3MFkZhaExOrRo+pfTYLl3xDX/Q6zZkyuv3cv6E/nD5Fbs3lKfEt8jWLA6F\\nE4Iybh8N9jbYmeh19erVFPzChQusNBmaFEZFYVlcqGz9wtwR3Wtx+ScNlG9fUxYVZNZqWFnZYE6c\\njBh29+USVhpOQ6/cuNfw8HBWmgyNr1NNJkNudvH+zcLJg2t1/IXTPlG4rtdfZ3ua1oXCciO942rv\\nwYvMZ+bHSejVx8eHgru5ubHSZGgEPjXodZdT1acC5dt/Es38jFatrjl8quj35eXnYswaNSsxO3Hk\\nemn1vnCHeEkyLSsQJ6BXf39/Cn7o0CFWmgz1hbm8DOLUwL+mjjxeuOF70exRvI9fqVWl4rxk2RTl\\nEVf9tQxWbndit27c2HhBQQz7uic/JLfMVMn6YR2bXs+fP0/Bly9fzkqToQ5USISqQE/F3o2FG5eK\\nvhnBH/Q6r2/7W73rr6bUAR1BuLKfvwP5ttQG13cZfj4v5wbzfHQsL15czsrEcen1+vXrFHzBggWs\\nNBmqhZLRqLuapjkdVuKzV75jjXjRhPyvPq6bSbnFU8QL/yffsVYd6lchymUl2RT4I0NJq73QZ368\\njMcGbDkmvSoUCgo+a9YsVpqOznomk7mstEIq0mWklCefrpqnVJBnKlFUCPl1jwY1FklLT3gVH9yq\\n9NguWzMPDCj+fpLkx+mS5TMkS76WrvxGumImDoRTh+ZPGpg75n1uVf9bfnq3Fk4ZUjB/PGKTb/+p\\n2G1LaYhPhUjAnlHzIK1It+hMofUKSv+LEGeyFeYcjV61Wi0FHzNmjNNxjamkGBJJe+l8+bkYTeIp\\nfIN3DPwso1yGb1NxEQ4qKwzm8rKadFO1xtKR3fI/1oFlQCt54z8STh9WRTpLpxRt+qF4/2bl4Z0l\\nfgfU4f5KL1dVgIfq+CH6lMWe1Kafw30Rf32nYJo1VT2VVeSYeqYsJqQ8Oa4sLrQ02Fvp+UfJ0f24\\nIzgLCYD6k29brdj9K+5b7LYV6ZH+NLdg3lj+4NdvOfB+6JtIvGzttyBKXFzsvg2xwYuXrp6TN/YD\\ne4RnXZp0WGdEIlk2FenR52QaC8UOPl0qJiZmzZo1LbhCc25u7ogRI+Li4pr0LklS7ZAgofWkyo+P\\n569PUbBJ6o5Cr4WFhRR83Lhxf3UPK2TrF6JxlsUEQyVpEiLBAvKdP6PlF21ZgfPixV8VfPcFmlzB\\nt2PFC/4n+XEaPtKVs6CMcIAzOI/LCn9dXHzgd/WpQF3mRYgs8JFZozZKRWil2vQkTXyEJj4cjiQ+\\nSs9dCCicPFi84EuErfrMG5M7sgead96Y90WzR4lmfCqaNQIXiGYMF3496PYKy5p9hnQChyKs4LNu\\ndZBUvXlneGeQWsnRfWXRwfhQRpCp8vOnq3J0xBXFhUIQzfw0f2J/pCHno7aNdeuGfPgDX+P1aUtb\\nTv3ZT9qnLbKT/9XHeV9+RA6+KuBQ+fl4Z1wbZfbs2ajS+/fvb6kE0FIezdDhZq68cTKvbFxYgTXJ\\nvnqYPyFCvOJc0Smhhqdqqs09NBXmnBLDJYUed/ntgmJatGRunNQ9UyXRGJX6es9CMlVWRagz3nla\\n1QazrNx4rcSA9Oy+XOJysfhodikUfUPmYTSUXlNSUij46tWrrc/rrqY5AhE0z0fwaVdwCq9vu5w+\\nLUN/uaN65I3vnT+hP7dtSW1v3jvCPMh+nq/YuxFqF85+ifcexe4NRVtXFv62pGpUae/WVenHt/Vs\\n/Y/a5I56V7JsiirQEzJfd+UCLX5a3ZlgNlXqdZUm410mOiZOnIgqvWzZspZKwNKlS5uzww0E6nW9\\n9MsIca1L17/pxR8bVvBTsvyEoCxZps0treCXVlyU60BGcq2pSGsSlVXgWGA5f0ZcHpZXtV4oPh5Z\\nqk0XFEsSChH8t1TFoSzVLynyr09JevrmvuHFb327lUg7HuZ9ckK4NLHQn6fGrd0yqygP8YD1Ugt1\\nkULN72nF8+Jkw4NFnbz4NgubfBoignnAHQP56hhReZbSkFakixeX4+fBTNUfGcodl5Srkoq+iZGO\\nDhUNDMyvIzE/ni1qMXrNyMig4Bs3bvyr720u2rrKprULhnfJnzQQRAAlCOkKXQZPVrJ0snDaJ6JZ\\nI+Fci74ZUTB/vHjRhKruvJWzIDlxveDTLrftyKuhCruAL6oinDVSNGc0fXBTfBfMHQM3GcfSVbNw\\nIzAL3GpwjTrMv8R3f7HbFvn2n0A6kMwK1/WF6xdJV8+Gv5z/9UDECelaFcmskXC3ITlBN0ZpQdUb\\n7ZuuLogGvAOvX59zFZ57+bmY8qRYXKa9mAQBDglfFhuiCvLCjSDhIcwti422vi178gZ0hCqEJIS3\\nrjrmXhZ1QpMYpb2QiLtUiPNBcH9pKtryClGuUVagu5yKu+syUkwqZVX/hh0dEVVcaaxAWI2ln6RC\\nKrr7qNMewBVDlZ4zZ05LJQC6FQmYOnVqM98XUvXXVMXHx+u9RUjDP6DIt44Imvmm9nwashh5ow3M\\nWrt2bS3N1WgEBeivZcCdNykK79S2mo0yMRGWOtxfHXGsilmuZxjyeSalvIrglHJcUyHkV+TznW6C\\nedUo+kvnq3o5EiLBhvCmS4O9S0N98dPAzzJryu61JUgcASNHjkSVnj17dkslYObMmUgAGmcLFgJU\\napCgbOMFxdga697dwaeNe86YsIKZMVKIWQjShWeqvqGIfz4vP3C1BAKzRG8ymivD8zVQuNCVs2Kl\\nbd1vH+1rnvyPjuXRmjVI5Pt+uXPjZNOiJYOChO1vt/VJW3dej6O5Q4KESNXOS0oI24h8TZRIE1tQ\\nnijRQn3zVIY8dUWJ3txi9CqXy//+978jeJ8+fdzd3ePi4nJycnQ6Xc0rjUZjbGzsjh07Vq1atXz5\\n8oMHD/pa4OPj4+/vf/z48eTkZJB1Xl6eSqXS6205RSqVJiYmBgYG7tq1a/369T/++CNcJ6S5Z8+e\\n77zzTvv27V966aXWrVvj56RJk9atWxccHHzmzJnLly/LZLKSkhIEv3LlCmIICQnx9PT84YcfEMO3\\n3347efLkxYsXI0l79uzZv3+/h4eHl5dXUFAQ0oMrd+/evXr1alw8ZcoUKBp4i0j/sWPH8C/t2057\\nsZ08eRIXx8fHh4WF/fHHHxs2bNi7d++2bdt+++23TZs24YyLi8uBAwdCQ0NxGa65evVqfn6+UChE\\nZpOSklJTUxMSEpDaS5cuZdzE2bNnURoFBQV8Pl+jqX0Wo8FgyM3NRZmjABHzUQv8/PyQETgTKGT4\\nmAsXLkSyUSY4QKpiYmKQANpFzs3N7dChQ8hFeHg4iguZ3bx5M8oBSf31119/+eUXBMQBFfVXX32F\\n0v7iiy8QJzKIgsJNT58+fcaCa9euIRl4pqgDyPXvv/+OXONJ4flSyZyxArIpEAiKiorEYjEeyoUL\\nF5Akb29vpBwBkQYERNpQXNHR0fhGJPg+deoUigtpO3z4MAof1yALOEClKi8vpxJDRpAwJGPr1q1I\\nOR4BKgwlAP/iplqt7Wwl1FWETU9PV6v/nAD26aefokrPmDHDzlaABCBtiIcyiDtevHgRd8STRREh\\n8SjnLVu2IHcoOjwaZAEZQSJxEulcsmQJquK0adMgV+fOnbt9+/ZnnnkGCfjoo4+owqB6oCiQUxRd\\ncXHxHbx/Rn1LS0tDDHhqaHFIElKIp4YI0TTQRpRKJa6pteVaejYrz0m1cNJdM5RrkuW/XVBsSlPA\\nswYxgQeXJRZuSFXAGV8SJ9x3peQYT+2eqdp9WQl2zlTqC8qMxTqTtv6vy3BTOPVnpVoQHz7BgjKw\\nsERjTJJpTwjKQMTZJQauX1RfY46E2mDOUOgvK/RRQg3FAPZEWMSAv2A8xJom98waSq/AQw899Lca\\neP311yEB+vfvj0qDltmpUydiYTvxj3/848knn0TMDz/8MI5rvcU9hfvvv/+pp56CCenRo8f777//\\n6quvPv74439j+Nvf/u///s/+i++7775nn322e/fuMMn9+vUbP378sGHD6K+OHTviPCoqypnqG2rs\\nf//73yeeeOJf//rX4xb885//fOyxx6h+vvjii3gcr732Wtu2bR944IHmzDKSBCXRoUOHN95448MP\\nPxwwYMD06dPBy7CCX3/9NRry8OHDYSHefvvtf//7388991y9In/00UfReN98803kDkUEgpgwYQKE\\nPGwtvudbAMsN8wk7Om/ePNyoV69e7dq1QxVF8EceeQSl9/zzz8M2DBw4EDEgbUgYwkLHQPesWbPm\\nyJEjmZmZFRUVCoVCIpGcOHFixYoVuFHXrl07d+6Mp9C3b1+EgqyB7YGW4m4N0447rly5kiwErE52\\ndvb169dheyBxoC1w/YIFC1AIoB3IgkWLFuF6GK3evXt36dIFjxgJw7NDsSB5Y8aMAUehNUF2IBKo\\nLhhUJGPEiBFDhw4dMmQIko27Q3tBCrQYvULRtGDrevrpp1GBUCG6deuGEkTxNdGN0DJxI9C9M3JQ\\nQ7gY/AWiQaVs06YN2h4jdIZ7DfD8WoxeAbgV8DdB/z///DNMx6BBg/7zn/9Yp69Vq1YwCDB6cN9g\\ncGB24PXAy4Ydg3/nagGMIewVLMbnn38OawNTBk+/vwWwxjAsiHznzp3wbqKiouA4w9eDU1ZrfwUc\\nSXjxuBjlArcL8hmpgg2EhYf9hP8LhxSeEVKClMNwwVuH14z0wN8k5xoOGi6DxwoXD04fbGy1x6FW\\nk/eHNMDVOnfuHPxK+NdIP/w+BIFdRdrg0OEy/Iv8RkZGwnFGEKQcF8CrXWEBcjpz5kzYW/iMcBgh\\nB3ASJhdnUFA4xjdJEphZlAA0Agw7NAXkEmwJigUP77vvvkNAJBuu/R4LkAtYctwaHh9Sq1KpKi1u\\nU0FBARKMZMBfxjXIJlxXZI3H4yG10AIIgtJAdlJSUkQiEbIMcQG7beMwIsKsrCwUIDxu6AXcmvoT\\nEGFiYiIixL9w+VGqiAoPmnpO8H3cArjJuBj5RTbxDUceMVCqUBOQBj6fD78VeiTkJlCG9C9qiK+v\\nL9eFgthQdNu2bYOXjbsjHhQ+UoW/EAP1meAJQpvgRrhm4sSJo0aNQtV6yQJoQOsqCmUK3YqyRTnj\\nAGegcyFyIQ+hwtA6IKlQ/mPHjoUmwtNB+iHENm3aBNd+0qRJeFioYHPmzIF6gs7CeepucnFxwRP3\\n8PCgHpKIiAiUNjKFKooqRF0lKC5URRQ4PPS8vDyUAJ44EgBhhXyhuFDzIaNQpVGZUZOhvKAkIPSQ\\nCzQ0ko0cIKUhAkh6v/vuu7gYCh2hIB5RCIgNiaHKhtggzVDBkGDqPoIURcxUPh988AHaLL5RJtDv\\ndfhVcDRffvlllBVKCbdDAcLHQpOH9LHf70SCkRd4AzbPpbG0EXL03nvv9enTh54j7kX+NDQTEg/O\\nQfVAEVE/GK6Bd0IX4Pvw4cMtSa+3fillRjNDO2dvSxgcEGVlZTAhwcHBMDyoqNx5uNst+2YJbIgE\\nwEu1s5Xl5uaCoGUWVDbNlI3S0lIIF2ga+PUwnLBesKYotFt11xIqKirEYrFQKMQ3ihq2GQYbVhzm\\ndvTo0dBMU6ZMgX3Cz8LCP199QxYUFxfDzJMdJRkEHYC7w/AnJyfDSMBorV69erEFsGSHLCBVgceK\\nb6gHyCZcj5uiiGp9dYFM1ZF4vV6PeG715qPl6ZWBwRkBdeMI9MqapLOD0SsDgy3g4aJFjBo1qqUS\\nQAOzevfuzZ4Fo1cGhrsKaAst2yK2bduGBDz//PPsWTB6ZWC4C+l12LBhLZUAo9Ho4uISGRnJngWj\\nVwaGuwq7d+9u1aqVl5cXKwoGRq8MDAwMjF4ZGBgYGL0yMDAwWKO4uNjPz89otGu2vtoCRq+MXhnq\\nB7lcrlLVsjhZVlZWu3btNm3adMMypLyk5C/7D1ZWVgYEBMyZMwfVbs2aNVevXqXztLwLwkZGRkZF\\nReXk5DT62HhEuHPnznfeeefFF19csWIFDYbX6/W4r0gkys7Ojo6ORpJwayQgMDAwLi4OiVcqlTNm\\nzOjWrdsTTzzRqlWr9957b8+ePRShQCDYsWMHAtqfBhTIwYMHp0+fPnXqVMRTcyZ7Xl7e5s2bf/rp\\np4KCgpZ9vt9++214eHjNMuzXrx+4QiKRXLp0adGiRYMHD167dq3B8Jetuvh8/oYNG3r06EHEgvrg\\n6up6wzKJY/Xq1cuWLVuwYMH69etTU1NR8ihGRq8MDH+hieeff75r1642k5JBVc8999x9993n7e0N\\nhvrnP/+J42HDhpGEUSgUvXr1spmq+Pnnn5eWlo4ePdpmZZYOHTocP368EdMMlqSZr61bt8bB2LFj\\nv/jii7qXYnnqqacOHz6MA+T0ww8/7NSp0yOPPIKfR48e3bVrF4XF98yZM+ue/MNh0KBBlOsHH3yQ\\nwo4bN45j0vT0dCSPWyPi4sWLHFvRWmJBQUEmU9Uy/v7+/j179sQ14P1p06Y1xQADRL5w4cKlS5f+\\n+OOPnKlDkpC2kSNHHjlyhLJAQGXgrA7Qpk0bmmw6ceJEPFlYJmQZ9WHu3Lm1zoXNzc1l9MrA8Cdo\\nyT58c20PLZ+WSZ0/fz7o5rHHHgN9dOnShYbHw52kpYHBthkZGdevX4fCfemll3Dm7bffplH0AwYM\\nWL58OY47d+6MBgnCBU03SmqhkhAh6jqIHimhhSLBHSBZ3BesByEGUYljKMf9+/d7enriADrL19cX\\nJyGrKR7or1dffRUSGFT71ltv+fj4kJobOnSoPcl4+OGHwYaQzIjH3d2dJi+A7qVSKUoPpUTk6+Li\\nQoWGsoXOtSYjBNFqtbRiFpgLREbz4mE8iHkbCw899NBXX31FdA+GpZN79+7FT5gWkO+TTz4JmY/y\\n/P7771977TXIVTg0eKBQo//5z3+4IAAcAmQKKQfDIFRycjK8lpMnT0LJgnDhAdQ6Y7WJQItdnD17\\n1s7+jbuKXpHnmJiYn3/+GU4ZozBHBgj0lVdeQbWBM3vDMu0d7iR+gk/hKnp5eeEYyhTyFg41jtGQ\\nNBoNDoYPH85FApZ59913cbJv3774tvZGT5w4Qctw1LpqT30BvYn4MzMzbc4j2aCnnTt3Uq8irklM\\nTLS+ICwsDCfhCHNnQGrQZQi1bt06OuPm5mat3eoASsxmx8+tW7ci/smTJyMSKkxwFoiyT58+yD4U\\nK06C0H/44QfwLM2UnT17NviL2ycmPz///fffJ8PQiM/3hRdeoOUEifFJIIMK8RMWAt9opDZBoL5x\\nPi4u7h0LrP8C/4JYIYcRVc2lnJsT3FJTTz/9NLgP3kmTameHoFfUbDg+sJbIMyXmzJkzjMIcHBCh\\nUDfQmCCvUaNGERFQf+KUKVPw88CBAziGpaQlU8FlICZQDBdDaGhoq1atQFWk0eh6G4F8x4sVWQNq\\nFFHt27cPzIX0WFM20kZ7asFJxzXwYa0DwgvGSQQnhQVqePHFF/v37w9t/sYbb3zxxRf16sGAgoPe\\ntDmJeCAVoVWfeeYZjnq2b99OjvOzzz4LI8R1fSL4U089BfLt0KEDF8Ply5fJgDXiwwUhdu/efcWK\\nFdyKd+BxMjakstFakXdaXxXWBSmnfaGg/ckPsF4JBeqeguCby06LAEbIpnfiwQcfhLc0fvx4POVG\\nseUtT6/QPtHR0TDO0AJt27at2SPTgnsg38uQSCR5eXlXrlw5depUQEAA3EBQEtxYf39/aJOa1yck\\nJIA3yT+F0qSl0eCCkNfPvfb54IMP8BMeeo8ePe6//340M9Rmzhdes2aNn59fzb2tSALbv2VAHVCp\\nVNQhSJ2n8KzT0tLoL6SHhBjRK3gTNmPLli307x9//EEVErV0/vz5EHQ49vb2RrFwK/8OGzYM1GNP\\nMki+2eyYQGRks4KMVCqlkzabxZLJAa2jzCkeZISKNyIiohFrwn//+99u3bpRbwBSiGT36tVLLBZT\\nXwr1X1vj7bffhmWlpVHXr19vLflhmdq1aweCXr16NXU1bNu2jXurWRPIl84CUDbitKYCULPBAtQx\\nXIDHimMcCIVCVDaYGdTe8+fPo1qeO3cuNTUV3+AZ1GTUYVdXV6jvjRs31tHhjmfas2dPZOG3336D\\nG1Gv95YtT69qtRo5tGfnguTk5NjY2ODgYKgJWvISz2zp0qXffPMN3CI8YBhwWij+zTffhPHBAVRA\\n+/btYdU7WwD3BCXVtWtXSIbBgwfDzYHogBOKgDjGAa0kiwO0mY8//hhxwm/FAU7C2OInjikULgAv\\nIMJ3Leh8E3CEcQvuJ6ojqiDuiCtpOU66uKcFdBJAAnCjsWPHjhw5Eu4zdN+IESNwgDPwHMeNG0eL\\nqI+4CaQQ8VCECEtxwuPGGegLHKN14RrKFK5HggdZAbHhJEWIe1HRUUbogLY/oN1H6gBKu9ZnSm0J\\nzQ/Vkc7AxyciQzZxO2SNWiMq/YQJE2zeHaHeE0fg54cfflhTaHz//feNZTlQf1A4sOhQi6gwaJlo\\nwEg5jXNA5SSfEeUJc0KhVq5cSWkAO1A2Fy9ebN2lC08ZJ2Et7EkDba+N9m99knYtrLnvN7WRmJgY\\n65Oo/Di5aNEifIMBudVUJ06c2LhjLR5//HE8jp07dyLykJAQ2joX7RFiH0wKxkQLxbM7e/bs9evX\\nqdeCXgPCdlI2OQc0MTGRUgipyz162Ila77tkyRKbl5z/+Mc/XnjhBTj1zbwlBD3uO96noAXolXyE\\nxgJt6oD2gKqAA7RVOG6ocHg8JFK4V5ONVda4Uc1nDPlDbwBwAa3tjzO4Ka6kWyMxOIBhxIHNysf2\\nrzSMfOH7vpuwXjvZ+qedscEhoji5M2BA2CHIIjRgVHE4p25ubmghAoEAsg7cdKtlPWH/bCoPUUBN\\nQKWCp3CApkJNCAaM4z78hKXkIkGjRakiYXA5G70eQnviduB0iCDcAlLlhmU4BE6CAqyvXLVqFU4a\\nLYAc4/F4NWNDoUGd2XNf8Dj1TlqfBItR+Vj3S5SUlNBJuBHWF8M24CSccRrwRBUMFQBpsBkd1UDg\\nAYEBN2/eTAmGPETVxQOCuoddt7kYF1DRPfroo9DylE2OXidPnoyf8fHxHh4eOEBpR0ZGIsJa74un\\ngHKgNdrxmBAnjCJqFNgZB8uXL//ll19gdyGE165di3+XLVsG5wNOxj4LQPG0mRit1o9jGHvYMz6f\\nn5OTAycDnhl4o+7dT6Bdpk6dCg8mNDTUmdQr8o/60bFjR+tRHbViyJAhKEqU44YNGyB4jxw5cvLk\\nyUQL0PAUCkW9eg/gU5ArUVpaqtFoVBagwZAbUn4T+AtX0r/QMvgLZyBw6K9GLAe5XE7DLWEbwSw4\\noJWG8Y0aADrDGdQ/nKG1gW/7Upg8KUo5XYzcUS5o3wFaaBkx2wxEbTiSkpLwvKCduTP0Luv48eOo\\n0IWFhfCwSM7A84BrRu4hqju9GQOJc74whD/FgCzQgtY2rnFjgcYDQE2jFoFHqCsA5YyTXLeAtTa3\\n6S5EaVufgVsALWzPfVGlbd6w4YnAQJKds6ZXUoIA2MQ6BrQdyAgS+6AbVEs4efQCqlF6UTgvkzor\\n6N0ave4jyWz9mDiQLAWp4XvSpEmkeYle8fRBZyR4ya2xKeFmBtVAa8DYo+hATTAA1kt6O3HfK2on\\nVMnu3bvBttxYP2vgubKeUKcAHiXUEyffQFggCzgT1r4qNTy0T29vb440wSYICLIAxdBbe+51M/nL\\n8EUay6rBwFj3o0GXodYhchAlDYS6YZnaQIIaRv2HH37ANyw6rDtO2oxjgW7q0aMHGXiYKzglY8eO\\ntScZ9AbPevMO4iwi8QkTJnCvsEBh5JcMHjyYuxiij7xv0rZoO5w1ggSGnWisIfpkaeDyo4VyIzqg\\n3MlP6tChAxIAKUqGHHa9ffv2//rXvyBW8O+UKVNQejiAToSBR0YgsSmG06dPt3jTxvMlhmnTpg3M\\nPIxTk45kaPmRA8geDJ2rqyvsHrerJR4tYy6nAKQ9nhcaGP1MTk6uuYsJ8cL48eOpuYJN6Dy9Sp43\\nbx7aM3zPt956C4KXRh088cQTjdgtAD315JNPwteDPCH9Ql26165do2kCNyyzsGxs/NChQ4kpbFg+\\nKCgIJ0F8q1atglRHylNTU+1JxqBBg8DF3IQxiHpwaPfu3WnQK2gIWhXkC2+Xxj/1798fJ+F6wxdB\\n4tE64H3TpjW4qXUhUxfN1q1bG6W4UEqIDcbA3d2d+l7pPM0KefbZZ2NiYnAAlxwtF+WAYxQFLoCx\\nJM+aRm6BiK0fNw2PmzNnDvxRlD8e9OTJk6lnptlw8ODBiRMnwhtunvFhDjetAA9s3Lhxx44dY8zl\\nFCC/Hhxh3b0I0WfTXCF8OnXqRL0EcMTofEREBH5C7UIZWfMaqNB6qGmjyDFq6gRoT3rtTr0Ely9f\\nJs144MCB9PR0cC6YHXYC4svLy+uzzz6rGSFMAjesZ9euXXYmAxoTKs/f33/u3Lm0Yd+rr74Ki4K/\\nhEIh1DqXQngDUIjnzp2jbjTqqsZxcHDwDcsmUaBd6warUChwhnzwhhcXPRdwK9Eo14uKxwS/BEYC\\n9sY6tdDdNEq/bdu2SAMN0qC3IzQsmkBkbQM8/bp363JqsFlbDA0Cn88nj5V+0kxzuIE2l40cOXLW\\nrFlgIvwbEBBAJ8FxNMx7y5Yt9NIPLAzt08DXtbUCccJDmj59Orx+To2mpaXBT7JzSqsNQIvwf8Vi\\nsf1BFi5caN3lB+fUWheDIl1cXKBJlyxZwnUggO5HjRrVr18/yD3wPtfXUbNjmt56cRPMGoKKigo/\\nPz96V2YTIQwV6T65XL5mzZrly5eDfLmOIKR/+/btSOfvv/+OZ40cWYdFVEOGDIFDAPGE0qMNB+0c\\n08boleFeBGTL3r17OUKE6jxx4kQdHUGRkZHWCguuLpqoWq2Gb3716lVo4bu7uPbs2QMXPiEhoSGT\\nMkFncG9tyAtsBW3bRNvEMjB6ZWBgYGD0ysDAwMDolYGBgYGB0SsDAwMDo1cGBgYGRq8MDAwMDIxe\\nGZobzbnaPAMDo1cGBgYGRq+MXhkYGBgYvTIwMDAwemVgYGBg9MrolYGBgYHRKwMDAwOjVwYGBgZG\\nr4xeGRgYGBi9MjAwMDB6ZWBgYGD0yuiVgYGBgdErAwMDA6NXBgYGBkavDAyOivLyclYIDIxeGRgY\\nGBgYvTIwMDAwemVgYGBg9MrAwMDA6PUmvT711FO9GBgYGBgaCc8880wVtw4bNuwlBgYGBoZGxdCh\\nQ/8f50+l/lmW+7QAAAAASUVORK5CYII=\\n\",\n       \"prompt_number\": 6,\n       \"text\": [\n        \"\u003cIPython.core.display.Image at 0x2ff4a10\u003e\"\n       ]\n      }\n     ],\n     \"prompt_number\": 6\n    },\n    {\n     \"cell_type\": \"markdown\",\n     \"metadata\": {},\n     \"source\": [\n      \"With the new ``XKCDify`` function, this is relatively easy to replicate.  The results\\n\",\n      \"are not exactly identical, but I think it definitely gets the point across!\"\n     ]\n    },\n    {\n     \"cell_type\": \"code\",\n     \"collapsed\": false,\n     \"input\": [\n      \"# Some helper functions\\n\",\n      \"def norm(x, x0, sigma):\\n\",\n      \"    return np.exp(-0.5 * (x - x0) ** 2 / sigma ** 2)\\n\",\n      \"\\n\",\n      \"def sigmoid(x, x0, alpha):\\n\",\n      \"    return 1. / (1. + np.exp(- (x - x0) / alpha))\\n\",\n      \"    \\n\",\n      \"# define the curves\\n\",\n      \"x = np.linspace(0, 1, 100)\\n\",\n      \"y1 = np.sqrt(norm(x, 0.7, 0.05)) + 0.2 * (1.5 - sigmoid(x, 0.8, 0.05))\\n\",\n      \"\\n\",\n      \"y2 = 0.2 * norm(x, 0.5, 0.2) + np.sqrt(norm(x, 0.6, 0.05)) + 0.1 * (1 - sigmoid(x, 0.75, 0.05))\\n\",\n      \"\\n\",\n      \"y3 = 0.05 + 1.4 * norm(x, 0.85, 0.08)\\n\",\n      \"y3[x \u003e 0.85] = 0.05 + 1.4 * norm(x[x \u003e 0.85], 0.85, 0.3)\\n\",\n      \"\\n\",\n      \"# draw the curves\\n\",\n      \"ax = pl.axes()\\n\",\n      \"ax.plot(x, y1, c='gray')\\n\",\n      \"ax.plot(x, y2, c='blue')\\n\",\n      \"ax.plot(x, y3, c='red')\\n\",\n      \"\\n\",\n      \"ax.text(0.3, -0.1, \\\"Yard\\\")\\n\",\n      \"ax.text(0.5, -0.1, \\\"Steps\\\")\\n\",\n      \"ax.text(0.7, -0.1, \\\"Door\\\")\\n\",\n      \"ax.text(0.9, -0.1, \\\"Inside\\\")\\n\",\n      \"\\n\",\n      \"ax.text(0.05, 1.1, \\\"fear that\\\\nthere's\\\\nsomething\\\\nbehind me\\\")\\n\",\n      \"ax.plot([0.15, 0.2], [1.0, 0.2], '-k', lw=0.5)\\n\",\n      \"\\n\",\n      \"ax.text(0.25, 0.8, \\\"forward\\\\nspeed\\\")\\n\",\n      \"ax.plot([0.32, 0.35], [0.75, 0.35], '-k', lw=0.5)\\n\",\n      \"\\n\",\n      \"ax.text(0.9, 0.4, \\\"embarrassment\\\")\\n\",\n      \"ax.plot([1.0, 0.8], [0.55, 1.05], '-k', lw=0.5)\\n\",\n      \"\\n\",\n      \"ax.set_title(\\\"Walking back to my\\\\nfront door at night:\\\")\\n\",\n      \"\\n\",\n      \"ax.set_xlim(0, 1)\\n\",\n      \"ax.set_ylim(0, 1.5)\\n\",\n      \"\\n\",\n      \"# modify all the axes elements in-place\\n\",\n      \"XKCDify(ax, expand_axes=True)\\n\"\n     ],\n     \"language\": \"python\",\n     \"metadata\": {},\n     \"outputs\": [\n      {\n       \"output_type\": \"pyout\",\n       \"prompt_number\": 7,\n       \"text\": [\n        \"\u003cmatplotlib.axes.AxesSubplot at 0x2fef210\u003e\"\n       ]\n      },\n      {\n       \"output_type\": \"display_data\",\n       \"png\": \"iVBORw0KGgoAAAANSUhEUgAAAdsAAAE2CAYAAAApoDhoAAAABHNCSVQICAgIfAhkiAAAAAlwSFlz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\\nzSRshRBCCDeTsBVCCCHc7P8ALqdZZsQ8/nwAAAAASUVORK5CYII=\\n\",\n       \"text\": [\n        \"\u003cmatplotlib.figure.Figure at 0x440c890\u003e\"\n       ]\n      }\n     ],\n     \"prompt_number\": 7\n    },\n    {\n     \"cell_type\": \"markdown\",\n     \"metadata\": {},\n     \"source\": [\n      \"Pretty good for a couple hours's work!\\n\",\n      \"\\n\",\n      \"I think the possibilities here are pretty limitless: this is going to be a hugely\\n\",\n      \"useful and popular feature in matplotlib, especially when the sketch artist PR is mature\\n\",\n      \"and part of the main package.  I imagine using this style of plot for schematic figures\\n\",\n      \"in presentations where the normal crisp matplotlib lines look a bit too \\\"scientific\\\".\\n\",\n      \"I'm giving a few talks at the end of the month... maybe I'll even use some of\\n\",\n      \"this code there.\\n\",\n      \"\\n\",\n      \"This post was written entirely in an IPython Notebook: the notebook file is available for\\n\",\n      \"download [here](http://jakevdp.github.com/downloads/notebooks/XKCD_plots.ipynb).\\n\",\n      \"For more information on blogging with notebooks in octopress, see my\\n\",\n      \"[previous post](http://jakevdp.github.com/blog/2012/10/04/blogging-with-ipython/)\\n\",\n      \"on the subject.\"\n     ]\n    }\n   ],\n   \"metadata\": {}\n  }\n ]\n}","codeNav":null,"colorizedLines":null,"csv":null,"dependabotInfo":{"showConfigurationBanner":null,"showSecurityAlertBanner":false,"configFilePath":null,"networkDependabotPath":"/github/renderables/network/updates","dismissConfigurationNoticePath":"/settings/dismiss-notice/dependabot_configuration_notice","configurationNoticeDismissed":false,"repoAlertsPath":"/github/renderables/security/dependabot","repoSecurityAndAnalysisPath":"/github/renderables/settings/security_analysis","repoOwnerIsOrg":true,"currentUserCanAdminRepo":true},"displayName":"XKCD_plots.ipynb","displayUrl":"https://notebooks.githubusercontent.com/view/ipynb?browser=chrome\u0026color_mode=light\u0026commit=7398299c4869ea95c962ed86750f4d8ffb161579\u0026device=unknown_device\u0026enc_url=68747470733a2f2f7261772e67697468756275736572636f6e74656e742e636f6d2f6769746875622f72656e64657261626c65732f373339383239396334383639656139356339363265643836373530663464386666623136313537392f6970796e622f584b43445f706c6f74732e6970796e623f746f6b656e3d41425843565559494c5a45474e56324757485752584c54444a47565441\u0026logged_in=true\u0026nwo=github%2Frenderables\u0026path=ipynb%2FXKCD_plots.ipynb\u0026platform=mac\u0026repository_id=10774987\u0026repository_type=Repository\u0026version=105","headerInfo":{"blobSize":"236 KB","codeownerInfo":{"codeownerPath":null,"ownedByCurrentUser":null,"ownersForFile":null,"ruleForPathLine":null},"deleteInfo":{"deletePath":"https://github.com/github/renderables/delete/main/ipynb/XKCD_plots.ipynb","deleteTooltip":"Delete this file"},"editInfo":{"currentUserId":7219923,"editEnabled":true,"editPath":"https://github.com/github/renderables/edit/main/ipynb/XKCD_plots.ipynb","editTooltip":"Edit this file","githubDevEnabled":true,"githubDevUrl":"https://github.dev/"},"ghDesktopPath":"x-github-client://openRepo/https://github.com/github/renderables?branch=main\u0026filepath=ipynb%2FXKCD_plots.ipynb","gitLfsPath":null,"onBranch":true,"shortPath":"6ee498a","siteNavLoginPath":"/login?return_to=https%3A%2F%2Fgithub.com%2Fgithub%2Frenderables%2Fblob%2Fmain%2Fipynb%2FXKCD_plots.ipynb","isMarkdown":false,"toc":null,"lineInfo":{"truncatedLoc":"629","truncatedSloc":"629"}},"codeownersFileInfo":null,"image":false,"isCodeownersFile":null,"isValidLegacyIssueTemplate":false,"issueTemplateHelpUrl":"https://docs.github.com/articles/about-issue-and-pull-request-templates","showIssueFormWarning":false,"issueTemplate":null,"showDiscussionTemplateMessage":false,"showDiscussionTemplateWarning":false,"discussionFeedbackUrl":"https://github.com/github/discussions/discussions","discussionTemplateErrors":null,"language":"Jupyter Notebook","large":false,"loggedIn":true,"newDiscussionPath":"/github/renderables/discussions/new","newIssuePath":"/github/renderables/issues/new","planSupportInfo":{"repoIsFork":null,"repoOwnedByCurrentUser":null,"requestFullPath":"/github/renderables/blob/main/ipynb/XKCD_plots.ipynb","showFreeOrgGatedFeatureMessage":null,"showPlanSupportBanner":null,"upgradeDataAttributes":null,"upgradePath":null},"publishBannersInfo":{"dismissActionNoticePath":"/settings/dismiss-notice/publish_action_from_dockerfile","dismissStackNoticePath":"/settings/dismiss-notice/publish_stack_from_file","releasePath":"/github/renderables/releases/new?marketplace=true","showPublishActionBanner":false,"showPublishStackBanner":false},"renderImageOrRaw":false,"richText":null,"renderedFileInfo":{"identityUUID":"adc74b29-9035-4cff-a7ac-28092b427d8d","renderFileType":"ipynb","size":241862},"tabSize":4,"topBannersInfo":{"overridingGlobalFundingFile":false,"globalPreferredFundingPath":null,"showLicenseMeta":false,"repoOwner":"github","repoName":"renderables","license":null,"showInvalidCitationWarning":false,"citationHelpUrl":"https://docs.github.com/en/github/creating-cloning-and-archiving-repositories/creating-a-repository-on-github/about-citation-files","showDependabotConfigurationBanner":null,"showSecurityAlertBanner":false,"actionsOnboardingTip":null},"truncated":false,"viewable":true,"workflowRedirectUrl":null,"symbols":{"timedOut":false,"notAnalyzed":true,"symbols":[]}},"csrf_tokens":{"/github/renderables/branches":{"post":"4Si0OeSk2JMD9FmDVDoQO037bfyXTyovsPBHrUpRB6U8gXaGg_aB-Ln1rBa4In9LKiKt3jfQDLlgoiTwSV_1Aw"},"/github/renderables/repos/code_nav_survey/answer":{"post":"G6P-E_VcA42JhAK5heeSMfPlOqYBIKj2tPwtpDZZSD6lE2q_ObEUEV0U1e9a3ueLrIWDb7Z8k_ortnlkPBLPjA"}}},"title":"renderables/XKCD_plots.ipynb at main · github/renderables","appPayload":null}</script></react-app>
</turbo-frame>



  </div>

  </turbo-frame>

    </main>
  </div>

  </div>

          <footer class="footer width-full container-xl p-responsive">
  <h2 class='sr-only'>Footer</h2>

  <div class="position-relative d-flex flex-items-center pb-2 f6 color-fg-muted border-top color-border-muted flex-column-reverse flex-lg-row flex-wrap flex-lg-nowrap mt-6 pt-6">
    <div class="list-style-none d-flex flex-wrap col-0 col-lg-2 flex-justify-start flex-lg-justify-between mb-2 mb-lg-0">
      <div class="mt-2 mt-lg-0 d-flex flex-items-center">
        <a aria-label="Homepage" title="GitHub" class="footer-octicon mr-2" href="https://github.com">
          <svg aria-hidden="true" height="24" viewBox="0 0 16 16" version="1.1" width="24" data-view-component="true" class="octicon octicon-mark-github">
    <path fill-rule="evenodd" d="M8 0C3.58 0 0 3.58 0 8c0 3.54 2.29 6.53 5.47 7.59.4.07.55-.17.55-.38 0-.19-.01-.82-.01-1.49-2.01.37-2.53-.49-2.69-.94-.09-.23-.48-.94-.82-1.13-.28-.15-.68-.52-.01-.53.63-.01 1.08.58 1.23.82.72 1.21 1.87.87 2.33.66.07-.52.28-.87.51-1.07-1.78-.2-3.64-.89-3.64-3.95 0-.87.31-1.59.82-2.15-.08-.2-.36-1.02.08-2.12 0 0 .67-.21 2.2.82.64-.18 1.32-.27 2-.27.68 0 1.36.09 2 .27 1.53-1.04 2.2-.82 2.2-.82.44 1.1.16 1.92.08 2.12.51.56.82 1.27.82 2.15 0 3.07-1.87 3.75-3.65 3.95.29.25.54.73.54 1.48 0 1.07-.01 1.93-.01 2.2 0 .21.15.46.55.38A8.013 8.013 0 0016 8c0-4.42-3.58-8-8-8z"></path>
</svg>
</a>        <span>
        &copy; 2022 GitHub, Inc.
        </span>
      </div>
    </div>

    <nav aria-label='footer' class="col-12 col-lg-8">
      <h3 class='sr-only' id='sr-footer-heading'>Footer navigation</h3>
      <ul class="list-style-none d-flex flex-wrap col-12 flex-justify-center flex-lg-justify-between mb-2 mb-lg-0" aria-labelledby='sr-footer-heading'>
          <li class="mr-3 mr-lg-0"><a href="https://docs.github.com/en/github/site-policy/github-terms-of-service" data-analytics-event="{&quot;category&quot;:&quot;Footer&quot;,&quot;action&quot;:&quot;go to terms&quot;,&quot;label&quot;:&quot;text:terms&quot;}">Terms</a></li>
          <li class="mr-3 mr-lg-0"><a href="https://docs.github.com/en/github/site-policy/github-privacy-statement" data-analytics-event="{&quot;category&quot;:&quot;Footer&quot;,&quot;action&quot;:&quot;go to privacy&quot;,&quot;label&quot;:&quot;text:privacy&quot;}">Privacy</a></li>
          <li class="mr-3 mr-lg-0"><a data-analytics-event="{&quot;category&quot;:&quot;Footer&quot;,&quot;action&quot;:&quot;go to security&quot;,&quot;label&quot;:&quot;text:security&quot;}" href="https://github.com/security">Security</a></li>
          <li class="mr-3 mr-lg-0"><a href="https://www.githubstatus.com/" data-analytics-event="{&quot;category&quot;:&quot;Footer&quot;,&quot;action&quot;:&quot;go to status&quot;,&quot;label&quot;:&quot;text:status&quot;}">Status</a></li>
          <li class="mr-3 mr-lg-0"><a data-ga-click="Footer, go to help, text:Docs" href="https://docs.github.com">Docs</a></li>
          <li class="mr-3 mr-lg-0"><!-- '"` --><!-- </textarea></xmp> --></option></form><form class="js-stats-toggle" data-turbo="false" action="/site/toggle_site_admin_and_employee_status" accept-charset="UTF-8" method="post"><input type="hidden" name="authenticity_token" value="HyNnTUiMdWwNhoS4-Ho-UbkNhX_v_zfIRT-61SUur6XTDPbsEs5ROiMaLIKI2ldDguoGYrXand9ABCEZDcw_4g" />
    <button data-hotkey="`,S" type="submit" data-view-component="true" class="btn-link">    Site admin mode
    <span class="js-site-admin-mode-state">
      on
    </span>
</button></form></li>
          <li class="mr-3 mr-lg-0"><a href="https://support.github.com?tags=dotcom-footer" data-analytics-event="{&quot;category&quot;:&quot;Footer&quot;,&quot;action&quot;:&quot;go to contact&quot;,&quot;label&quot;:&quot;text:contact&quot;}">Contact GitHub</a></li>
          <li class="mr-3 mr-lg-0"><a href="https://github.com/pricing" data-analytics-event="{&quot;category&quot;:&quot;Footer&quot;,&quot;action&quot;:&quot;go to Pricing&quot;,&quot;label&quot;:&quot;text:Pricing&quot;}">Pricing</a></li>
        <li class="mr-3 mr-lg-0"><a href="https://docs.github.com" data-analytics-event="{&quot;category&quot;:&quot;Footer&quot;,&quot;action&quot;:&quot;go to api&quot;,&quot;label&quot;:&quot;text:api&quot;}">API</a></li>
        <li class="mr-3 mr-lg-0"><a href="https://services.github.com" data-analytics-event="{&quot;category&quot;:&quot;Footer&quot;,&quot;action&quot;:&quot;go to training&quot;,&quot;label&quot;:&quot;text:training&quot;}">Training</a></li>
          <li class="mr-3 mr-lg-0"><a href="https://github.blog" data-analytics-event="{&quot;category&quot;:&quot;Footer&quot;,&quot;action&quot;:&quot;go to blog&quot;,&quot;label&quot;:&quot;text:blog&quot;}">Blog</a></li>
          <li><a data-ga-click="Footer, go to about, text:about" href="https://github.com/about">About</a></li>
      </ul>
    </nav>
  </div>

  <div class="d-flex flex-justify-center pb-6">
    <span class="f6 color-fg-muted"></span>
  </div>
</footer>




  <div id="ajax-error-message" class="ajax-error-message flash flash-error" hidden>
    <svg aria-hidden="true" height="16" viewBox="0 0 16 16" version="1.1" width="16" data-view-component="true" class="octicon octicon-alert">
    <path fill-rule="evenodd" d="M8.22 1.754a.25.25 0 00-.44 0L1.698 13.132a.25.25 0 00.22.368h12.164a.25.25 0 00.22-.368L8.22 1.754zm-1.763-.707c.659-1.234 2.427-1.234 3.086 0l6.082 11.378A1.75 1.75 0 0114.082 15H1.918a1.75 1.75 0 01-1.543-2.575L6.457 1.047zM9 11a1 1 0 11-2 0 1 1 0 012 0zm-.25-5.25a.75.75 0 00-1.5 0v2.5a.75.75 0 001.5 0v-2.5z"></path>
</svg>
    <button type="button" class="flash-close js-ajax-error-dismiss" aria-label="Dismiss error">
      <svg aria-hidden="true" height="16" viewBox="0 0 16 16" version="1.1" width="16" data-view-component="true" class="octicon octicon-x">
    <path fill-rule="evenodd" d="M3.72 3.72a.75.75 0 011.06 0L8 6.94l3.22-3.22a.75.75 0 111.06 1.06L9.06 8l3.22 3.22a.75.75 0 11-1.06 1.06L8 9.06l-3.22 3.22a.75.75 0 01-1.06-1.06L6.94 8 3.72 4.78a.75.75 0 010-1.06z"></path>
</svg>
    </button>
    You can’t perform that action at this time.
  </div>

  <div class="js-stale-session-flash flash flash-warn flash-banner" hidden
    >
    <svg aria-hidden="true" height="16" viewBox="0 0 16 16" version="1.1" width="16" data-view-component="true" class="octicon octicon-alert">
    <path fill-rule="evenodd" d="M8.22 1.754a.25.25 0 00-.44 0L1.698 13.132a.25.25 0 00.22.368h12.164a.25.25 0 00.22-.368L8.22 1.754zm-1.763-.707c.659-1.234 2.427-1.234 3.086 0l6.082 11.378A1.75 1.75 0 0114.082 15H1.918a1.75 1.75 0 01-1.543-2.575L6.457 1.047zM9 11a1 1 0 11-2 0 1 1 0 012 0zm-.25-5.25a.75.75 0 00-1.5 0v2.5a.75.75 0 001.5 0v-2.5z"></path>
</svg>
    <span class="js-stale-session-flash-signed-in" hidden>You signed in with another tab or window. <a href="">Reload</a> to refresh your session.</span>
    <span class="js-stale-session-flash-signed-out" hidden>You signed out in another tab or window. <a href="">Reload</a> to refresh your session.</span>
  </div>
    <div class="facebox" id="facebox" style="display:none;">
  <div class="facebox-popup">
    <div class="facebox-content" role="dialog" aria-labelledby="facebox-header" aria-describedby="facebox-description">
    </div>
    <button type="button" class="facebox-close js-facebox-close" aria-label="Close modal">
      <svg aria-hidden="true" height="16" viewBox="0 0 16 16" version="1.1" width="16" data-view-component="true" class="octicon octicon-x">
    <path fill-rule="evenodd" d="M3.72 3.72a.75.75 0 011.06 0L8 6.94l3.22-3.22a.75.75 0 111.06 1.06L9.06 8l3.22 3.22a.75.75 0 11-1.06 1.06L8 9.06l-3.22 3.22a.75.75 0 01-1.06-1.06L6.94 8 3.72 4.78a.75.75 0 010-1.06z"></path>
</svg>
    </button>
  </div>
</div>

    <template id="site-details-dialog">
  <details class="details-reset details-overlay details-overlay-dark lh-default color-fg-default hx_rsm" open>
    <summary role="button" aria-label="Close dialog"></summary>
    <details-dialog class="Box Box--overlay d-flex flex-column anim-fade-in fast hx_rsm-dialog hx_rsm-modal">
      <button class="Box-btn-octicon m-0 btn-octicon position-absolute right-0 top-0" type="button" aria-label="Close dialog" data-close-dialog>
        <svg aria-hidden="true" height="16" viewBox="0 0 16 16" version="1.1" width="16" data-view-component="true" class="octicon octicon-x">
    <path fill-rule="evenodd" d="M3.72 3.72a.75.75 0 011.06 0L8 6.94l3.22-3.22a.75.75 0 111.06 1.06L9.06 8l3.22 3.22a.75.75 0 11-1.06 1.06L8 9.06l-3.22 3.22a.75.75 0 01-1.06-1.06L6.94 8 3.72 4.78a.75.75 0 010-1.06z"></path>
</svg>
      </button>
      <div class="octocat-spinner my-6 js-details-dialog-spinner"></div>
    </details-dialog>
  </details>
</template>

    <div class="Popover js-hovercard-content position-absolute" style="display: none; outline: none;" tabindex="0">
  <div class="Popover-message Popover-message--bottom-left Popover-message--large Box color-shadow-large" style="width:360px;">
  </div>
</div>

    <template id="snippet-clipboard-copy-button">
  <div class="zeroclipboard-container position-absolute right-0 top-0">
    <clipboard-copy aria-label="Copy" class="ClipboardButton btn js-clipboard-copy m-2 p-0 tooltipped-no-delay" data-copy-feedback="Copied!" data-tooltip-direction="w">
      <svg aria-hidden="true" height="16" viewBox="0 0 16 16" version="1.1" width="16" data-view-component="true" class="octicon octicon-copy js-clipboard-copy-icon m-2">
    <path fill-rule="evenodd" d="M0 6.75C0 5.784.784 5 1.75 5h1.5a.75.75 0 010 1.5h-1.5a.25.25 0 00-.25.25v7.5c0 .138.112.25.25.25h7.5a.25.25 0 00.25-.25v-1.5a.75.75 0 011.5 0v1.5A1.75 1.75 0 019.25 16h-7.5A1.75 1.75 0 010 14.25v-7.5z"></path><path fill-rule="evenodd" d="M5 1.75C5 .784 5.784 0 6.75 0h7.5C15.216 0 16 .784 16 1.75v7.5A1.75 1.75 0 0114.25 11h-7.5A1.75 1.75 0 015 9.25v-7.5zm1.75-.25a.25.25 0 00-.25.25v7.5c0 .138.112.25.25.25h7.5a.25.25 0 00.25-.25v-7.5a.25.25 0 00-.25-.25h-7.5z"></path>
</svg>
      <svg aria-hidden="true" height="16" viewBox="0 0 16 16" version="1.1" width="16" data-view-component="true" class="octicon octicon-check js-clipboard-check-icon color-fg-success d-none m-2">
    <path fill-rule="evenodd" d="M13.78 4.22a.75.75 0 010 1.06l-7.25 7.25a.75.75 0 01-1.06 0L2.22 9.28a.75.75 0 011.06-1.06L6 10.94l6.72-6.72a.75.75 0 011.06 0z"></path>
</svg>
    </clipboard-copy>
  </div>
</template>


    <style>
      .user-mention[href$="/therzka"] {
        color: var(--color-user-mention-fg);
        background-color: var(--color-user-mention-bg);
        border-radius: 2px;
        margin-left: -2px;
        margin-right: -2px;
        padding: 0 2px;
      }
    </style>

    <div style="display:none;" id="page-serverstats">
        <ul class="stats js-stats" data-turbo-replace id="staffbar-stats">
    <li class="js-pjax-stat" hidden style="line-height: 2.25">
      <span aria-label="PJAX Navigations" data-view-component="true" class="tooltipped tooltipped-s">
        <span data-view-component="true" class="Label Label--success Label--large">
          ♻️ <span class="js-pjax-count color-fg-on-emphasis">0</span>
</span></span>    </li>
    <li style="line-height: 2.25">
      <span data-view-component="true" class="Label color-text-white Label--danger Label--large">
          <button id="dialog-show-staffbar-stats-response-time" data-show-dialog-id="staffbar-stats-response-time" data-target="modal-dialog.show-button" type="button" data-view-component="true" class="color-text-white btn-link">    458ms 🐌
</button>
<div class="Overlay--hidden Overlay-backdrop--center" data-modal-dialog-overlay>
  <modal-dialog role="dialog" id="staffbar-stats-response-time" aria-modal="true" aria-labelledby="staffbar-stats-response-time-header" data-view-component="true" class="Overlay Overlay--width-medium Overlay--height-auto Overlay--motion-scaleFade color-fg-default">
      <header class="Overlay-header Overlay-header--large Overlay-header--divided">
        <div class="Overlay-headerContentWrap">
          <div class="Overlay-titleWrap">
            <h1 id="staffbar-stats-response-time-header" class="Overlay-title">Response Time Details</h1>
          </div>
          <div class="Overlay-actionWrap">
            <button data-close-dialog-id="staffbar-stats-response-time" aria-label="Close" type="button" data-view-component="true" class="close-button Overlay-closeButton"><svg aria-hidden="true" height="16" viewBox="0 0 16 16" version="1.1" width="16" data-view-component="true" class="octicon octicon-x">
    <path fill-rule="evenodd" d="M3.72 3.72a.75.75 0 011.06 0L8 6.94l3.22-3.22a.75.75 0 111.06 1.06L9.06 8l3.22 3.22a.75.75 0 11-1.06 1.06L8 9.06l-3.22 3.22a.75.75 0 01-1.06-1.06L6.94 8 3.72 4.78a.75.75 0 010-1.06z"></path>
</svg></button>
          </div>
        </div>
      </header>
    <div class="Overlay-body ">
      
          <div data-view-component="true">            36ms glb → 2ms nginx → 459ms 🐌 unicorn
</div>

    </div>
</modal-dialog></div>
          <soft-nav-staffbar data-catalyst-inline>
  <span class="color-fg-subtle">•</span>

  <soft-nav-staffbar-state hidden data-target="soft-nav-staffbar.off" data-catalyst-inline>
      <button aria-label="View soft navigation status" id="dialog-show-dialog-60cc1ab0" data-show-dialog-id="dialog-60cc1ab0" data-target="modal-dialog.show-button" type="button" data-view-component="true" class="btn-link color-fg-muted">    <svg aria-hidden="true" height="16" viewBox="0 0 16 16" version="1.1" width="16" data-view-component="true" class="octicon octicon-zap">
    <path fill-rule="evenodd" d="M10.561 1.5a.016.016 0 00-.01.004L3.286 8.571A.25.25 0 003.462 9H6.75a.75.75 0 01.694 1.034l-1.713 4.188 6.982-6.793A.25.25 0 0012.538 7H9.25a.75.75 0 01-.683-1.06l2.008-4.418.003-.006a.02.02 0 00-.004-.009.02.02 0 00-.006-.006L10.56 1.5zM9.504.43a1.516 1.516 0 012.437 1.713L10.415 5.5h2.123c1.57 0 2.346 1.909 1.22 3.004l-7.34 7.142a1.25 1.25 0 01-.871.354h-.302a1.25 1.25 0 01-1.157-1.723L5.633 10.5H3.462c-1.57 0-2.346-1.909-1.22-3.004L9.503.429z"></path>
</svg>
</button>
<div class="Overlay--hidden Overlay-backdrop--center" data-modal-dialog-overlay>
  <modal-dialog role="dialog" id="dialog-60cc1ab0" aria-modal="true" aria-labelledby="dialog-60cc1ab0-header" data-view-component="true" class="Overlay Overlay--width-medium Overlay--height-auto Overlay--motion-scaleFade color-fg-default">
      <header class="Overlay-header Overlay-header--divided">
        <div class="Overlay-headerContentWrap">
          <div class="Overlay-titleWrap">
            <h1 id="dialog-60cc1ab0-header" class="Overlay-title">Soft Navigation Status</h1>
          </div>
          <div class="Overlay-actionWrap">
            <button data-close-dialog-id="dialog-60cc1ab0" aria-label="Close" type="button" data-view-component="true" class="close-button Overlay-closeButton"><svg aria-hidden="true" height="16" viewBox="0 0 16 16" version="1.1" width="16" data-view-component="true" class="octicon octicon-x">
    <path fill-rule="evenodd" d="M3.72 3.72a.75.75 0 011.06 0L8 6.94l3.22-3.22a.75.75 0 111.06 1.06L9.06 8l3.22 3.22a.75.75 0 11-1.06 1.06L8 9.06l-3.22 3.22a.75.75 0 01-1.06-1.06L6.94 8 3.72 4.78a.75.75 0 010-1.06z"></path>
</svg></button>
          </div>
        </div>
      </header>
    <div class="Overlay-body ">
      
          <div data-view-component="true" class="ws-normal">        <svg aria-hidden="true" height="16" viewBox="0 0 16 16" version="1.1" width="16" data-view-component="true" class="octicon octicon-zap color-fg-muted">
    <path fill-rule="evenodd" d="M10.561 1.5a.016.016 0 00-.01.004L3.286 8.571A.25.25 0 003.462 9H6.75a.75.75 0 01.694 1.034l-1.713 4.188 6.982-6.793A.25.25 0 0012.538 7H9.25a.75.75 0 01-.683-1.06l2.008-4.418.003-.006a.02.02 0 00-.004-.009.02.02 0 00-.006-.006L10.56 1.5zM9.504.43a1.516 1.516 0 012.437 1.713L10.415 5.5h2.123c1.57 0 2.346 1.909 1.22 3.004l-7.34 7.142a1.25 1.25 0 01-.871.354h-.302a1.25 1.25 0 01-1.157-1.723L5.633 10.5H3.462c-1.57 0-2.346-1.909-1.22-3.004L9.503.429z"></path>
</svg>
        This page was not loaded via Turbo.
</div>

    </div>
</modal-dialog></div>
  </soft-nav-staffbar-state>

  <soft-nav-staffbar-state hidden data-target="soft-nav-staffbar.success" data-catalyst-inline data-message-template="{count} successful soft navigations">
      <button aria-label="View soft navigation status" data-target="soft-nav-staffbar-state.button" id="dialog-show-dialog-3128f5bb" data-show-dialog-id="dialog-3128f5bb" data-target="modal-dialog.show-button" type="button" data-view-component="true" class="btn-link color-fg-on-emphasis">    <svg hidden="hidden" data-target="soft-nav-staffbar-state.turboIcon" aria-hidden="true" height="16" viewBox="0 0 16 16" version="1.1" width="16" data-view-component="true" class="octicon octicon-zap">
    <path fill-rule="evenodd" d="M10.561 1.5a.016.016 0 00-.01.004L3.286 8.571A.25.25 0 003.462 9H6.75a.75.75 0 01.694 1.034l-1.713 4.188 6.982-6.793A.25.25 0 0012.538 7H9.25a.75.75 0 01-.683-1.06l2.008-4.418.003-.006a.02.02 0 00-.004-.009.02.02 0 00-.006-.006L10.56 1.5zM9.504.43a1.516 1.516 0 012.437 1.713L10.415 5.5h2.123c1.57 0 2.346 1.909 1.22 3.004l-7.34 7.142a1.25 1.25 0 01-.871.354h-.302a1.25 1.25 0 01-1.157-1.723L5.633 10.5H3.462c-1.57 0-2.346-1.909-1.22-3.004L9.503.429z"></path>
</svg>
        <svg hidden="hidden" data-target="soft-nav-staffbar-state.turboFrameIcon" aria-hidden="true" height="16" viewBox="0 0 16 16" version="1.1" width="16" data-view-component="true" class="octicon octicon-flame">
    <path fill-rule="evenodd" d="M7.998 14.5c2.832 0 5-1.98 5-4.5 0-1.463-.68-2.19-1.879-3.383l-.036-.037c-1.013-1.008-2.3-2.29-2.834-4.434-.322.256-.63.579-.864.953-.432.696-.621 1.58-.046 2.73.473.947.67 2.284-.278 3.232-.61.61-1.545.84-2.403.633a2.788 2.788 0 01-1.436-.874A3.21 3.21 0 003 10c0 2.53 2.164 4.5 4.998 4.5zM9.533.753C9.496.34 9.16.009 8.77.146 7.035.75 4.34 3.187 5.997 6.5c.344.689.285 1.218.003 1.5-.419.419-1.54.487-2.04-.832-.173-.454-.659-.762-1.035-.454C2.036 7.44 1.5 8.702 1.5 10c0 3.512 2.998 6 6.498 6s6.5-2.5 6.5-6c0-2.137-1.128-3.26-2.312-4.438-1.19-1.184-2.436-2.425-2.653-4.81z"></path>
</svg>
        <svg hidden="hidden" data-target="soft-nav-staffbar-state.reactIcon" aria-hidden="true" height="16" viewBox="0 0 16 16" version="1.1" width="16" data-view-component="true" class="octicon octicon-north-star">
    <path d="M8.5.75a.75.75 0 00-1.5 0v5.19L4.391 3.33a.75.75 0 10-1.06 1.061L5.939 7H.75a.75.75 0 000 1.5h5.19l-2.61 2.609a.75.75 0 101.061 1.06L7 9.561v5.189a.75.75 0 001.5 0V9.56l2.609 2.61a.75.75 0 101.06-1.061L9.561 8.5h5.189a.75.75 0 000-1.5H9.56l2.61-2.609a.75.75 0 00-1.061-1.06L8.5 5.939V.75z"></path>
</svg>
        <span data-target="soft-nav-staffbar-state.contentTarget"></span>
</button>
<div class="Overlay--hidden Overlay-backdrop--center" data-modal-dialog-overlay>
  <modal-dialog role="dialog" id="dialog-3128f5bb" aria-modal="true" aria-labelledby="dialog-3128f5bb-header" data-view-component="true" class="Overlay Overlay--width-xlarge Overlay--height-large Overlay--motion-scaleFade color-fg-default">
      <header class="Overlay-header Overlay-header--divided">
        <div class="Overlay-headerContentWrap">
          <div class="Overlay-titleWrap">
            <h1 id="dialog-3128f5bb-header" class="Overlay-title">Soft Navigation Status</h1>
          </div>
          <div class="Overlay-actionWrap">
            <button data-close-dialog-id="dialog-3128f5bb" aria-label="Close" type="button" data-view-component="true" class="close-button Overlay-closeButton"><svg aria-hidden="true" height="16" viewBox="0 0 16 16" version="1.1" width="16" data-view-component="true" class="octicon octicon-x">
    <path fill-rule="evenodd" d="M3.72 3.72a.75.75 0 011.06 0L8 6.94l3.22-3.22a.75.75 0 111.06 1.06L9.06 8l3.22 3.22a.75.75 0 11-1.06 1.06L8 9.06l-3.22 3.22a.75.75 0 01-1.06-1.06L6.94 8 3.72 4.78a.75.75 0 010-1.06z"></path>
</svg></button>
          </div>
        </div>
      </header>
    <div class="Overlay-body ">
      
          <div data-view-component="true" class="ws-normal">        <span data-target="soft-nav-staffbar-state.messageTarget"></span>
</div>

    </div>
</modal-dialog></div>
  </soft-nav-staffbar-state>

  <soft-nav-staffbar-state hidden data-target="soft-nav-staffbar.error" data-catalyst-inline data-message-template="Turbo navigation attempt was unsuccessful. Reason: {reason}">
      <button aria-label="View soft navigation status" data-target="soft-nav-staffbar-state.button" id="dialog-show-dialog-43b7338a" data-show-dialog-id="dialog-43b7338a" data-target="modal-dialog.show-button" type="button" data-view-component="true" class="btn-link color-fg-attention">    <svg aria-hidden="true" height="16" viewBox="0 0 16 16" version="1.1" width="16" data-view-component="true" class="octicon octicon-alert">
    <path fill-rule="evenodd" d="M8.22 1.754a.25.25 0 00-.44 0L1.698 13.132a.25.25 0 00.22.368h12.164a.25.25 0 00.22-.368L8.22 1.754zm-1.763-.707c.659-1.234 2.427-1.234 3.086 0l6.082 11.378A1.75 1.75 0 0114.082 15H1.918a1.75 1.75 0 01-1.543-2.575L6.457 1.047zM9 11a1 1 0 11-2 0 1 1 0 012 0zm-.25-5.25a.75.75 0 00-1.5 0v2.5a.75.75 0 001.5 0v-2.5z"></path>
</svg>
</button>
<div class="Overlay--hidden Overlay-backdrop--center" data-modal-dialog-overlay>
  <modal-dialog role="dialog" id="dialog-43b7338a" aria-modal="true" aria-labelledby="dialog-43b7338a-header" data-view-component="true" class="Overlay Overlay--width-medium Overlay--height-auto Overlay--motion-scaleFade color-fg-default">
      <header class="Overlay-header Overlay-header--divided">
        <div class="Overlay-headerContentWrap">
          <div class="Overlay-titleWrap">
            <h1 id="dialog-43b7338a-header" class="Overlay-title">Soft Navigation Status</h1>
          </div>
          <div class="Overlay-actionWrap">
            <button data-close-dialog-id="dialog-43b7338a" aria-label="Close" type="button" data-view-component="true" class="close-button Overlay-closeButton"><svg aria-hidden="true" height="16" viewBox="0 0 16 16" version="1.1" width="16" data-view-component="true" class="octicon octicon-x">
    <path fill-rule="evenodd" d="M3.72 3.72a.75.75 0 011.06 0L8 6.94l3.22-3.22a.75.75 0 111.06 1.06L9.06 8l3.22 3.22a.75.75 0 11-1.06 1.06L8 9.06l-3.22 3.22a.75.75 0 01-1.06-1.06L6.94 8 3.72 4.78a.75.75 0 010-1.06z"></path>
</svg></button>
          </div>
        </div>
      </header>
    <div class="Overlay-body ">
      
          <div data-view-component="true" class="ws-normal">        <svg aria-hidden="true" height="16" viewBox="0 0 16 16" version="1.1" width="16" data-view-component="true" class="octicon octicon-alert color-fg-attention">
    <path fill-rule="evenodd" d="M8.22 1.754a.25.25 0 00-.44 0L1.698 13.132a.25.25 0 00.22.368h12.164a.25.25 0 00.22-.368L8.22 1.754zm-1.763-.707c.659-1.234 2.427-1.234 3.086 0l6.082 11.378A1.75 1.75 0 0114.082 15H1.918a1.75 1.75 0 01-1.543-2.575L6.457 1.047zM9 11a1 1 0 11-2 0 1 1 0 012 0zm-.25-5.25a.75.75 0 00-1.5 0v2.5a.75.75 0 001.5 0v-2.5z"></path>
</svg>
        <span data-target="soft-nav-staffbar-state.messageTarget"></span>
</div>

    </div>
</modal-dialog></div>
  </soft-nav-staffbar-state>

  <template data-target="soft-nav-staffbar.initialTemplate">
    <div data-view-component="true" class="TimelineItem">
  
  <div data-view-component="true" class="TimelineItem-badge"><svg aria-hidden="true" height="16" viewBox="0 0 16 16" version="1.1" width="16" data-view-component="true" class="octicon octicon-dot">
    <path fill-rule="evenodd" d="M8 5.5a2.5 2.5 0 100 5 2.5 2.5 0 000-5zM4 8a4 4 0 118 0 4 4 0 01-8 0z"></path>
</svg></div>
  <div data-template-body="" data-view-component="true" class="TimelineItem-body"></div>
</div>  </template>

  <template data-target="soft-nav-staffbar.turboTemplate">
    <div data-view-component="true" class="TimelineItem">
  
  <div data-view-component="true" class="TimelineItem-badge"><svg aria-hidden="true" height="16" viewBox="0 0 16 16" version="1.1" width="16" data-view-component="true" class="octicon octicon-zap">
    <path fill-rule="evenodd" d="M10.561 1.5a.016.016 0 00-.01.004L3.286 8.571A.25.25 0 003.462 9H6.75a.75.75 0 01.694 1.034l-1.713 4.188 6.982-6.793A.25.25 0 0012.538 7H9.25a.75.75 0 01-.683-1.06l2.008-4.418.003-.006a.02.02 0 00-.004-.009.02.02 0 00-.006-.006L10.56 1.5zM9.504.43a1.516 1.516 0 012.437 1.713L10.415 5.5h2.123c1.57 0 2.346 1.909 1.22 3.004l-7.34 7.142a1.25 1.25 0 01-.871.354h-.302a1.25 1.25 0 01-1.157-1.723L5.633 10.5H3.462c-1.57 0-2.346-1.909-1.22-3.004L9.503.429z"></path>
</svg></div>
  <div data-template-body="" data-view-component="true" class="TimelineItem-body"></div>
</div>  </template>

  <template data-target="soft-nav-staffbar.turboFrameTemplate">
    <div data-view-component="true" class="TimelineItem">
  
  <div data-view-component="true" class="TimelineItem-badge"><svg aria-hidden="true" height="16" viewBox="0 0 16 16" version="1.1" width="16" data-view-component="true" class="octicon octicon-flame">
    <path fill-rule="evenodd" d="M7.998 14.5c2.832 0 5-1.98 5-4.5 0-1.463-.68-2.19-1.879-3.383l-.036-.037c-1.013-1.008-2.3-2.29-2.834-4.434-.322.256-.63.579-.864.953-.432.696-.621 1.58-.046 2.73.473.947.67 2.284-.278 3.232-.61.61-1.545.84-2.403.633a2.788 2.788 0 01-1.436-.874A3.21 3.21 0 003 10c0 2.53 2.164 4.5 4.998 4.5zM9.533.753C9.496.34 9.16.009 8.77.146 7.035.75 4.34 3.187 5.997 6.5c.344.689.285 1.218.003 1.5-.419.419-1.54.487-2.04-.832-.173-.454-.659-.762-1.035-.454C2.036 7.44 1.5 8.702 1.5 10c0 3.512 2.998 6 6.498 6s6.5-2.5 6.5-6c0-2.137-1.128-3.26-2.312-4.438-1.19-1.184-2.436-2.425-2.653-4.81z"></path>
</svg></div>
  <div data-template-body="" data-view-component="true" class="TimelineItem-body"></div>
</div>  </template>

  <template data-target="soft-nav-staffbar.reactTemplate">
    <div data-view-component="true" class="TimelineItem">
  
  <div data-view-component="true" class="TimelineItem-badge"><svg aria-hidden="true" height="16" viewBox="0 0 16 16" version="1.1" width="16" data-view-component="true" class="octicon octicon-north-star">
    <path d="M8.5.75a.75.75 0 00-1.5 0v5.19L4.391 3.33a.75.75 0 10-1.06 1.061L5.939 7H.75a.75.75 0 000 1.5h5.19l-2.61 2.609a.75.75 0 101.061 1.06L7 9.561v5.189a.75.75 0 001.5 0V9.56l2.609 2.61a.75.75 0 101.06-1.061L9.561 8.5h5.189a.75.75 0 000-1.5H9.56l2.61-2.609a.75.75 0 00-1.061-1.06L8.5 5.939V.75z"></path>
</svg></div>
  <div data-template-body="" data-view-component="true" class="TimelineItem-body"></div>
</div>  </template>
</soft-nav-staffbar>

        <react-staffbar data-catalyst-inline hidden>
    <button aria-label="React payload size" id="dialog-show-dialog-d393fe0a" data-show-dialog-id="dialog-d393fe0a" data-target="modal-dialog.show-button" type="button" data-view-component="true" class="btn-link color-fg-on-emphasis">    <span id="react-staffbar-icon" class="cursor-pointer" role="button">⚛️</span>
      <span data-target="react-staffbar.payloadSize"></span>
</button>
<div class="Overlay--hidden Overlay-backdrop--center" data-modal-dialog-overlay>
  <modal-dialog role="dialog" id="dialog-d393fe0a" aria-modal="true" aria-labelledby="dialog-d393fe0a-header" data-view-component="true" class="Overlay Overlay--width-medium Overlay--height-auto Overlay--motion-scaleFade color-fg-default">
      <header class="Overlay-header Overlay-header--divided">
        <div class="Overlay-headerContentWrap">
          <div class="Overlay-titleWrap">
            <h1 id="dialog-d393fe0a-header" class="Overlay-title">React payload</h1>
          </div>
          <div class="Overlay-actionWrap">
            <button data-close-dialog-id="dialog-d393fe0a" aria-label="Close" type="button" data-view-component="true" class="close-button Overlay-closeButton"><svg aria-hidden="true" height="16" viewBox="0 0 16 16" version="1.1" width="16" data-view-component="true" class="octicon octicon-x">
    <path fill-rule="evenodd" d="M3.72 3.72a.75.75 0 011.06 0L8 6.94l3.22-3.22a.75.75 0 111.06 1.06L9.06 8l3.22 3.22a.75.75 0 11-1.06 1.06L8 9.06l-3.22 3.22a.75.75 0 01-1.06-1.06L6.94 8 3.72 4.78a.75.75 0 010-1.06z"></path>
</svg></button>
          </div>
        </div>
      </header>
    <div class="Overlay-body ">
      
          <div data-view-component="true" class="ws-normal">      <span data-target="react-staffbar.payloadText">Calculating the size of the payload.</span>
      <br>
      <br>
        <button data-target="react-staffbar.logPayloadLink" type="button" data-view-component="true" class="btn-link">    Console log the payload
</button>
</div>

    </div>
</modal-dialog></div>
</react-staffbar>

        <datahpc-staffbar data-catalyst-inline hidden>
<a target="_blank" href="https://github.com/github/web-performance-catalog-scorecard/blob/main/docs/web-performance.md#hpc" data-view-component="true">
    <div data-view-component="true" class="position-relative d-inline-block">
    <button id="datahpc-staffbar-icon" variant="small" type="button" data-view-component="true" class="btn-octicon color-fg-on-emphasis">      <svg aria-hidden="true" height="16" viewBox="0 0 12 12" version="1.1" width="16" data-view-component="true" class="octicon octicon-alert-fill">
    <path fill-rule="evenodd" d="M4.855.708c.5-.896 1.79-.896 2.29 0l4.675 8.351a1.312 1.312 0 01-1.146 1.954H1.33A1.312 1.312 0 01.183 9.058L4.855.708zM7 7V3H5v4h2zm-1 3a1 1 0 100-2 1 1 0 000 2z"></path>
</svg>
</button>    <tool-tip for="datahpc-staffbar-icon" data-direction="s" data-type="label" data-view-component="true" class="sr-only position-absolute">The page doesn&#39;t have a data-hpc element, so render time cannot be monitored. Click to show more details.</tool-tip>
</div>
</a></datahpc-staffbar>

</span>    </li>
</ul>


    </div>


  </body>
</html>

